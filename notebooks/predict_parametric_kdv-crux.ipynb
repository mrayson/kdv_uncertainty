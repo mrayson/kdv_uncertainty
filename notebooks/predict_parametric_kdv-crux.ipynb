{
 "cells": [
  {
   "cell_type": "markdown",
   "metadata": {},
   "source": [
    "# Use the parametric KdV for prediction at Crux KP150"
   ]
  },
  {
   "cell_type": "code",
   "execution_count": 1,
   "metadata": {},
   "outputs": [],
   "source": [
    "# Load the libraries\n",
    "import h5py\n",
    "import numpy as np\n",
    "import pandas as pd\n",
    "import xarray as xr\n",
    "from netCDF4 import Dataset\n",
    "from datetime import datetime\n",
    "import matplotlib.pyplot as plt\n",
    "\n",
    "from scipy import signal\n",
    "from scipy.optimize import minimize\n",
    "\n",
    "from soda.utils.timeseries import timeseries, skill, rmse\n",
    "from soda.utils.uspectra import uspectra, getTideFreq\n",
    "from soda.utils.othertime import SecondsSince, TimeVector\n",
    "from soda.dataio.conversion import readotps\n",
    "from soda.utils.myairsea import pol2cart\n",
    "\n",
    "from glob import glob"
   ]
  },
  {
   "cell_type": "code",
   "execution_count": 2,
   "metadata": {},
   "outputs": [],
   "source": [
    "%matplotlib  notebook"
   ]
  },
  {
   "cell_type": "code",
   "execution_count": 3,
   "metadata": {},
   "outputs": [],
   "source": [
    "plt.rcParams['font.size'] = 14\n",
    "plt.rcParams['axes.labelsize'] = 'large'"
   ]
  },
  {
   "cell_type": "markdown",
   "metadata": {},
   "source": [
    "# Load the tidal amplitude data"
   ]
  },
  {
   "cell_type": "raw",
   "metadata": {},
   "source": [
    "# Load the tidal amplitude\n",
    "##########\n",
    "# Inputs\n",
    "xpt, ypt = 123.346383, -13.75895\n",
    "\n",
    "# Grab the barotropic tide data\n",
    "tidemod = '/home/suntans/Share/ScottReef/DATA/TIDES/Ind2016/Model_Ind_2016'\n",
    "tidecons = ['M2','S2','N2','K2','K1','O1','P1','Q1']\n",
    "\n",
    "time = TimeVector('20160501.000000','20170501.000000',3600)\n",
    "\n",
    "basetime = datetime(2007,1,1)\n",
    "##########\n",
    "# Extract the tidal height for the whole period\n",
    "eta, U,V = readotps.tide_pred(tidemod,np.array([xpt]),\n",
    "                        np.array([ypt]),time)\n",
    "\n",
    "# Manually compute the amp and phase that includes the nodal corrections\n",
    "eta_ts = timeseries(time,eta)\n",
    "\n",
    "eta_amp, eta_phs, omega,_,eta_harmonic,_=eta_ts.tidefit(frqnames=tidecons,basetime=basetime)\n",
    "\n",
    "h_re, h_im = pol2cart(eta_phs.data, eta_amp.data)\n",
    "nf = len(omega)\n",
    "beta_s = np.zeros((2*nf,))\n",
    "beta_s[0:-1:2] = h_re.ravel()\n",
    "beta_s[1::2] = h_im.ravel()\n",
    "\n",
    "beta_s"
   ]
  },
  {
   "cell_type": "raw",
   "metadata": {},
   "source": [
    "# Load the observed amplitude and stratification data\n",
    "ncfile = '/home/suntans/Share/ARCHub/DATA/FIELD/ShellPreludeRPS/Prelude_Fitted_Buoyancy.nc'\n",
    "mode = 0\n",
    "###########\n",
    "\n",
    "\n",
    "# Merge the two\n",
    "with Dataset(ncfile) as nc:\n",
    "    for gg in nc.groups.keys():\n",
    "        print(gg)\n",
    "    \n",
    "ds0 = xr.open_dataset(ncfile,group='F_Block_2007_CM04')\n",
    "ds1 = xr.open_dataset(ncfile,group='F_Block_2008a_CM04')\n",
    "ds2 = xr.open_dataset(ncfile,group='F_Block_2008b_CM04')\n",
    "ds3 = xr.open_dataset(ncfile,group='F_Block_2009a_CM04')\n",
    "ds4 = xr.open_dataset(ncfile,group='F_Block_2009b_CM04')\n",
    "\n",
    "\n",
    "\n",
    "A_n = xr.concat([ds0['A_n'][:,mode],\n",
    "    ds1['A_n'][:,mode],ds2['A_n'][:,mode],\\\n",
    "                ds3['A_n'][:,mode],ds4['A_n'][:,mode]], dim='time')\n",
    "\n",
    "a0 = xr.concat([ds0['amp'][:,0,0],\n",
    "    ds1['amp'][:,0,0],ds2['amp'][:,0,0],\\\n",
    "                ds3['amp'][:,0,0],ds4['amp'][:,0,0]], dim='timeslow')\n",
    "\n",
    "c_n = xr.concat([ds0['cn'][:,mode],\n",
    "    ds1['cn'][:,mode],ds2['cn'][:,mode],\\\n",
    "                ds3['cn'][:,mode],ds4['cn'][:,mode]], dim='timeslow')\n",
    "\n",
    "r10_n = xr.concat([ds0['r10'][:,mode],\n",
    "    ds1['r10'][:,mode],ds2['r10'][:,mode],\\\n",
    "                ds3['r10'][:,mode],ds4['r10'][:,mode]], dim='timeslow')\n",
    "\n",
    "alpha_n = -2*c_n*r10_n\n",
    "#a0 = xr.concat([ds1['amp'][:,mode,0],ds2['amp'][:,mode,0]], dim='timeslow')\n",
    "\n",
    "\n",
    "\n",
    "# Create a time series of single days with the max amplitude \n",
    "#time1 = pd.date_range('2016-5-1','2016-9-15') \n",
    "#time2 = pd.date_range('2016-11-1','2017-5-1')\n",
    "#time = time1.append(time2)\n",
    "\n",
    "time = pd.date_range('2007-09-1','2009-10-1') \n",
    "\n",
    "plt.figure()\n",
    "A_n.plot(lw=0.2)\n",
    "a0.plot()"
   ]
  },
  {
   "cell_type": "raw",
   "metadata": {},
   "source": [
    "# Find the A_max over one day blocks\n",
    "def maximum_amplitude_finder(amp_signal):\n",
    "    if np.shape(amp_signal)[0] == 0:\n",
    "        return 0,-1\n",
    "    \n",
    "    amp_min = np.min(amp_signal)\n",
    "    amp_max = np.max(amp_signal)\n",
    "    if np.abs(amp_min)>amp_max:\n",
    "        return amp_min, np.argwhere(amp_signal==amp_min)[0][0]\n",
    "    else:\n",
    "        return amp_max, np.argwhere(amp_signal==amp_max)[0][0]\n",
    "\n",
    "Amax_all = []\n",
    "Amax_time = []\n",
    "for t1 in time:\n",
    "    t2 = t1 + np.timedelta64(1,'D')\n",
    "    \n",
    "    Amax, tidx = maximum_amplitude_finder(A_n.sel(time=slice(t1,t2)).values)\n",
    "    if tidx == -1:\n",
    "        tmax = t1\n",
    "    else:\n",
    "        tmax = A_n.sel(time=slice(t1,t2)).time[tidx].values\n",
    "        \n",
    "    Amax_all.append(Amax)\n",
    "    Amax_time.append(tmax)\n",
    "\n",
    "#ds_A = pd.Series(Amax_all, index=Amax_time)\n",
    "ds_A = xr.DataArray(Amax_all, coords={'time':Amax_time}, dims=('time',))\n",
    "\n"
   ]
  },
  {
   "cell_type": "raw",
   "metadata": {},
   "source": [
    "df = ds_A.to_dataframe(name='Amax')\n",
    "df_A = df.loc[~df.index.duplicated(keep='first')]"
   ]
  },
  {
   "cell_type": "raw",
   "metadata": {},
   "source": [
    "plt.figure()\n",
    "A_n.plot(lw=0.2)\n",
    "plt.plot(ds_A.time, ds_A, 'k.')\n",
    "plt.grid(b=True)\n",
    "plt.title('')"
   ]
  },
  {
   "cell_type": "markdown",
   "metadata": {},
   "source": [
    "# Load the a0 beta fit parameters\n",
    "\n"
   ]
  },
  {
   "cell_type": "raw",
   "metadata": {},
   "source": [
    "\n",
    "inputh5 = '../inputs/a0_betas_Crux.h5'\n",
    "f = h5py.File(inputh5,'r')\n",
    "a0_beta = f['data/a0-beta'][:]\n",
    "f.close()\n",
    "\n",
    "a0_beta.shape"
   ]
  },
  {
   "cell_type": "code",
   "execution_count": 10,
   "metadata": {},
   "outputs": [
    {
     "data": {
      "text/plain": [
       "(500, 374)"
      ]
     },
     "execution_count": 10,
     "metadata": {},
     "output_type": "execute_result"
    }
   ],
   "source": [
    "def load_a0_h5(h5file):\n",
    "    f = h5py.File(h5file,'r')\n",
    "    #print(list(f.keys()))\n",
    "    data = f['data/a0-all-times-samples'][:].T\n",
    "    time = f['data/dtime64'][:].astype('<M8[ns]')\n",
    "    \n",
    "    f.close()\n",
    "    return data,time\n",
    "\n",
    "a0_pred, tnew = load_a0_h5(a0h5file)\n",
    "a0_pred.shape"
   ]
  },
  {
   "cell_type": "code",
   "execution_count": 21,
   "metadata": {},
   "outputs": [
    {
     "data": {
      "text/plain": [
       "<xarray.Dataset>\n",
       "Dimensions:   (ensemble: 500, params: 6, time: 374)\n",
       "Coordinates:\n",
       "  * time      (time) datetime64[ns] 2016-05-03T05:15:00 ... 2017-05-07T18:40:00\n",
       "  * ensemble  (ensemble) int64 0 1 2 3 4 5 6 7 ... 493 494 495 496 497 498 499\n",
       "  * params    (params) int64 0 1 2 3 4 5\n",
       "Data variables:\n",
       "    cn        (time, ensemble) float64 ...\n",
       "    alpha     (time, ensemble) float64 ...\n",
       "    beta      (params, time, ensemble) float64 ...\n",
       "    cn_mu     (time, ensemble) float64 ...\n",
       "    alpha_mu  (time, ensemble) float64 ..."
      ]
     },
     "execution_count": 21,
     "metadata": {},
     "output_type": "execute_result"
    }
   ],
   "source": [
    "# ncfile = '../../run_ddcurves/DATA_SHELL/ShellCrux_Filtered_Density_Harmonic_MCMC_20162017_prediction_vkdv_nliw.nc'\n",
    "ncfile = '../../run_ddcurves/DATA_SHELL/ShellCrux_Filtered_Density_Harmonic_MCMC_20162017_vkdv_nliw.nc'\n",
    "\n",
    "#a0h5file = '../inputs/a0_samples_harmonic_a0_FBlock_20072009_2019-07-30.h5'\n",
    "a0h5file = '../inputs/a0_samples_harmonicfit_M2S2N2lowfreq_12month.h5'\n",
    "\n",
    "ds_S = xr.open_dataset(ncfile)\n",
    "ds_S = ds_S.sel(time=tnew, method='nearest')\n",
    "ds_S"
   ]
  },
  {
   "cell_type": "code",
   "execution_count": 22,
   "metadata": {},
   "outputs": [
    {
     "data": {
      "application/javascript": [
       "/* Put everything inside the global mpl namespace */\n",
       "window.mpl = {};\n",
       "\n",
       "\n",
       "mpl.get_websocket_type = function() {\n",
       "    if (typeof(WebSocket) !== 'undefined') {\n",
       "        return WebSocket;\n",
       "    } else if (typeof(MozWebSocket) !== 'undefined') {\n",
       "        return MozWebSocket;\n",
       "    } else {\n",
       "        alert('Your browser does not have WebSocket support.' +\n",
       "              'Please try Chrome, Safari or Firefox ≥ 6. ' +\n",
       "              'Firefox 4 and 5 are also supported but you ' +\n",
       "              'have to enable WebSockets in about:config.');\n",
       "    };\n",
       "}\n",
       "\n",
       "mpl.figure = function(figure_id, websocket, ondownload, parent_element) {\n",
       "    this.id = figure_id;\n",
       "\n",
       "    this.ws = websocket;\n",
       "\n",
       "    this.supports_binary = (this.ws.binaryType != undefined);\n",
       "\n",
       "    if (!this.supports_binary) {\n",
       "        var warnings = document.getElementById(\"mpl-warnings\");\n",
       "        if (warnings) {\n",
       "            warnings.style.display = 'block';\n",
       "            warnings.textContent = (\n",
       "                \"This browser does not support binary websocket messages. \" +\n",
       "                    \"Performance may be slow.\");\n",
       "        }\n",
       "    }\n",
       "\n",
       "    this.imageObj = new Image();\n",
       "\n",
       "    this.context = undefined;\n",
       "    this.message = undefined;\n",
       "    this.canvas = undefined;\n",
       "    this.rubberband_canvas = undefined;\n",
       "    this.rubberband_context = undefined;\n",
       "    this.format_dropdown = undefined;\n",
       "\n",
       "    this.image_mode = 'full';\n",
       "\n",
       "    this.root = $('<div/>');\n",
       "    this._root_extra_style(this.root)\n",
       "    this.root.attr('style', 'display: inline-block');\n",
       "\n",
       "    $(parent_element).append(this.root);\n",
       "\n",
       "    this._init_header(this);\n",
       "    this._init_canvas(this);\n",
       "    this._init_toolbar(this);\n",
       "\n",
       "    var fig = this;\n",
       "\n",
       "    this.waiting = false;\n",
       "\n",
       "    this.ws.onopen =  function () {\n",
       "            fig.send_message(\"supports_binary\", {value: fig.supports_binary});\n",
       "            fig.send_message(\"send_image_mode\", {});\n",
       "            if (mpl.ratio != 1) {\n",
       "                fig.send_message(\"set_dpi_ratio\", {'dpi_ratio': mpl.ratio});\n",
       "            }\n",
       "            fig.send_message(\"refresh\", {});\n",
       "        }\n",
       "\n",
       "    this.imageObj.onload = function() {\n",
       "            if (fig.image_mode == 'full') {\n",
       "                // Full images could contain transparency (where diff images\n",
       "                // almost always do), so we need to clear the canvas so that\n",
       "                // there is no ghosting.\n",
       "                fig.context.clearRect(0, 0, fig.canvas.width, fig.canvas.height);\n",
       "            }\n",
       "            fig.context.drawImage(fig.imageObj, 0, 0);\n",
       "        };\n",
       "\n",
       "    this.imageObj.onunload = function() {\n",
       "        fig.ws.close();\n",
       "    }\n",
       "\n",
       "    this.ws.onmessage = this._make_on_message_function(this);\n",
       "\n",
       "    this.ondownload = ondownload;\n",
       "}\n",
       "\n",
       "mpl.figure.prototype._init_header = function() {\n",
       "    var titlebar = $(\n",
       "        '<div class=\"ui-dialog-titlebar ui-widget-header ui-corner-all ' +\n",
       "        'ui-helper-clearfix\"/>');\n",
       "    var titletext = $(\n",
       "        '<div class=\"ui-dialog-title\" style=\"width: 100%; ' +\n",
       "        'text-align: center; padding: 3px;\"/>');\n",
       "    titlebar.append(titletext)\n",
       "    this.root.append(titlebar);\n",
       "    this.header = titletext[0];\n",
       "}\n",
       "\n",
       "\n",
       "\n",
       "mpl.figure.prototype._canvas_extra_style = function(canvas_div) {\n",
       "\n",
       "}\n",
       "\n",
       "\n",
       "mpl.figure.prototype._root_extra_style = function(canvas_div) {\n",
       "\n",
       "}\n",
       "\n",
       "mpl.figure.prototype._init_canvas = function() {\n",
       "    var fig = this;\n",
       "\n",
       "    var canvas_div = $('<div/>');\n",
       "\n",
       "    canvas_div.attr('style', 'position: relative; clear: both; outline: 0');\n",
       "\n",
       "    function canvas_keyboard_event(event) {\n",
       "        return fig.key_event(event, event['data']);\n",
       "    }\n",
       "\n",
       "    canvas_div.keydown('key_press', canvas_keyboard_event);\n",
       "    canvas_div.keyup('key_release', canvas_keyboard_event);\n",
       "    this.canvas_div = canvas_div\n",
       "    this._canvas_extra_style(canvas_div)\n",
       "    this.root.append(canvas_div);\n",
       "\n",
       "    var canvas = $('<canvas/>');\n",
       "    canvas.addClass('mpl-canvas');\n",
       "    canvas.attr('style', \"left: 0; top: 0; z-index: 0; outline: 0\")\n",
       "\n",
       "    this.canvas = canvas[0];\n",
       "    this.context = canvas[0].getContext(\"2d\");\n",
       "\n",
       "    var backingStore = this.context.backingStorePixelRatio ||\n",
       "\tthis.context.webkitBackingStorePixelRatio ||\n",
       "\tthis.context.mozBackingStorePixelRatio ||\n",
       "\tthis.context.msBackingStorePixelRatio ||\n",
       "\tthis.context.oBackingStorePixelRatio ||\n",
       "\tthis.context.backingStorePixelRatio || 1;\n",
       "\n",
       "    mpl.ratio = (window.devicePixelRatio || 1) / backingStore;\n",
       "\n",
       "    var rubberband = $('<canvas/>');\n",
       "    rubberband.attr('style', \"position: absolute; left: 0; top: 0; z-index: 1;\")\n",
       "\n",
       "    var pass_mouse_events = true;\n",
       "\n",
       "    canvas_div.resizable({\n",
       "        start: function(event, ui) {\n",
       "            pass_mouse_events = false;\n",
       "        },\n",
       "        resize: function(event, ui) {\n",
       "            fig.request_resize(ui.size.width, ui.size.height);\n",
       "        },\n",
       "        stop: function(event, ui) {\n",
       "            pass_mouse_events = true;\n",
       "            fig.request_resize(ui.size.width, ui.size.height);\n",
       "        },\n",
       "    });\n",
       "\n",
       "    function mouse_event_fn(event) {\n",
       "        if (pass_mouse_events)\n",
       "            return fig.mouse_event(event, event['data']);\n",
       "    }\n",
       "\n",
       "    rubberband.mousedown('button_press', mouse_event_fn);\n",
       "    rubberband.mouseup('button_release', mouse_event_fn);\n",
       "    // Throttle sequential mouse events to 1 every 20ms.\n",
       "    rubberband.mousemove('motion_notify', mouse_event_fn);\n",
       "\n",
       "    rubberband.mouseenter('figure_enter', mouse_event_fn);\n",
       "    rubberband.mouseleave('figure_leave', mouse_event_fn);\n",
       "\n",
       "    canvas_div.on(\"wheel\", function (event) {\n",
       "        event = event.originalEvent;\n",
       "        event['data'] = 'scroll'\n",
       "        if (event.deltaY < 0) {\n",
       "            event.step = 1;\n",
       "        } else {\n",
       "            event.step = -1;\n",
       "        }\n",
       "        mouse_event_fn(event);\n",
       "    });\n",
       "\n",
       "    canvas_div.append(canvas);\n",
       "    canvas_div.append(rubberband);\n",
       "\n",
       "    this.rubberband = rubberband;\n",
       "    this.rubberband_canvas = rubberband[0];\n",
       "    this.rubberband_context = rubberband[0].getContext(\"2d\");\n",
       "    this.rubberband_context.strokeStyle = \"#000000\";\n",
       "\n",
       "    this._resize_canvas = function(width, height) {\n",
       "        // Keep the size of the canvas, canvas container, and rubber band\n",
       "        // canvas in synch.\n",
       "        canvas_div.css('width', width)\n",
       "        canvas_div.css('height', height)\n",
       "\n",
       "        canvas.attr('width', width * mpl.ratio);\n",
       "        canvas.attr('height', height * mpl.ratio);\n",
       "        canvas.attr('style', 'width: ' + width + 'px; height: ' + height + 'px;');\n",
       "\n",
       "        rubberband.attr('width', width);\n",
       "        rubberband.attr('height', height);\n",
       "    }\n",
       "\n",
       "    // Set the figure to an initial 600x600px, this will subsequently be updated\n",
       "    // upon first draw.\n",
       "    this._resize_canvas(600, 600);\n",
       "\n",
       "    // Disable right mouse context menu.\n",
       "    $(this.rubberband_canvas).bind(\"contextmenu\",function(e){\n",
       "        return false;\n",
       "    });\n",
       "\n",
       "    function set_focus () {\n",
       "        canvas.focus();\n",
       "        canvas_div.focus();\n",
       "    }\n",
       "\n",
       "    window.setTimeout(set_focus, 100);\n",
       "}\n",
       "\n",
       "mpl.figure.prototype._init_toolbar = function() {\n",
       "    var fig = this;\n",
       "\n",
       "    var nav_element = $('<div/>')\n",
       "    nav_element.attr('style', 'width: 100%');\n",
       "    this.root.append(nav_element);\n",
       "\n",
       "    // Define a callback function for later on.\n",
       "    function toolbar_event(event) {\n",
       "        return fig.toolbar_button_onclick(event['data']);\n",
       "    }\n",
       "    function toolbar_mouse_event(event) {\n",
       "        return fig.toolbar_button_onmouseover(event['data']);\n",
       "    }\n",
       "\n",
       "    for(var toolbar_ind in mpl.toolbar_items) {\n",
       "        var name = mpl.toolbar_items[toolbar_ind][0];\n",
       "        var tooltip = mpl.toolbar_items[toolbar_ind][1];\n",
       "        var image = mpl.toolbar_items[toolbar_ind][2];\n",
       "        var method_name = mpl.toolbar_items[toolbar_ind][3];\n",
       "\n",
       "        if (!name) {\n",
       "            // put a spacer in here.\n",
       "            continue;\n",
       "        }\n",
       "        var button = $('<button/>');\n",
       "        button.addClass('ui-button ui-widget ui-state-default ui-corner-all ' +\n",
       "                        'ui-button-icon-only');\n",
       "        button.attr('role', 'button');\n",
       "        button.attr('aria-disabled', 'false');\n",
       "        button.click(method_name, toolbar_event);\n",
       "        button.mouseover(tooltip, toolbar_mouse_event);\n",
       "\n",
       "        var icon_img = $('<span/>');\n",
       "        icon_img.addClass('ui-button-icon-primary ui-icon');\n",
       "        icon_img.addClass(image);\n",
       "        icon_img.addClass('ui-corner-all');\n",
       "\n",
       "        var tooltip_span = $('<span/>');\n",
       "        tooltip_span.addClass('ui-button-text');\n",
       "        tooltip_span.html(tooltip);\n",
       "\n",
       "        button.append(icon_img);\n",
       "        button.append(tooltip_span);\n",
       "\n",
       "        nav_element.append(button);\n",
       "    }\n",
       "\n",
       "    var fmt_picker_span = $('<span/>');\n",
       "\n",
       "    var fmt_picker = $('<select/>');\n",
       "    fmt_picker.addClass('mpl-toolbar-option ui-widget ui-widget-content');\n",
       "    fmt_picker_span.append(fmt_picker);\n",
       "    nav_element.append(fmt_picker_span);\n",
       "    this.format_dropdown = fmt_picker[0];\n",
       "\n",
       "    for (var ind in mpl.extensions) {\n",
       "        var fmt = mpl.extensions[ind];\n",
       "        var option = $(\n",
       "            '<option/>', {selected: fmt === mpl.default_extension}).html(fmt);\n",
       "        fmt_picker.append(option)\n",
       "    }\n",
       "\n",
       "    // Add hover states to the ui-buttons\n",
       "    $( \".ui-button\" ).hover(\n",
       "        function() { $(this).addClass(\"ui-state-hover\");},\n",
       "        function() { $(this).removeClass(\"ui-state-hover\");}\n",
       "    );\n",
       "\n",
       "    var status_bar = $('<span class=\"mpl-message\"/>');\n",
       "    nav_element.append(status_bar);\n",
       "    this.message = status_bar[0];\n",
       "}\n",
       "\n",
       "mpl.figure.prototype.request_resize = function(x_pixels, y_pixels) {\n",
       "    // Request matplotlib to resize the figure. Matplotlib will then trigger a resize in the client,\n",
       "    // which will in turn request a refresh of the image.\n",
       "    this.send_message('resize', {'width': x_pixels, 'height': y_pixels});\n",
       "}\n",
       "\n",
       "mpl.figure.prototype.send_message = function(type, properties) {\n",
       "    properties['type'] = type;\n",
       "    properties['figure_id'] = this.id;\n",
       "    this.ws.send(JSON.stringify(properties));\n",
       "}\n",
       "\n",
       "mpl.figure.prototype.send_draw_message = function() {\n",
       "    if (!this.waiting) {\n",
       "        this.waiting = true;\n",
       "        this.ws.send(JSON.stringify({type: \"draw\", figure_id: this.id}));\n",
       "    }\n",
       "}\n",
       "\n",
       "\n",
       "mpl.figure.prototype.handle_save = function(fig, msg) {\n",
       "    var format_dropdown = fig.format_dropdown;\n",
       "    var format = format_dropdown.options[format_dropdown.selectedIndex].value;\n",
       "    fig.ondownload(fig, format);\n",
       "}\n",
       "\n",
       "\n",
       "mpl.figure.prototype.handle_resize = function(fig, msg) {\n",
       "    var size = msg['size'];\n",
       "    if (size[0] != fig.canvas.width || size[1] != fig.canvas.height) {\n",
       "        fig._resize_canvas(size[0], size[1]);\n",
       "        fig.send_message(\"refresh\", {});\n",
       "    };\n",
       "}\n",
       "\n",
       "mpl.figure.prototype.handle_rubberband = function(fig, msg) {\n",
       "    var x0 = msg['x0'] / mpl.ratio;\n",
       "    var y0 = (fig.canvas.height - msg['y0']) / mpl.ratio;\n",
       "    var x1 = msg['x1'] / mpl.ratio;\n",
       "    var y1 = (fig.canvas.height - msg['y1']) / mpl.ratio;\n",
       "    x0 = Math.floor(x0) + 0.5;\n",
       "    y0 = Math.floor(y0) + 0.5;\n",
       "    x1 = Math.floor(x1) + 0.5;\n",
       "    y1 = Math.floor(y1) + 0.5;\n",
       "    var min_x = Math.min(x0, x1);\n",
       "    var min_y = Math.min(y0, y1);\n",
       "    var width = Math.abs(x1 - x0);\n",
       "    var height = Math.abs(y1 - y0);\n",
       "\n",
       "    fig.rubberband_context.clearRect(\n",
       "        0, 0, fig.canvas.width, fig.canvas.height);\n",
       "\n",
       "    fig.rubberband_context.strokeRect(min_x, min_y, width, height);\n",
       "}\n",
       "\n",
       "mpl.figure.prototype.handle_figure_label = function(fig, msg) {\n",
       "    // Updates the figure title.\n",
       "    fig.header.textContent = msg['label'];\n",
       "}\n",
       "\n",
       "mpl.figure.prototype.handle_cursor = function(fig, msg) {\n",
       "    var cursor = msg['cursor'];\n",
       "    switch(cursor)\n",
       "    {\n",
       "    case 0:\n",
       "        cursor = 'pointer';\n",
       "        break;\n",
       "    case 1:\n",
       "        cursor = 'default';\n",
       "        break;\n",
       "    case 2:\n",
       "        cursor = 'crosshair';\n",
       "        break;\n",
       "    case 3:\n",
       "        cursor = 'move';\n",
       "        break;\n",
       "    }\n",
       "    fig.rubberband_canvas.style.cursor = cursor;\n",
       "}\n",
       "\n",
       "mpl.figure.prototype.handle_message = function(fig, msg) {\n",
       "    fig.message.textContent = msg['message'];\n",
       "}\n",
       "\n",
       "mpl.figure.prototype.handle_draw = function(fig, msg) {\n",
       "    // Request the server to send over a new figure.\n",
       "    fig.send_draw_message();\n",
       "}\n",
       "\n",
       "mpl.figure.prototype.handle_image_mode = function(fig, msg) {\n",
       "    fig.image_mode = msg['mode'];\n",
       "}\n",
       "\n",
       "mpl.figure.prototype.updated_canvas_event = function() {\n",
       "    // Called whenever the canvas gets updated.\n",
       "    this.send_message(\"ack\", {});\n",
       "}\n",
       "\n",
       "// A function to construct a web socket function for onmessage handling.\n",
       "// Called in the figure constructor.\n",
       "mpl.figure.prototype._make_on_message_function = function(fig) {\n",
       "    return function socket_on_message(evt) {\n",
       "        if (evt.data instanceof Blob) {\n",
       "            /* FIXME: We get \"Resource interpreted as Image but\n",
       "             * transferred with MIME type text/plain:\" errors on\n",
       "             * Chrome.  But how to set the MIME type?  It doesn't seem\n",
       "             * to be part of the websocket stream */\n",
       "            evt.data.type = \"image/png\";\n",
       "\n",
       "            /* Free the memory for the previous frames */\n",
       "            if (fig.imageObj.src) {\n",
       "                (window.URL || window.webkitURL).revokeObjectURL(\n",
       "                    fig.imageObj.src);\n",
       "            }\n",
       "\n",
       "            fig.imageObj.src = (window.URL || window.webkitURL).createObjectURL(\n",
       "                evt.data);\n",
       "            fig.updated_canvas_event();\n",
       "            fig.waiting = false;\n",
       "            return;\n",
       "        }\n",
       "        else if (typeof evt.data === 'string' && evt.data.slice(0, 21) == \"data:image/png;base64\") {\n",
       "            fig.imageObj.src = evt.data;\n",
       "            fig.updated_canvas_event();\n",
       "            fig.waiting = false;\n",
       "            return;\n",
       "        }\n",
       "\n",
       "        var msg = JSON.parse(evt.data);\n",
       "        var msg_type = msg['type'];\n",
       "\n",
       "        // Call the  \"handle_{type}\" callback, which takes\n",
       "        // the figure and JSON message as its only arguments.\n",
       "        try {\n",
       "            var callback = fig[\"handle_\" + msg_type];\n",
       "        } catch (e) {\n",
       "            console.log(\"No handler for the '\" + msg_type + \"' message type: \", msg);\n",
       "            return;\n",
       "        }\n",
       "\n",
       "        if (callback) {\n",
       "            try {\n",
       "                // console.log(\"Handling '\" + msg_type + \"' message: \", msg);\n",
       "                callback(fig, msg);\n",
       "            } catch (e) {\n",
       "                console.log(\"Exception inside the 'handler_\" + msg_type + \"' callback:\", e, e.stack, msg);\n",
       "            }\n",
       "        }\n",
       "    };\n",
       "}\n",
       "\n",
       "// from http://stackoverflow.com/questions/1114465/getting-mouse-location-in-canvas\n",
       "mpl.findpos = function(e) {\n",
       "    //this section is from http://www.quirksmode.org/js/events_properties.html\n",
       "    var targ;\n",
       "    if (!e)\n",
       "        e = window.event;\n",
       "    if (e.target)\n",
       "        targ = e.target;\n",
       "    else if (e.srcElement)\n",
       "        targ = e.srcElement;\n",
       "    if (targ.nodeType == 3) // defeat Safari bug\n",
       "        targ = targ.parentNode;\n",
       "\n",
       "    // jQuery normalizes the pageX and pageY\n",
       "    // pageX,Y are the mouse positions relative to the document\n",
       "    // offset() returns the position of the element relative to the document\n",
       "    var x = e.pageX - $(targ).offset().left;\n",
       "    var y = e.pageY - $(targ).offset().top;\n",
       "\n",
       "    return {\"x\": x, \"y\": y};\n",
       "};\n",
       "\n",
       "/*\n",
       " * return a copy of an object with only non-object keys\n",
       " * we need this to avoid circular references\n",
       " * http://stackoverflow.com/a/24161582/3208463\n",
       " */\n",
       "function simpleKeys (original) {\n",
       "  return Object.keys(original).reduce(function (obj, key) {\n",
       "    if (typeof original[key] !== 'object')\n",
       "        obj[key] = original[key]\n",
       "    return obj;\n",
       "  }, {});\n",
       "}\n",
       "\n",
       "mpl.figure.prototype.mouse_event = function(event, name) {\n",
       "    var canvas_pos = mpl.findpos(event)\n",
       "\n",
       "    if (name === 'button_press')\n",
       "    {\n",
       "        this.canvas.focus();\n",
       "        this.canvas_div.focus();\n",
       "    }\n",
       "\n",
       "    var x = canvas_pos.x * mpl.ratio;\n",
       "    var y = canvas_pos.y * mpl.ratio;\n",
       "\n",
       "    this.send_message(name, {x: x, y: y, button: event.button,\n",
       "                             step: event.step,\n",
       "                             guiEvent: simpleKeys(event)});\n",
       "\n",
       "    /* This prevents the web browser from automatically changing to\n",
       "     * the text insertion cursor when the button is pressed.  We want\n",
       "     * to control all of the cursor setting manually through the\n",
       "     * 'cursor' event from matplotlib */\n",
       "    event.preventDefault();\n",
       "    return false;\n",
       "}\n",
       "\n",
       "mpl.figure.prototype._key_event_extra = function(event, name) {\n",
       "    // Handle any extra behaviour associated with a key event\n",
       "}\n",
       "\n",
       "mpl.figure.prototype.key_event = function(event, name) {\n",
       "\n",
       "    // Prevent repeat events\n",
       "    if (name == 'key_press')\n",
       "    {\n",
       "        if (event.which === this._key)\n",
       "            return;\n",
       "        else\n",
       "            this._key = event.which;\n",
       "    }\n",
       "    if (name == 'key_release')\n",
       "        this._key = null;\n",
       "\n",
       "    var value = '';\n",
       "    if (event.ctrlKey && event.which != 17)\n",
       "        value += \"ctrl+\";\n",
       "    if (event.altKey && event.which != 18)\n",
       "        value += \"alt+\";\n",
       "    if (event.shiftKey && event.which != 16)\n",
       "        value += \"shift+\";\n",
       "\n",
       "    value += 'k';\n",
       "    value += event.which.toString();\n",
       "\n",
       "    this._key_event_extra(event, name);\n",
       "\n",
       "    this.send_message(name, {key: value,\n",
       "                             guiEvent: simpleKeys(event)});\n",
       "    return false;\n",
       "}\n",
       "\n",
       "mpl.figure.prototype.toolbar_button_onclick = function(name) {\n",
       "    if (name == 'download') {\n",
       "        this.handle_save(this, null);\n",
       "    } else {\n",
       "        this.send_message(\"toolbar_button\", {name: name});\n",
       "    }\n",
       "};\n",
       "\n",
       "mpl.figure.prototype.toolbar_button_onmouseover = function(tooltip) {\n",
       "    this.message.textContent = tooltip;\n",
       "};\n",
       "mpl.toolbar_items = [[\"Home\", \"Reset original view\", \"fa fa-home icon-home\", \"home\"], [\"Back\", \"Back to previous view\", \"fa fa-arrow-left icon-arrow-left\", \"back\"], [\"Forward\", \"Forward to next view\", \"fa fa-arrow-right icon-arrow-right\", \"forward\"], [\"\", \"\", \"\", \"\"], [\"Pan\", \"Pan axes with left mouse, zoom with right\", \"fa fa-arrows icon-move\", \"pan\"], [\"Zoom\", \"Zoom to rectangle\", \"fa fa-square-o icon-check-empty\", \"zoom\"], [\"\", \"\", \"\", \"\"], [\"Download\", \"Download plot\", \"fa fa-floppy-o icon-save\", \"download\"]];\n",
       "\n",
       "mpl.extensions = [\"eps\", \"jpeg\", \"pdf\", \"png\", \"ps\", \"raw\", \"svg\", \"tif\"];\n",
       "\n",
       "mpl.default_extension = \"png\";var comm_websocket_adapter = function(comm) {\n",
       "    // Create a \"websocket\"-like object which calls the given IPython comm\n",
       "    // object with the appropriate methods. Currently this is a non binary\n",
       "    // socket, so there is still some room for performance tuning.\n",
       "    var ws = {};\n",
       "\n",
       "    ws.close = function() {\n",
       "        comm.close()\n",
       "    };\n",
       "    ws.send = function(m) {\n",
       "        //console.log('sending', m);\n",
       "        comm.send(m);\n",
       "    };\n",
       "    // Register the callback with on_msg.\n",
       "    comm.on_msg(function(msg) {\n",
       "        //console.log('receiving', msg['content']['data'], msg);\n",
       "        // Pass the mpl event to the overridden (by mpl) onmessage function.\n",
       "        ws.onmessage(msg['content']['data'])\n",
       "    });\n",
       "    return ws;\n",
       "}\n",
       "\n",
       "mpl.mpl_figure_comm = function(comm, msg) {\n",
       "    // This is the function which gets called when the mpl process\n",
       "    // starts-up an IPython Comm through the \"matplotlib\" channel.\n",
       "\n",
       "    var id = msg.content.data.id;\n",
       "    // Get hold of the div created by the display call when the Comm\n",
       "    // socket was opened in Python.\n",
       "    var element = $(\"#\" + id);\n",
       "    var ws_proxy = comm_websocket_adapter(comm)\n",
       "\n",
       "    function ondownload(figure, format) {\n",
       "        window.open(figure.imageObj.src);\n",
       "    }\n",
       "\n",
       "    var fig = new mpl.figure(id, ws_proxy,\n",
       "                           ondownload,\n",
       "                           element.get(0));\n",
       "\n",
       "    // Call onopen now - mpl needs it, as it is assuming we've passed it a real\n",
       "    // web socket which is closed, not our websocket->open comm proxy.\n",
       "    ws_proxy.onopen();\n",
       "\n",
       "    fig.parent_element = element.get(0);\n",
       "    fig.cell_info = mpl.find_output_cell(\"<div id='\" + id + \"'></div>\");\n",
       "    if (!fig.cell_info) {\n",
       "        console.error(\"Failed to find cell for figure\", id, fig);\n",
       "        return;\n",
       "    }\n",
       "\n",
       "    var output_index = fig.cell_info[2]\n",
       "    var cell = fig.cell_info[0];\n",
       "\n",
       "};\n",
       "\n",
       "mpl.figure.prototype.handle_close = function(fig, msg) {\n",
       "    var width = fig.canvas.width/mpl.ratio\n",
       "    fig.root.unbind('remove')\n",
       "\n",
       "    // Update the output cell to use the data from the current canvas.\n",
       "    fig.push_to_output();\n",
       "    var dataURL = fig.canvas.toDataURL();\n",
       "    // Re-enable the keyboard manager in IPython - without this line, in FF,\n",
       "    // the notebook keyboard shortcuts fail.\n",
       "    IPython.keyboard_manager.enable()\n",
       "    $(fig.parent_element).html('<img src=\"' + dataURL + '\" width=\"' + width + '\">');\n",
       "    fig.close_ws(fig, msg);\n",
       "}\n",
       "\n",
       "mpl.figure.prototype.close_ws = function(fig, msg){\n",
       "    fig.send_message('closing', msg);\n",
       "    // fig.ws.close()\n",
       "}\n",
       "\n",
       "mpl.figure.prototype.push_to_output = function(remove_interactive) {\n",
       "    // Turn the data on the canvas into data in the output cell.\n",
       "    var width = this.canvas.width/mpl.ratio\n",
       "    var dataURL = this.canvas.toDataURL();\n",
       "    this.cell_info[1]['text/html'] = '<img src=\"' + dataURL + '\" width=\"' + width + '\">';\n",
       "}\n",
       "\n",
       "mpl.figure.prototype.updated_canvas_event = function() {\n",
       "    // Tell IPython that the notebook contents must change.\n",
       "    IPython.notebook.set_dirty(true);\n",
       "    this.send_message(\"ack\", {});\n",
       "    var fig = this;\n",
       "    // Wait a second, then push the new image to the DOM so\n",
       "    // that it is saved nicely (might be nice to debounce this).\n",
       "    setTimeout(function () { fig.push_to_output() }, 1000);\n",
       "}\n",
       "\n",
       "mpl.figure.prototype._init_toolbar = function() {\n",
       "    var fig = this;\n",
       "\n",
       "    var nav_element = $('<div/>')\n",
       "    nav_element.attr('style', 'width: 100%');\n",
       "    this.root.append(nav_element);\n",
       "\n",
       "    // Define a callback function for later on.\n",
       "    function toolbar_event(event) {\n",
       "        return fig.toolbar_button_onclick(event['data']);\n",
       "    }\n",
       "    function toolbar_mouse_event(event) {\n",
       "        return fig.toolbar_button_onmouseover(event['data']);\n",
       "    }\n",
       "\n",
       "    for(var toolbar_ind in mpl.toolbar_items){\n",
       "        var name = mpl.toolbar_items[toolbar_ind][0];\n",
       "        var tooltip = mpl.toolbar_items[toolbar_ind][1];\n",
       "        var image = mpl.toolbar_items[toolbar_ind][2];\n",
       "        var method_name = mpl.toolbar_items[toolbar_ind][3];\n",
       "\n",
       "        if (!name) { continue; };\n",
       "\n",
       "        var button = $('<button class=\"btn btn-default\" href=\"#\" title=\"' + name + '\"><i class=\"fa ' + image + ' fa-lg\"></i></button>');\n",
       "        button.click(method_name, toolbar_event);\n",
       "        button.mouseover(tooltip, toolbar_mouse_event);\n",
       "        nav_element.append(button);\n",
       "    }\n",
       "\n",
       "    // Add the status bar.\n",
       "    var status_bar = $('<span class=\"mpl-message\" style=\"text-align:right; float: right;\"/>');\n",
       "    nav_element.append(status_bar);\n",
       "    this.message = status_bar[0];\n",
       "\n",
       "    // Add the close button to the window.\n",
       "    var buttongrp = $('<div class=\"btn-group inline pull-right\"></div>');\n",
       "    var button = $('<button class=\"btn btn-mini btn-primary\" href=\"#\" title=\"Stop Interaction\"><i class=\"fa fa-power-off icon-remove icon-large\"></i></button>');\n",
       "    button.click(function (evt) { fig.handle_close(fig, {}); } );\n",
       "    button.mouseover('Stop Interaction', toolbar_mouse_event);\n",
       "    buttongrp.append(button);\n",
       "    var titlebar = this.root.find($('.ui-dialog-titlebar'));\n",
       "    titlebar.prepend(buttongrp);\n",
       "}\n",
       "\n",
       "mpl.figure.prototype._root_extra_style = function(el){\n",
       "    var fig = this\n",
       "    el.on(\"remove\", function(){\n",
       "\tfig.close_ws(fig, {});\n",
       "    });\n",
       "}\n",
       "\n",
       "mpl.figure.prototype._canvas_extra_style = function(el){\n",
       "    // this is important to make the div 'focusable\n",
       "    el.attr('tabindex', 0)\n",
       "    // reach out to IPython and tell the keyboard manager to turn it's self\n",
       "    // off when our div gets focus\n",
       "\n",
       "    // location in version 3\n",
       "    if (IPython.notebook.keyboard_manager) {\n",
       "        IPython.notebook.keyboard_manager.register_events(el);\n",
       "    }\n",
       "    else {\n",
       "        // location in version 2\n",
       "        IPython.keyboard_manager.register_events(el);\n",
       "    }\n",
       "\n",
       "}\n",
       "\n",
       "mpl.figure.prototype._key_event_extra = function(event, name) {\n",
       "    var manager = IPython.notebook.keyboard_manager;\n",
       "    if (!manager)\n",
       "        manager = IPython.keyboard_manager;\n",
       "\n",
       "    // Check for shift+enter\n",
       "    if (event.shiftKey && event.which == 13) {\n",
       "        this.canvas_div.blur();\n",
       "        event.shiftKey = false;\n",
       "        // Send a \"J\" for go to next cell\n",
       "        event.which = 74;\n",
       "        event.keyCode = 74;\n",
       "        manager.command_mode();\n",
       "        manager.handle_keydown(event);\n",
       "    }\n",
       "}\n",
       "\n",
       "mpl.figure.prototype.handle_save = function(fig, msg) {\n",
       "    fig.ondownload(fig, null);\n",
       "}\n",
       "\n",
       "\n",
       "mpl.find_output_cell = function(html_output) {\n",
       "    // Return the cell and output element which can be found *uniquely* in the notebook.\n",
       "    // Note - this is a bit hacky, but it is done because the \"notebook_saving.Notebook\"\n",
       "    // IPython event is triggered only after the cells have been serialised, which for\n",
       "    // our purposes (turning an active figure into a static one), is too late.\n",
       "    var cells = IPython.notebook.get_cells();\n",
       "    var ncells = cells.length;\n",
       "    for (var i=0; i<ncells; i++) {\n",
       "        var cell = cells[i];\n",
       "        if (cell.cell_type === 'code'){\n",
       "            for (var j=0; j<cell.output_area.outputs.length; j++) {\n",
       "                var data = cell.output_area.outputs[j];\n",
       "                if (data.data) {\n",
       "                    // IPython >= 3 moved mimebundle to data attribute of output\n",
       "                    data = data.data;\n",
       "                }\n",
       "                if (data['text/html'] == html_output) {\n",
       "                    return [cell, data, j];\n",
       "                }\n",
       "            }\n",
       "        }\n",
       "    }\n",
       "}\n",
       "\n",
       "// Register the function which deals with the matplotlib target/channel.\n",
       "// The kernel may be null if the page has been refreshed.\n",
       "if (IPython.notebook.kernel != null) {\n",
       "    IPython.notebook.kernel.comm_manager.register_target('matplotlib', mpl.mpl_figure_comm);\n",
       "}\n"
      ],
      "text/plain": [
       "<IPython.core.display.Javascript object>"
      ]
     },
     "metadata": {},
     "output_type": "display_data"
    },
    {
     "data": {
      "text/html": [
       "<img src=\"data:image/png;base64,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\" width=\"900\">"
      ],
      "text/plain": [
       "<IPython.core.display.HTML object>"
      ]
     },
     "metadata": {},
     "output_type": "display_data"
    }
   ],
   "source": [
    "plt.figure(figsize=(9,6))\n",
    "\n",
    "#plt.plot(tdays, np.median(samples['vals'],axis=0),'k--')\n",
    "#plt.fill_between(tdays, np.percentile(samples['vals'],1.0,axis=0),\\\n",
    "#                 np.percentile(samples['vals'],99.,axis=0),alpha=0.5)\n",
    "\n",
    "p1,=plt.plot(tnew, np.median(a0_pred,axis=0),'b--')\n",
    "plt.fill_between(tnew, np.percentile(a0_pred,0.5,axis=0),\\\n",
    "                 np.percentile(a0_pred,99.5,axis=0),alpha=0.6,color='b')\n",
    "plt.fill_between(tnew, np.min(a0_pred,axis=0),\\\n",
    "                 np.max(a0_pred,axis=0),alpha=0.3,color='b')\n",
    "\n",
    "#plt.fill_between(tnew, np.min(a0_pred2,axis=0),\\\n",
    "#                 np.max(a0_pred2,axis=0),alpha=0.5)\n",
    "\n",
    "#plt.plot(data.index.values,data.a0.values,'m.')\n",
    "# p2,=plt.plot(a0.timeslow, a0.values,'r.')\n",
    "\n",
    "\n",
    "#ax2 = plt.twinx()\n",
    "#ax2.plot(tdays,h_env,'g--')\n",
    "\n",
    "plt.xlim(tnew[0],tnew[-1])\n",
    "plt.ylim(0,40)\n",
    "plt.ylabel('$a_0$ [m]')\n",
    "plt.xlabel('Time')\n",
    "plt.xticks(rotation=17)\n",
    "plt.grid(b=True)\n",
    "plt.tight_layout()"
   ]
  },
  {
   "cell_type": "markdown",
   "metadata": {},
   "source": [
    "# Define some functions"
   ]
  },
  {
   "cell_type": "code",
   "execution_count": 23,
   "metadata": {},
   "outputs": [],
   "source": [
    "def sine_model_envelope(beta_s, ff, t):\n",
    "    n = len(ff)\n",
    "    \n",
    "    zeros = np.zeros\n",
    "    cos = np.cos\n",
    "    sin = np.sin\n",
    "    \n",
    "    result = zeros(t.shape)\n",
    "\n",
    "    for ii in range(0,n):\n",
    "        result += beta_s[2*ii]*cos(ff[ii] * t) + beta_s[2*ii+1]*sin(ff[ii]*t)\n",
    "        \n",
    "    # Compute the imaginary part by adding a 90 degree phase shift\n",
    "    #result_i = t*0\n",
    "    result_i = zeros(t.shape)\n",
    "\n",
    "    for ii in range(0,n):\n",
    "        result_i += beta_s[2*ii]*cos(ff[ii] * t + np.pi/2) \\\n",
    "            + beta_s[2*ii+1]*sin(ff[ii]*t + np.pi/2)\n",
    "    \n",
    "    return np.sqrt(result*result + result_i*result_i)\n",
    "\n",
    "def calc_Ls(a0, omega, c, alpha):\n",
    "    return c*c / (a0*omega*alpha)\n",
    "\n",
    "def calc_Lhat(a0, omega, c, alpha, L):\n",
    "    return calc_Ls(a0, omega, c, alpha) / L\n",
    "\n",
    "def calc_zetahat(beta, omega, t):\n",
    "    return sine_model_envelope(beta, omega, t)\n",
    "    \n",
    "def calc_a0(beta, zetahat):\n",
    "    return beta[0] + beta[1]*zetahat\n",
    "\n",
    "\n",
    "def calc_tlag(That, c, L):\n",
    "    return L*That/c\n",
    "\n",
    "def calc_tlag_nonlinear(That, c, L, alpha, A):\n",
    "    c_nl = c+alpha*A\n",
    "    return L*That/c_nl\n",
    "\n",
    "def calc_Ahat_quadratic(Lhat, coeffs):\n",
    "    a0, a1, x0  = coeffs\n",
    "    #Ahat= a0+(amax-a0)*np.exp(-((Lhat-x0)/dx)**2.)\n",
    "    am = (-a1-a0)/(-1-x0)**2\n",
    "    Ahat = am*(Lhat-x0)**2+a0\n",
    "    Ahat[Lhat<-1] = -a1\n",
    "    \n",
    "    idx = Lhat > 0\n",
    "    Ahat[idx] = -am*(Lhat[idx]+x0)**2-a0\n",
    "    Ahat[Lhat>1] = a1\n",
    "\n",
    "\n",
    "    return Ahat\n",
    "\n",
    "def calc_That_quadratic(Lhat, coeffs):\n",
    "    a0, a1,  x0  = coeffs\n",
    "    am = (-a1+a0)/(-1-x0)**2\n",
    "    Ahat = -am*(Lhat-x0)**2+a0\n",
    "    Ahat[Lhat<-1] = a1\n",
    "    \n",
    "    idx = Lhat > 0\n",
    "    Ahat[idx] = -am*(Lhat[idx]+x0)**2+a0\n",
    "    Ahat[Lhat>1] = a1\n",
    "\n",
    "    return Ahat\n",
    "\n",
    "def compute_Amax(alpha, cn, L, a0,  Ahat_args, That_args, omega0):\n",
    "\n",
    "\n",
    "    # Compute Ahat, Lhat\n",
    "    Lhat = calc_Lhat(a0, omega0, cn, alpha, L)\n",
    "\n",
    "    Ahat = calc_Ahat_quadratic(Lhat, Ahat_args)\n",
    "    That = calc_That_quadratic(Lhat, That_args)\n",
    "\n",
    "    Amax = a0*Ahat\n",
    "        \n",
    "    return Lhat, That, Ahat, Amax\n",
    "    \n"
   ]
  },
  {
   "cell_type": "code",
   "execution_count": 24,
   "metadata": {},
   "outputs": [
    {
     "data": {
      "text/plain": [
       "(374, 500)"
      ]
     },
     "execution_count": 24,
     "metadata": {},
     "output_type": "execute_result"
    }
   ],
   "source": [
    "Ahat_args = (-2.60,1.15,-0.65)\n",
    "That_args = (1.95,1.5,-0.1)\n",
    "L = 1.05e5\n",
    "omega0 = 2*np.pi/(12.42*3600)\n",
    "\n",
    "\n",
    "Lhat, That, Ahat, Amax = compute_Amax(ds_S.alpha_mu.values, ds_S.cn_mu.values,\\\n",
    "             L, a0_pred[0:500,:].T,  Ahat_args, That_args, omega0)\n",
    "\n",
    "Amax.shape"
   ]
  },
  {
   "cell_type": "code",
   "execution_count": 26,
   "metadata": {
    "scrolled": false
   },
   "outputs": [
    {
     "data": {
      "application/javascript": [
       "/* Put everything inside the global mpl namespace */\n",
       "window.mpl = {};\n",
       "\n",
       "\n",
       "mpl.get_websocket_type = function() {\n",
       "    if (typeof(WebSocket) !== 'undefined') {\n",
       "        return WebSocket;\n",
       "    } else if (typeof(MozWebSocket) !== 'undefined') {\n",
       "        return MozWebSocket;\n",
       "    } else {\n",
       "        alert('Your browser does not have WebSocket support.' +\n",
       "              'Please try Chrome, Safari or Firefox ≥ 6. ' +\n",
       "              'Firefox 4 and 5 are also supported but you ' +\n",
       "              'have to enable WebSockets in about:config.');\n",
       "    };\n",
       "}\n",
       "\n",
       "mpl.figure = function(figure_id, websocket, ondownload, parent_element) {\n",
       "    this.id = figure_id;\n",
       "\n",
       "    this.ws = websocket;\n",
       "\n",
       "    this.supports_binary = (this.ws.binaryType != undefined);\n",
       "\n",
       "    if (!this.supports_binary) {\n",
       "        var warnings = document.getElementById(\"mpl-warnings\");\n",
       "        if (warnings) {\n",
       "            warnings.style.display = 'block';\n",
       "            warnings.textContent = (\n",
       "                \"This browser does not support binary websocket messages. \" +\n",
       "                    \"Performance may be slow.\");\n",
       "        }\n",
       "    }\n",
       "\n",
       "    this.imageObj = new Image();\n",
       "\n",
       "    this.context = undefined;\n",
       "    this.message = undefined;\n",
       "    this.canvas = undefined;\n",
       "    this.rubberband_canvas = undefined;\n",
       "    this.rubberband_context = undefined;\n",
       "    this.format_dropdown = undefined;\n",
       "\n",
       "    this.image_mode = 'full';\n",
       "\n",
       "    this.root = $('<div/>');\n",
       "    this._root_extra_style(this.root)\n",
       "    this.root.attr('style', 'display: inline-block');\n",
       "\n",
       "    $(parent_element).append(this.root);\n",
       "\n",
       "    this._init_header(this);\n",
       "    this._init_canvas(this);\n",
       "    this._init_toolbar(this);\n",
       "\n",
       "    var fig = this;\n",
       "\n",
       "    this.waiting = false;\n",
       "\n",
       "    this.ws.onopen =  function () {\n",
       "            fig.send_message(\"supports_binary\", {value: fig.supports_binary});\n",
       "            fig.send_message(\"send_image_mode\", {});\n",
       "            if (mpl.ratio != 1) {\n",
       "                fig.send_message(\"set_dpi_ratio\", {'dpi_ratio': mpl.ratio});\n",
       "            }\n",
       "            fig.send_message(\"refresh\", {});\n",
       "        }\n",
       "\n",
       "    this.imageObj.onload = function() {\n",
       "            if (fig.image_mode == 'full') {\n",
       "                // Full images could contain transparency (where diff images\n",
       "                // almost always do), so we need to clear the canvas so that\n",
       "                // there is no ghosting.\n",
       "                fig.context.clearRect(0, 0, fig.canvas.width, fig.canvas.height);\n",
       "            }\n",
       "            fig.context.drawImage(fig.imageObj, 0, 0);\n",
       "        };\n",
       "\n",
       "    this.imageObj.onunload = function() {\n",
       "        fig.ws.close();\n",
       "    }\n",
       "\n",
       "    this.ws.onmessage = this._make_on_message_function(this);\n",
       "\n",
       "    this.ondownload = ondownload;\n",
       "}\n",
       "\n",
       "mpl.figure.prototype._init_header = function() {\n",
       "    var titlebar = $(\n",
       "        '<div class=\"ui-dialog-titlebar ui-widget-header ui-corner-all ' +\n",
       "        'ui-helper-clearfix\"/>');\n",
       "    var titletext = $(\n",
       "        '<div class=\"ui-dialog-title\" style=\"width: 100%; ' +\n",
       "        'text-align: center; padding: 3px;\"/>');\n",
       "    titlebar.append(titletext)\n",
       "    this.root.append(titlebar);\n",
       "    this.header = titletext[0];\n",
       "}\n",
       "\n",
       "\n",
       "\n",
       "mpl.figure.prototype._canvas_extra_style = function(canvas_div) {\n",
       "\n",
       "}\n",
       "\n",
       "\n",
       "mpl.figure.prototype._root_extra_style = function(canvas_div) {\n",
       "\n",
       "}\n",
       "\n",
       "mpl.figure.prototype._init_canvas = function() {\n",
       "    var fig = this;\n",
       "\n",
       "    var canvas_div = $('<div/>');\n",
       "\n",
       "    canvas_div.attr('style', 'position: relative; clear: both; outline: 0');\n",
       "\n",
       "    function canvas_keyboard_event(event) {\n",
       "        return fig.key_event(event, event['data']);\n",
       "    }\n",
       "\n",
       "    canvas_div.keydown('key_press', canvas_keyboard_event);\n",
       "    canvas_div.keyup('key_release', canvas_keyboard_event);\n",
       "    this.canvas_div = canvas_div\n",
       "    this._canvas_extra_style(canvas_div)\n",
       "    this.root.append(canvas_div);\n",
       "\n",
       "    var canvas = $('<canvas/>');\n",
       "    canvas.addClass('mpl-canvas');\n",
       "    canvas.attr('style', \"left: 0; top: 0; z-index: 0; outline: 0\")\n",
       "\n",
       "    this.canvas = canvas[0];\n",
       "    this.context = canvas[0].getContext(\"2d\");\n",
       "\n",
       "    var backingStore = this.context.backingStorePixelRatio ||\n",
       "\tthis.context.webkitBackingStorePixelRatio ||\n",
       "\tthis.context.mozBackingStorePixelRatio ||\n",
       "\tthis.context.msBackingStorePixelRatio ||\n",
       "\tthis.context.oBackingStorePixelRatio ||\n",
       "\tthis.context.backingStorePixelRatio || 1;\n",
       "\n",
       "    mpl.ratio = (window.devicePixelRatio || 1) / backingStore;\n",
       "\n",
       "    var rubberband = $('<canvas/>');\n",
       "    rubberband.attr('style', \"position: absolute; left: 0; top: 0; z-index: 1;\")\n",
       "\n",
       "    var pass_mouse_events = true;\n",
       "\n",
       "    canvas_div.resizable({\n",
       "        start: function(event, ui) {\n",
       "            pass_mouse_events = false;\n",
       "        },\n",
       "        resize: function(event, ui) {\n",
       "            fig.request_resize(ui.size.width, ui.size.height);\n",
       "        },\n",
       "        stop: function(event, ui) {\n",
       "            pass_mouse_events = true;\n",
       "            fig.request_resize(ui.size.width, ui.size.height);\n",
       "        },\n",
       "    });\n",
       "\n",
       "    function mouse_event_fn(event) {\n",
       "        if (pass_mouse_events)\n",
       "            return fig.mouse_event(event, event['data']);\n",
       "    }\n",
       "\n",
       "    rubberband.mousedown('button_press', mouse_event_fn);\n",
       "    rubberband.mouseup('button_release', mouse_event_fn);\n",
       "    // Throttle sequential mouse events to 1 every 20ms.\n",
       "    rubberband.mousemove('motion_notify', mouse_event_fn);\n",
       "\n",
       "    rubberband.mouseenter('figure_enter', mouse_event_fn);\n",
       "    rubberband.mouseleave('figure_leave', mouse_event_fn);\n",
       "\n",
       "    canvas_div.on(\"wheel\", function (event) {\n",
       "        event = event.originalEvent;\n",
       "        event['data'] = 'scroll'\n",
       "        if (event.deltaY < 0) {\n",
       "            event.step = 1;\n",
       "        } else {\n",
       "            event.step = -1;\n",
       "        }\n",
       "        mouse_event_fn(event);\n",
       "    });\n",
       "\n",
       "    canvas_div.append(canvas);\n",
       "    canvas_div.append(rubberband);\n",
       "\n",
       "    this.rubberband = rubberband;\n",
       "    this.rubberband_canvas = rubberband[0];\n",
       "    this.rubberband_context = rubberband[0].getContext(\"2d\");\n",
       "    this.rubberband_context.strokeStyle = \"#000000\";\n",
       "\n",
       "    this._resize_canvas = function(width, height) {\n",
       "        // Keep the size of the canvas, canvas container, and rubber band\n",
       "        // canvas in synch.\n",
       "        canvas_div.css('width', width)\n",
       "        canvas_div.css('height', height)\n",
       "\n",
       "        canvas.attr('width', width * mpl.ratio);\n",
       "        canvas.attr('height', height * mpl.ratio);\n",
       "        canvas.attr('style', 'width: ' + width + 'px; height: ' + height + 'px;');\n",
       "\n",
       "        rubberband.attr('width', width);\n",
       "        rubberband.attr('height', height);\n",
       "    }\n",
       "\n",
       "    // Set the figure to an initial 600x600px, this will subsequently be updated\n",
       "    // upon first draw.\n",
       "    this._resize_canvas(600, 600);\n",
       "\n",
       "    // Disable right mouse context menu.\n",
       "    $(this.rubberband_canvas).bind(\"contextmenu\",function(e){\n",
       "        return false;\n",
       "    });\n",
       "\n",
       "    function set_focus () {\n",
       "        canvas.focus();\n",
       "        canvas_div.focus();\n",
       "    }\n",
       "\n",
       "    window.setTimeout(set_focus, 100);\n",
       "}\n",
       "\n",
       "mpl.figure.prototype._init_toolbar = function() {\n",
       "    var fig = this;\n",
       "\n",
       "    var nav_element = $('<div/>')\n",
       "    nav_element.attr('style', 'width: 100%');\n",
       "    this.root.append(nav_element);\n",
       "\n",
       "    // Define a callback function for later on.\n",
       "    function toolbar_event(event) {\n",
       "        return fig.toolbar_button_onclick(event['data']);\n",
       "    }\n",
       "    function toolbar_mouse_event(event) {\n",
       "        return fig.toolbar_button_onmouseover(event['data']);\n",
       "    }\n",
       "\n",
       "    for(var toolbar_ind in mpl.toolbar_items) {\n",
       "        var name = mpl.toolbar_items[toolbar_ind][0];\n",
       "        var tooltip = mpl.toolbar_items[toolbar_ind][1];\n",
       "        var image = mpl.toolbar_items[toolbar_ind][2];\n",
       "        var method_name = mpl.toolbar_items[toolbar_ind][3];\n",
       "\n",
       "        if (!name) {\n",
       "            // put a spacer in here.\n",
       "            continue;\n",
       "        }\n",
       "        var button = $('<button/>');\n",
       "        button.addClass('ui-button ui-widget ui-state-default ui-corner-all ' +\n",
       "                        'ui-button-icon-only');\n",
       "        button.attr('role', 'button');\n",
       "        button.attr('aria-disabled', 'false');\n",
       "        button.click(method_name, toolbar_event);\n",
       "        button.mouseover(tooltip, toolbar_mouse_event);\n",
       "\n",
       "        var icon_img = $('<span/>');\n",
       "        icon_img.addClass('ui-button-icon-primary ui-icon');\n",
       "        icon_img.addClass(image);\n",
       "        icon_img.addClass('ui-corner-all');\n",
       "\n",
       "        var tooltip_span = $('<span/>');\n",
       "        tooltip_span.addClass('ui-button-text');\n",
       "        tooltip_span.html(tooltip);\n",
       "\n",
       "        button.append(icon_img);\n",
       "        button.append(tooltip_span);\n",
       "\n",
       "        nav_element.append(button);\n",
       "    }\n",
       "\n",
       "    var fmt_picker_span = $('<span/>');\n",
       "\n",
       "    var fmt_picker = $('<select/>');\n",
       "    fmt_picker.addClass('mpl-toolbar-option ui-widget ui-widget-content');\n",
       "    fmt_picker_span.append(fmt_picker);\n",
       "    nav_element.append(fmt_picker_span);\n",
       "    this.format_dropdown = fmt_picker[0];\n",
       "\n",
       "    for (var ind in mpl.extensions) {\n",
       "        var fmt = mpl.extensions[ind];\n",
       "        var option = $(\n",
       "            '<option/>', {selected: fmt === mpl.default_extension}).html(fmt);\n",
       "        fmt_picker.append(option)\n",
       "    }\n",
       "\n",
       "    // Add hover states to the ui-buttons\n",
       "    $( \".ui-button\" ).hover(\n",
       "        function() { $(this).addClass(\"ui-state-hover\");},\n",
       "        function() { $(this).removeClass(\"ui-state-hover\");}\n",
       "    );\n",
       "\n",
       "    var status_bar = $('<span class=\"mpl-message\"/>');\n",
       "    nav_element.append(status_bar);\n",
       "    this.message = status_bar[0];\n",
       "}\n",
       "\n",
       "mpl.figure.prototype.request_resize = function(x_pixels, y_pixels) {\n",
       "    // Request matplotlib to resize the figure. Matplotlib will then trigger a resize in the client,\n",
       "    // which will in turn request a refresh of the image.\n",
       "    this.send_message('resize', {'width': x_pixels, 'height': y_pixels});\n",
       "}\n",
       "\n",
       "mpl.figure.prototype.send_message = function(type, properties) {\n",
       "    properties['type'] = type;\n",
       "    properties['figure_id'] = this.id;\n",
       "    this.ws.send(JSON.stringify(properties));\n",
       "}\n",
       "\n",
       "mpl.figure.prototype.send_draw_message = function() {\n",
       "    if (!this.waiting) {\n",
       "        this.waiting = true;\n",
       "        this.ws.send(JSON.stringify({type: \"draw\", figure_id: this.id}));\n",
       "    }\n",
       "}\n",
       "\n",
       "\n",
       "mpl.figure.prototype.handle_save = function(fig, msg) {\n",
       "    var format_dropdown = fig.format_dropdown;\n",
       "    var format = format_dropdown.options[format_dropdown.selectedIndex].value;\n",
       "    fig.ondownload(fig, format);\n",
       "}\n",
       "\n",
       "\n",
       "mpl.figure.prototype.handle_resize = function(fig, msg) {\n",
       "    var size = msg['size'];\n",
       "    if (size[0] != fig.canvas.width || size[1] != fig.canvas.height) {\n",
       "        fig._resize_canvas(size[0], size[1]);\n",
       "        fig.send_message(\"refresh\", {});\n",
       "    };\n",
       "}\n",
       "\n",
       "mpl.figure.prototype.handle_rubberband = function(fig, msg) {\n",
       "    var x0 = msg['x0'] / mpl.ratio;\n",
       "    var y0 = (fig.canvas.height - msg['y0']) / mpl.ratio;\n",
       "    var x1 = msg['x1'] / mpl.ratio;\n",
       "    var y1 = (fig.canvas.height - msg['y1']) / mpl.ratio;\n",
       "    x0 = Math.floor(x0) + 0.5;\n",
       "    y0 = Math.floor(y0) + 0.5;\n",
       "    x1 = Math.floor(x1) + 0.5;\n",
       "    y1 = Math.floor(y1) + 0.5;\n",
       "    var min_x = Math.min(x0, x1);\n",
       "    var min_y = Math.min(y0, y1);\n",
       "    var width = Math.abs(x1 - x0);\n",
       "    var height = Math.abs(y1 - y0);\n",
       "\n",
       "    fig.rubberband_context.clearRect(\n",
       "        0, 0, fig.canvas.width, fig.canvas.height);\n",
       "\n",
       "    fig.rubberband_context.strokeRect(min_x, min_y, width, height);\n",
       "}\n",
       "\n",
       "mpl.figure.prototype.handle_figure_label = function(fig, msg) {\n",
       "    // Updates the figure title.\n",
       "    fig.header.textContent = msg['label'];\n",
       "}\n",
       "\n",
       "mpl.figure.prototype.handle_cursor = function(fig, msg) {\n",
       "    var cursor = msg['cursor'];\n",
       "    switch(cursor)\n",
       "    {\n",
       "    case 0:\n",
       "        cursor = 'pointer';\n",
       "        break;\n",
       "    case 1:\n",
       "        cursor = 'default';\n",
       "        break;\n",
       "    case 2:\n",
       "        cursor = 'crosshair';\n",
       "        break;\n",
       "    case 3:\n",
       "        cursor = 'move';\n",
       "        break;\n",
       "    }\n",
       "    fig.rubberband_canvas.style.cursor = cursor;\n",
       "}\n",
       "\n",
       "mpl.figure.prototype.handle_message = function(fig, msg) {\n",
       "    fig.message.textContent = msg['message'];\n",
       "}\n",
       "\n",
       "mpl.figure.prototype.handle_draw = function(fig, msg) {\n",
       "    // Request the server to send over a new figure.\n",
       "    fig.send_draw_message();\n",
       "}\n",
       "\n",
       "mpl.figure.prototype.handle_image_mode = function(fig, msg) {\n",
       "    fig.image_mode = msg['mode'];\n",
       "}\n",
       "\n",
       "mpl.figure.prototype.updated_canvas_event = function() {\n",
       "    // Called whenever the canvas gets updated.\n",
       "    this.send_message(\"ack\", {});\n",
       "}\n",
       "\n",
       "// A function to construct a web socket function for onmessage handling.\n",
       "// Called in the figure constructor.\n",
       "mpl.figure.prototype._make_on_message_function = function(fig) {\n",
       "    return function socket_on_message(evt) {\n",
       "        if (evt.data instanceof Blob) {\n",
       "            /* FIXME: We get \"Resource interpreted as Image but\n",
       "             * transferred with MIME type text/plain:\" errors on\n",
       "             * Chrome.  But how to set the MIME type?  It doesn't seem\n",
       "             * to be part of the websocket stream */\n",
       "            evt.data.type = \"image/png\";\n",
       "\n",
       "            /* Free the memory for the previous frames */\n",
       "            if (fig.imageObj.src) {\n",
       "                (window.URL || window.webkitURL).revokeObjectURL(\n",
       "                    fig.imageObj.src);\n",
       "            }\n",
       "\n",
       "            fig.imageObj.src = (window.URL || window.webkitURL).createObjectURL(\n",
       "                evt.data);\n",
       "            fig.updated_canvas_event();\n",
       "            fig.waiting = false;\n",
       "            return;\n",
       "        }\n",
       "        else if (typeof evt.data === 'string' && evt.data.slice(0, 21) == \"data:image/png;base64\") {\n",
       "            fig.imageObj.src = evt.data;\n",
       "            fig.updated_canvas_event();\n",
       "            fig.waiting = false;\n",
       "            return;\n",
       "        }\n",
       "\n",
       "        var msg = JSON.parse(evt.data);\n",
       "        var msg_type = msg['type'];\n",
       "\n",
       "        // Call the  \"handle_{type}\" callback, which takes\n",
       "        // the figure and JSON message as its only arguments.\n",
       "        try {\n",
       "            var callback = fig[\"handle_\" + msg_type];\n",
       "        } catch (e) {\n",
       "            console.log(\"No handler for the '\" + msg_type + \"' message type: \", msg);\n",
       "            return;\n",
       "        }\n",
       "\n",
       "        if (callback) {\n",
       "            try {\n",
       "                // console.log(\"Handling '\" + msg_type + \"' message: \", msg);\n",
       "                callback(fig, msg);\n",
       "            } catch (e) {\n",
       "                console.log(\"Exception inside the 'handler_\" + msg_type + \"' callback:\", e, e.stack, msg);\n",
       "            }\n",
       "        }\n",
       "    };\n",
       "}\n",
       "\n",
       "// from http://stackoverflow.com/questions/1114465/getting-mouse-location-in-canvas\n",
       "mpl.findpos = function(e) {\n",
       "    //this section is from http://www.quirksmode.org/js/events_properties.html\n",
       "    var targ;\n",
       "    if (!e)\n",
       "        e = window.event;\n",
       "    if (e.target)\n",
       "        targ = e.target;\n",
       "    else if (e.srcElement)\n",
       "        targ = e.srcElement;\n",
       "    if (targ.nodeType == 3) // defeat Safari bug\n",
       "        targ = targ.parentNode;\n",
       "\n",
       "    // jQuery normalizes the pageX and pageY\n",
       "    // pageX,Y are the mouse positions relative to the document\n",
       "    // offset() returns the position of the element relative to the document\n",
       "    var x = e.pageX - $(targ).offset().left;\n",
       "    var y = e.pageY - $(targ).offset().top;\n",
       "\n",
       "    return {\"x\": x, \"y\": y};\n",
       "};\n",
       "\n",
       "/*\n",
       " * return a copy of an object with only non-object keys\n",
       " * we need this to avoid circular references\n",
       " * http://stackoverflow.com/a/24161582/3208463\n",
       " */\n",
       "function simpleKeys (original) {\n",
       "  return Object.keys(original).reduce(function (obj, key) {\n",
       "    if (typeof original[key] !== 'object')\n",
       "        obj[key] = original[key]\n",
       "    return obj;\n",
       "  }, {});\n",
       "}\n",
       "\n",
       "mpl.figure.prototype.mouse_event = function(event, name) {\n",
       "    var canvas_pos = mpl.findpos(event)\n",
       "\n",
       "    if (name === 'button_press')\n",
       "    {\n",
       "        this.canvas.focus();\n",
       "        this.canvas_div.focus();\n",
       "    }\n",
       "\n",
       "    var x = canvas_pos.x * mpl.ratio;\n",
       "    var y = canvas_pos.y * mpl.ratio;\n",
       "\n",
       "    this.send_message(name, {x: x, y: y, button: event.button,\n",
       "                             step: event.step,\n",
       "                             guiEvent: simpleKeys(event)});\n",
       "\n",
       "    /* This prevents the web browser from automatically changing to\n",
       "     * the text insertion cursor when the button is pressed.  We want\n",
       "     * to control all of the cursor setting manually through the\n",
       "     * 'cursor' event from matplotlib */\n",
       "    event.preventDefault();\n",
       "    return false;\n",
       "}\n",
       "\n",
       "mpl.figure.prototype._key_event_extra = function(event, name) {\n",
       "    // Handle any extra behaviour associated with a key event\n",
       "}\n",
       "\n",
       "mpl.figure.prototype.key_event = function(event, name) {\n",
       "\n",
       "    // Prevent repeat events\n",
       "    if (name == 'key_press')\n",
       "    {\n",
       "        if (event.which === this._key)\n",
       "            return;\n",
       "        else\n",
       "            this._key = event.which;\n",
       "    }\n",
       "    if (name == 'key_release')\n",
       "        this._key = null;\n",
       "\n",
       "    var value = '';\n",
       "    if (event.ctrlKey && event.which != 17)\n",
       "        value += \"ctrl+\";\n",
       "    if (event.altKey && event.which != 18)\n",
       "        value += \"alt+\";\n",
       "    if (event.shiftKey && event.which != 16)\n",
       "        value += \"shift+\";\n",
       "\n",
       "    value += 'k';\n",
       "    value += event.which.toString();\n",
       "\n",
       "    this._key_event_extra(event, name);\n",
       "\n",
       "    this.send_message(name, {key: value,\n",
       "                             guiEvent: simpleKeys(event)});\n",
       "    return false;\n",
       "}\n",
       "\n",
       "mpl.figure.prototype.toolbar_button_onclick = function(name) {\n",
       "    if (name == 'download') {\n",
       "        this.handle_save(this, null);\n",
       "    } else {\n",
       "        this.send_message(\"toolbar_button\", {name: name});\n",
       "    }\n",
       "};\n",
       "\n",
       "mpl.figure.prototype.toolbar_button_onmouseover = function(tooltip) {\n",
       "    this.message.textContent = tooltip;\n",
       "};\n",
       "mpl.toolbar_items = [[\"Home\", \"Reset original view\", \"fa fa-home icon-home\", \"home\"], [\"Back\", \"Back to previous view\", \"fa fa-arrow-left icon-arrow-left\", \"back\"], [\"Forward\", \"Forward to next view\", \"fa fa-arrow-right icon-arrow-right\", \"forward\"], [\"\", \"\", \"\", \"\"], [\"Pan\", \"Pan axes with left mouse, zoom with right\", \"fa fa-arrows icon-move\", \"pan\"], [\"Zoom\", \"Zoom to rectangle\", \"fa fa-square-o icon-check-empty\", \"zoom\"], [\"\", \"\", \"\", \"\"], [\"Download\", \"Download plot\", \"fa fa-floppy-o icon-save\", \"download\"]];\n",
       "\n",
       "mpl.extensions = [\"eps\", \"jpeg\", \"pdf\", \"png\", \"ps\", \"raw\", \"svg\", \"tif\"];\n",
       "\n",
       "mpl.default_extension = \"png\";var comm_websocket_adapter = function(comm) {\n",
       "    // Create a \"websocket\"-like object which calls the given IPython comm\n",
       "    // object with the appropriate methods. Currently this is a non binary\n",
       "    // socket, so there is still some room for performance tuning.\n",
       "    var ws = {};\n",
       "\n",
       "    ws.close = function() {\n",
       "        comm.close()\n",
       "    };\n",
       "    ws.send = function(m) {\n",
       "        //console.log('sending', m);\n",
       "        comm.send(m);\n",
       "    };\n",
       "    // Register the callback with on_msg.\n",
       "    comm.on_msg(function(msg) {\n",
       "        //console.log('receiving', msg['content']['data'], msg);\n",
       "        // Pass the mpl event to the overridden (by mpl) onmessage function.\n",
       "        ws.onmessage(msg['content']['data'])\n",
       "    });\n",
       "    return ws;\n",
       "}\n",
       "\n",
       "mpl.mpl_figure_comm = function(comm, msg) {\n",
       "    // This is the function which gets called when the mpl process\n",
       "    // starts-up an IPython Comm through the \"matplotlib\" channel.\n",
       "\n",
       "    var id = msg.content.data.id;\n",
       "    // Get hold of the div created by the display call when the Comm\n",
       "    // socket was opened in Python.\n",
       "    var element = $(\"#\" + id);\n",
       "    var ws_proxy = comm_websocket_adapter(comm)\n",
       "\n",
       "    function ondownload(figure, format) {\n",
       "        window.open(figure.imageObj.src);\n",
       "    }\n",
       "\n",
       "    var fig = new mpl.figure(id, ws_proxy,\n",
       "                           ondownload,\n",
       "                           element.get(0));\n",
       "\n",
       "    // Call onopen now - mpl needs it, as it is assuming we've passed it a real\n",
       "    // web socket which is closed, not our websocket->open comm proxy.\n",
       "    ws_proxy.onopen();\n",
       "\n",
       "    fig.parent_element = element.get(0);\n",
       "    fig.cell_info = mpl.find_output_cell(\"<div id='\" + id + \"'></div>\");\n",
       "    if (!fig.cell_info) {\n",
       "        console.error(\"Failed to find cell for figure\", id, fig);\n",
       "        return;\n",
       "    }\n",
       "\n",
       "    var output_index = fig.cell_info[2]\n",
       "    var cell = fig.cell_info[0];\n",
       "\n",
       "};\n",
       "\n",
       "mpl.figure.prototype.handle_close = function(fig, msg) {\n",
       "    var width = fig.canvas.width/mpl.ratio\n",
       "    fig.root.unbind('remove')\n",
       "\n",
       "    // Update the output cell to use the data from the current canvas.\n",
       "    fig.push_to_output();\n",
       "    var dataURL = fig.canvas.toDataURL();\n",
       "    // Re-enable the keyboard manager in IPython - without this line, in FF,\n",
       "    // the notebook keyboard shortcuts fail.\n",
       "    IPython.keyboard_manager.enable()\n",
       "    $(fig.parent_element).html('<img src=\"' + dataURL + '\" width=\"' + width + '\">');\n",
       "    fig.close_ws(fig, msg);\n",
       "}\n",
       "\n",
       "mpl.figure.prototype.close_ws = function(fig, msg){\n",
       "    fig.send_message('closing', msg);\n",
       "    // fig.ws.close()\n",
       "}\n",
       "\n",
       "mpl.figure.prototype.push_to_output = function(remove_interactive) {\n",
       "    // Turn the data on the canvas into data in the output cell.\n",
       "    var width = this.canvas.width/mpl.ratio\n",
       "    var dataURL = this.canvas.toDataURL();\n",
       "    this.cell_info[1]['text/html'] = '<img src=\"' + dataURL + '\" width=\"' + width + '\">';\n",
       "}\n",
       "\n",
       "mpl.figure.prototype.updated_canvas_event = function() {\n",
       "    // Tell IPython that the notebook contents must change.\n",
       "    IPython.notebook.set_dirty(true);\n",
       "    this.send_message(\"ack\", {});\n",
       "    var fig = this;\n",
       "    // Wait a second, then push the new image to the DOM so\n",
       "    // that it is saved nicely (might be nice to debounce this).\n",
       "    setTimeout(function () { fig.push_to_output() }, 1000);\n",
       "}\n",
       "\n",
       "mpl.figure.prototype._init_toolbar = function() {\n",
       "    var fig = this;\n",
       "\n",
       "    var nav_element = $('<div/>')\n",
       "    nav_element.attr('style', 'width: 100%');\n",
       "    this.root.append(nav_element);\n",
       "\n",
       "    // Define a callback function for later on.\n",
       "    function toolbar_event(event) {\n",
       "        return fig.toolbar_button_onclick(event['data']);\n",
       "    }\n",
       "    function toolbar_mouse_event(event) {\n",
       "        return fig.toolbar_button_onmouseover(event['data']);\n",
       "    }\n",
       "\n",
       "    for(var toolbar_ind in mpl.toolbar_items){\n",
       "        var name = mpl.toolbar_items[toolbar_ind][0];\n",
       "        var tooltip = mpl.toolbar_items[toolbar_ind][1];\n",
       "        var image = mpl.toolbar_items[toolbar_ind][2];\n",
       "        var method_name = mpl.toolbar_items[toolbar_ind][3];\n",
       "\n",
       "        if (!name) { continue; };\n",
       "\n",
       "        var button = $('<button class=\"btn btn-default\" href=\"#\" title=\"' + name + '\"><i class=\"fa ' + image + ' fa-lg\"></i></button>');\n",
       "        button.click(method_name, toolbar_event);\n",
       "        button.mouseover(tooltip, toolbar_mouse_event);\n",
       "        nav_element.append(button);\n",
       "    }\n",
       "\n",
       "    // Add the status bar.\n",
       "    var status_bar = $('<span class=\"mpl-message\" style=\"text-align:right; float: right;\"/>');\n",
       "    nav_element.append(status_bar);\n",
       "    this.message = status_bar[0];\n",
       "\n",
       "    // Add the close button to the window.\n",
       "    var buttongrp = $('<div class=\"btn-group inline pull-right\"></div>');\n",
       "    var button = $('<button class=\"btn btn-mini btn-primary\" href=\"#\" title=\"Stop Interaction\"><i class=\"fa fa-power-off icon-remove icon-large\"></i></button>');\n",
       "    button.click(function (evt) { fig.handle_close(fig, {}); } );\n",
       "    button.mouseover('Stop Interaction', toolbar_mouse_event);\n",
       "    buttongrp.append(button);\n",
       "    var titlebar = this.root.find($('.ui-dialog-titlebar'));\n",
       "    titlebar.prepend(buttongrp);\n",
       "}\n",
       "\n",
       "mpl.figure.prototype._root_extra_style = function(el){\n",
       "    var fig = this\n",
       "    el.on(\"remove\", function(){\n",
       "\tfig.close_ws(fig, {});\n",
       "    });\n",
       "}\n",
       "\n",
       "mpl.figure.prototype._canvas_extra_style = function(el){\n",
       "    // this is important to make the div 'focusable\n",
       "    el.attr('tabindex', 0)\n",
       "    // reach out to IPython and tell the keyboard manager to turn it's self\n",
       "    // off when our div gets focus\n",
       "\n",
       "    // location in version 3\n",
       "    if (IPython.notebook.keyboard_manager) {\n",
       "        IPython.notebook.keyboard_manager.register_events(el);\n",
       "    }\n",
       "    else {\n",
       "        // location in version 2\n",
       "        IPython.keyboard_manager.register_events(el);\n",
       "    }\n",
       "\n",
       "}\n",
       "\n",
       "mpl.figure.prototype._key_event_extra = function(event, name) {\n",
       "    var manager = IPython.notebook.keyboard_manager;\n",
       "    if (!manager)\n",
       "        manager = IPython.keyboard_manager;\n",
       "\n",
       "    // Check for shift+enter\n",
       "    if (event.shiftKey && event.which == 13) {\n",
       "        this.canvas_div.blur();\n",
       "        event.shiftKey = false;\n",
       "        // Send a \"J\" for go to next cell\n",
       "        event.which = 74;\n",
       "        event.keyCode = 74;\n",
       "        manager.command_mode();\n",
       "        manager.handle_keydown(event);\n",
       "    }\n",
       "}\n",
       "\n",
       "mpl.figure.prototype.handle_save = function(fig, msg) {\n",
       "    fig.ondownload(fig, null);\n",
       "}\n",
       "\n",
       "\n",
       "mpl.find_output_cell = function(html_output) {\n",
       "    // Return the cell and output element which can be found *uniquely* in the notebook.\n",
       "    // Note - this is a bit hacky, but it is done because the \"notebook_saving.Notebook\"\n",
       "    // IPython event is triggered only after the cells have been serialised, which for\n",
       "    // our purposes (turning an active figure into a static one), is too late.\n",
       "    var cells = IPython.notebook.get_cells();\n",
       "    var ncells = cells.length;\n",
       "    for (var i=0; i<ncells; i++) {\n",
       "        var cell = cells[i];\n",
       "        if (cell.cell_type === 'code'){\n",
       "            for (var j=0; j<cell.output_area.outputs.length; j++) {\n",
       "                var data = cell.output_area.outputs[j];\n",
       "                if (data.data) {\n",
       "                    // IPython >= 3 moved mimebundle to data attribute of output\n",
       "                    data = data.data;\n",
       "                }\n",
       "                if (data['text/html'] == html_output) {\n",
       "                    return [cell, data, j];\n",
       "                }\n",
       "            }\n",
       "        }\n",
       "    }\n",
       "}\n",
       "\n",
       "// Register the function which deals with the matplotlib target/channel.\n",
       "// The kernel may be null if the page has been refreshed.\n",
       "if (IPython.notebook.kernel != null) {\n",
       "    IPython.notebook.kernel.comm_manager.register_target('matplotlib', mpl.mpl_figure_comm);\n",
       "}\n"
      ],
      "text/plain": [
       "<IPython.core.display.Javascript object>"
      ]
     },
     "metadata": {},
     "output_type": "display_data"
    },
    {
     "data": {
      "text/html": [
       "<img src=\"data:image/png;base64,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\" width=\"800\">"
      ],
      "text/plain": [
       "<IPython.core.display.HTML object>"
      ]
     },
     "metadata": {},
     "output_type": "display_data"
    }
   ],
   "source": [
    "amax_min = np.percentile(Amax,2.5, axis=1)\n",
    "amax_max = np.percentile(Amax,97.5, axis=1)\n",
    "amax_low = np.percentile(Amax,25, axis=1)\n",
    "amax_high = np.percentile(Amax,75, axis=1)\n",
    "#amax_amin = np.min(Amax, axis=1)\n",
    "#amax_amax = np.max(Amax, axis=1)\n",
    "amax_50 = np.median(Amax, axis=1)\n",
    "\n",
    "time = ds_S['time'].values\n",
    "\n",
    "xlim = [time[0],time[-1]]\n",
    "plt.figure(figsize=(8,7))\n",
    "\n",
    "ax1=plt.subplot2grid((4,1),(0,0),rowspan=2)\n",
    "# A_n.plot(lw=0.2)\n",
    "# plt.plot(ds_A.time, ds_A,'k.')\n",
    "# ax1.set_xticklabels([])\n",
    "# plt.xlabel('')\n",
    "# plt.grid(b=True)\n",
    "# plt.ylabel('$A$ [m]')\n",
    "# plt.ylim(-75,75)\n",
    "# plt.title('')\n",
    "# plt.xlim(xlim)\n",
    "# plt.text(0.05,0.9,'(a)',transform=ax1.transAxes)\n",
    "\n",
    "\n",
    "ax2=plt.subplot2grid((4,1),(2,0),rowspan=2, sharex=ax1, sharey=ax1)\n",
    "#plt.fill_between(time, amax_amin, amax_amax, color='0.5',alpha=0.2)\n",
    "plt.fill_between(time, amax_min, amax_max, color='0.5',alpha=0.2)\n",
    "plt.fill_between(time, amax_low, amax_high, color='0.3',alpha=0.2)\n",
    "\n",
    "plt.plot(time,amax_50,'k--', lw=1.5)\n",
    "#plt.plot(time, uamp_mapped, 'ko', ms=2,alpha=0.5)\n",
    "# plt.plot(ds_A.time, ds_A,'ko', ms=2, alpha=0.5)\n",
    "#plt.xlim(200,300)\n",
    "plt.ylabel('$A_{max}$ [m]')\n",
    "plt.ylim(-60,60)\n",
    "#plt.xlabel('time [days]')\n",
    "plt.grid(b=True)\n",
    "#plt.plot([time[0],time[-1]],[-0.5,-0.5],'r--',lw=2.)\n",
    "plt.xlim(xlim)\n",
    "plt.xlabel('time [yyyy-mm]')\n",
    "plt.grid(b=True)\n",
    "\n",
    "plt.xticks(rotation=17)\n",
    "plt.text(0.05,0.9,'(b)',transform=ax2.transAxes)\n",
    "\n",
    "plt.tight_layout()\n",
    "\n",
    "# plt.savefig('../FIGURES/FBlock_prediction_parametric_kdv.png',dpi=150)\n",
    "# plt.savefig('../FIGURES/FBlock_prediction_parametric_kdv.pdf',dpi=150)\n",
    "plt.show()"
   ]
  },
  {
   "cell_type": "markdown",
   "metadata": {},
   "source": [
    "# Use MCMC to infer $a_0$ using the parametric KdV as a surrogate model"
   ]
  },
  {
   "cell_type": "code",
   "execution_count": 15,
   "metadata": {},
   "outputs": [],
   "source": [
    "import pymc3 as pm\n",
    "import theano.tensor as tt\n",
    "from theano import shared"
   ]
  },
  {
   "cell_type": "code",
   "execution_count": 16,
   "metadata": {},
   "outputs": [],
   "source": [
    "def calc_Ahat_quadratic_pm(Lhat, coeffs):\n",
    "    a0, a1, x0  = coeffs\n",
    "    #Ahat= a0+(amax-a0)*np.exp(-((Lhat-x0)/dx)**2.)\n",
    "    am = (-a1-a0)/(-1-x0)**2\n",
    "    Ahat1 = am*(Lhat-x0)**2+a0\n",
    "    #Ahat[Lhat<-1] = -a1\n",
    "    Ahat2 = pm.math.switch( pm.math.lt(Lhat,-1), -a1, Ahat1)\n",
    "    \n",
    "    # Set positive values to a1 i.e. no nonlinear transformation\n",
    "    Ahat = pm.math.switch( pm.math.gt(Lhat,0), a1, Ahat2)\n",
    "    \n",
    "    #z_switch = T.switch(T.lt(a, b), T.mean(x), T.mean(y))\n",
    "    \n",
    "    #idx = Lhat > 0\n",
    "    #Ahat[idx] = -am*(Lhat[idx]+x0)**2-a0\n",
    "    #Ahat[Lhat>1] = a1\n",
    "\n",
    "    return Ahat \n",
    "\n",
    "# def parametric_Amax(alpha, cn, L, a0,  Ahat_args, omega0, ):\n",
    "\n",
    "#     # Compute Ahat, Lhat\n",
    "#     Lhat = calc_Lhat(a0, omega0, cn, alpha, L)\n",
    "\n",
    "#     Ahat = calc_Ahat_quadratic_pm(Lhat, Ahat_args)\n",
    "\n",
    "#     Amax = a0*Ahat\n",
    "        \n",
    "#     return Amax"
   ]
  },
  {
   "cell_type": "code",
   "execution_count": 17,
   "metadata": {},
   "outputs": [
    {
     "name": "stdout",
     "output_type": "stream",
     "text": [
      "<xarray.DataArray 'cn_mu' ()>\n",
      "array(1.452921) <xarray.DataArray 'cn_mu' ()>\n",
      "array(0.011399)\n",
      "<xarray.DataArray 'alpha_mu' ()>\n",
      "array(-0.006105) <xarray.DataArray 'alpha_mu' ()>\n",
      "array(0.000184)\n"
     ]
    },
    {
     "data": {
      "text/plain": [
       "array([[-38.99791453]])"
      ]
     },
     "execution_count": 17,
     "metadata": {},
     "output_type": "execute_result"
    }
   ],
   "source": [
    "# get the data at a time point for the priors and observations\n",
    "timestep = '2007-10-29'\n",
    "c_mean = ds_S.sel(time=timestep, method='nearest')['cn_mu'].mean()\n",
    "c_std = ds_S.sel(time=timestep, method='nearest')['cn_mu'].std()\n",
    "print(c_mean, c_std)\n",
    "\n",
    "alpha_mean = ds_S.sel(time=timestep, method='nearest')['alpha_mu'].mean()\n",
    "alpha_std = ds_S.sel(time=timestep, method='nearest')['alpha_mu'].std()\n",
    "print(alpha_mean, alpha_std)\n",
    "\n",
    "# Observed data\n",
    "Amax = df_A[timestep].values\n",
    "Amax"
   ]
  },
  {
   "cell_type": "code",
   "execution_count": 18,
   "metadata": {},
   "outputs": [
    {
     "name": "stderr",
     "output_type": "stream",
     "text": [
      "/home/suntans/.conda/envs/soda/lib/python3.6/site-packages/pymc3/tuning/starting.py:61: UserWarning: find_MAP should not be used to initialize the NUTS sampler, simply call pymc3.sample() and it will automatically initialize NUTS in a better way.\n",
      "  warnings.warn('find_MAP should not be used to initialize the NUTS sampler, simply call pymc3.sample() and it will automatically initialize NUTS in a better way.')\n",
      "logp = 12.807, ||grad|| = 14.112: 100%|██████████| 72/72 [00:00<00:00, 2641.34it/s]      \n"
     ]
    },
    {
     "name": "stdout",
     "output_type": "stream",
     "text": [
      "{'alpha': array(-0.00614784), 'cn': array(1.45303113), 'a0': array(24.66997812), 'sigma_log__': array(-7.83068014), 'Amax': array(-38.99791452), 'sigma': array(0.00039736)} [[-38.99791453]]\n"
     ]
    }
   ],
   "source": [
    "with pm.Model() as a0model:\n",
    "    \n",
    "    # Priors on inputs (alpha and cn are pretty tight as they are from the data)\n",
    "    alpha = pm.Normal('alpha', alpha_mean, alpha_std)\n",
    "    cn = pm.Normal('cn', c_mean, c_std)\n",
    "    \n",
    "    a0 = pm.Normal('a0', 15, 5) # wide\n",
    "    \n",
    "    # Mean function\n",
    "    Lhat =calc_Lhat(a0, omega0, cn, alpha, L)\n",
    "\n",
    "    Ahat = calc_Ahat_quadratic_pm(Lhat, Ahat_args)\n",
    "    \n",
    "    mu = pm.Deterministic('Amax', a0*Ahat)\n",
    "    \n",
    "    sigma = pm.HalfNormal('sigma',2)\n",
    "    \n",
    "    #step1 = pm.Metropolis([Lhat, mu])\n",
    "    #step2 = pm.Metropolis([sigma])\n",
    "    \n",
    "    a_fit = pm.Normal('a_fit', mu, sd=sigma, observed = Amax )\n",
    "    \n",
    "    #trace = pm.sample(500, tune=100000, step=pm.Metropolis())\n",
    "    mp = pm.find_MAP()\n",
    "\n",
    "print(mp, Amax)\n",
    "#pm.summary(trace)"
   ]
  },
  {
   "cell_type": "code",
   "execution_count": 19,
   "metadata": {},
   "outputs": [
    {
     "data": {
      "image/svg+xml": [
       "<?xml version=\"1.0\" encoding=\"UTF-8\" standalone=\"no\"?>\n",
       "<!DOCTYPE svg PUBLIC \"-//W3C//DTD SVG 1.1//EN\"\n",
       " \"http://www.w3.org/Graphics/SVG/1.1/DTD/svg11.dtd\">\n",
       "<!-- Generated by graphviz version 2.40.1 (20161225.0304)\n",
       " -->\n",
       "<!-- Title: %3 Pages: 1 -->\n",
       "<svg width=\"474pt\" height=\"227pt\"\n",
       " viewBox=\"0.00 0.00 474.09 227.00\" xmlns=\"http://www.w3.org/2000/svg\" xmlns:xlink=\"http://www.w3.org/1999/xlink\">\n",
       "<g id=\"graph0\" class=\"graph\" transform=\"scale(1 1) rotate(0) translate(4 223)\">\n",
       "<title>%3</title>\n",
       "<polygon fill=\"#ffffff\" stroke=\"transparent\" points=\"-4,4 -4,-223 470.0865,-223 470.0865,4 -4,4\"/>\n",
       "<g id=\"clust1\" class=\"cluster\">\n",
       "<title>cluster1 x 1</title>\n",
       "<path fill=\"none\" stroke=\"#000000\" d=\"M233.9441,-8C233.9441,-8 353.9441,-8 353.9441,-8 359.9441,-8 365.9441,-14 365.9441,-20 365.9441,-20 365.9441,-71 365.9441,-71 365.9441,-77 359.9441,-83 353.9441,-83 353.9441,-83 233.9441,-83 233.9441,-83 227.9441,-83 221.9441,-77 221.9441,-71 221.9441,-71 221.9441,-20 221.9441,-20 221.9441,-14 227.9441,-8 233.9441,-8\"/>\n",
       "<text text-anchor=\"middle\" x=\"343.9441\" y=\"-15.8\" font-family=\"Times,serif\" font-size=\"14.00\" fill=\"#000000\">1 x 1</text>\n",
       "</g>\n",
       "<!-- alpha -->\n",
       "<g id=\"node1\" class=\"node\">\n",
       "<title>alpha</title>\n",
       "<ellipse fill=\"none\" stroke=\"#000000\" cx=\"66.9441\" cy=\"-201\" rx=\"66.8882\" ry=\"18\"/>\n",
       "<text text-anchor=\"middle\" x=\"66.9441\" y=\"-197.3\" font-family=\"Times,serif\" font-size=\"14.00\" fill=\"#000000\">alpha ~ Normal</text>\n",
       "</g>\n",
       "<!-- Amax -->\n",
       "<g id=\"node2\" class=\"node\">\n",
       "<title>Amax</title>\n",
       "<polygon fill=\"none\" stroke=\"#000000\" points=\"277.9441,-147 137.9441,-147 137.9441,-111 277.9441,-111 277.9441,-147\"/>\n",
       "<text text-anchor=\"middle\" x=\"207.9441\" y=\"-125.3\" font-family=\"Times,serif\" font-size=\"14.00\" fill=\"#000000\">Amax ~ Deterministic</text>\n",
       "</g>\n",
       "<!-- alpha&#45;&gt;Amax -->\n",
       "<g id=\"edge3\" class=\"edge\">\n",
       "<title>alpha&#45;&gt;Amax</title>\n",
       "<path fill=\"none\" stroke=\"#000000\" d=\"M98.2365,-185.0209C117.3891,-175.2408 142.2024,-162.5702 163.385,-151.7536\"/>\n",
       "<polygon fill=\"#000000\" stroke=\"#000000\" points=\"165.2059,-154.7537 172.5202,-147.0888 162.0224,-148.5195 165.2059,-154.7537\"/>\n",
       "</g>\n",
       "<!-- a_fit -->\n",
       "<g id=\"node6\" class=\"node\">\n",
       "<title>a_fit</title>\n",
       "<ellipse fill=\"#d3d3d3\" stroke=\"#000000\" cx=\"293.9441\" cy=\"-57\" rx=\"63.8893\" ry=\"18\"/>\n",
       "<text text-anchor=\"middle\" x=\"293.9441\" y=\"-53.3\" font-family=\"Times,serif\" font-size=\"14.00\" fill=\"#000000\">a_fit ~ Normal</text>\n",
       "</g>\n",
       "<!-- Amax&#45;&gt;a_fit -->\n",
       "<g id=\"edge5\" class=\"edge\">\n",
       "<title>Amax&#45;&gt;a_fit</title>\n",
       "<path fill=\"none\" stroke=\"#000000\" d=\"M229.6455,-110.8314C240.5615,-101.6924 253.9273,-90.5024 265.6397,-80.6967\"/>\n",
       "<polygon fill=\"#000000\" stroke=\"#000000\" points=\"268.0129,-83.2745 273.4337,-74.1715 263.5193,-77.9072 268.0129,-83.2745\"/>\n",
       "</g>\n",
       "<!-- a0 -->\n",
       "<g id=\"node3\" class=\"node\">\n",
       "<title>a0</title>\n",
       "<ellipse fill=\"none\" stroke=\"#000000\" cx=\"207.9441\" cy=\"-201\" rx=\"55.7903\" ry=\"18\"/>\n",
       "<text text-anchor=\"middle\" x=\"207.9441\" y=\"-197.3\" font-family=\"Times,serif\" font-size=\"14.00\" fill=\"#000000\">a0 ~ Normal</text>\n",
       "</g>\n",
       "<!-- a0&#45;&gt;Amax -->\n",
       "<g id=\"edge1\" class=\"edge\">\n",
       "<title>a0&#45;&gt;Amax</title>\n",
       "<path fill=\"none\" stroke=\"#000000\" d=\"M207.9441,-182.8314C207.9441,-175.131 207.9441,-165.9743 207.9441,-157.4166\"/>\n",
       "<polygon fill=\"#000000\" stroke=\"#000000\" points=\"211.4442,-157.4132 207.9441,-147.4133 204.4442,-157.4133 211.4442,-157.4132\"/>\n",
       "</g>\n",
       "<!-- sigma -->\n",
       "<g id=\"node4\" class=\"node\">\n",
       "<title>sigma</title>\n",
       "<ellipse fill=\"none\" stroke=\"#000000\" cx=\"380.9441\" cy=\"-129\" rx=\"85.2851\" ry=\"18\"/>\n",
       "<text text-anchor=\"middle\" x=\"380.9441\" y=\"-125.3\" font-family=\"Times,serif\" font-size=\"14.00\" fill=\"#000000\">sigma ~ HalfNormal</text>\n",
       "</g>\n",
       "<!-- sigma&#45;&gt;a_fit -->\n",
       "<g id=\"edge4\" class=\"edge\">\n",
       "<title>sigma&#45;&gt;a_fit</title>\n",
       "<path fill=\"none\" stroke=\"#000000\" d=\"M359.4384,-111.2022C348.318,-101.9991 334.5951,-90.6423 322.5884,-80.7056\"/>\n",
       "<polygon fill=\"#000000\" stroke=\"#000000\" points=\"324.5387,-77.7765 314.6032,-74.0972 320.0757,-83.1693 324.5387,-77.7765\"/>\n",
       "</g>\n",
       "<!-- cn -->\n",
       "<g id=\"node5\" class=\"node\">\n",
       "<title>cn</title>\n",
       "<ellipse fill=\"none\" stroke=\"#000000\" cx=\"337.9441\" cy=\"-201\" rx=\"55.7903\" ry=\"18\"/>\n",
       "<text text-anchor=\"middle\" x=\"337.9441\" y=\"-197.3\" font-family=\"Times,serif\" font-size=\"14.00\" fill=\"#000000\">cn ~ Normal</text>\n",
       "</g>\n",
       "<!-- cn&#45;&gt;Amax -->\n",
       "<g id=\"edge2\" class=\"edge\">\n",
       "<title>cn&#45;&gt;Amax</title>\n",
       "<path fill=\"none\" stroke=\"#000000\" d=\"M309.736,-185.3771C292.1218,-175.6215 269.133,-162.8892 249.46,-151.9934\"/>\n",
       "<polygon fill=\"#000000\" stroke=\"#000000\" points=\"251.1293,-148.917 240.6856,-147.1338 247.7378,-155.0406 251.1293,-148.917\"/>\n",
       "</g>\n",
       "</g>\n",
       "</svg>\n"
      ],
      "text/plain": [
       "<graphviz.dot.Digraph at 0x7efe036843c8>"
      ]
     },
     "execution_count": 19,
     "metadata": {},
     "output_type": "execute_result"
    }
   ],
   "source": [
    "pm.model_to_graphviz(a0model)"
   ]
  },
  {
   "cell_type": "code",
   "execution_count": 22,
   "metadata": {},
   "outputs": [
    {
     "data": {
      "text/plain": [
       "(327,)"
      ]
     },
     "execution_count": 22,
     "metadata": {},
     "output_type": "execute_result"
    }
   ],
   "source": [
    "# Solve for all time steps\n",
    "# Observed data\n",
    "\n",
    "tidx = df_A.values < 0\n",
    "Amax_obs = df_A[tidx]\n",
    "c_mean = ds_S.sel(time=Amax_obs.index, method='nearest')['cn_mu'].mean(axis=1)\n",
    "c_std = ds_S.sel(time=Amax_obs.index, method='nearest')['cn_mu'].std(axis=1)\n",
    "\n",
    "alpha_mean = ds_S.sel(time=Amax_obs.index, method='nearest')['alpha_mu'].mean(axis=1)\n",
    "alpha_std = ds_S.sel(time=Amax_obs.index, method='nearest')['alpha_mu'].std(axis=1)\n",
    "\n",
    "nt = alpha_mean.shape[0]\n",
    "#nt = 15\n",
    "\n",
    "#time = time1.append(time2)\n",
    "basetime = datetime(2007,1,1)\n",
    "\n",
    "\n",
    "tdays = SecondsSince(Amax_obs.index[0:nt],basetime=basetime)/86400.\n",
    "alpha_mean.shape"
   ]
  },
  {
   "cell_type": "code",
   "execution_count": 37,
   "metadata": {
    "scrolled": true
   },
   "outputs": [
    {
     "name": "stderr",
     "output_type": "stream",
     "text": [
      "Multiprocess sampling (4 chains in 4 jobs)\n",
      "CompoundStep\n",
      ">Metropolis: [sigma]\n",
      ">Metropolis: [a0]\n",
      ">Metropolis: [cn]\n",
      ">Metropolis: [alpha]\n",
      "Sampling 4 chains: 100%|██████████| 82000/82000 [00:20<00:00, 3932.38draws/s]\n",
      "The estimated number of effective samples is smaller than 200 for some parameters.\n"
     ]
    },
    {
     "name": "stdout",
     "output_type": "stream",
     "text": [
      "0 327 25.035891798962897 -44.9999445799375 [-31.4011298]\n"
     ]
    },
    {
     "name": "stderr",
     "output_type": "stream",
     "text": [
      "Multiprocess sampling (4 chains in 4 jobs)\n",
      "CompoundStep\n",
      ">Metropolis: [sigma]\n",
      ">Metropolis: [a0]\n",
      ">Metropolis: [cn]\n",
      ">Metropolis: [alpha]\n",
      "Sampling 4 chains: 100%|██████████| 82000/82000 [00:21<00:00, 3857.14draws/s]\n",
      "The estimated number of effective samples is smaller than 200 for some parameters.\n"
     ]
    },
    {
     "name": "stdout",
     "output_type": "stream",
     "text": [
      "1 327 21.92703650769449 -35.274184649131364 [-26.06872058]\n"
     ]
    },
    {
     "name": "stderr",
     "output_type": "stream",
     "text": [
      "Multiprocess sampling (4 chains in 4 jobs)\n",
      "CompoundStep\n",
      ">Metropolis: [sigma]\n",
      ">Metropolis: [a0]\n",
      ">Metropolis: [cn]\n",
      ">Metropolis: [alpha]\n",
      "Sampling 4 chains: 100%|██████████| 82000/82000 [00:21<00:00, 3811.95draws/s]\n",
      "The estimated number of effective samples is smaller than 200 for some parameters.\n"
     ]
    },
    {
     "name": "stdout",
     "output_type": "stream",
     "text": [
      "2 327 19.785932119347926 -28.542126334832552 [-23.42771226]\n"
     ]
    },
    {
     "name": "stderr",
     "output_type": "stream",
     "text": [
      "Multiprocess sampling (4 chains in 4 jobs)\n",
      "CompoundStep\n",
      ">Metropolis: [sigma]\n",
      ">Metropolis: [a0]\n",
      ">Metropolis: [cn]\n",
      ">Metropolis: [alpha]\n",
      "Sampling 4 chains: 100%|██████████| 82000/82000 [00:21<00:00, 3810.41draws/s]\n",
      "The number of effective samples is smaller than 25% for some parameters.\n"
     ]
    },
    {
     "name": "stdout",
     "output_type": "stream",
     "text": [
      "3 327 17.266817509944275 -25.25975603741384 [-20.15032924]\n"
     ]
    },
    {
     "name": "stderr",
     "output_type": "stream",
     "text": [
      "Multiprocess sampling (4 chains in 4 jobs)\n",
      "CompoundStep\n",
      ">Metropolis: [sigma]\n",
      ">Metropolis: [a0]\n",
      ">Metropolis: [cn]\n",
      ">Metropolis: [alpha]\n",
      "Sampling 4 chains: 100%|██████████| 82000/82000 [00:21<00:00, 3768.81draws/s]\n",
      "The gelman-rubin statistic is larger than 1.05 for some parameters. This indicates slight problems during sampling.\n",
      "The estimated number of effective samples is smaller than 200 for some parameters.\n"
     ]
    },
    {
     "name": "stdout",
     "output_type": "stream",
     "text": [
      "4 327 22.490648257256456 -44.91394802501069 [-35.00622444]\n"
     ]
    },
    {
     "name": "stderr",
     "output_type": "stream",
     "text": [
      "INFO (theano.gof.compilelock): Refreshing lock /home/suntans/.theano/compiledir_Linux-4.15--generic-x86_64-with-debian-buster-sid-x86_64-3.6.6-64/lock_dir/lock\n",
      "Multiprocess sampling (4 chains in 4 jobs)\n",
      "CompoundStep\n",
      ">Metropolis: [sigma]\n",
      ">Metropolis: [a0]\n",
      ">Metropolis: [cn]\n",
      ">Metropolis: [alpha]\n",
      "Sampling 4 chains: 100%|██████████| 82000/82000 [00:21<00:00, 3796.02draws/s]\n",
      "The estimated number of effective samples is smaller than 200 for some parameters.\n"
     ]
    },
    {
     "name": "stdout",
     "output_type": "stream",
     "text": [
      "5 327 22.150370773273433 -45.72052600160403 [-36.32626866]\n"
     ]
    },
    {
     "name": "stderr",
     "output_type": "stream",
     "text": [
      "Multiprocess sampling (4 chains in 4 jobs)\n",
      "CompoundStep\n",
      ">Metropolis: [sigma]\n",
      ">Metropolis: [a0]\n",
      ">Metropolis: [cn]\n",
      ">Metropolis: [alpha]\n",
      "Sampling 4 chains: 100%|██████████| 82000/82000 [00:22<00:00, 3645.43draws/s]\n",
      "The estimated number of effective samples is smaller than 200 for some parameters.\n"
     ]
    },
    {
     "name": "stdout",
     "output_type": "stream",
     "text": [
      "6 327 18.08304259683965 -32.64141581785221 [-23.76693757]\n"
     ]
    },
    {
     "name": "stderr",
     "output_type": "stream",
     "text": [
      "Multiprocess sampling (4 chains in 4 jobs)\n",
      "CompoundStep\n",
      ">Metropolis: [sigma]\n",
      ">Metropolis: [a0]\n",
      ">Metropolis: [cn]\n",
      ">Metropolis: [alpha]\n",
      "Sampling 4 chains: 100%|██████████| 82000/82000 [00:22<00:00, 3689.39draws/s]\n",
      "The estimated number of effective samples is smaller than 200 for some parameters.\n"
     ]
    },
    {
     "name": "stdout",
     "output_type": "stream",
     "text": [
      "7 327 17.49499839452777 -30.952389288649314 [-22.18680935]\n"
     ]
    },
    {
     "name": "stderr",
     "output_type": "stream",
     "text": [
      "INFO (theano.gof.compilelock): Refreshing lock /home/suntans/.theano/compiledir_Linux-4.15--generic-x86_64-with-debian-buster-sid-x86_64-3.6.6-64/lock_dir/lock\n",
      "Multiprocess sampling (4 chains in 4 jobs)\n",
      "CompoundStep\n",
      ">Metropolis: [sigma]\n",
      ">Metropolis: [a0]\n",
      ">Metropolis: [cn]\n",
      ">Metropolis: [alpha]\n",
      "Sampling 4 chains: 100%|██████████| 82000/82000 [00:22<00:00, 3600.23draws/s]\n",
      "The estimated number of effective samples is smaller than 200 for some parameters.\n"
     ]
    },
    {
     "name": "stdout",
     "output_type": "stream",
     "text": [
      "8 327 18.69949550011857 -27.722173558171946 [-21.88796421]\n"
     ]
    },
    {
     "name": "stderr",
     "output_type": "stream",
     "text": [
      "Multiprocess sampling (4 chains in 4 jobs)\n",
      "CompoundStep\n",
      ">Metropolis: [sigma]\n",
      ">Metropolis: [a0]\n",
      ">Metropolis: [cn]\n",
      ">Metropolis: [alpha]\n",
      "Sampling 4 chains: 100%|██████████| 82000/82000 [00:21<00:00, 3878.53draws/s]\n",
      "The estimated number of effective samples is smaller than 200 for some parameters.\n"
     ]
    },
    {
     "name": "stdout",
     "output_type": "stream",
     "text": [
      "9 327 15.329690844716428 -28.300777704316882 [-17.71121166]\n"
     ]
    },
    {
     "name": "stderr",
     "output_type": "stream",
     "text": [
      "Multiprocess sampling (4 chains in 4 jobs)\n",
      "CompoundStep\n",
      ">Metropolis: [sigma]\n",
      ">Metropolis: [a0]\n",
      ">Metropolis: [cn]\n",
      ">Metropolis: [alpha]\n",
      "Sampling 4 chains: 100%|██████████| 82000/82000 [00:23<00:00, 3471.38draws/s]\n",
      "The estimated number of effective samples is smaller than 200 for some parameters.\n"
     ]
    },
    {
     "name": "stdout",
     "output_type": "stream",
     "text": [
      "10 327 19.664255634463224 -28.128584356037624 [-23.06947448]\n"
     ]
    },
    {
     "name": "stderr",
     "output_type": "stream",
     "text": [
      "INFO (theano.gof.compilelock): Refreshing lock /home/suntans/.theano/compiledir_Linux-4.15--generic-x86_64-with-debian-buster-sid-x86_64-3.6.6-64/lock_dir/lock\n",
      "Multiprocess sampling (4 chains in 4 jobs)\n",
      "CompoundStep\n",
      ">Metropolis: [sigma]\n",
      ">Metropolis: [a0]\n",
      ">Metropolis: [cn]\n",
      ">Metropolis: [alpha]\n",
      "Sampling 4 chains: 100%|██████████| 82000/82000 [00:24<00:00, 3387.43draws/s]\n",
      "The estimated number of effective samples is smaller than 200 for some parameters.\n"
     ]
    },
    {
     "name": "stdout",
     "output_type": "stream",
     "text": [
      "11 327 20.52082230072585 -35.51844427983981 [-27.13733408]\n"
     ]
    },
    {
     "name": "stderr",
     "output_type": "stream",
     "text": [
      "Multiprocess sampling (4 chains in 4 jobs)\n",
      "CompoundStep\n",
      ">Metropolis: [sigma]\n",
      ">Metropolis: [a0]\n",
      ">Metropolis: [cn]\n",
      ">Metropolis: [alpha]\n",
      "Sampling 4 chains: 100%|██████████| 82000/82000 [00:28<00:00, 2848.08draws/s]\n",
      "The estimated number of effective samples is smaller than 200 for some parameters.\n"
     ]
    },
    {
     "name": "stdout",
     "output_type": "stream",
     "text": [
      "12 327 14.570465166368194 -24.23147448939075 [-16.63471295]\n"
     ]
    },
    {
     "name": "stderr",
     "output_type": "stream",
     "text": [
      "Multiprocess sampling (4 chains in 4 jobs)\n",
      "CompoundStep\n",
      ">Metropolis: [sigma]\n",
      ">Metropolis: [a0]\n",
      ">Metropolis: [cn]\n",
      ">Metropolis: [alpha]\n",
      "Sampling 4 chains: 100%|██████████| 82000/82000 [00:30<00:00, 2669.48draws/s]\n",
      "The estimated number of effective samples is smaller than 200 for some parameters.\n"
     ]
    },
    {
     "name": "stdout",
     "output_type": "stream",
     "text": [
      "13 327 11.820640310696131 -23.92291789819266 [-13.09562484]\n"
     ]
    },
    {
     "name": "stderr",
     "output_type": "stream",
     "text": [
      "INFO (theano.gof.compilelock): Refreshing lock /home/suntans/.theano/compiledir_Linux-4.15--generic-x86_64-with-debian-buster-sid-x86_64-3.6.6-64/lock_dir/lock\n",
      "Multiprocess sampling (4 chains in 4 jobs)\n",
      "CompoundStep\n",
      ">Metropolis: [sigma]\n",
      ">Metropolis: [a0]\n",
      ">Metropolis: [cn]\n",
      ">Metropolis: [alpha]\n",
      "Sampling 4 chains: 100%|██████████| 82000/82000 [00:30<00:00, 2722.47draws/s]\n",
      "The estimated number of effective samples is smaller than 200 for some parameters.\n"
     ]
    },
    {
     "name": "stdout",
     "output_type": "stream",
     "text": [
      "14 327 11.357090066556248 -22.749778837508803 [-12.80697775]\n"
     ]
    },
    {
     "name": "stderr",
     "output_type": "stream",
     "text": [
      "Multiprocess sampling (4 chains in 4 jobs)\n",
      "CompoundStep\n",
      ">Metropolis: [sigma]\n",
      ">Metropolis: [a0]\n",
      ">Metropolis: [cn]\n",
      ">Metropolis: [alpha]\n",
      "Sampling 4 chains: 100%|██████████| 82000/82000 [00:23<00:00, 3532.27draws/s]\n",
      "The estimated number of effective samples is smaller than 200 for some parameters.\n"
     ]
    },
    {
     "name": "stdout",
     "output_type": "stream",
     "text": [
      "15 327 20.640050874585874 -30.201010740419438 [-24.36826208]\n"
     ]
    },
    {
     "name": "stderr",
     "output_type": "stream",
     "text": [
      "Multiprocess sampling (4 chains in 4 jobs)\n",
      "CompoundStep\n",
      ">Metropolis: [sigma]\n",
      ">Metropolis: [a0]\n",
      ">Metropolis: [cn]\n",
      ">Metropolis: [alpha]\n",
      "Sampling 4 chains: 100%|██████████| 82000/82000 [00:23<00:00, 3533.18draws/s]\n",
      "The estimated number of effective samples is smaller than 200 for some parameters.\n"
     ]
    },
    {
     "name": "stdout",
     "output_type": "stream",
     "text": [
      "16 327 13.444329397997073 -22.043397632316953 [-15.32670102]\n"
     ]
    },
    {
     "name": "stderr",
     "output_type": "stream",
     "text": [
      "INFO (theano.gof.compilelock): Refreshing lock /home/suntans/.theano/compiledir_Linux-4.15--generic-x86_64-with-debian-buster-sid-x86_64-3.6.6-64/lock_dir/lock\n",
      "Multiprocess sampling (4 chains in 4 jobs)\n",
      "CompoundStep\n",
      ">Metropolis: [sigma]\n",
      ">Metropolis: [a0]\n",
      ">Metropolis: [cn]\n",
      ">Metropolis: [alpha]\n",
      "Sampling 4 chains: 100%|██████████| 82000/82000 [00:23<00:00, 3542.49draws/s]\n",
      "The estimated number of effective samples is smaller than 200 for some parameters.\n"
     ]
    },
    {
     "name": "stdout",
     "output_type": "stream",
     "text": [
      "17 327 13.146201460363784 -23.94434541896468 [-15.03746665]\n"
     ]
    },
    {
     "name": "stderr",
     "output_type": "stream",
     "text": [
      "Multiprocess sampling (4 chains in 4 jobs)\n",
      "CompoundStep\n",
      ">Metropolis: [sigma]\n",
      ">Metropolis: [a0]\n",
      ">Metropolis: [cn]\n",
      ">Metropolis: [alpha]\n",
      "Sampling 4 chains: 100%|██████████| 82000/82000 [00:22<00:00, 3568.61draws/s]\n",
      "The number of effective samples is smaller than 25% for some parameters.\n"
     ]
    },
    {
     "name": "stdout",
     "output_type": "stream",
     "text": [
      "18 327 12.589600657369662 -23.186256909305616 [-14.09022571]\n"
     ]
    },
    {
     "name": "stderr",
     "output_type": "stream",
     "text": [
      "Multiprocess sampling (4 chains in 4 jobs)\n",
      "CompoundStep\n",
      ">Metropolis: [sigma]\n",
      ">Metropolis: [a0]\n",
      ">Metropolis: [cn]\n",
      ">Metropolis: [alpha]\n",
      "Sampling 4 chains: 100%|██████████| 82000/82000 [00:22<00:00, 3569.74draws/s]\n",
      "The estimated number of effective samples is smaller than 200 for some parameters.\n"
     ]
    },
    {
     "name": "stdout",
     "output_type": "stream",
     "text": [
      "19 327 13.11687149809245 -22.707697248372455 [-14.98799442]\n"
     ]
    },
    {
     "name": "stderr",
     "output_type": "stream",
     "text": [
      "INFO (theano.gof.compilelock): Refreshing lock /home/suntans/.theano/compiledir_Linux-4.15--generic-x86_64-with-debian-buster-sid-x86_64-3.6.6-64/lock_dir/lock\n",
      "Multiprocess sampling (4 chains in 4 jobs)\n",
      "CompoundStep\n",
      ">Metropolis: [sigma]\n",
      ">Metropolis: [a0]\n",
      ">Metropolis: [cn]\n",
      ">Metropolis: [alpha]\n",
      "Sampling 4 chains: 100%|██████████| 82000/82000 [00:22<00:00, 3567.80draws/s]\n",
      "The estimated number of effective samples is smaller than 200 for some parameters.\n"
     ]
    },
    {
     "name": "stdout",
     "output_type": "stream",
     "text": [
      "20 327 13.619166872966298 -22.65241753466695 [-15.56952469]\n"
     ]
    },
    {
     "name": "stderr",
     "output_type": "stream",
     "text": [
      "Multiprocess sampling (4 chains in 4 jobs)\n",
      "CompoundStep\n",
      ">Metropolis: [sigma]\n",
      ">Metropolis: [a0]\n",
      ">Metropolis: [cn]\n",
      ">Metropolis: [alpha]\n",
      "Sampling 4 chains: 100%|██████████| 82000/82000 [00:23<00:00, 3531.10draws/s]\n",
      "The estimated number of effective samples is smaller than 200 for some parameters.\n"
     ]
    },
    {
     "name": "stdout",
     "output_type": "stream",
     "text": [
      "21 327 14.763040581415616 -25.00060944620924 [-16.85605874]\n"
     ]
    },
    {
     "name": "stderr",
     "output_type": "stream",
     "text": [
      "Multiprocess sampling (4 chains in 4 jobs)\n",
      "CompoundStep\n",
      ">Metropolis: [sigma]\n",
      ">Metropolis: [a0]\n",
      ">Metropolis: [cn]\n",
      ">Metropolis: [alpha]\n",
      "Sampling 4 chains: 100%|██████████| 82000/82000 [00:23<00:00, 3562.88draws/s]\n",
      "The estimated number of effective samples is smaller than 200 for some parameters.\n"
     ]
    },
    {
     "name": "stdout",
     "output_type": "stream",
     "text": [
      "22 327 16.497754690678683 -24.170230304687742 [-19.112348]\n"
     ]
    },
    {
     "name": "stderr",
     "output_type": "stream",
     "text": [
      "INFO (theano.gof.compilelock): Refreshing lock /home/suntans/.theano/compiledir_Linux-4.15--generic-x86_64-with-debian-buster-sid-x86_64-3.6.6-64/lock_dir/lock\n",
      "Multiprocess sampling (4 chains in 4 jobs)\n",
      "CompoundStep\n",
      ">Metropolis: [sigma]\n",
      ">Metropolis: [a0]\n",
      ">Metropolis: [cn]\n",
      ">Metropolis: [alpha]\n",
      "Sampling 4 chains: 100%|██████████| 82000/82000 [00:22<00:00, 3641.67draws/s]\n",
      "The estimated number of effective samples is smaller than 200 for some parameters.\n"
     ]
    },
    {
     "name": "stdout",
     "output_type": "stream",
     "text": [
      "23 327 16.19866218465499 -24.22847644486115 [-18.76231927]\n"
     ]
    },
    {
     "name": "stderr",
     "output_type": "stream",
     "text": [
      "Multiprocess sampling (4 chains in 4 jobs)\n",
      "CompoundStep\n",
      ">Metropolis: [sigma]\n",
      ">Metropolis: [a0]\n",
      ">Metropolis: [cn]\n",
      ">Metropolis: [alpha]\n",
      "Sampling 4 chains: 100%|██████████| 82000/82000 [00:22<00:00, 3591.33draws/s]\n",
      "The estimated number of effective samples is smaller than 200 for some parameters.\n"
     ]
    },
    {
     "name": "stdout",
     "output_type": "stream",
     "text": [
      "24 327 20.63118549201781 -39.174768201442056 [-30.85670273]\n"
     ]
    },
    {
     "name": "stderr",
     "output_type": "stream",
     "text": [
      "Multiprocess sampling (4 chains in 4 jobs)\n",
      "CompoundStep\n",
      ">Metropolis: [sigma]\n",
      ">Metropolis: [a0]\n",
      ">Metropolis: [cn]\n",
      ">Metropolis: [alpha]\n",
      "Sampling 4 chains: 100%|██████████| 82000/82000 [00:22<00:00, 3659.02draws/s]\n",
      "The gelman-rubin statistic is larger than 1.05 for some parameters. This indicates slight problems during sampling.\n",
      "The estimated number of effective samples is smaller than 200 for some parameters.\n"
     ]
    },
    {
     "name": "stdout",
     "output_type": "stream",
     "text": [
      "25 327 22.151200105556995 -46.32057662621406 [-36.55914477]\n"
     ]
    },
    {
     "name": "stderr",
     "output_type": "stream",
     "text": [
      "INFO (theano.gof.compilelock): Refreshing lock /home/suntans/.theano/compiledir_Linux-4.15--generic-x86_64-with-debian-buster-sid-x86_64-3.6.6-64/lock_dir/lock\n",
      "Multiprocess sampling (4 chains in 4 jobs)\n",
      "CompoundStep\n",
      ">Metropolis: [sigma]\n",
      ">Metropolis: [a0]\n",
      ">Metropolis: [cn]\n",
      ">Metropolis: [alpha]\n",
      "Sampling 4 chains: 100%|██████████| 82000/82000 [00:23<00:00, 3555.63draws/s]\n",
      "The estimated number of effective samples is smaller than 200 for some parameters.\n"
     ]
    },
    {
     "name": "stdout",
     "output_type": "stream",
     "text": [
      "26 327 22.109566397471397 -51.595367460988356 [-38.39624495]\n"
     ]
    },
    {
     "name": "stderr",
     "output_type": "stream",
     "text": [
      "Multiprocess sampling (4 chains in 4 jobs)\n",
      "CompoundStep\n",
      ">Metropolis: [sigma]\n",
      ">Metropolis: [a0]\n",
      ">Metropolis: [cn]\n",
      ">Metropolis: [alpha]\n",
      "Sampling 4 chains: 100%|██████████| 82000/82000 [00:22<00:00, 3656.39draws/s]\n",
      "The estimated number of effective samples is smaller than 200 for some parameters.\n"
     ]
    },
    {
     "name": "stdout",
     "output_type": "stream",
     "text": [
      "27 327 23.76264936586642 -51.47106366873358 [-40.85936565]\n"
     ]
    },
    {
     "name": "stderr",
     "output_type": "stream",
     "text": [
      "Multiprocess sampling (4 chains in 4 jobs)\n",
      "CompoundStep\n",
      ">Metropolis: [sigma]\n",
      ">Metropolis: [a0]\n",
      ">Metropolis: [cn]\n",
      ">Metropolis: [alpha]\n",
      "Sampling 4 chains: 100%|██████████| 82000/82000 [00:23<00:00, 3468.84draws/s]\n",
      "The estimated number of effective samples is smaller than 200 for some parameters.\n"
     ]
    },
    {
     "name": "stdout",
     "output_type": "stream",
     "text": [
      "28 327 24.40502204624817 -51.42288450935418 [-38.99791453]\n"
     ]
    },
    {
     "name": "stderr",
     "output_type": "stream",
     "text": [
      "INFO (theano.gof.compilelock): Refreshing lock /home/suntans/.theano/compiledir_Linux-4.15--generic-x86_64-with-debian-buster-sid-x86_64-3.6.6-64/lock_dir/lock\n",
      "Multiprocess sampling (4 chains in 4 jobs)\n",
      "CompoundStep\n",
      ">Metropolis: [sigma]\n",
      ">Metropolis: [a0]\n",
      ">Metropolis: [cn]\n",
      ">Metropolis: [alpha]\n",
      "Sampling 4 chains: 100%|██████████| 82000/82000 [00:24<00:00, 3294.22draws/s]\n",
      "The estimated number of effective samples is smaller than 200 for some parameters.\n"
     ]
    },
    {
     "name": "stdout",
     "output_type": "stream",
     "text": [
      "29 327 24.999219775587235 -50.29261944863972 [-43.16068667]\n"
     ]
    },
    {
     "name": "stderr",
     "output_type": "stream",
     "text": [
      "Multiprocess sampling (4 chains in 4 jobs)\n",
      "CompoundStep\n",
      ">Metropolis: [sigma]\n",
      ">Metropolis: [a0]\n",
      ">Metropolis: [cn]\n",
      ">Metropolis: [alpha]\n",
      "Sampling 4 chains: 100%|██████████| 82000/82000 [00:23<00:00, 3424.87draws/s]\n",
      "The gelman-rubin statistic is larger than 1.05 for some parameters. This indicates slight problems during sampling.\n",
      "The estimated number of effective samples is smaller than 200 for some parameters.\n"
     ]
    },
    {
     "name": "stdout",
     "output_type": "stream",
     "text": [
      "30 327 22.158063648805 -40.720142204747404 [-30.4627881]\n"
     ]
    },
    {
     "name": "stderr",
     "output_type": "stream",
     "text": [
      "Multiprocess sampling (4 chains in 4 jobs)\n",
      "CompoundStep\n",
      ">Metropolis: [sigma]\n",
      ">Metropolis: [a0]\n",
      ">Metropolis: [cn]\n",
      ">Metropolis: [alpha]\n",
      "Sampling 4 chains: 100%|██████████| 82000/82000 [00:25<00:00, 3263.87draws/s]\n",
      "The estimated number of effective samples is smaller than 200 for some parameters.\n"
     ]
    },
    {
     "name": "stdout",
     "output_type": "stream",
     "text": [
      "31 327 23.05350426567439 -38.46028931102152 [-30.75626057]\n"
     ]
    },
    {
     "name": "stderr",
     "output_type": "stream",
     "text": [
      "INFO (theano.gof.compilelock): Refreshing lock /home/suntans/.theano/compiledir_Linux-4.15--generic-x86_64-with-debian-buster-sid-x86_64-3.6.6-64/lock_dir/lock\n",
      "Multiprocess sampling (4 chains in 4 jobs)\n",
      "CompoundStep\n",
      ">Metropolis: [sigma]\n",
      ">Metropolis: [a0]\n",
      ">Metropolis: [cn]\n",
      ">Metropolis: [alpha]\n",
      "Sampling 4 chains: 100%|██████████| 82000/82000 [00:26<00:00, 3063.23draws/s]\n",
      "The estimated number of effective samples is smaller than 200 for some parameters.\n"
     ]
    },
    {
     "name": "stdout",
     "output_type": "stream",
     "text": [
      "32 327 14.398037436823522 -23.7972554073063 [-16.32304759]\n"
     ]
    },
    {
     "name": "stderr",
     "output_type": "stream",
     "text": [
      "Multiprocess sampling (4 chains in 4 jobs)\n",
      "CompoundStep\n",
      ">Metropolis: [sigma]\n",
      ">Metropolis: [a0]\n",
      ">Metropolis: [cn]\n",
      ">Metropolis: [alpha]\n",
      "Sampling 4 chains: 100%|██████████| 82000/82000 [00:25<00:00, 3173.00draws/s]\n",
      "The estimated number of effective samples is smaller than 200 for some parameters.\n"
     ]
    },
    {
     "name": "stdout",
     "output_type": "stream",
     "text": [
      "33 327 12.679176568424511 -23.682597910351575 [-14.31971288]\n"
     ]
    },
    {
     "name": "stderr",
     "output_type": "stream",
     "text": [
      "Multiprocess sampling (4 chains in 4 jobs)\n",
      "CompoundStep\n",
      ">Metropolis: [sigma]\n",
      ">Metropolis: [a0]\n",
      ">Metropolis: [cn]\n",
      ">Metropolis: [alpha]\n",
      "Sampling 4 chains: 100%|██████████| 82000/82000 [00:23<00:00, 3476.62draws/s]\n",
      "The estimated number of effective samples is smaller than 200 for some parameters.\n"
     ]
    },
    {
     "name": "stdout",
     "output_type": "stream",
     "text": [
      "34 327 14.712381529468498 -23.214162836219764 [-16.88890192]\n"
     ]
    },
    {
     "name": "stderr",
     "output_type": "stream",
     "text": [
      "INFO (theano.gof.compilelock): Refreshing lock /home/suntans/.theano/compiledir_Linux-4.15--generic-x86_64-with-debian-buster-sid-x86_64-3.6.6-64/lock_dir/lock\n",
      "Multiprocess sampling (4 chains in 4 jobs)\n",
      "CompoundStep\n",
      ">Metropolis: [sigma]\n",
      ">Metropolis: [a0]\n",
      ">Metropolis: [cn]\n",
      ">Metropolis: [alpha]\n",
      "Sampling 4 chains: 100%|██████████| 82000/82000 [00:23<00:00, 3561.11draws/s]\n",
      "The estimated number of effective samples is smaller than 200 for some parameters.\n"
     ]
    },
    {
     "name": "stdout",
     "output_type": "stream",
     "text": [
      "35 327 23.12282807269236 -32.72368680700301 [-27.86291645]\n"
     ]
    },
    {
     "name": "stderr",
     "output_type": "stream",
     "text": [
      "Multiprocess sampling (4 chains in 4 jobs)\n",
      "CompoundStep\n",
      ">Metropolis: [sigma]\n",
      ">Metropolis: [a0]\n",
      ">Metropolis: [cn]\n",
      ">Metropolis: [alpha]\n",
      "Sampling 4 chains: 100%|██████████| 82000/82000 [00:22<00:00, 3568.08draws/s]\n",
      "The estimated number of effective samples is smaller than 200 for some parameters.\n"
     ]
    },
    {
     "name": "stdout",
     "output_type": "stream",
     "text": [
      "36 327 23.433224512708154 -33.704711891354144 [-28.2081316]\n"
     ]
    },
    {
     "name": "stderr",
     "output_type": "stream",
     "text": [
      "Multiprocess sampling (4 chains in 4 jobs)\n",
      "CompoundStep\n",
      ">Metropolis: [sigma]\n",
      ">Metropolis: [a0]\n",
      ">Metropolis: [cn]\n",
      ">Metropolis: [alpha]\n",
      "Sampling 4 chains: 100%|██████████| 82000/82000 [00:25<00:00, 3258.62draws/s]\n",
      "The estimated number of effective samples is smaller than 200 for some parameters.\n"
     ]
    },
    {
     "name": "stdout",
     "output_type": "stream",
     "text": [
      "37 327 20.78235859384491 -30.55027042130236 [-24.34712916]\n"
     ]
    },
    {
     "name": "stderr",
     "output_type": "stream",
     "text": [
      "INFO (theano.gof.compilelock): Refreshing lock /home/suntans/.theano/compiledir_Linux-4.15--generic-x86_64-with-debian-buster-sid-x86_64-3.6.6-64/lock_dir/lock\n",
      "Multiprocess sampling (4 chains in 4 jobs)\n",
      "CompoundStep\n",
      ">Metropolis: [sigma]\n",
      ">Metropolis: [a0]\n",
      ">Metropolis: [cn]\n",
      ">Metropolis: [alpha]\n",
      "Sampling 4 chains: 100%|██████████| 82000/82000 [00:25<00:00, 3166.40draws/s]\n",
      "The estimated number of effective samples is smaller than 200 for some parameters.\n"
     ]
    },
    {
     "name": "stdout",
     "output_type": "stream",
     "text": [
      "38 327 23.32904225326065 -33.52950894917128 [-27.55821727]\n"
     ]
    },
    {
     "name": "stderr",
     "output_type": "stream",
     "text": [
      "Multiprocess sampling (4 chains in 4 jobs)\n",
      "CompoundStep\n",
      ">Metropolis: [sigma]\n",
      ">Metropolis: [a0]\n",
      ">Metropolis: [cn]\n",
      ">Metropolis: [alpha]\n",
      "Sampling 4 chains: 100%|██████████| 82000/82000 [00:26<00:00, 3076.50draws/s]\n",
      "The number of effective samples is smaller than 25% for some parameters.\n"
     ]
    },
    {
     "name": "stdout",
     "output_type": "stream",
     "text": [
      "39 327 18.3515157469291 -27.744333301217036 [-21.34690945]\n"
     ]
    },
    {
     "name": "stderr",
     "output_type": "stream",
     "text": [
      "INFO (theano.gof.compilelock): Refreshing lock /home/suntans/.theano/compiledir_Linux-4.15--generic-x86_64-with-debian-buster-sid-x86_64-3.6.6-64/lock_dir/lock\n",
      "Multiprocess sampling (4 chains in 4 jobs)\n",
      "CompoundStep\n",
      ">Metropolis: [sigma]\n",
      ">Metropolis: [a0]\n",
      ">Metropolis: [cn]\n",
      ">Metropolis: [alpha]\n",
      "Sampling 4 chains: 100%|██████████| 82000/82000 [00:23<00:00, 3461.50draws/s]\n",
      "The estimated number of effective samples is smaller than 200 for some parameters.\n"
     ]
    },
    {
     "name": "stdout",
     "output_type": "stream",
     "text": [
      "40 327 12.73823053675175 -24.463797093351516 [-14.27081884]\n"
     ]
    },
    {
     "name": "stderr",
     "output_type": "stream",
     "text": [
      "Multiprocess sampling (4 chains in 4 jobs)\n",
      "CompoundStep\n",
      ">Metropolis: [sigma]\n",
      ">Metropolis: [a0]\n",
      ">Metropolis: [cn]\n",
      ">Metropolis: [alpha]\n",
      "Sampling 4 chains: 100%|██████████| 82000/82000 [00:24<00:00, 3292.46draws/s]\n",
      "The estimated number of effective samples is smaller than 200 for some parameters.\n"
     ]
    },
    {
     "name": "stdout",
     "output_type": "stream",
     "text": [
      "41 327 12.674217082159002 -22.128117164309913 [-14.39991628]\n"
     ]
    },
    {
     "name": "stderr",
     "output_type": "stream",
     "text": [
      "Multiprocess sampling (4 chains in 4 jobs)\n",
      "CompoundStep\n",
      ">Metropolis: [sigma]\n",
      ">Metropolis: [a0]\n",
      ">Metropolis: [cn]\n",
      ">Metropolis: [alpha]\n",
      "Sampling 4 chains: 100%|██████████| 82000/82000 [00:23<00:00, 3468.90draws/s]\n",
      "The estimated number of effective samples is smaller than 200 for some parameters.\n"
     ]
    },
    {
     "name": "stdout",
     "output_type": "stream",
     "text": [
      "42 327 28.161655642474265 -44.40768999369235 [-37.9239984]\n"
     ]
    },
    {
     "name": "stderr",
     "output_type": "stream",
     "text": [
      "INFO (theano.gof.compilelock): Refreshing lock /home/suntans/.theano/compiledir_Linux-4.15--generic-x86_64-with-debian-buster-sid-x86_64-3.6.6-64/lock_dir/lock\n",
      "Multiprocess sampling (4 chains in 4 jobs)\n",
      "CompoundStep\n",
      ">Metropolis: [sigma]\n",
      ">Metropolis: [a0]\n",
      ">Metropolis: [cn]\n",
      ">Metropolis: [alpha]\n",
      "Sampling 4 chains: 100%|██████████| 82000/82000 [00:23<00:00, 3517.79draws/s]\n",
      "The estimated number of effective samples is smaller than 200 for some parameters.\n"
     ]
    },
    {
     "name": "stdout",
     "output_type": "stream",
     "text": [
      "43 327 26.97537392952256 -40.505691718252024 [-33.59331045]\n"
     ]
    },
    {
     "name": "stderr",
     "output_type": "stream",
     "text": [
      "Multiprocess sampling (4 chains in 4 jobs)\n",
      "CompoundStep\n",
      ">Metropolis: [sigma]\n",
      ">Metropolis: [a0]\n",
      ">Metropolis: [cn]\n",
      ">Metropolis: [alpha]\n",
      "Sampling 4 chains: 100%|██████████| 82000/82000 [00:28<00:00, 2897.85draws/s]\n",
      "The estimated number of effective samples is smaller than 200 for some parameters.\n"
     ]
    },
    {
     "name": "stdout",
     "output_type": "stream",
     "text": [
      "44 327 27.892288073870485 -37.86367002014156 [-34.15909362]\n"
     ]
    },
    {
     "name": "stderr",
     "output_type": "stream",
     "text": [
      "Multiprocess sampling (4 chains in 4 jobs)\n",
      "CompoundStep\n",
      ">Metropolis: [sigma]\n",
      ">Metropolis: [a0]\n",
      ">Metropolis: [cn]\n",
      ">Metropolis: [alpha]\n",
      "Sampling 4 chains: 100%|██████████| 82000/82000 [00:24<00:00, 3307.69draws/s]\n",
      "The estimated number of effective samples is smaller than 200 for some parameters.\n"
     ]
    },
    {
     "name": "stdout",
     "output_type": "stream",
     "text": [
      "45 327 25.907400016496926 -35.21206627381563 [-32.08360723]\n"
     ]
    },
    {
     "name": "stderr",
     "output_type": "stream",
     "text": [
      "INFO (theano.gof.compilelock): Refreshing lock /home/suntans/.theano/compiledir_Linux-4.15--generic-x86_64-with-debian-buster-sid-x86_64-3.6.6-64/lock_dir/lock\n",
      "Multiprocess sampling (4 chains in 4 jobs)\n",
      "CompoundStep\n",
      ">Metropolis: [sigma]\n",
      ">Metropolis: [a0]\n",
      ">Metropolis: [cn]\n",
      ">Metropolis: [alpha]\n",
      "Sampling 4 chains: 100%|██████████| 82000/82000 [00:23<00:00, 3491.01draws/s]\n",
      "The gelman-rubin statistic is larger than 1.4 for some parameters. The sampler did not converge.\n",
      "The estimated number of effective samples is smaller than 200 for some parameters.\n"
     ]
    },
    {
     "name": "stdout",
     "output_type": "stream",
     "text": [
      "46 327 26.03136759044985 -50.18936903409171 [-41.90230939]\n"
     ]
    },
    {
     "name": "stderr",
     "output_type": "stream",
     "text": [
      "Multiprocess sampling (4 chains in 4 jobs)\n",
      "CompoundStep\n",
      ">Metropolis: [sigma]\n",
      ">Metropolis: [a0]\n",
      ">Metropolis: [cn]\n",
      ">Metropolis: [alpha]\n",
      "Sampling 4 chains: 100%|██████████| 82000/82000 [00:26<00:00, 3041.01draws/s]\n",
      "The estimated number of effective samples is smaller than 200 for some parameters.\n"
     ]
    },
    {
     "name": "stdout",
     "output_type": "stream",
     "text": [
      "47 327 24.358612894719467 -34.955847845058116 [-29.96424661]\n"
     ]
    },
    {
     "name": "stderr",
     "output_type": "stream",
     "text": [
      "Multiprocess sampling (4 chains in 4 jobs)\n",
      "CompoundStep\n",
      ">Metropolis: [sigma]\n",
      ">Metropolis: [a0]\n",
      ">Metropolis: [cn]\n",
      ">Metropolis: [alpha]\n",
      "Sampling 4 chains: 100%|██████████| 82000/82000 [00:26<00:00, 3136.12draws/s]\n",
      "The number of effective samples is smaller than 25% for some parameters.\n"
     ]
    },
    {
     "name": "stdout",
     "output_type": "stream",
     "text": [
      "48 327 13.22880997881966 -24.36881878024154 [-15.05646434]\n"
     ]
    },
    {
     "name": "stderr",
     "output_type": "stream",
     "text": [
      "INFO (theano.gof.compilelock): Refreshing lock /home/suntans/.theano/compiledir_Linux-4.15--generic-x86_64-with-debian-buster-sid-x86_64-3.6.6-64/lock_dir/lock\n",
      "Multiprocess sampling (4 chains in 4 jobs)\n",
      "CompoundStep\n",
      ">Metropolis: [sigma]\n",
      ">Metropolis: [a0]\n",
      ">Metropolis: [cn]\n",
      ">Metropolis: [alpha]\n",
      "Sampling 4 chains: 100%|██████████| 82000/82000 [00:23<00:00, 3440.25draws/s]\n",
      "The estimated number of effective samples is smaller than 200 for some parameters.\n"
     ]
    },
    {
     "name": "stdout",
     "output_type": "stream",
     "text": [
      "49 327 18.817588389451476 -27.766578140310834 [-22.38395073]\n"
     ]
    },
    {
     "name": "stderr",
     "output_type": "stream",
     "text": [
      "Multiprocess sampling (4 chains in 4 jobs)\n",
      "CompoundStep\n",
      ">Metropolis: [sigma]\n",
      ">Metropolis: [a0]\n",
      ">Metropolis: [cn]\n",
      ">Metropolis: [alpha]\n",
      "Sampling 4 chains: 100%|██████████| 82000/82000 [00:22<00:00, 3573.05draws/s]\n",
      "The estimated number of effective samples is smaller than 200 for some parameters.\n"
     ]
    },
    {
     "name": "stdout",
     "output_type": "stream",
     "text": [
      "50 327 17.185769121253518 -26.224124778003883 [-20.11832633]\n"
     ]
    },
    {
     "name": "stderr",
     "output_type": "stream",
     "text": [
      "Multiprocess sampling (4 chains in 4 jobs)\n",
      "CompoundStep\n",
      ">Metropolis: [sigma]\n",
      ">Metropolis: [a0]\n",
      ">Metropolis: [cn]\n",
      ">Metropolis: [alpha]\n",
      "Sampling 4 chains: 100%|██████████| 82000/82000 [00:24<00:00, 3325.45draws/s]\n",
      "The estimated number of effective samples is smaller than 200 for some parameters.\n"
     ]
    },
    {
     "name": "stdout",
     "output_type": "stream",
     "text": [
      "51 327 15.221685843040152 -25.205601849527504 [-17.68905039]\n"
     ]
    },
    {
     "name": "stderr",
     "output_type": "stream",
     "text": [
      "INFO (theano.gof.compilelock): Refreshing lock /home/suntans/.theano/compiledir_Linux-4.15--generic-x86_64-with-debian-buster-sid-x86_64-3.6.6-64/lock_dir/lock\n",
      "Multiprocess sampling (4 chains in 4 jobs)\n",
      "CompoundStep\n",
      ">Metropolis: [sigma]\n",
      ">Metropolis: [a0]\n",
      ">Metropolis: [cn]\n",
      ">Metropolis: [alpha]\n",
      "Sampling 4 chains: 100%|██████████| 82000/82000 [00:29<00:00, 2801.90draws/s]\n",
      "The estimated number of effective samples is smaller than 200 for some parameters.\n"
     ]
    },
    {
     "name": "stdout",
     "output_type": "stream",
     "text": [
      "52 327 14.547318305382952 -24.02880586700585 [-16.78422901]\n"
     ]
    },
    {
     "name": "stderr",
     "output_type": "stream",
     "text": [
      "Multiprocess sampling (4 chains in 4 jobs)\n",
      "CompoundStep\n",
      ">Metropolis: [sigma]\n",
      ">Metropolis: [a0]\n",
      ">Metropolis: [cn]\n",
      ">Metropolis: [alpha]\n",
      "Sampling 4 chains: 100%|██████████| 82000/82000 [00:28<00:00, 2859.17draws/s]\n",
      "The estimated number of effective samples is smaller than 200 for some parameters.\n"
     ]
    },
    {
     "name": "stdout",
     "output_type": "stream",
     "text": [
      "53 327 21.954706882746773 -32.508526126624496 [-26.1192574]\n"
     ]
    },
    {
     "name": "stderr",
     "output_type": "stream",
     "text": [
      "INFO (theano.gof.compilelock): Refreshing lock /home/suntans/.theano/compiledir_Linux-4.15--generic-x86_64-with-debian-buster-sid-x86_64-3.6.6-64/lock_dir/lock\n",
      "Multiprocess sampling (4 chains in 4 jobs)\n",
      "CompoundStep\n",
      ">Metropolis: [sigma]\n",
      ">Metropolis: [a0]\n",
      ">Metropolis: [cn]\n",
      ">Metropolis: [alpha]\n",
      "Sampling 4 chains: 100%|██████████| 82000/82000 [00:30<00:00, 2732.59draws/s]\n",
      "The estimated number of effective samples is smaller than 200 for some parameters.\n"
     ]
    },
    {
     "name": "stdout",
     "output_type": "stream",
     "text": [
      "54 327 21.675973434696047 -29.38088996118674 [-25.7024532]\n"
     ]
    },
    {
     "name": "stderr",
     "output_type": "stream",
     "text": [
      "Multiprocess sampling (4 chains in 4 jobs)\n",
      "CompoundStep\n",
      ">Metropolis: [sigma]\n",
      ">Metropolis: [a0]\n",
      ">Metropolis: [cn]\n",
      ">Metropolis: [alpha]\n",
      "Sampling 4 chains: 100%|██████████| 82000/82000 [00:31<00:00, 2636.41draws/s]\n",
      "The estimated number of effective samples is smaller than 200 for some parameters.\n"
     ]
    },
    {
     "name": "stdout",
     "output_type": "stream",
     "text": [
      "55 327 23.94768057982608 -32.941687186087854 [-28.80309748]\n"
     ]
    },
    {
     "name": "stderr",
     "output_type": "stream",
     "text": [
      "INFO (theano.gof.compilelock): Refreshing lock /home/suntans/.theano/compiledir_Linux-4.15--generic-x86_64-with-debian-buster-sid-x86_64-3.6.6-64/lock_dir/lock\n",
      "Multiprocess sampling (4 chains in 4 jobs)\n",
      "CompoundStep\n",
      ">Metropolis: [sigma]\n",
      ">Metropolis: [a0]\n",
      ">Metropolis: [cn]\n",
      ">Metropolis: [alpha]\n",
      "Sampling 4 chains: 100%|██████████| 82000/82000 [00:32<00:00, 2537.88draws/s]\n",
      "The estimated number of effective samples is smaller than 200 for some parameters.\n"
     ]
    },
    {
     "name": "stdout",
     "output_type": "stream",
     "text": [
      "56 327 20.711066870605013 -31.238587598079523 [-24.80150368]\n"
     ]
    },
    {
     "name": "stderr",
     "output_type": "stream",
     "text": [
      "Multiprocess sampling (4 chains in 4 jobs)\n",
      "CompoundStep\n",
      ">Metropolis: [sigma]\n",
      ">Metropolis: [a0]\n",
      ">Metropolis: [cn]\n",
      ">Metropolis: [alpha]\n",
      "Sampling 4 chains: 100%|██████████| 82000/82000 [00:28<00:00, 2874.54draws/s]\n",
      "The estimated number of effective samples is smaller than 200 for some parameters.\n"
     ]
    },
    {
     "name": "stdout",
     "output_type": "stream",
     "text": [
      "57 327 20.74016642800127 -31.429250270323063 [-24.45932704]\n"
     ]
    },
    {
     "name": "stderr",
     "output_type": "stream",
     "text": [
      "INFO (theano.gof.compilelock): Refreshing lock /home/suntans/.theano/compiledir_Linux-4.15--generic-x86_64-with-debian-buster-sid-x86_64-3.6.6-64/lock_dir/lock\n",
      "Multiprocess sampling (4 chains in 4 jobs)\n",
      "CompoundStep\n",
      ">Metropolis: [sigma]\n",
      ">Metropolis: [a0]\n",
      ">Metropolis: [cn]\n",
      ">Metropolis: [alpha]\n",
      "Sampling 4 chains: 100%|██████████| 82000/82000 [00:28<00:00, 2846.99draws/s]\n",
      "The estimated number of effective samples is smaller than 200 for some parameters.\n"
     ]
    },
    {
     "name": "stdout",
     "output_type": "stream",
     "text": [
      "58 327 18.305530666073683 -29.248616988555828 [-21.35368064]\n"
     ]
    },
    {
     "name": "stderr",
     "output_type": "stream",
     "text": [
      "Multiprocess sampling (4 chains in 4 jobs)\n",
      "CompoundStep\n",
      ">Metropolis: [sigma]\n",
      ">Metropolis: [a0]\n",
      ">Metropolis: [cn]\n",
      ">Metropolis: [alpha]\n",
      "Sampling 4 chains: 100%|██████████| 82000/82000 [00:29<00:00, 2775.78draws/s]\n",
      "The estimated number of effective samples is smaller than 200 for some parameters.\n"
     ]
    },
    {
     "name": "stdout",
     "output_type": "stream",
     "text": [
      "59 327 18.94234576794623 -28.740360350705984 [-21.95501526]\n"
     ]
    },
    {
     "name": "stderr",
     "output_type": "stream",
     "text": [
      "INFO (theano.gof.compilelock): Refreshing lock /home/suntans/.theano/compiledir_Linux-4.15--generic-x86_64-with-debian-buster-sid-x86_64-3.6.6-64/lock_dir/lock\n",
      "Multiprocess sampling (4 chains in 4 jobs)\n",
      "CompoundStep\n",
      ">Metropolis: [sigma]\n",
      ">Metropolis: [a0]\n",
      ">Metropolis: [cn]\n",
      ">Metropolis: [alpha]\n",
      "Sampling 4 chains: 100%|██████████| 82000/82000 [00:28<00:00, 2854.89draws/s]\n",
      "The estimated number of effective samples is smaller than 200 for some parameters.\n"
     ]
    },
    {
     "name": "stdout",
     "output_type": "stream",
     "text": [
      "60 327 16.3488459809238 -26.509027816310134 [-19.03393318]\n"
     ]
    },
    {
     "name": "stderr",
     "output_type": "stream",
     "text": [
      "Multiprocess sampling (4 chains in 4 jobs)\n",
      "CompoundStep\n",
      ">Metropolis: [sigma]\n",
      ">Metropolis: [a0]\n",
      ">Metropolis: [cn]\n",
      ">Metropolis: [alpha]\n",
      "Sampling 4 chains: 100%|██████████| 82000/82000 [00:29<00:00, 2778.08draws/s]\n",
      "The number of effective samples is smaller than 25% for some parameters.\n"
     ]
    },
    {
     "name": "stdout",
     "output_type": "stream",
     "text": [
      "61 327 14.746562720235882 -25.490139269553232 [-16.9886233]\n"
     ]
    },
    {
     "name": "stderr",
     "output_type": "stream",
     "text": [
      "INFO (theano.gof.compilelock): Refreshing lock /home/suntans/.theano/compiledir_Linux-4.15--generic-x86_64-with-debian-buster-sid-x86_64-3.6.6-64/lock_dir/lock\n",
      "Multiprocess sampling (4 chains in 4 jobs)\n",
      "CompoundStep\n",
      ">Metropolis: [sigma]\n",
      ">Metropolis: [a0]\n",
      ">Metropolis: [cn]\n",
      ">Metropolis: [alpha]\n",
      "Sampling 4 chains: 100%|██████████| 82000/82000 [00:28<00:00, 2840.50draws/s]\n",
      "The estimated number of effective samples is smaller than 200 for some parameters.\n"
     ]
    },
    {
     "name": "stdout",
     "output_type": "stream",
     "text": [
      "62 327 12.905135440969318 -23.23288063408363 [-14.62093203]\n"
     ]
    },
    {
     "name": "stderr",
     "output_type": "stream",
     "text": [
      "Multiprocess sampling (4 chains in 4 jobs)\n",
      "CompoundStep\n",
      ">Metropolis: [sigma]\n",
      ">Metropolis: [a0]\n",
      ">Metropolis: [cn]\n",
      ">Metropolis: [alpha]\n",
      "Sampling 4 chains: 100%|██████████| 82000/82000 [00:30<00:00, 2730.85draws/s]\n",
      "The estimated number of effective samples is smaller than 200 for some parameters.\n"
     ]
    },
    {
     "name": "stdout",
     "output_type": "stream",
     "text": [
      "63 327 12.822318365466938 -24.485954938246167 [-14.61425188]\n"
     ]
    },
    {
     "name": "stderr",
     "output_type": "stream",
     "text": [
      "INFO (theano.gof.compilelock): Refreshing lock /home/suntans/.theano/compiledir_Linux-4.15--generic-x86_64-with-debian-buster-sid-x86_64-3.6.6-64/lock_dir/lock\n",
      "Multiprocess sampling (4 chains in 4 jobs)\n",
      "CompoundStep\n",
      ">Metropolis: [sigma]\n",
      ">Metropolis: [a0]\n",
      ">Metropolis: [cn]\n",
      ">Metropolis: [alpha]\n",
      "Sampling 4 chains: 100%|██████████| 82000/82000 [00:29<00:00, 2826.70draws/s]\n",
      "The estimated number of effective samples is smaller than 200 for some parameters.\n"
     ]
    },
    {
     "name": "stdout",
     "output_type": "stream",
     "text": [
      "64 327 10.51317047602949 -21.68017862686987 [-11.56056305]\n"
     ]
    },
    {
     "name": "stderr",
     "output_type": "stream",
     "text": [
      "Multiprocess sampling (4 chains in 4 jobs)\n",
      "CompoundStep\n",
      ">Metropolis: [sigma]\n",
      ">Metropolis: [a0]\n",
      ">Metropolis: [cn]\n",
      ">Metropolis: [alpha]\n",
      "Sampling 4 chains: 100%|██████████| 82000/82000 [00:27<00:00, 2948.27draws/s]\n",
      "The estimated number of effective samples is smaller than 200 for some parameters.\n"
     ]
    },
    {
     "name": "stdout",
     "output_type": "stream",
     "text": [
      "65 327 16.73023279501804 -30.864188663316277 [-22.40001238]\n"
     ]
    },
    {
     "name": "stderr",
     "output_type": "stream",
     "text": [
      "INFO (theano.gof.compilelock): Refreshing lock /home/suntans/.theano/compiledir_Linux-4.15--generic-x86_64-with-debian-buster-sid-x86_64-3.6.6-64/lock_dir/lock\n",
      "Multiprocess sampling (4 chains in 4 jobs)\n",
      "CompoundStep\n",
      ">Metropolis: [sigma]\n",
      ">Metropolis: [a0]\n",
      ">Metropolis: [cn]\n",
      ">Metropolis: [alpha]\n",
      "Sampling 4 chains: 100%|██████████| 82000/82000 [00:29<00:00, 2792.32draws/s]\n",
      "The estimated number of effective samples is smaller than 200 for some parameters.\n"
     ]
    },
    {
     "name": "stdout",
     "output_type": "stream",
     "text": [
      "66 327 6.707180907753117 -18.84657462250672 [-6.63523733]\n"
     ]
    },
    {
     "name": "stderr",
     "output_type": "stream",
     "text": [
      "Multiprocess sampling (4 chains in 4 jobs)\n",
      "CompoundStep\n",
      ">Metropolis: [sigma]\n",
      ">Metropolis: [a0]\n",
      ">Metropolis: [cn]\n",
      ">Metropolis: [alpha]\n",
      "Sampling 4 chains: 100%|██████████| 82000/82000 [00:29<00:00, 2779.61draws/s]\n",
      "The number of effective samples is smaller than 25% for some parameters.\n"
     ]
    },
    {
     "name": "stdout",
     "output_type": "stream",
     "text": [
      "67 327 16.943583995086286 -26.006078824130903 [-19.82378701]\n"
     ]
    },
    {
     "name": "stderr",
     "output_type": "stream",
     "text": [
      "INFO (theano.gof.compilelock): Refreshing lock /home/suntans/.theano/compiledir_Linux-4.15--generic-x86_64-with-debian-buster-sid-x86_64-3.6.6-64/lock_dir/lock\n",
      "Multiprocess sampling (4 chains in 4 jobs)\n",
      "CompoundStep\n",
      ">Metropolis: [sigma]\n",
      ">Metropolis: [a0]\n",
      ">Metropolis: [cn]\n",
      ">Metropolis: [alpha]\n",
      "Sampling 4 chains: 100%|██████████| 82000/82000 [00:29<00:00, 2763.76draws/s]\n",
      "The estimated number of effective samples is smaller than 200 for some parameters.\n"
     ]
    },
    {
     "name": "stdout",
     "output_type": "stream",
     "text": [
      "68 327 8.873525690825852 -21.242876002618452 [-9.21836857]\n"
     ]
    },
    {
     "name": "stderr",
     "output_type": "stream",
     "text": [
      "Multiprocess sampling (4 chains in 4 jobs)\n",
      "CompoundStep\n",
      ">Metropolis: [sigma]\n",
      ">Metropolis: [a0]\n",
      ">Metropolis: [cn]\n",
      ">Metropolis: [alpha]\n",
      "Sampling 4 chains: 100%|██████████| 82000/82000 [00:29<00:00, 2812.37draws/s]\n",
      "The estimated number of effective samples is smaller than 200 for some parameters.\n"
     ]
    },
    {
     "name": "stdout",
     "output_type": "stream",
     "text": [
      "69 327 11.7942232762811 -23.43177617426567 [-13.12083297]\n"
     ]
    },
    {
     "name": "stderr",
     "output_type": "stream",
     "text": [
      "INFO (theano.gof.compilelock): Refreshing lock /home/suntans/.theano/compiledir_Linux-4.15--generic-x86_64-with-debian-buster-sid-x86_64-3.6.6-64/lock_dir/lock\n",
      "Multiprocess sampling (4 chains in 4 jobs)\n",
      "CompoundStep\n",
      ">Metropolis: [sigma]\n",
      ">Metropolis: [a0]\n",
      ">Metropolis: [cn]\n",
      ">Metropolis: [alpha]\n",
      "Sampling 4 chains: 100%|██████████| 82000/82000 [00:29<00:00, 2749.25draws/s]\n",
      "The estimated number of effective samples is smaller than 200 for some parameters.\n"
     ]
    },
    {
     "name": "stdout",
     "output_type": "stream",
     "text": [
      "70 327 18.877539372649945 -28.904674791844464 [-22.39357545]\n"
     ]
    },
    {
     "name": "stderr",
     "output_type": "stream",
     "text": [
      "Multiprocess sampling (4 chains in 4 jobs)\n",
      "CompoundStep\n",
      ">Metropolis: [sigma]\n",
      ">Metropolis: [a0]\n",
      ">Metropolis: [cn]\n",
      ">Metropolis: [alpha]\n",
      "Sampling 4 chains: 100%|██████████| 82000/82000 [00:29<00:00, 2767.44draws/s]\n",
      "The gelman-rubin statistic is larger than 1.05 for some parameters. This indicates slight problems during sampling.\n",
      "The estimated number of effective samples is smaller than 200 for some parameters.\n"
     ]
    },
    {
     "name": "stdout",
     "output_type": "stream",
     "text": [
      "71 327 22.059479829452613 -34.715342181218716 [-28.5537077]\n"
     ]
    },
    {
     "name": "stderr",
     "output_type": "stream",
     "text": [
      "INFO (theano.gof.compilelock): Refreshing lock /home/suntans/.theano/compiledir_Linux-4.15--generic-x86_64-with-debian-buster-sid-x86_64-3.6.6-64/lock_dir/lock\n",
      "Multiprocess sampling (4 chains in 4 jobs)\n",
      "CompoundStep\n",
      ">Metropolis: [sigma]\n",
      ">Metropolis: [a0]\n",
      ">Metropolis: [cn]\n",
      ">Metropolis: [alpha]\n",
      "Sampling 4 chains: 100%|██████████| 82000/82000 [00:31<00:00, 2612.32draws/s]\n",
      "The estimated number of effective samples is smaller than 200 for some parameters.\n"
     ]
    },
    {
     "name": "stdout",
     "output_type": "stream",
     "text": [
      "72 327 22.034235787560675 -35.934303900132036 [-26.3270378]\n"
     ]
    },
    {
     "name": "stderr",
     "output_type": "stream",
     "text": [
      "Multiprocess sampling (4 chains in 4 jobs)\n",
      "CompoundStep\n",
      ">Metropolis: [sigma]\n",
      ">Metropolis: [a0]\n",
      ">Metropolis: [cn]\n",
      ">Metropolis: [alpha]\n",
      "Sampling 4 chains: 100%|██████████| 82000/82000 [00:33<00:00, 2455.17draws/s]\n",
      "The estimated number of effective samples is smaller than 200 for some parameters.\n"
     ]
    },
    {
     "name": "stdout",
     "output_type": "stream",
     "text": [
      "73 327 22.104706865837635 -41.265698910941104 [-30.07326843]\n"
     ]
    },
    {
     "name": "stderr",
     "output_type": "stream",
     "text": [
      "INFO (theano.gof.compilelock): Refreshing lock /home/suntans/.theano/compiledir_Linux-4.15--generic-x86_64-with-debian-buster-sid-x86_64-3.6.6-64/lock_dir/lock\n",
      "Multiprocess sampling (4 chains in 4 jobs)\n",
      "CompoundStep\n",
      ">Metropolis: [sigma]\n",
      ">Metropolis: [a0]\n",
      ">Metropolis: [cn]\n",
      ">Metropolis: [alpha]\n",
      "Sampling 4 chains: 100%|██████████| 82000/82000 [00:31<00:00, 2632.04draws/s]\n",
      "The estimated number of effective samples is smaller than 200 for some parameters.\n"
     ]
    },
    {
     "name": "stdout",
     "output_type": "stream",
     "text": [
      "74 327 22.916300993882448 -37.1876486752075 [-29.53983164]\n"
     ]
    },
    {
     "name": "stderr",
     "output_type": "stream",
     "text": [
      "Multiprocess sampling (4 chains in 4 jobs)\n",
      "CompoundStep\n",
      ">Metropolis: [sigma]\n",
      ">Metropolis: [a0]\n",
      ">Metropolis: [cn]\n",
      ">Metropolis: [alpha]\n",
      "Sampling 4 chains: 100%|██████████| 82000/82000 [00:30<00:00, 2654.19draws/s]\n",
      "The gelman-rubin statistic is larger than 1.2 for some parameters.\n",
      "The estimated number of effective samples is smaller than 200 for some parameters.\n"
     ]
    },
    {
     "name": "stdout",
     "output_type": "stream",
     "text": [
      "75 327 26.40083010390597 -53.951710790046356 [-45.04012274]\n"
     ]
    },
    {
     "name": "stderr",
     "output_type": "stream",
     "text": [
      "INFO (theano.gof.compilelock): Refreshing lock /home/suntans/.theano/compiledir_Linux-4.15--generic-x86_64-with-debian-buster-sid-x86_64-3.6.6-64/lock_dir/lock\n",
      "Multiprocess sampling (4 chains in 4 jobs)\n",
      "CompoundStep\n",
      ">Metropolis: [sigma]\n",
      ">Metropolis: [a0]\n",
      ">Metropolis: [cn]\n",
      ">Metropolis: [alpha]\n",
      "Sampling 4 chains: 100%|██████████| 82000/82000 [00:29<00:00, 2733.39draws/s]\n",
      "The estimated number of effective samples is smaller than 200 for some parameters.\n"
     ]
    },
    {
     "name": "stdout",
     "output_type": "stream",
     "text": [
      "76 327 22.51213511862945 -43.206034224599186 [-29.66377529]\n"
     ]
    },
    {
     "name": "stderr",
     "output_type": "stream",
     "text": [
      "Multiprocess sampling (4 chains in 4 jobs)\n",
      "CompoundStep\n",
      ">Metropolis: [sigma]\n",
      ">Metropolis: [a0]\n",
      ">Metropolis: [cn]\n",
      ">Metropolis: [alpha]\n",
      "Sampling 4 chains: 100%|██████████| 82000/82000 [00:26<00:00, 3072.57draws/s]\n",
      "The gelman-rubin statistic is larger than 1.05 for some parameters. This indicates slight problems during sampling.\n",
      "The estimated number of effective samples is smaller than 200 for some parameters.\n"
     ]
    },
    {
     "name": "stdout",
     "output_type": "stream",
     "text": [
      "77 327 22.241599125778656 -44.31508499579011 [-32.4360719]\n"
     ]
    },
    {
     "name": "stderr",
     "output_type": "stream",
     "text": [
      "INFO (theano.gof.compilelock): Refreshing lock /home/suntans/.theano/compiledir_Linux-4.15--generic-x86_64-with-debian-buster-sid-x86_64-3.6.6-64/lock_dir/lock\n",
      "Multiprocess sampling (4 chains in 4 jobs)\n",
      "CompoundStep\n",
      ">Metropolis: [sigma]\n",
      ">Metropolis: [a0]\n",
      ">Metropolis: [cn]\n",
      ">Metropolis: [alpha]\n",
      "Sampling 4 chains: 100%|██████████| 82000/82000 [00:27<00:00, 2989.76draws/s]\n",
      "The estimated number of effective samples is smaller than 200 for some parameters.\n"
     ]
    },
    {
     "name": "stdout",
     "output_type": "stream",
     "text": [
      "78 327 18.92434270465501 -36.76459250506673 [-24.16184328]\n"
     ]
    },
    {
     "name": "stderr",
     "output_type": "stream",
     "text": [
      "Multiprocess sampling (4 chains in 4 jobs)\n",
      "CompoundStep\n",
      ">Metropolis: [sigma]\n",
      ">Metropolis: [a0]\n",
      ">Metropolis: [cn]\n",
      ">Metropolis: [alpha]\n",
      "Sampling 4 chains: 100%|██████████| 82000/82000 [00:25<00:00, 3230.51draws/s]\n",
      "The number of effective samples is smaller than 25% for some parameters.\n"
     ]
    },
    {
     "name": "stdout",
     "output_type": "stream",
     "text": [
      "79 327 13.851101573516544 -21.079076406643228 [-15.89192566]\n"
     ]
    },
    {
     "name": "stderr",
     "output_type": "stream",
     "text": [
      "INFO (theano.gof.compilelock): Refreshing lock /home/suntans/.theano/compiledir_Linux-4.15--generic-x86_64-with-debian-buster-sid-x86_64-3.6.6-64/lock_dir/lock\n",
      "Multiprocess sampling (4 chains in 4 jobs)\n",
      "CompoundStep\n",
      ">Metropolis: [sigma]\n",
      ">Metropolis: [a0]\n",
      ">Metropolis: [cn]\n",
      ">Metropolis: [alpha]\n",
      "Sampling 4 chains: 100%|██████████| 82000/82000 [00:24<00:00, 3329.49draws/s]\n",
      "The estimated number of effective samples is smaller than 200 for some parameters.\n"
     ]
    },
    {
     "name": "stdout",
     "output_type": "stream",
     "text": [
      "80 327 10.326092346165098 -23.842027829789235 [-11.32459123]\n"
     ]
    },
    {
     "name": "stderr",
     "output_type": "stream",
     "text": [
      "Multiprocess sampling (4 chains in 4 jobs)\n",
      "CompoundStep\n",
      ">Metropolis: [sigma]\n",
      ">Metropolis: [a0]\n",
      ">Metropolis: [cn]\n",
      ">Metropolis: [alpha]\n",
      "Sampling 4 chains: 100%|██████████| 82000/82000 [00:24<00:00, 3391.50draws/s]\n",
      "The number of effective samples is smaller than 25% for some parameters.\n"
     ]
    },
    {
     "name": "stdout",
     "output_type": "stream",
     "text": [
      "81 327 16.841433262364845 -30.131160259456514 [-19.73886309]\n"
     ]
    },
    {
     "name": "stderr",
     "output_type": "stream",
     "text": [
      "Multiprocess sampling (4 chains in 4 jobs)\n",
      "CompoundStep\n",
      ">Metropolis: [sigma]\n",
      ">Metropolis: [a0]\n",
      ">Metropolis: [cn]\n",
      ">Metropolis: [alpha]\n",
      "Sampling 4 chains: 100%|██████████| 82000/82000 [00:24<00:00, 3359.99draws/s]\n",
      "The estimated number of effective samples is smaller than 200 for some parameters.\n"
     ]
    },
    {
     "name": "stdout",
     "output_type": "stream",
     "text": [
      "82 327 17.34605533514219 -37.306977245668236 [-22.74368782]\n"
     ]
    },
    {
     "name": "stderr",
     "output_type": "stream",
     "text": [
      "INFO (theano.gof.compilelock): Refreshing lock /home/suntans/.theano/compiledir_Linux-4.15--generic-x86_64-with-debian-buster-sid-x86_64-3.6.6-64/lock_dir/lock\n",
      "Multiprocess sampling (4 chains in 4 jobs)\n",
      "CompoundStep\n",
      ">Metropolis: [sigma]\n",
      ">Metropolis: [a0]\n",
      ">Metropolis: [cn]\n",
      ">Metropolis: [alpha]\n",
      "Sampling 4 chains: 100%|██████████| 82000/82000 [00:25<00:00, 3198.84draws/s]\n",
      "The estimated number of effective samples is smaller than 200 for some parameters.\n"
     ]
    },
    {
     "name": "stdout",
     "output_type": "stream",
     "text": [
      "83 327 17.170450204861805 -33.82370845762492 [-21.82878201]\n"
     ]
    },
    {
     "name": "stderr",
     "output_type": "stream",
     "text": [
      "Multiprocess sampling (4 chains in 4 jobs)\n",
      "CompoundStep\n",
      ">Metropolis: [sigma]\n",
      ">Metropolis: [a0]\n",
      ">Metropolis: [cn]\n",
      ">Metropolis: [alpha]\n",
      "Sampling 4 chains: 100%|██████████| 82000/82000 [00:25<00:00, 3220.45draws/s]\n",
      "The estimated number of effective samples is smaller than 200 for some parameters.\n"
     ]
    },
    {
     "name": "stdout",
     "output_type": "stream",
     "text": [
      "84 327 18.003565643456174 -33.94766110568958 [-23.53979771]\n"
     ]
    },
    {
     "name": "stderr",
     "output_type": "stream",
     "text": [
      "INFO (theano.gof.compilelock): Refreshing lock /home/suntans/.theano/compiledir_Linux-4.15--generic-x86_64-with-debian-buster-sid-x86_64-3.6.6-64/lock_dir/lock\n",
      "Multiprocess sampling (4 chains in 4 jobs)\n",
      "CompoundStep\n",
      ">Metropolis: [sigma]\n",
      ">Metropolis: [a0]\n",
      ">Metropolis: [cn]\n",
      ">Metropolis: [alpha]\n",
      "Sampling 4 chains: 100%|██████████| 82000/82000 [00:24<00:00, 3362.99draws/s]\n",
      "The estimated number of effective samples is smaller than 200 for some parameters.\n"
     ]
    },
    {
     "name": "stdout",
     "output_type": "stream",
     "text": [
      "85 327 19.5151015099336 -31.341720530788745 [-23.42858651]\n"
     ]
    },
    {
     "name": "stderr",
     "output_type": "stream",
     "text": [
      "Multiprocess sampling (4 chains in 4 jobs)\n",
      "CompoundStep\n",
      ">Metropolis: [sigma]\n",
      ">Metropolis: [a0]\n",
      ">Metropolis: [cn]\n",
      ">Metropolis: [alpha]\n",
      "Sampling 4 chains: 100%|██████████| 82000/82000 [00:24<00:00, 3323.02draws/s]\n",
      "The estimated number of effective samples is smaller than 200 for some parameters.\n"
     ]
    },
    {
     "name": "stdout",
     "output_type": "stream",
     "text": [
      "86 327 21.84927320388643 -36.40354766158232 [-28.51524483]\n"
     ]
    },
    {
     "name": "stderr",
     "output_type": "stream",
     "text": [
      "Multiprocess sampling (4 chains in 4 jobs)\n",
      "CompoundStep\n",
      ">Metropolis: [sigma]\n",
      ">Metropolis: [a0]\n",
      ">Metropolis: [cn]\n",
      ">Metropolis: [alpha]\n",
      "Sampling 4 chains: 100%|██████████| 82000/82000 [00:25<00:00, 3241.90draws/s]\n",
      "The estimated number of effective samples is smaller than 200 for some parameters.\n"
     ]
    },
    {
     "name": "stdout",
     "output_type": "stream",
     "text": [
      "87 327 24.613981422356996 -44.138226232495114 [-32.97519707]\n"
     ]
    },
    {
     "name": "stderr",
     "output_type": "stream",
     "text": [
      "INFO (theano.gof.compilelock): Refreshing lock /home/suntans/.theano/compiledir_Linux-4.15--generic-x86_64-with-debian-buster-sid-x86_64-3.6.6-64/lock_dir/lock\n",
      "Multiprocess sampling (4 chains in 4 jobs)\n",
      "CompoundStep\n",
      ">Metropolis: [sigma]\n",
      ">Metropolis: [a0]\n",
      ">Metropolis: [cn]\n",
      ">Metropolis: [alpha]\n",
      "Sampling 4 chains: 100%|██████████| 82000/82000 [00:29<00:00, 2800.47draws/s]\n",
      "The estimated number of effective samples is smaller than 200 for some parameters.\n"
     ]
    },
    {
     "name": "stdout",
     "output_type": "stream",
     "text": [
      "88 327 12.003109023262477 -24.32319324470382 [-13.31937521]\n"
     ]
    },
    {
     "name": "stderr",
     "output_type": "stream",
     "text": [
      "Multiprocess sampling (4 chains in 4 jobs)\n",
      "CompoundStep\n",
      ">Metropolis: [sigma]\n",
      ">Metropolis: [a0]\n",
      ">Metropolis: [cn]\n",
      ">Metropolis: [alpha]\n",
      "Sampling 4 chains: 100%|██████████| 82000/82000 [00:23<00:00, 3505.10draws/s]\n",
      "The estimated number of effective samples is smaller than 200 for some parameters.\n"
     ]
    },
    {
     "name": "stdout",
     "output_type": "stream",
     "text": [
      "89 327 13.186028917137424 -27.017929403280302 [-15.10822619]\n"
     ]
    },
    {
     "name": "stderr",
     "output_type": "stream",
     "text": [
      "INFO (theano.gof.compilelock): Refreshing lock /home/suntans/.theano/compiledir_Linux-4.15--generic-x86_64-with-debian-buster-sid-x86_64-3.6.6-64/lock_dir/lock\n",
      "Multiprocess sampling (4 chains in 4 jobs)\n",
      "CompoundStep\n",
      ">Metropolis: [sigma]\n",
      ">Metropolis: [a0]\n",
      ">Metropolis: [cn]\n",
      ">Metropolis: [alpha]\n",
      "Sampling 4 chains: 100%|██████████| 82000/82000 [00:24<00:00, 3399.21draws/s]\n",
      "The estimated number of effective samples is smaller than 200 for some parameters.\n"
     ]
    },
    {
     "name": "stdout",
     "output_type": "stream",
     "text": [
      "90 327 15.110028800940123 -24.306638917529238 [-17.32796061]\n"
     ]
    },
    {
     "name": "stderr",
     "output_type": "stream",
     "text": [
      "Multiprocess sampling (4 chains in 4 jobs)\n",
      "CompoundStep\n",
      ">Metropolis: [sigma]\n",
      ">Metropolis: [a0]\n",
      ">Metropolis: [cn]\n",
      ">Metropolis: [alpha]\n",
      "Sampling 4 chains: 100%|██████████| 82000/82000 [00:26<00:00, 3088.95draws/s]\n",
      "The number of effective samples is smaller than 25% for some parameters.\n"
     ]
    },
    {
     "name": "stdout",
     "output_type": "stream",
     "text": [
      "91 327 16.000178860288727 -30.724420791777113 [-18.55743091]\n"
     ]
    },
    {
     "name": "stderr",
     "output_type": "stream",
     "text": [
      "INFO (theano.gof.compilelock): Refreshing lock /home/suntans/.theano/compiledir_Linux-4.15--generic-x86_64-with-debian-buster-sid-x86_64-3.6.6-64/lock_dir/lock\n",
      "Multiprocess sampling (4 chains in 4 jobs)\n",
      "CompoundStep\n",
      ">Metropolis: [sigma]\n",
      ">Metropolis: [a0]\n",
      ">Metropolis: [cn]\n",
      ">Metropolis: [alpha]\n",
      "Sampling 4 chains: 100%|██████████| 82000/82000 [00:26<00:00, 3077.37draws/s]\n",
      "The estimated number of effective samples is smaller than 200 for some parameters.\n"
     ]
    },
    {
     "name": "stdout",
     "output_type": "stream",
     "text": [
      "92 327 20.360005534779507 -30.582544281590124 [-23.91293029]\n"
     ]
    },
    {
     "name": "stderr",
     "output_type": "stream",
     "text": [
      "Multiprocess sampling (4 chains in 4 jobs)\n",
      "CompoundStep\n",
      ">Metropolis: [sigma]\n",
      ">Metropolis: [a0]\n",
      ">Metropolis: [cn]\n",
      ">Metropolis: [alpha]\n",
      "Sampling 4 chains: 100%|██████████| 82000/82000 [00:23<00:00, 3443.63draws/s]\n",
      "The estimated number of effective samples is smaller than 200 for some parameters.\n"
     ]
    },
    {
     "name": "stdout",
     "output_type": "stream",
     "text": [
      "93 327 17.88730196572988 -26.8757163056579 [-20.91322326]\n"
     ]
    },
    {
     "name": "stderr",
     "output_type": "stream",
     "text": [
      "INFO (theano.gof.compilelock): Refreshing lock /home/suntans/.theano/compiledir_Linux-4.15--generic-x86_64-with-debian-buster-sid-x86_64-3.6.6-64/lock_dir/lock\n",
      "Multiprocess sampling (4 chains in 4 jobs)\n",
      "CompoundStep\n",
      ">Metropolis: [sigma]\n",
      ">Metropolis: [a0]\n",
      ">Metropolis: [cn]\n",
      ">Metropolis: [alpha]\n",
      "Sampling 4 chains: 100%|██████████| 82000/82000 [00:23<00:00, 3468.57draws/s]\n",
      "The estimated number of effective samples is smaller than 200 for some parameters.\n"
     ]
    },
    {
     "name": "stdout",
     "output_type": "stream",
     "text": [
      "94 327 16.85623370720291 -25.513992041585816 [-19.58706632]\n"
     ]
    },
    {
     "name": "stderr",
     "output_type": "stream",
     "text": [
      "Multiprocess sampling (4 chains in 4 jobs)\n",
      "CompoundStep\n",
      ">Metropolis: [sigma]\n",
      ">Metropolis: [a0]\n",
      ">Metropolis: [cn]\n",
      ">Metropolis: [alpha]\n",
      "Sampling 4 chains: 100%|██████████| 82000/82000 [00:24<00:00, 3416.25draws/s]\n",
      "The estimated number of effective samples is smaller than 200 for some parameters.\n"
     ]
    },
    {
     "name": "stdout",
     "output_type": "stream",
     "text": [
      "95 327 18.195555086424527 -27.907975042621818 [-21.3043457]\n"
     ]
    },
    {
     "name": "stderr",
     "output_type": "stream",
     "text": [
      "Multiprocess sampling (4 chains in 4 jobs)\n",
      "CompoundStep\n",
      ">Metropolis: [sigma]\n",
      ">Metropolis: [a0]\n",
      ">Metropolis: [cn]\n",
      ">Metropolis: [alpha]\n",
      "Sampling 4 chains: 100%|██████████| 82000/82000 [00:26<00:00, 3050.19draws/s]\n",
      "The estimated number of effective samples is smaller than 200 for some parameters.\n"
     ]
    },
    {
     "name": "stdout",
     "output_type": "stream",
     "text": [
      "96 327 11.821513334716652 -20.582854280424037 [-13.27137332]\n"
     ]
    },
    {
     "name": "stderr",
     "output_type": "stream",
     "text": [
      "INFO (theano.gof.compilelock): Refreshing lock /home/suntans/.theano/compiledir_Linux-4.15--generic-x86_64-with-debian-buster-sid-x86_64-3.6.6-64/lock_dir/lock\n",
      "Multiprocess sampling (4 chains in 4 jobs)\n",
      "CompoundStep\n",
      ">Metropolis: [sigma]\n",
      ">Metropolis: [a0]\n",
      ">Metropolis: [cn]\n",
      ">Metropolis: [alpha]\n",
      "Sampling 4 chains: 100%|██████████| 82000/82000 [00:29<00:00, 2800.13draws/s]\n",
      "The estimated number of effective samples is smaller than 200 for some parameters.\n"
     ]
    },
    {
     "name": "stdout",
     "output_type": "stream",
     "text": [
      "97 327 16.584900446744758 -25.20889056550607 [-19.28348478]\n"
     ]
    },
    {
     "name": "stderr",
     "output_type": "stream",
     "text": [
      "Multiprocess sampling (4 chains in 4 jobs)\n",
      "CompoundStep\n",
      ">Metropolis: [sigma]\n",
      ">Metropolis: [a0]\n",
      ">Metropolis: [cn]\n",
      ">Metropolis: [alpha]\n",
      "Sampling 4 chains: 100%|██████████| 82000/82000 [00:26<00:00, 3069.78draws/s]\n",
      "The estimated number of effective samples is smaller than 200 for some parameters.\n"
     ]
    },
    {
     "name": "stdout",
     "output_type": "stream",
     "text": [
      "98 327 17.38091925256442 -26.559006074220072 [-20.53445573]\n"
     ]
    },
    {
     "name": "stderr",
     "output_type": "stream",
     "text": [
      "INFO (theano.gof.compilelock): Refreshing lock /home/suntans/.theano/compiledir_Linux-4.15--generic-x86_64-with-debian-buster-sid-x86_64-3.6.6-64/lock_dir/lock\n",
      "Multiprocess sampling (4 chains in 4 jobs)\n",
      "CompoundStep\n",
      ">Metropolis: [sigma]\n",
      ">Metropolis: [a0]\n",
      ">Metropolis: [cn]\n",
      ">Metropolis: [alpha]\n",
      "Sampling 4 chains: 100%|██████████| 82000/82000 [00:24<00:00, 3412.26draws/s]\n",
      "The estimated number of effective samples is smaller than 200 for some parameters.\n"
     ]
    },
    {
     "name": "stdout",
     "output_type": "stream",
     "text": [
      "99 327 14.693531556104922 -25.96712209284114 [-16.80657931]\n"
     ]
    },
    {
     "name": "stderr",
     "output_type": "stream",
     "text": [
      "Multiprocess sampling (4 chains in 4 jobs)\n",
      "CompoundStep\n",
      ">Metropolis: [sigma]\n",
      ">Metropolis: [a0]\n",
      ">Metropolis: [cn]\n",
      ">Metropolis: [alpha]\n",
      "Sampling 4 chains: 100%|██████████| 82000/82000 [00:23<00:00, 3421.11draws/s]\n",
      "The number of effective samples is smaller than 25% for some parameters.\n"
     ]
    },
    {
     "name": "stdout",
     "output_type": "stream",
     "text": [
      "100 327 18.684754260945752 -29.574805571219176 [-21.80462427]\n"
     ]
    },
    {
     "name": "stderr",
     "output_type": "stream",
     "text": [
      "Multiprocess sampling (4 chains in 4 jobs)\n",
      "CompoundStep\n",
      ">Metropolis: [sigma]\n",
      ">Metropolis: [a0]\n",
      ">Metropolis: [cn]\n",
      ">Metropolis: [alpha]\n",
      "Sampling 4 chains: 100%|██████████| 82000/82000 [00:24<00:00, 3415.61draws/s]\n",
      "The estimated number of effective samples is smaller than 200 for some parameters.\n"
     ]
    },
    {
     "name": "stdout",
     "output_type": "stream",
     "text": [
      "101 327 13.251674212056137 -23.938638490670503 [-14.95844724]\n"
     ]
    },
    {
     "name": "stderr",
     "output_type": "stream",
     "text": [
      "INFO (theano.gof.compilelock): Refreshing lock /home/suntans/.theano/compiledir_Linux-4.15--generic-x86_64-with-debian-buster-sid-x86_64-3.6.6-64/lock_dir/lock\n",
      "Multiprocess sampling (4 chains in 4 jobs)\n",
      "CompoundStep\n",
      ">Metropolis: [sigma]\n",
      ">Metropolis: [a0]\n",
      ">Metropolis: [cn]\n",
      ">Metropolis: [alpha]\n",
      "Sampling 4 chains: 100%|██████████| 82000/82000 [00:23<00:00, 3459.77draws/s]\n",
      "The estimated number of effective samples is smaller than 200 for some parameters.\n"
     ]
    },
    {
     "name": "stdout",
     "output_type": "stream",
     "text": [
      "102 327 23.838730654775528 -34.065551571794835 [-28.76080375]\n"
     ]
    },
    {
     "name": "stderr",
     "output_type": "stream",
     "text": [
      "Multiprocess sampling (4 chains in 4 jobs)\n",
      "CompoundStep\n",
      ">Metropolis: [sigma]\n",
      ">Metropolis: [a0]\n",
      ">Metropolis: [cn]\n",
      ">Metropolis: [alpha]\n",
      "Sampling 4 chains: 100%|██████████| 82000/82000 [00:25<00:00, 3255.45draws/s]\n",
      "The estimated number of effective samples is smaller than 200 for some parameters.\n"
     ]
    },
    {
     "name": "stdout",
     "output_type": "stream",
     "text": [
      "103 327 21.209515550735297 -31.16470866359928 [-25.36138832]\n"
     ]
    },
    {
     "name": "stderr",
     "output_type": "stream",
     "text": [
      "INFO (theano.gof.compilelock): Refreshing lock /home/suntans/.theano/compiledir_Linux-4.15--generic-x86_64-with-debian-buster-sid-x86_64-3.6.6-64/lock_dir/lock\n",
      "Multiprocess sampling (4 chains in 4 jobs)\n",
      "CompoundStep\n",
      ">Metropolis: [sigma]\n",
      ">Metropolis: [a0]\n",
      ">Metropolis: [cn]\n",
      ">Metropolis: [alpha]\n",
      "Sampling 4 chains: 100%|██████████| 82000/82000 [00:26<00:00, 3064.11draws/s]\n",
      "The estimated number of effective samples is smaller than 200 for some parameters.\n"
     ]
    },
    {
     "name": "stdout",
     "output_type": "stream",
     "text": [
      "104 327 23.245671263096593 -32.844908656500024 [-28.10844518]\n"
     ]
    },
    {
     "name": "stderr",
     "output_type": "stream",
     "text": [
      "Multiprocess sampling (4 chains in 4 jobs)\n",
      "CompoundStep\n",
      ">Metropolis: [sigma]\n",
      ">Metropolis: [a0]\n",
      ">Metropolis: [cn]\n",
      ">Metropolis: [alpha]\n",
      "Sampling 4 chains: 100%|██████████| 82000/82000 [00:26<00:00, 3069.17draws/s]\n",
      "The estimated number of effective samples is smaller than 200 for some parameters.\n"
     ]
    },
    {
     "name": "stdout",
     "output_type": "stream",
     "text": [
      "105 327 24.33319576598786 -34.7286219286209 [-29.37322755]\n"
     ]
    },
    {
     "name": "stderr",
     "output_type": "stream",
     "text": [
      "INFO (theano.gof.compilelock): Refreshing lock /home/suntans/.theano/compiledir_Linux-4.15--generic-x86_64-with-debian-buster-sid-x86_64-3.6.6-64/lock_dir/lock\n",
      "Multiprocess sampling (4 chains in 4 jobs)\n",
      "CompoundStep\n",
      ">Metropolis: [sigma]\n",
      ">Metropolis: [a0]\n",
      ">Metropolis: [cn]\n",
      ">Metropolis: [alpha]\n",
      "Sampling 4 chains: 100%|██████████| 82000/82000 [00:24<00:00, 3414.57draws/s]\n",
      "The estimated number of effective samples is smaller than 200 for some parameters.\n"
     ]
    },
    {
     "name": "stdout",
     "output_type": "stream",
     "text": [
      "106 327 24.19771057826878 -32.6993817489256 [-29.18388269]\n"
     ]
    },
    {
     "name": "stderr",
     "output_type": "stream",
     "text": [
      "Multiprocess sampling (4 chains in 4 jobs)\n",
      "CompoundStep\n",
      ">Metropolis: [sigma]\n",
      ">Metropolis: [a0]\n",
      ">Metropolis: [cn]\n",
      ">Metropolis: [alpha]\n",
      "Sampling 4 chains: 100%|██████████| 82000/82000 [00:24<00:00, 3371.86draws/s]\n",
      "The estimated number of effective samples is smaller than 200 for some parameters.\n"
     ]
    },
    {
     "name": "stdout",
     "output_type": "stream",
     "text": [
      "107 327 22.901610923980716 -32.01705207270733 [-27.32726741]\n"
     ]
    },
    {
     "name": "stderr",
     "output_type": "stream",
     "text": [
      "INFO (theano.gof.compilelock): Refreshing lock /home/suntans/.theano/compiledir_Linux-4.15--generic-x86_64-with-debian-buster-sid-x86_64-3.6.6-64/lock_dir/lock\n",
      "Multiprocess sampling (4 chains in 4 jobs)\n",
      "CompoundStep\n",
      ">Metropolis: [sigma]\n",
      ">Metropolis: [a0]\n",
      ">Metropolis: [cn]\n",
      ">Metropolis: [alpha]\n",
      "Sampling 4 chains: 100%|██████████| 82000/82000 [00:26<00:00, 3148.28draws/s]\n",
      "The estimated number of effective samples is smaller than 200 for some parameters.\n"
     ]
    },
    {
     "name": "stdout",
     "output_type": "stream",
     "text": [
      "108 327 24.530319350446888 -35.25184139120917 [-29.71920841]\n"
     ]
    },
    {
     "name": "stderr",
     "output_type": "stream",
     "text": [
      "Multiprocess sampling (4 chains in 4 jobs)\n",
      "CompoundStep\n",
      ">Metropolis: [sigma]\n",
      ">Metropolis: [a0]\n",
      ">Metropolis: [cn]\n",
      ">Metropolis: [alpha]\n",
      "Sampling 4 chains: 100%|██████████| 82000/82000 [00:26<00:00, 3141.33draws/s]\n",
      "The estimated number of effective samples is smaller than 200 for some parameters.\n"
     ]
    },
    {
     "name": "stdout",
     "output_type": "stream",
     "text": [
      "109 327 22.08707352254694 -31.45345810703768 [-26.21451955]\n"
     ]
    },
    {
     "name": "stderr",
     "output_type": "stream",
     "text": [
      "INFO (theano.gof.compilelock): Refreshing lock /home/suntans/.theano/compiledir_Linux-4.15--generic-x86_64-with-debian-buster-sid-x86_64-3.6.6-64/lock_dir/lock\n",
      "Multiprocess sampling (4 chains in 4 jobs)\n",
      "CompoundStep\n",
      ">Metropolis: [sigma]\n",
      ">Metropolis: [a0]\n",
      ">Metropolis: [cn]\n",
      ">Metropolis: [alpha]\n",
      "Sampling 4 chains: 100%|██████████| 82000/82000 [00:23<00:00, 3441.53draws/s]\n",
      "The estimated number of effective samples is smaller than 200 for some parameters.\n"
     ]
    },
    {
     "name": "stdout",
     "output_type": "stream",
     "text": [
      "110 327 20.23401174336234 -29.422024485935616 [-23.9872138]\n"
     ]
    },
    {
     "name": "stderr",
     "output_type": "stream",
     "text": [
      "Multiprocess sampling (4 chains in 4 jobs)\n",
      "CompoundStep\n",
      ">Metropolis: [sigma]\n",
      ">Metropolis: [a0]\n",
      ">Metropolis: [cn]\n",
      ">Metropolis: [alpha]\n",
      "Sampling 4 chains: 100%|██████████| 82000/82000 [00:23<00:00, 3426.35draws/s]\n",
      "The estimated number of effective samples is smaller than 200 for some parameters.\n"
     ]
    },
    {
     "name": "stdout",
     "output_type": "stream",
     "text": [
      "111 327 21.934473035024173 -35.62367129465194 [-26.39337263]\n"
     ]
    },
    {
     "name": "stderr",
     "output_type": "stream",
     "text": [
      "Multiprocess sampling (4 chains in 4 jobs)\n",
      "CompoundStep\n",
      ">Metropolis: [sigma]\n",
      ">Metropolis: [a0]\n",
      ">Metropolis: [cn]\n",
      ">Metropolis: [alpha]\n",
      "Sampling 4 chains: 100%|██████████| 82000/82000 [00:24<00:00, 3393.05draws/s]\n",
      "The estimated number of effective samples is smaller than 200 for some parameters.\n"
     ]
    },
    {
     "name": "stdout",
     "output_type": "stream",
     "text": [
      "112 327 18.40397084378716 -27.283704598853603 [-21.48934988]\n"
     ]
    },
    {
     "name": "stderr",
     "output_type": "stream",
     "text": [
      "INFO (theano.gof.compilelock): Refreshing lock /home/suntans/.theano/compiledir_Linux-4.15--generic-x86_64-with-debian-buster-sid-x86_64-3.6.6-64/lock_dir/lock\n",
      "Multiprocess sampling (4 chains in 4 jobs)\n",
      "CompoundStep\n",
      ">Metropolis: [sigma]\n",
      ">Metropolis: [a0]\n",
      ">Metropolis: [cn]\n",
      ">Metropolis: [alpha]\n",
      "Sampling 4 chains: 100%|██████████| 82000/82000 [00:24<00:00, 3319.63draws/s]\n",
      "The estimated number of effective samples is smaller than 200 for some parameters.\n"
     ]
    },
    {
     "name": "stdout",
     "output_type": "stream",
     "text": [
      "113 327 16.51414980822663 -25.74645677625479 [-19.024891]\n"
     ]
    },
    {
     "name": "stderr",
     "output_type": "stream",
     "text": [
      "Multiprocess sampling (4 chains in 4 jobs)\n",
      "CompoundStep\n",
      ">Metropolis: [sigma]\n",
      ">Metropolis: [a0]\n",
      ">Metropolis: [cn]\n",
      ">Metropolis: [alpha]\n",
      "Sampling 4 chains: 100%|██████████| 82000/82000 [00:25<00:00, 3271.75draws/s]\n",
      "The estimated number of effective samples is smaller than 200 for some parameters.\n"
     ]
    },
    {
     "name": "stdout",
     "output_type": "stream",
     "text": [
      "114 327 18.85601574624501 -29.86971570461616 [-22.16007943]\n"
     ]
    },
    {
     "name": "stderr",
     "output_type": "stream",
     "text": [
      "INFO (theano.gof.compilelock): Refreshing lock /home/suntans/.theano/compiledir_Linux-4.15--generic-x86_64-with-debian-buster-sid-x86_64-3.6.6-64/lock_dir/lock\n",
      "Multiprocess sampling (4 chains in 4 jobs)\n",
      "CompoundStep\n",
      ">Metropolis: [sigma]\n",
      ">Metropolis: [a0]\n",
      ">Metropolis: [cn]\n",
      ">Metropolis: [alpha]\n",
      "Sampling 4 chains: 100%|██████████| 82000/82000 [00:26<00:00, 3135.97draws/s]\n",
      "The estimated number of effective samples is smaller than 200 for some parameters.\n"
     ]
    },
    {
     "name": "stdout",
     "output_type": "stream",
     "text": [
      "115 327 16.566604464898266 -28.394971924126494 [-19.30923345]\n"
     ]
    },
    {
     "name": "stderr",
     "output_type": "stream",
     "text": [
      "Multiprocess sampling (4 chains in 4 jobs)\n",
      "CompoundStep\n",
      ">Metropolis: [sigma]\n",
      ">Metropolis: [a0]\n",
      ">Metropolis: [cn]\n",
      ">Metropolis: [alpha]\n",
      "Sampling 4 chains: 100%|██████████| 82000/82000 [00:27<00:00, 3033.17draws/s]\n",
      "The estimated number of effective samples is smaller than 200 for some parameters.\n"
     ]
    },
    {
     "name": "stdout",
     "output_type": "stream",
     "text": [
      "116 327 6.19370622754799 -20.158929923995185 [-5.9120485]\n"
     ]
    },
    {
     "name": "stderr",
     "output_type": "stream",
     "text": [
      "INFO (theano.gof.compilelock): Refreshing lock /home/suntans/.theano/compiledir_Linux-4.15--generic-x86_64-with-debian-buster-sid-x86_64-3.6.6-64/lock_dir/lock\n",
      "Multiprocess sampling (4 chains in 4 jobs)\n",
      "CompoundStep\n",
      ">Metropolis: [sigma]\n",
      ">Metropolis: [a0]\n",
      ">Metropolis: [cn]\n",
      ">Metropolis: [alpha]\n",
      "Sampling 4 chains: 100%|██████████| 82000/82000 [00:23<00:00, 3444.48draws/s]\n",
      "The estimated number of effective samples is smaller than 200 for some parameters.\n"
     ]
    },
    {
     "name": "stdout",
     "output_type": "stream",
     "text": [
      "117 327 24.118295405809665 -34.89721057611519 [-29.08279303]\n"
     ]
    },
    {
     "name": "stderr",
     "output_type": "stream",
     "text": [
      "Multiprocess sampling (4 chains in 4 jobs)\n",
      "CompoundStep\n",
      ">Metropolis: [sigma]\n",
      ">Metropolis: [a0]\n",
      ">Metropolis: [cn]\n",
      ">Metropolis: [alpha]\n",
      "Sampling 4 chains: 100%|██████████| 82000/82000 [00:23<00:00, 3505.13draws/s]\n",
      "The estimated number of effective samples is smaller than 200 for some parameters.\n"
     ]
    },
    {
     "name": "stdout",
     "output_type": "stream",
     "text": [
      "118 327 23.899967848150926 -34.64118077020459 [-28.89454398]\n"
     ]
    },
    {
     "name": "stderr",
     "output_type": "stream",
     "text": [
      "Multiprocess sampling (4 chains in 4 jobs)\n",
      "CompoundStep\n",
      ">Metropolis: [sigma]\n",
      ">Metropolis: [a0]\n",
      ">Metropolis: [cn]\n",
      ">Metropolis: [alpha]\n",
      "Sampling 4 chains: 100%|██████████| 82000/82000 [00:23<00:00, 3518.99draws/s]\n",
      "The estimated number of effective samples is smaller than 200 for some parameters.\n"
     ]
    },
    {
     "name": "stdout",
     "output_type": "stream",
     "text": [
      "119 327 24.94754257633161 -33.83115452184663 [-30.26635256]\n"
     ]
    },
    {
     "name": "stderr",
     "output_type": "stream",
     "text": [
      "INFO (theano.gof.compilelock): Refreshing lock /home/suntans/.theano/compiledir_Linux-4.15--generic-x86_64-with-debian-buster-sid-x86_64-3.6.6-64/lock_dir/lock\n",
      "Multiprocess sampling (4 chains in 4 jobs)\n",
      "CompoundStep\n",
      ">Metropolis: [sigma]\n",
      ">Metropolis: [a0]\n",
      ">Metropolis: [cn]\n",
      ">Metropolis: [alpha]\n",
      "Sampling 4 chains: 100%|██████████| 82000/82000 [00:23<00:00, 3417.18draws/s]\n",
      "The estimated number of effective samples is smaller than 200 for some parameters.\n"
     ]
    },
    {
     "name": "stdout",
     "output_type": "stream",
     "text": [
      "120 327 20.223721482696217 -30.033264290471813 [-23.88050473]\n"
     ]
    },
    {
     "name": "stderr",
     "output_type": "stream",
     "text": [
      "Multiprocess sampling (4 chains in 4 jobs)\n",
      "CompoundStep\n",
      ">Metropolis: [sigma]\n",
      ">Metropolis: [a0]\n",
      ">Metropolis: [cn]\n",
      ">Metropolis: [alpha]\n",
      "Sampling 4 chains: 100%|██████████| 82000/82000 [00:24<00:00, 3384.18draws/s]\n",
      "The estimated number of effective samples is smaller than 200 for some parameters.\n"
     ]
    },
    {
     "name": "stdout",
     "output_type": "stream",
     "text": [
      "121 327 24.325900833085214 -35.22452685161957 [-29.31028925]\n"
     ]
    },
    {
     "name": "stderr",
     "output_type": "stream",
     "text": [
      "INFO (theano.gof.compilelock): Refreshing lock /home/suntans/.theano/compiledir_Linux-4.15--generic-x86_64-with-debian-buster-sid-x86_64-3.6.6-64/lock_dir/lock\n",
      "Multiprocess sampling (4 chains in 4 jobs)\n",
      "CompoundStep\n",
      ">Metropolis: [sigma]\n",
      ">Metropolis: [a0]\n",
      ">Metropolis: [cn]\n",
      ">Metropolis: [alpha]\n",
      "Sampling 4 chains: 100%|██████████| 82000/82000 [00:24<00:00, 3309.19draws/s]\n",
      "The gelman-rubin statistic is larger than 1.05 for some parameters. This indicates slight problems during sampling.\n",
      "The estimated number of effective samples is smaller than 200 for some parameters.\n"
     ]
    },
    {
     "name": "stdout",
     "output_type": "stream",
     "text": [
      "122 327 26.019132819347742 -35.71258518098817 [-31.71076258]\n"
     ]
    },
    {
     "name": "stderr",
     "output_type": "stream",
     "text": [
      "Multiprocess sampling (4 chains in 4 jobs)\n",
      "CompoundStep\n",
      ">Metropolis: [sigma]\n",
      ">Metropolis: [a0]\n",
      ">Metropolis: [cn]\n",
      ">Metropolis: [alpha]\n",
      "Sampling 4 chains: 100%|██████████| 82000/82000 [00:25<00:00, 3250.76draws/s]\n",
      "The estimated number of effective samples is smaller than 200 for some parameters.\n"
     ]
    },
    {
     "name": "stdout",
     "output_type": "stream",
     "text": [
      "123 327 18.355795346748273 -27.8085469586022 [-21.49174823]\n"
     ]
    },
    {
     "name": "stderr",
     "output_type": "stream",
     "text": [
      "Multiprocess sampling (4 chains in 4 jobs)\n",
      "CompoundStep\n",
      ">Metropolis: [sigma]\n",
      ">Metropolis: [a0]\n",
      ">Metropolis: [cn]\n",
      ">Metropolis: [alpha]\n",
      "Sampling 4 chains: 100%|██████████| 82000/82000 [00:23<00:00, 3488.05draws/s]\n",
      "The estimated number of effective samples is smaller than 200 for some parameters.\n"
     ]
    },
    {
     "name": "stdout",
     "output_type": "stream",
     "text": [
      "124 327 18.12626500806756 -28.586449235466677 [-21.07466512]\n"
     ]
    },
    {
     "name": "stderr",
     "output_type": "stream",
     "text": [
      "INFO (theano.gof.compilelock): Refreshing lock /home/suntans/.theano/compiledir_Linux-4.15--generic-x86_64-with-debian-buster-sid-x86_64-3.6.6-64/lock_dir/lock\n",
      "Multiprocess sampling (4 chains in 4 jobs)\n",
      "CompoundStep\n",
      ">Metropolis: [sigma]\n",
      ">Metropolis: [a0]\n",
      ">Metropolis: [cn]\n",
      ">Metropolis: [alpha]\n",
      "Sampling 4 chains: 100%|██████████| 82000/82000 [00:25<00:00, 3160.96draws/s]\n",
      "The number of effective samples is smaller than 25% for some parameters.\n"
     ]
    },
    {
     "name": "stdout",
     "output_type": "stream",
     "text": [
      "125 327 14.968143817921412 -24.596557537087733 [-17.23653999]\n"
     ]
    },
    {
     "name": "stderr",
     "output_type": "stream",
     "text": [
      "Multiprocess sampling (4 chains in 4 jobs)\n",
      "CompoundStep\n",
      ">Metropolis: [sigma]\n",
      ">Metropolis: [a0]\n",
      ">Metropolis: [cn]\n",
      ">Metropolis: [alpha]\n",
      "Sampling 4 chains: 100%|██████████| 82000/82000 [00:26<00:00, 3142.49draws/s]\n",
      "The estimated number of effective samples is smaller than 200 for some parameters.\n"
     ]
    },
    {
     "name": "stdout",
     "output_type": "stream",
     "text": [
      "126 327 20.688532063149665 -31.559214573768514 [-24.74230613]\n"
     ]
    },
    {
     "name": "stderr",
     "output_type": "stream",
     "text": [
      "INFO (theano.gof.compilelock): Refreshing lock /home/suntans/.theano/compiledir_Linux-4.15--generic-x86_64-with-debian-buster-sid-x86_64-3.6.6-64/lock_dir/lock\n",
      "Multiprocess sampling (4 chains in 4 jobs)\n",
      "CompoundStep\n",
      ">Metropolis: [sigma]\n",
      ">Metropolis: [a0]\n",
      ">Metropolis: [cn]\n",
      ">Metropolis: [alpha]\n",
      "Sampling 4 chains: 100%|██████████| 82000/82000 [00:24<00:00, 3371.10draws/s]\n",
      "The estimated number of effective samples is smaller than 200 for some parameters.\n"
     ]
    },
    {
     "name": "stdout",
     "output_type": "stream",
     "text": [
      "127 327 20.19934700197441 -28.831147062091095 [-24.09995253]\n"
     ]
    },
    {
     "name": "stderr",
     "output_type": "stream",
     "text": [
      "Multiprocess sampling (4 chains in 4 jobs)\n",
      "CompoundStep\n",
      ">Metropolis: [sigma]\n",
      ">Metropolis: [a0]\n",
      ">Metropolis: [cn]\n",
      ">Metropolis: [alpha]\n",
      "Sampling 4 chains: 100%|██████████| 82000/82000 [00:24<00:00, 3385.18draws/s]\n",
      "The estimated number of effective samples is smaller than 200 for some parameters.\n"
     ]
    },
    {
     "name": "stdout",
     "output_type": "stream",
     "text": [
      "128 327 22.07225863968509 -33.757048853003035 [-26.32598147]\n"
     ]
    },
    {
     "name": "stderr",
     "output_type": "stream",
     "text": [
      "INFO (theano.gof.compilelock): Refreshing lock /home/suntans/.theano/compiledir_Linux-4.15--generic-x86_64-with-debian-buster-sid-x86_64-3.6.6-64/lock_dir/lock\n",
      "Multiprocess sampling (4 chains in 4 jobs)\n",
      "CompoundStep\n",
      ">Metropolis: [sigma]\n",
      ">Metropolis: [a0]\n",
      ">Metropolis: [cn]\n",
      ">Metropolis: [alpha]\n",
      "Sampling 4 chains: 100%|██████████| 82000/82000 [00:24<00:00, 3402.28draws/s]\n",
      "The gelman-rubin statistic is larger than 1.05 for some parameters. This indicates slight problems during sampling.\n",
      "The estimated number of effective samples is smaller than 200 for some parameters.\n"
     ]
    },
    {
     "name": "stdout",
     "output_type": "stream",
     "text": [
      "129 327 18.379946996338326 -29.818761651650444 [-21.58519622]\n"
     ]
    },
    {
     "name": "stderr",
     "output_type": "stream",
     "text": [
      "Multiprocess sampling (4 chains in 4 jobs)\n",
      "CompoundStep\n",
      ">Metropolis: [sigma]\n",
      ">Metropolis: [a0]\n",
      ">Metropolis: [cn]\n",
      ">Metropolis: [alpha]\n",
      "Sampling 4 chains: 100%|██████████| 82000/82000 [00:23<00:00, 3424.30draws/s]\n",
      "The estimated number of effective samples is smaller than 200 for some parameters.\n"
     ]
    },
    {
     "name": "stdout",
     "output_type": "stream",
     "text": [
      "130 327 14.401930567508531 -24.374852376918184 [-16.47411329]\n"
     ]
    },
    {
     "name": "stderr",
     "output_type": "stream",
     "text": [
      "Multiprocess sampling (4 chains in 4 jobs)\n",
      "CompoundStep\n",
      ">Metropolis: [sigma]\n",
      ">Metropolis: [a0]\n",
      ">Metropolis: [cn]\n",
      ">Metropolis: [alpha]\n",
      "Sampling 4 chains: 100%|██████████| 82000/82000 [00:25<00:00, 3158.32draws/s]\n",
      "The estimated number of effective samples is smaller than 200 for some parameters.\n"
     ]
    },
    {
     "name": "stdout",
     "output_type": "stream",
     "text": [
      "131 327 14.690246050573709 -23.985154099698423 [-16.91368252]\n"
     ]
    },
    {
     "name": "stderr",
     "output_type": "stream",
     "text": [
      "INFO (theano.gof.compilelock): Refreshing lock /home/suntans/.theano/compiledir_Linux-4.15--generic-x86_64-with-debian-buster-sid-x86_64-3.6.6-64/lock_dir/lock\n",
      "Multiprocess sampling (4 chains in 4 jobs)\n",
      "CompoundStep\n",
      ">Metropolis: [sigma]\n",
      ">Metropolis: [a0]\n",
      ">Metropolis: [cn]\n",
      ">Metropolis: [alpha]\n",
      "Sampling 4 chains: 100%|██████████| 82000/82000 [00:24<00:00, 3325.11draws/s]\n",
      "The number of effective samples is smaller than 25% for some parameters.\n"
     ]
    },
    {
     "name": "stdout",
     "output_type": "stream",
     "text": [
      "132 327 15.240662566138155 -23.861306910187114 [-17.60085915]\n"
     ]
    },
    {
     "name": "stderr",
     "output_type": "stream",
     "text": [
      "Multiprocess sampling (4 chains in 4 jobs)\n",
      "CompoundStep\n",
      ">Metropolis: [sigma]\n",
      ">Metropolis: [a0]\n",
      ">Metropolis: [cn]\n",
      ">Metropolis: [alpha]\n",
      "Sampling 4 chains: 100%|██████████| 82000/82000 [00:24<00:00, 3358.24draws/s]\n",
      "The estimated number of effective samples is smaller than 200 for some parameters.\n"
     ]
    },
    {
     "name": "stdout",
     "output_type": "stream",
     "text": [
      "133 327 17.18138945808477 -25.88643681068358 [-20.18508867]\n"
     ]
    },
    {
     "name": "stderr",
     "output_type": "stream",
     "text": [
      "INFO (theano.gof.compilelock): Refreshing lock /home/suntans/.theano/compiledir_Linux-4.15--generic-x86_64-with-debian-buster-sid-x86_64-3.6.6-64/lock_dir/lock\n",
      "Multiprocess sampling (4 chains in 4 jobs)\n",
      "CompoundStep\n",
      ">Metropolis: [sigma]\n",
      ">Metropolis: [a0]\n",
      ">Metropolis: [cn]\n",
      ">Metropolis: [alpha]\n",
      "Sampling 4 chains: 100%|██████████| 82000/82000 [00:26<00:00, 3147.70draws/s]\n",
      "The estimated number of effective samples is smaller than 200 for some parameters.\n"
     ]
    },
    {
     "name": "stdout",
     "output_type": "stream",
     "text": [
      "134 327 16.36857950790441 -27.050152828422547 [-19.03109452]\n"
     ]
    },
    {
     "name": "stderr",
     "output_type": "stream",
     "text": [
      "Multiprocess sampling (4 chains in 4 jobs)\n",
      "CompoundStep\n",
      ">Metropolis: [sigma]\n",
      ">Metropolis: [a0]\n",
      ">Metropolis: [cn]\n",
      ">Metropolis: [alpha]\n",
      "Sampling 4 chains: 100%|██████████| 82000/82000 [00:25<00:00, 3156.13draws/s]\n",
      "The estimated number of effective samples is smaller than 200 for some parameters.\n"
     ]
    },
    {
     "name": "stdout",
     "output_type": "stream",
     "text": [
      "135 327 16.435072726001568 -24.403883250056815 [-19.2538412]\n"
     ]
    },
    {
     "name": "stderr",
     "output_type": "stream",
     "text": [
      "INFO (theano.gof.compilelock): Refreshing lock /home/suntans/.theano/compiledir_Linux-4.15--generic-x86_64-with-debian-buster-sid-x86_64-3.6.6-64/lock_dir/lock\n",
      "Multiprocess sampling (4 chains in 4 jobs)\n",
      "CompoundStep\n",
      ">Metropolis: [sigma]\n",
      ">Metropolis: [a0]\n",
      ">Metropolis: [cn]\n",
      ">Metropolis: [alpha]\n",
      "Sampling 4 chains: 100%|██████████| 82000/82000 [00:25<00:00, 3224.85draws/s]\n",
      "The estimated number of effective samples is smaller than 200 for some parameters.\n"
     ]
    },
    {
     "name": "stdout",
     "output_type": "stream",
     "text": [
      "136 327 16.200348729182704 -24.970943362911168 [-18.75689976]\n"
     ]
    },
    {
     "name": "stderr",
     "output_type": "stream",
     "text": [
      "Multiprocess sampling (4 chains in 4 jobs)\n",
      "CompoundStep\n",
      ">Metropolis: [sigma]\n",
      ">Metropolis: [a0]\n",
      ">Metropolis: [cn]\n",
      ">Metropolis: [alpha]\n",
      "Sampling 4 chains: 100%|██████████| 82000/82000 [00:24<00:00, 3349.36draws/s]\n",
      "The estimated number of effective samples is smaller than 200 for some parameters.\n"
     ]
    },
    {
     "name": "stdout",
     "output_type": "stream",
     "text": [
      "137 327 21.669419623229224 -30.36772482422458 [-25.71804931]\n"
     ]
    },
    {
     "name": "stderr",
     "output_type": "stream",
     "text": [
      "INFO (theano.gof.compilelock): Refreshing lock /home/suntans/.theano/compiledir_Linux-4.15--generic-x86_64-with-debian-buster-sid-x86_64-3.6.6-64/lock_dir/lock\n",
      "Multiprocess sampling (4 chains in 4 jobs)\n",
      "CompoundStep\n",
      ">Metropolis: [sigma]\n",
      ">Metropolis: [a0]\n",
      ">Metropolis: [cn]\n",
      ">Metropolis: [alpha]\n",
      "Sampling 4 chains: 100%|██████████| 82000/82000 [00:25<00:00, 3270.44draws/s]\n",
      "The estimated number of effective samples is smaller than 200 for some parameters.\n"
     ]
    },
    {
     "name": "stdout",
     "output_type": "stream",
     "text": [
      "138 327 17.012916872545045 -25.879591984072885 [-19.61229277]\n"
     ]
    },
    {
     "name": "stderr",
     "output_type": "stream",
     "text": [
      "Multiprocess sampling (4 chains in 4 jobs)\n",
      "CompoundStep\n",
      ">Metropolis: [sigma]\n",
      ">Metropolis: [a0]\n",
      ">Metropolis: [cn]\n",
      ">Metropolis: [alpha]\n",
      "Sampling 4 chains: 100%|██████████| 82000/82000 [00:24<00:00, 3290.11draws/s]\n",
      "The estimated number of effective samples is smaller than 200 for some parameters.\n"
     ]
    },
    {
     "name": "stdout",
     "output_type": "stream",
     "text": [
      "139 327 16.37064734627653 -27.99869140052255 [-18.90813155]\n"
     ]
    },
    {
     "name": "stderr",
     "output_type": "stream",
     "text": [
      "INFO (theano.gof.compilelock): Refreshing lock /home/suntans/.theano/compiledir_Linux-4.15--generic-x86_64-with-debian-buster-sid-x86_64-3.6.6-64/lock_dir/lock\n",
      "Multiprocess sampling (4 chains in 4 jobs)\n",
      "CompoundStep\n",
      ">Metropolis: [sigma]\n",
      ">Metropolis: [a0]\n",
      ">Metropolis: [cn]\n",
      ">Metropolis: [alpha]\n",
      "Sampling 4 chains: 100%|██████████| 82000/82000 [00:24<00:00, 3347.57draws/s]\n",
      "The estimated number of effective samples is smaller than 200 for some parameters.\n"
     ]
    },
    {
     "name": "stdout",
     "output_type": "stream",
     "text": [
      "140 327 19.31887470283099 -29.370325896066486 [-22.71705329]\n"
     ]
    },
    {
     "name": "stderr",
     "output_type": "stream",
     "text": [
      "Multiprocess sampling (4 chains in 4 jobs)\n",
      "CompoundStep\n",
      ">Metropolis: [sigma]\n",
      ">Metropolis: [a0]\n",
      ">Metropolis: [cn]\n",
      ">Metropolis: [alpha]\n",
      "Sampling 4 chains: 100%|██████████| 82000/82000 [00:24<00:00, 3296.85draws/s]\n",
      "The estimated number of effective samples is smaller than 200 for some parameters.\n"
     ]
    },
    {
     "name": "stdout",
     "output_type": "stream",
     "text": [
      "141 327 17.95830859879411 -31.017856634550004 [-21.10430662]\n"
     ]
    },
    {
     "name": "stderr",
     "output_type": "stream",
     "text": [
      "INFO (theano.gof.compilelock): Refreshing lock /home/suntans/.theano/compiledir_Linux-4.15--generic-x86_64-with-debian-buster-sid-x86_64-3.6.6-64/lock_dir/lock\n",
      "Multiprocess sampling (4 chains in 4 jobs)\n",
      "CompoundStep\n",
      ">Metropolis: [sigma]\n",
      ">Metropolis: [a0]\n",
      ">Metropolis: [cn]\n",
      ">Metropolis: [alpha]\n",
      "Sampling 4 chains: 100%|██████████| 82000/82000 [00:24<00:00, 3382.33draws/s]\n",
      "The estimated number of effective samples is smaller than 200 for some parameters.\n"
     ]
    },
    {
     "name": "stdout",
     "output_type": "stream",
     "text": [
      "142 327 24.862470850843298 -33.78834468210726 [-30.25628241]\n"
     ]
    },
    {
     "name": "stderr",
     "output_type": "stream",
     "text": [
      "Multiprocess sampling (4 chains in 4 jobs)\n",
      "CompoundStep\n",
      ">Metropolis: [sigma]\n",
      ">Metropolis: [a0]\n",
      ">Metropolis: [cn]\n",
      ">Metropolis: [alpha]\n",
      "Sampling 4 chains: 100%|██████████| 82000/82000 [00:23<00:00, 3448.10draws/s]\n",
      "The estimated number of effective samples is smaller than 200 for some parameters.\n"
     ]
    },
    {
     "name": "stdout",
     "output_type": "stream",
     "text": [
      "143 327 18.115741867382518 -28.49921158856309 [-21.17853586]\n"
     ]
    },
    {
     "name": "stderr",
     "output_type": "stream",
     "text": [
      "Multiprocess sampling (4 chains in 4 jobs)\n",
      "CompoundStep\n",
      ">Metropolis: [sigma]\n",
      ">Metropolis: [a0]\n",
      ">Metropolis: [cn]\n",
      ">Metropolis: [alpha]\n",
      "Sampling 4 chains: 100%|██████████| 82000/82000 [00:25<00:00, 3249.15draws/s]\n",
      "The estimated number of effective samples is smaller than 200 for some parameters.\n"
     ]
    },
    {
     "name": "stdout",
     "output_type": "stream",
     "text": [
      "144 327 16.68152225139658 -26.892438727092802 [-19.23683495]\n"
     ]
    },
    {
     "name": "stderr",
     "output_type": "stream",
     "text": [
      "INFO (theano.gof.compilelock): Refreshing lock /home/suntans/.theano/compiledir_Linux-4.15--generic-x86_64-with-debian-buster-sid-x86_64-3.6.6-64/lock_dir/lock\n",
      "Multiprocess sampling (4 chains in 4 jobs)\n",
      "CompoundStep\n",
      ">Metropolis: [sigma]\n",
      ">Metropolis: [a0]\n",
      ">Metropolis: [cn]\n",
      ">Metropolis: [alpha]\n",
      "Sampling 4 chains: 100%|██████████| 82000/82000 [00:25<00:00, 3168.87draws/s]\n",
      "The estimated number of effective samples is smaller than 200 for some parameters.\n"
     ]
    },
    {
     "name": "stdout",
     "output_type": "stream",
     "text": [
      "145 327 14.085064535370195 -23.78478251700708 [-16.17760433]\n"
     ]
    },
    {
     "name": "stderr",
     "output_type": "stream",
     "text": [
      "Multiprocess sampling (4 chains in 4 jobs)\n",
      "CompoundStep\n",
      ">Metropolis: [sigma]\n",
      ">Metropolis: [a0]\n",
      ">Metropolis: [cn]\n",
      ">Metropolis: [alpha]\n",
      "Sampling 4 chains: 100%|██████████| 82000/82000 [00:26<00:00, 3126.64draws/s]\n",
      "The estimated number of effective samples is smaller than 200 for some parameters.\n"
     ]
    },
    {
     "name": "stdout",
     "output_type": "stream",
     "text": [
      "146 327 16.604755226171356 -24.838690767806725 [-19.25019582]\n"
     ]
    },
    {
     "name": "stderr",
     "output_type": "stream",
     "text": [
      "INFO (theano.gof.compilelock): Refreshing lock /home/suntans/.theano/compiledir_Linux-4.15--generic-x86_64-with-debian-buster-sid-x86_64-3.6.6-64/lock_dir/lock\n",
      "Multiprocess sampling (4 chains in 4 jobs)\n",
      "CompoundStep\n",
      ">Metropolis: [sigma]\n",
      ">Metropolis: [a0]\n",
      ">Metropolis: [cn]\n",
      ">Metropolis: [alpha]\n",
      "Sampling 4 chains: 100%|██████████| 82000/82000 [00:23<00:00, 3434.32draws/s]\n",
      "The estimated number of effective samples is smaller than 200 for some parameters.\n"
     ]
    },
    {
     "name": "stdout",
     "output_type": "stream",
     "text": [
      "147 327 18.818450722217747 -28.094222469843068 [-22.104072]\n"
     ]
    },
    {
     "name": "stderr",
     "output_type": "stream",
     "text": [
      "Multiprocess sampling (4 chains in 4 jobs)\n",
      "CompoundStep\n",
      ">Metropolis: [sigma]\n",
      ">Metropolis: [a0]\n",
      ">Metropolis: [cn]\n",
      ">Metropolis: [alpha]\n",
      "Sampling 4 chains: 100%|██████████| 82000/82000 [00:24<00:00, 3373.66draws/s]\n",
      "The estimated number of effective samples is smaller than 200 for some parameters.\n"
     ]
    },
    {
     "name": "stdout",
     "output_type": "stream",
     "text": [
      "148 327 21.41693894629346 -31.168541213839827 [-25.29668525]\n"
     ]
    },
    {
     "name": "stderr",
     "output_type": "stream",
     "text": [
      "INFO (theano.gof.compilelock): Refreshing lock /home/suntans/.theano/compiledir_Linux-4.15--generic-x86_64-with-debian-buster-sid-x86_64-3.6.6-64/lock_dir/lock\n",
      "Multiprocess sampling (4 chains in 4 jobs)\n",
      "CompoundStep\n",
      ">Metropolis: [sigma]\n",
      ">Metropolis: [a0]\n",
      ">Metropolis: [cn]\n",
      ">Metropolis: [alpha]\n",
      "Sampling 4 chains: 100%|██████████| 82000/82000 [00:23<00:00, 3436.43draws/s]\n",
      "The estimated number of effective samples is smaller than 200 for some parameters.\n"
     ]
    },
    {
     "name": "stdout",
     "output_type": "stream",
     "text": [
      "149 327 20.30744904951276 -30.527380511523642 [-24.03090085]\n"
     ]
    },
    {
     "name": "stderr",
     "output_type": "stream",
     "text": [
      "Multiprocess sampling (4 chains in 4 jobs)\n",
      "CompoundStep\n",
      ">Metropolis: [sigma]\n",
      ">Metropolis: [a0]\n",
      ">Metropolis: [cn]\n",
      ">Metropolis: [alpha]\n",
      "Sampling 4 chains: 100%|██████████| 82000/82000 [00:24<00:00, 3310.58draws/s]\n",
      "The estimated number of effective samples is smaller than 200 for some parameters.\n"
     ]
    },
    {
     "name": "stdout",
     "output_type": "stream",
     "text": [
      "150 327 17.79218841810632 -26.778601691491822 [-20.82283127]\n"
     ]
    },
    {
     "name": "stderr",
     "output_type": "stream",
     "text": [
      "INFO (theano.gof.compilelock): Refreshing lock /home/suntans/.theano/compiledir_Linux-4.15--generic-x86_64-with-debian-buster-sid-x86_64-3.6.6-64/lock_dir/lock\n",
      "Multiprocess sampling (4 chains in 4 jobs)\n",
      "CompoundStep\n",
      ">Metropolis: [sigma]\n",
      ">Metropolis: [a0]\n",
      ">Metropolis: [cn]\n",
      ">Metropolis: [alpha]\n",
      "Sampling 4 chains: 100%|██████████| 82000/82000 [00:24<00:00, 3386.05draws/s]\n",
      "The estimated number of effective samples is smaller than 200 for some parameters.\n"
     ]
    },
    {
     "name": "stdout",
     "output_type": "stream",
     "text": [
      "151 327 19.270144385720887 -26.531683309177996 [-22.61117294]\n"
     ]
    },
    {
     "name": "stderr",
     "output_type": "stream",
     "text": [
      "Multiprocess sampling (4 chains in 4 jobs)\n",
      "CompoundStep\n",
      ">Metropolis: [sigma]\n",
      ">Metropolis: [a0]\n",
      ">Metropolis: [cn]\n",
      ">Metropolis: [alpha]\n",
      "Sampling 4 chains: 100%|██████████| 82000/82000 [00:24<00:00, 3397.95draws/s]\n",
      "The estimated number of effective samples is smaller than 200 for some parameters.\n"
     ]
    },
    {
     "name": "stdout",
     "output_type": "stream",
     "text": [
      "152 327 16.64107670618571 -25.81525077628661 [-19.25957237]\n"
     ]
    },
    {
     "name": "stderr",
     "output_type": "stream",
     "text": [
      "Multiprocess sampling (4 chains in 4 jobs)\n",
      "CompoundStep\n",
      ">Metropolis: [sigma]\n",
      ">Metropolis: [a0]\n",
      ">Metropolis: [cn]\n",
      ">Metropolis: [alpha]\n",
      "Sampling 4 chains: 100%|██████████| 82000/82000 [00:24<00:00, 3348.03draws/s]\n",
      "The estimated number of effective samples is smaller than 200 for some parameters.\n"
     ]
    },
    {
     "name": "stdout",
     "output_type": "stream",
     "text": [
      "153 327 21.397037059004973 -30.504985738424374 [-25.66902056]\n"
     ]
    },
    {
     "name": "stderr",
     "output_type": "stream",
     "text": [
      "INFO (theano.gof.compilelock): Refreshing lock /home/suntans/.theano/compiledir_Linux-4.15--generic-x86_64-with-debian-buster-sid-x86_64-3.6.6-64/lock_dir/lock\n",
      "Multiprocess sampling (4 chains in 4 jobs)\n",
      "CompoundStep\n",
      ">Metropolis: [sigma]\n",
      ">Metropolis: [a0]\n",
      ">Metropolis: [cn]\n",
      ">Metropolis: [alpha]\n",
      "Sampling 4 chains: 100%|██████████| 82000/82000 [00:24<00:00, 3348.54draws/s]\n",
      "The estimated number of effective samples is smaller than 200 for some parameters.\n"
     ]
    },
    {
     "name": "stdout",
     "output_type": "stream",
     "text": [
      "154 327 23.263489683578527 -32.720082176219776 [-27.95444751]\n"
     ]
    },
    {
     "name": "stderr",
     "output_type": "stream",
     "text": [
      "Multiprocess sampling (4 chains in 4 jobs)\n",
      "CompoundStep\n",
      ">Metropolis: [sigma]\n",
      ">Metropolis: [a0]\n",
      ">Metropolis: [cn]\n",
      ">Metropolis: [alpha]\n",
      "Sampling 4 chains: 100%|██████████| 82000/82000 [00:24<00:00, 3380.70draws/s]\n",
      "The estimated number of effective samples is smaller than 200 for some parameters.\n"
     ]
    },
    {
     "name": "stdout",
     "output_type": "stream",
     "text": [
      "155 327 21.549955477364136 -32.19435717632715 [-25.47416541]\n"
     ]
    },
    {
     "name": "stderr",
     "output_type": "stream",
     "text": [
      "INFO (theano.gof.compilelock): Refreshing lock /home/suntans/.theano/compiledir_Linux-4.15--generic-x86_64-with-debian-buster-sid-x86_64-3.6.6-64/lock_dir/lock\n",
      "Multiprocess sampling (4 chains in 4 jobs)\n",
      "CompoundStep\n",
      ">Metropolis: [sigma]\n",
      ">Metropolis: [a0]\n",
      ">Metropolis: [cn]\n",
      ">Metropolis: [alpha]\n",
      "Sampling 4 chains: 100%|██████████| 82000/82000 [00:23<00:00, 3521.34draws/s]\n",
      "The estimated number of effective samples is smaller than 200 for some parameters.\n"
     ]
    },
    {
     "name": "stdout",
     "output_type": "stream",
     "text": [
      "156 327 17.99863952387557 -26.66906078920037 [-21.12783109]\n"
     ]
    },
    {
     "name": "stderr",
     "output_type": "stream",
     "text": [
      "Multiprocess sampling (4 chains in 4 jobs)\n",
      "CompoundStep\n",
      ">Metropolis: [sigma]\n",
      ">Metropolis: [a0]\n",
      ">Metropolis: [cn]\n",
      ">Metropolis: [alpha]\n",
      "Sampling 4 chains: 100%|██████████| 82000/82000 [00:23<00:00, 3462.15draws/s]\n",
      "The estimated number of effective samples is smaller than 200 for some parameters.\n"
     ]
    },
    {
     "name": "stdout",
     "output_type": "stream",
     "text": [
      "157 327 24.286216252083037 -33.902899587324335 [-29.27422148]\n"
     ]
    },
    {
     "name": "stderr",
     "output_type": "stream",
     "text": [
      "INFO (theano.gof.compilelock): Refreshing lock /home/suntans/.theano/compiledir_Linux-4.15--generic-x86_64-with-debian-buster-sid-x86_64-3.6.6-64/lock_dir/lock\n",
      "Multiprocess sampling (4 chains in 4 jobs)\n",
      "CompoundStep\n",
      ">Metropolis: [sigma]\n",
      ">Metropolis: [a0]\n",
      ">Metropolis: [cn]\n",
      ">Metropolis: [alpha]\n",
      "Sampling 4 chains: 100%|██████████| 82000/82000 [00:23<00:00, 3422.62draws/s]\n",
      "The estimated number of effective samples is smaller than 200 for some parameters.\n"
     ]
    },
    {
     "name": "stdout",
     "output_type": "stream",
     "text": [
      "158 327 23.2407068036797 -32.97401069772962 [-27.74172963]\n"
     ]
    },
    {
     "name": "stderr",
     "output_type": "stream",
     "text": [
      "Multiprocess sampling (4 chains in 4 jobs)\n",
      "CompoundStep\n",
      ">Metropolis: [sigma]\n",
      ">Metropolis: [a0]\n",
      ">Metropolis: [cn]\n",
      ">Metropolis: [alpha]\n",
      "Sampling 4 chains: 100%|██████████| 82000/82000 [00:23<00:00, 3460.57draws/s]\n",
      "The estimated number of effective samples is smaller than 200 for some parameters.\n"
     ]
    },
    {
     "name": "stdout",
     "output_type": "stream",
     "text": [
      "159 327 21.02849471275986 -30.729078878155693 [-24.80673423]\n"
     ]
    },
    {
     "name": "stderr",
     "output_type": "stream",
     "text": [
      "INFO (theano.gof.compilelock): Refreshing lock /home/suntans/.theano/compiledir_Linux-4.15--generic-x86_64-with-debian-buster-sid-x86_64-3.6.6-64/lock_dir/lock\n",
      "Multiprocess sampling (4 chains in 4 jobs)\n",
      "CompoundStep\n",
      ">Metropolis: [sigma]\n",
      ">Metropolis: [a0]\n",
      ">Metropolis: [cn]\n",
      ">Metropolis: [alpha]\n",
      "Sampling 4 chains: 100%|██████████| 82000/82000 [00:25<00:00, 3217.77draws/s]\n",
      "The number of effective samples is smaller than 25% for some parameters.\n"
     ]
    },
    {
     "name": "stdout",
     "output_type": "stream",
     "text": [
      "160 327 13.117885207700466 -28.685017667306308 [-14.86600449]\n"
     ]
    },
    {
     "name": "stderr",
     "output_type": "stream",
     "text": [
      "Multiprocess sampling (4 chains in 4 jobs)\n",
      "CompoundStep\n",
      ">Metropolis: [sigma]\n",
      ">Metropolis: [a0]\n",
      ">Metropolis: [cn]\n",
      ">Metropolis: [alpha]\n",
      "Sampling 4 chains: 100%|██████████| 82000/82000 [00:27<00:00, 3000.01draws/s]\n",
      "The estimated number of effective samples is smaller than 200 for some parameters.\n"
     ]
    },
    {
     "name": "stdout",
     "output_type": "stream",
     "text": [
      "161 327 21.584925103385583 -30.9135325928368 [-25.36404664]\n"
     ]
    },
    {
     "name": "stderr",
     "output_type": "stream",
     "text": [
      "INFO (theano.gof.compilelock): Refreshing lock /home/suntans/.theano/compiledir_Linux-4.15--generic-x86_64-with-debian-buster-sid-x86_64-3.6.6-64/lock_dir/lock\n",
      "Multiprocess sampling (4 chains in 4 jobs)\n",
      "CompoundStep\n",
      ">Metropolis: [sigma]\n",
      ">Metropolis: [a0]\n",
      ">Metropolis: [cn]\n",
      ">Metropolis: [alpha]\n",
      "Sampling 4 chains: 100%|██████████| 82000/82000 [00:24<00:00, 3405.66draws/s]\n",
      "The estimated number of effective samples is smaller than 200 for some parameters.\n"
     ]
    },
    {
     "name": "stdout",
     "output_type": "stream",
     "text": [
      "162 327 19.03094517379446 -28.410743478585694 [-22.44202425]\n"
     ]
    },
    {
     "name": "stderr",
     "output_type": "stream",
     "text": [
      "Multiprocess sampling (4 chains in 4 jobs)\n",
      "CompoundStep\n",
      ">Metropolis: [sigma]\n",
      ">Metropolis: [a0]\n",
      ">Metropolis: [cn]\n",
      ">Metropolis: [alpha]\n",
      "Sampling 4 chains: 100%|██████████| 82000/82000 [00:24<00:00, 3349.70draws/s]\n",
      "The estimated number of effective samples is smaller than 200 for some parameters.\n"
     ]
    },
    {
     "name": "stdout",
     "output_type": "stream",
     "text": [
      "163 327 16.89100586075923 -26.47860314539136 [-19.46517395]\n"
     ]
    },
    {
     "name": "stderr",
     "output_type": "stream",
     "text": [
      "INFO (theano.gof.compilelock): Refreshing lock /home/suntans/.theano/compiledir_Linux-4.15--generic-x86_64-with-debian-buster-sid-x86_64-3.6.6-64/lock_dir/lock\n",
      "Multiprocess sampling (4 chains in 4 jobs)\n",
      "CompoundStep\n",
      ">Metropolis: [sigma]\n",
      ">Metropolis: [a0]\n",
      ">Metropolis: [cn]\n",
      ">Metropolis: [alpha]\n",
      "Sampling 4 chains: 100%|██████████| 82000/82000 [00:24<00:00, 3398.93draws/s]\n",
      "The estimated number of effective samples is smaller than 200 for some parameters.\n"
     ]
    },
    {
     "name": "stdout",
     "output_type": "stream",
     "text": [
      "164 327 14.980360846320783 -25.247267583607034 [-17.14778815]\n"
     ]
    },
    {
     "name": "stderr",
     "output_type": "stream",
     "text": [
      "Multiprocess sampling (4 chains in 4 jobs)\n",
      "CompoundStep\n",
      ">Metropolis: [sigma]\n",
      ">Metropolis: [a0]\n",
      ">Metropolis: [cn]\n",
      ">Metropolis: [alpha]\n",
      "Sampling 4 chains: 100%|██████████| 82000/82000 [00:24<00:00, 3358.27draws/s]\n",
      "The estimated number of effective samples is smaller than 200 for some parameters.\n"
     ]
    },
    {
     "name": "stdout",
     "output_type": "stream",
     "text": [
      "165 327 13.142309195258301 -23.010677810878217 [-14.88300189]\n"
     ]
    },
    {
     "name": "stderr",
     "output_type": "stream",
     "text": [
      "INFO (theano.gof.compilelock): Refreshing lock /home/suntans/.theano/compiledir_Linux-4.15--generic-x86_64-with-debian-buster-sid-x86_64-3.6.6-64/lock_dir/lock\n",
      "Multiprocess sampling (4 chains in 4 jobs)\n",
      "CompoundStep\n",
      ">Metropolis: [sigma]\n",
      ">Metropolis: [a0]\n",
      ">Metropolis: [cn]\n",
      ">Metropolis: [alpha]\n",
      "Sampling 4 chains: 100%|██████████| 82000/82000 [00:24<00:00, 3361.98draws/s]\n",
      "The estimated number of effective samples is smaller than 200 for some parameters.\n"
     ]
    },
    {
     "name": "stdout",
     "output_type": "stream",
     "text": [
      "166 327 9.038630281609242 -19.35147011666962 [-9.78953356]\n"
     ]
    },
    {
     "name": "stderr",
     "output_type": "stream",
     "text": [
      "Multiprocess sampling (4 chains in 4 jobs)\n",
      "CompoundStep\n",
      ">Metropolis: [sigma]\n",
      ">Metropolis: [a0]\n",
      ">Metropolis: [cn]\n",
      ">Metropolis: [alpha]\n",
      "Sampling 4 chains: 100%|██████████| 82000/82000 [00:23<00:00, 3427.50draws/s]\n",
      "The estimated number of effective samples is smaller than 200 for some parameters.\n"
     ]
    },
    {
     "name": "stdout",
     "output_type": "stream",
     "text": [
      "167 327 13.003080628333581 -22.1145272107453 [-14.77986865]\n"
     ]
    },
    {
     "name": "stderr",
     "output_type": "stream",
     "text": [
      "INFO (theano.gof.compilelock): Refreshing lock /home/suntans/.theano/compiledir_Linux-4.15--generic-x86_64-with-debian-buster-sid-x86_64-3.6.6-64/lock_dir/lock\n",
      "Multiprocess sampling (4 chains in 4 jobs)\n",
      "CompoundStep\n",
      ">Metropolis: [sigma]\n",
      ">Metropolis: [a0]\n",
      ">Metropolis: [cn]\n",
      ">Metropolis: [alpha]\n",
      "Sampling 4 chains: 100%|██████████| 82000/82000 [00:25<00:00, 3277.76draws/s]\n",
      "The estimated number of effective samples is smaller than 200 for some parameters.\n"
     ]
    },
    {
     "name": "stdout",
     "output_type": "stream",
     "text": [
      "168 327 17.59650579756545 -26.51411745096972 [-20.43560248]\n"
     ]
    },
    {
     "name": "stderr",
     "output_type": "stream",
     "text": [
      "Multiprocess sampling (4 chains in 4 jobs)\n",
      "CompoundStep\n",
      ">Metropolis: [sigma]\n",
      ">Metropolis: [a0]\n",
      ">Metropolis: [cn]\n",
      ">Metropolis: [alpha]\n",
      "Sampling 4 chains: 100%|██████████| 82000/82000 [00:24<00:00, 3414.76draws/s]\n",
      "The estimated number of effective samples is smaller than 200 for some parameters.\n"
     ]
    },
    {
     "name": "stdout",
     "output_type": "stream",
     "text": [
      "169 327 23.029721723907983 -32.13091999422554 [-27.439119]\n"
     ]
    },
    {
     "name": "stderr",
     "output_type": "stream",
     "text": [
      "INFO (theano.gof.compilelock): Refreshing lock /home/suntans/.theano/compiledir_Linux-4.15--generic-x86_64-with-debian-buster-sid-x86_64-3.6.6-64/lock_dir/lock\n",
      "Multiprocess sampling (4 chains in 4 jobs)\n",
      "CompoundStep\n",
      ">Metropolis: [sigma]\n",
      ">Metropolis: [a0]\n",
      ">Metropolis: [cn]\n",
      ">Metropolis: [alpha]\n",
      "Sampling 4 chains: 100%|██████████| 82000/82000 [00:25<00:00, 3200.88draws/s]\n",
      "The estimated number of effective samples is smaller than 200 for some parameters.\n"
     ]
    },
    {
     "name": "stdout",
     "output_type": "stream",
     "text": [
      "170 327 21.44793784884659 -31.472939142776188 [-25.0591285]\n"
     ]
    },
    {
     "name": "stderr",
     "output_type": "stream",
     "text": [
      "Multiprocess sampling (4 chains in 4 jobs)\n",
      "CompoundStep\n",
      ">Metropolis: [sigma]\n",
      ">Metropolis: [a0]\n",
      ">Metropolis: [cn]\n",
      ">Metropolis: [alpha]\n",
      "Sampling 4 chains: 100%|██████████| 82000/82000 [00:24<00:00, 3413.50draws/s]\n",
      "The estimated number of effective samples is smaller than 200 for some parameters.\n"
     ]
    },
    {
     "name": "stdout",
     "output_type": "stream",
     "text": [
      "171 327 26.914456014876595 -36.97462057511785 [-33.1013435]\n"
     ]
    },
    {
     "name": "stderr",
     "output_type": "stream",
     "text": [
      "INFO (theano.gof.compilelock): Refreshing lock /home/suntans/.theano/compiledir_Linux-4.15--generic-x86_64-with-debian-buster-sid-x86_64-3.6.6-64/lock_dir/lock\n",
      "Multiprocess sampling (4 chains in 4 jobs)\n",
      "CompoundStep\n",
      ">Metropolis: [sigma]\n",
      ">Metropolis: [a0]\n",
      ">Metropolis: [cn]\n",
      ">Metropolis: [alpha]\n",
      "Sampling 4 chains: 100%|██████████| 82000/82000 [00:23<00:00, 3427.95draws/s]\n",
      "The estimated number of effective samples is smaller than 200 for some parameters.\n"
     ]
    },
    {
     "name": "stdout",
     "output_type": "stream",
     "text": [
      "172 327 23.508392536402564 -33.59997104517076 [-28.16079317]\n"
     ]
    },
    {
     "name": "stderr",
     "output_type": "stream",
     "text": [
      "Multiprocess sampling (4 chains in 4 jobs)\n",
      "CompoundStep\n",
      ">Metropolis: [sigma]\n",
      ">Metropolis: [a0]\n",
      ">Metropolis: [cn]\n",
      ">Metropolis: [alpha]\n",
      "Sampling 4 chains: 100%|██████████| 82000/82000 [00:24<00:00, 3402.58draws/s]\n",
      "The estimated number of effective samples is smaller than 200 for some parameters.\n"
     ]
    },
    {
     "name": "stdout",
     "output_type": "stream",
     "text": [
      "173 327 22.76396884840891 -31.956273758855385 [-27.02893017]\n"
     ]
    },
    {
     "name": "stderr",
     "output_type": "stream",
     "text": [
      "INFO (theano.gof.compilelock): Refreshing lock /home/suntans/.theano/compiledir_Linux-4.15--generic-x86_64-with-debian-buster-sid-x86_64-3.6.6-64/lock_dir/lock\n",
      "Multiprocess sampling (4 chains in 4 jobs)\n",
      "CompoundStep\n",
      ">Metropolis: [sigma]\n",
      ">Metropolis: [a0]\n",
      ">Metropolis: [cn]\n",
      ">Metropolis: [alpha]\n",
      "Sampling 4 chains: 100%|██████████| 82000/82000 [00:24<00:00, 3362.82draws/s]\n",
      "The estimated number of effective samples is smaller than 200 for some parameters.\n"
     ]
    },
    {
     "name": "stdout",
     "output_type": "stream",
     "text": [
      "174 327 11.776632872279704 -22.471478817826704 [-13.21730862]\n"
     ]
    },
    {
     "name": "stderr",
     "output_type": "stream",
     "text": [
      "Multiprocess sampling (4 chains in 4 jobs)\n",
      "CompoundStep\n",
      ">Metropolis: [sigma]\n",
      ">Metropolis: [a0]\n",
      ">Metropolis: [cn]\n",
      ">Metropolis: [alpha]\n",
      "Sampling 4 chains: 100%|██████████| 82000/82000 [00:24<00:00, 3397.92draws/s]\n",
      "The gelman-rubin statistic is larger than 1.05 for some parameters. This indicates slight problems during sampling.\n",
      "The estimated number of effective samples is smaller than 200 for some parameters.\n"
     ]
    },
    {
     "name": "stdout",
     "output_type": "stream",
     "text": [
      "175 327 22.442988217029626 -31.81726515431315 [-26.89590168]\n"
     ]
    },
    {
     "name": "stderr",
     "output_type": "stream",
     "text": [
      "INFO (theano.gof.compilelock): Refreshing lock /home/suntans/.theano/compiledir_Linux-4.15--generic-x86_64-with-debian-buster-sid-x86_64-3.6.6-64/lock_dir/lock\n",
      "Multiprocess sampling (4 chains in 4 jobs)\n",
      "CompoundStep\n",
      ">Metropolis: [sigma]\n",
      ">Metropolis: [a0]\n",
      ">Metropolis: [cn]\n",
      ">Metropolis: [alpha]\n",
      "Sampling 4 chains: 100%|██████████| 82000/82000 [00:27<00:00, 2997.88draws/s]\n",
      "The estimated number of effective samples is smaller than 200 for some parameters.\n"
     ]
    },
    {
     "name": "stdout",
     "output_type": "stream",
     "text": [
      "176 327 21.823716722626983 -31.82036215425854 [-25.9057003]\n"
     ]
    },
    {
     "name": "stderr",
     "output_type": "stream",
     "text": [
      "Multiprocess sampling (4 chains in 4 jobs)\n",
      "CompoundStep\n",
      ">Metropolis: [sigma]\n",
      ">Metropolis: [a0]\n",
      ">Metropolis: [cn]\n",
      ">Metropolis: [alpha]\n",
      "Sampling 4 chains: 100%|██████████| 82000/82000 [00:24<00:00, 3331.76draws/s]\n",
      "The estimated number of effective samples is smaller than 200 for some parameters.\n"
     ]
    },
    {
     "name": "stdout",
     "output_type": "stream",
     "text": [
      "177 327 19.25399854282687 -30.642343405316346 [-22.59829427]\n"
     ]
    },
    {
     "name": "stderr",
     "output_type": "stream",
     "text": [
      "INFO (theano.gof.compilelock): Refreshing lock /home/suntans/.theano/compiledir_Linux-4.15--generic-x86_64-with-debian-buster-sid-x86_64-3.6.6-64/lock_dir/lock\n",
      "Multiprocess sampling (4 chains in 4 jobs)\n",
      "CompoundStep\n",
      ">Metropolis: [sigma]\n",
      ">Metropolis: [a0]\n",
      ">Metropolis: [cn]\n",
      ">Metropolis: [alpha]\n",
      "Sampling 4 chains: 100%|██████████| 82000/82000 [00:24<00:00, 3380.48draws/s]\n",
      "The estimated number of effective samples is smaller than 200 for some parameters.\n"
     ]
    },
    {
     "name": "stdout",
     "output_type": "stream",
     "text": [
      "178 327 21.22309622325038 -29.525490746996567 [-25.05607915]\n"
     ]
    },
    {
     "name": "stderr",
     "output_type": "stream",
     "text": [
      "Multiprocess sampling (4 chains in 4 jobs)\n",
      "CompoundStep\n",
      ">Metropolis: [sigma]\n",
      ">Metropolis: [a0]\n",
      ">Metropolis: [cn]\n",
      ">Metropolis: [alpha]\n",
      "Sampling 4 chains: 100%|██████████| 82000/82000 [00:24<00:00, 3322.69draws/s]\n",
      "The number of effective samples is smaller than 25% for some parameters.\n"
     ]
    },
    {
     "name": "stdout",
     "output_type": "stream",
     "text": [
      "179 327 11.591421579673817 -22.27079090168087 [-13.03965338]\n"
     ]
    },
    {
     "name": "stderr",
     "output_type": "stream",
     "text": [
      "INFO (theano.gof.compilelock): Refreshing lock /home/suntans/.theano/compiledir_Linux-4.15--generic-x86_64-with-debian-buster-sid-x86_64-3.6.6-64/lock_dir/lock\n",
      "Multiprocess sampling (4 chains in 4 jobs)\n",
      "CompoundStep\n",
      ">Metropolis: [sigma]\n",
      ">Metropolis: [a0]\n",
      ">Metropolis: [cn]\n",
      ">Metropolis: [alpha]\n",
      "Sampling 4 chains: 100%|██████████| 82000/82000 [00:24<00:00, 3285.18draws/s]\n",
      "The estimated number of effective samples is smaller than 200 for some parameters.\n"
     ]
    },
    {
     "name": "stdout",
     "output_type": "stream",
     "text": [
      "180 327 10.630626603447018 -20.748374350431014 [-11.84740427]\n"
     ]
    },
    {
     "name": "stderr",
     "output_type": "stream",
     "text": [
      "Multiprocess sampling (4 chains in 4 jobs)\n",
      "CompoundStep\n",
      ">Metropolis: [sigma]\n",
      ">Metropolis: [a0]\n",
      ">Metropolis: [cn]\n",
      ">Metropolis: [alpha]\n",
      "Sampling 4 chains: 100%|██████████| 82000/82000 [00:23<00:00, 3454.87draws/s]\n",
      "The estimated number of effective samples is smaller than 200 for some parameters.\n"
     ]
    },
    {
     "name": "stdout",
     "output_type": "stream",
     "text": [
      "181 327 13.12277003885113 -22.887576365167646 [-14.92539339]\n"
     ]
    },
    {
     "name": "stderr",
     "output_type": "stream",
     "text": [
      "INFO (theano.gof.compilelock): Refreshing lock /home/suntans/.theano/compiledir_Linux-4.15--generic-x86_64-with-debian-buster-sid-x86_64-3.6.6-64/lock_dir/lock\n",
      "Multiprocess sampling (4 chains in 4 jobs)\n",
      "CompoundStep\n",
      ">Metropolis: [sigma]\n",
      ">Metropolis: [a0]\n",
      ">Metropolis: [cn]\n",
      ">Metropolis: [alpha]\n",
      "Sampling 4 chains: 100%|██████████| 82000/82000 [00:24<00:00, 3336.60draws/s]\n",
      "The estimated number of effective samples is smaller than 200 for some parameters.\n"
     ]
    },
    {
     "name": "stdout",
     "output_type": "stream",
     "text": [
      "182 327 15.632407135186284 -27.704503415240094 [-17.93413686]\n"
     ]
    },
    {
     "name": "stderr",
     "output_type": "stream",
     "text": [
      "Multiprocess sampling (4 chains in 4 jobs)\n",
      "CompoundStep\n",
      ">Metropolis: [sigma]\n",
      ">Metropolis: [a0]\n",
      ">Metropolis: [cn]\n",
      ">Metropolis: [alpha]\n",
      "Sampling 4 chains: 100%|██████████| 82000/82000 [00:24<00:00, 3415.20draws/s]\n",
      "The estimated number of effective samples is smaller than 200 for some parameters.\n"
     ]
    },
    {
     "name": "stdout",
     "output_type": "stream",
     "text": [
      "183 327 18.35064159115957 -28.00495794340319 [-21.59744996]\n"
     ]
    },
    {
     "name": "stderr",
     "output_type": "stream",
     "text": [
      "INFO (theano.gof.compilelock): Refreshing lock /home/suntans/.theano/compiledir_Linux-4.15--generic-x86_64-with-debian-buster-sid-x86_64-3.6.6-64/lock_dir/lock\n",
      "Multiprocess sampling (4 chains in 4 jobs)\n",
      "CompoundStep\n",
      ">Metropolis: [sigma]\n",
      ">Metropolis: [a0]\n",
      ">Metropolis: [cn]\n",
      ">Metropolis: [alpha]\n",
      "Sampling 4 chains: 100%|██████████| 82000/82000 [00:23<00:00, 3433.55draws/s]\n",
      "The estimated number of effective samples is smaller than 200 for some parameters.\n"
     ]
    },
    {
     "name": "stdout",
     "output_type": "stream",
     "text": [
      "184 327 22.533129305947767 -32.506771876451445 [-26.92889243]\n"
     ]
    },
    {
     "name": "stderr",
     "output_type": "stream",
     "text": [
      "Multiprocess sampling (4 chains in 4 jobs)\n",
      "CompoundStep\n",
      ">Metropolis: [sigma]\n",
      ">Metropolis: [a0]\n",
      ">Metropolis: [cn]\n",
      ">Metropolis: [alpha]\n",
      "Sampling 4 chains: 100%|██████████| 82000/82000 [00:23<00:00, 3435.72draws/s]\n",
      "The estimated number of effective samples is smaller than 200 for some parameters.\n"
     ]
    },
    {
     "name": "stdout",
     "output_type": "stream",
     "text": [
      "185 327 19.326365195851803 -29.02836697272055 [-22.68166092]\n"
     ]
    },
    {
     "name": "stderr",
     "output_type": "stream",
     "text": [
      "INFO (theano.gof.compilelock): Refreshing lock /home/suntans/.theano/compiledir_Linux-4.15--generic-x86_64-with-debian-buster-sid-x86_64-3.6.6-64/lock_dir/lock\n",
      "Multiprocess sampling (4 chains in 4 jobs)\n",
      "CompoundStep\n",
      ">Metropolis: [sigma]\n",
      ">Metropolis: [a0]\n",
      ">Metropolis: [cn]\n",
      ">Metropolis: [alpha]\n",
      "Sampling 4 chains: 100%|██████████| 82000/82000 [00:23<00:00, 3466.06draws/s]\n",
      "The estimated number of effective samples is smaller than 200 for some parameters.\n"
     ]
    },
    {
     "name": "stdout",
     "output_type": "stream",
     "text": [
      "186 327 16.77969234238167 -27.54480420953182 [-19.39457706]\n"
     ]
    },
    {
     "name": "stderr",
     "output_type": "stream",
     "text": [
      "Multiprocess sampling (4 chains in 4 jobs)\n",
      "CompoundStep\n",
      ">Metropolis: [sigma]\n",
      ">Metropolis: [a0]\n",
      ">Metropolis: [cn]\n",
      ">Metropolis: [alpha]\n",
      "Sampling 4 chains: 100%|██████████| 82000/82000 [00:23<00:00, 3472.34draws/s]\n",
      "The estimated number of effective samples is smaller than 200 for some parameters.\n"
     ]
    },
    {
     "name": "stdout",
     "output_type": "stream",
     "text": [
      "187 327 13.097515008416902 -21.833469240049272 [-14.96324087]\n"
     ]
    },
    {
     "name": "stderr",
     "output_type": "stream",
     "text": [
      "INFO (theano.gof.compilelock): Refreshing lock /home/suntans/.theano/compiledir_Linux-4.15--generic-x86_64-with-debian-buster-sid-x86_64-3.6.6-64/lock_dir/lock\n",
      "Multiprocess sampling (4 chains in 4 jobs)\n",
      "CompoundStep\n",
      ">Metropolis: [sigma]\n",
      ">Metropolis: [a0]\n",
      ">Metropolis: [cn]\n",
      ">Metropolis: [alpha]\n",
      "Sampling 4 chains: 100%|██████████| 82000/82000 [00:24<00:00, 3413.31draws/s]\n",
      "The estimated number of effective samples is smaller than 200 for some parameters.\n"
     ]
    },
    {
     "name": "stdout",
     "output_type": "stream",
     "text": [
      "188 327 14.924470359897565 -26.32193025702702 [-17.23988867]\n"
     ]
    },
    {
     "name": "stderr",
     "output_type": "stream",
     "text": [
      "Multiprocess sampling (4 chains in 4 jobs)\n",
      "CompoundStep\n",
      ">Metropolis: [sigma]\n",
      ">Metropolis: [a0]\n",
      ">Metropolis: [cn]\n",
      ">Metropolis: [alpha]\n",
      "Sampling 4 chains: 100%|██████████| 82000/82000 [00:23<00:00, 3468.59draws/s]\n",
      "The estimated number of effective samples is smaller than 200 for some parameters.\n"
     ]
    },
    {
     "name": "stdout",
     "output_type": "stream",
     "text": [
      "189 327 13.581379256284647 -26.11096694336221 [-15.30044245]\n"
     ]
    },
    {
     "name": "stderr",
     "output_type": "stream",
     "text": [
      "INFO (theano.gof.compilelock): Refreshing lock /home/suntans/.theano/compiledir_Linux-4.15--generic-x86_64-with-debian-buster-sid-x86_64-3.6.6-64/lock_dir/lock\n",
      "Multiprocess sampling (4 chains in 4 jobs)\n",
      "CompoundStep\n",
      ">Metropolis: [sigma]\n",
      ">Metropolis: [a0]\n",
      ">Metropolis: [cn]\n",
      ">Metropolis: [alpha]\n",
      "Sampling 4 chains: 100%|██████████| 82000/82000 [00:23<00:00, 3491.90draws/s]\n",
      "The estimated number of effective samples is smaller than 200 for some parameters.\n"
     ]
    },
    {
     "name": "stdout",
     "output_type": "stream",
     "text": [
      "190 327 13.572520054426551 -22.12451166277076 [-15.3758843]\n"
     ]
    },
    {
     "name": "stderr",
     "output_type": "stream",
     "text": [
      "Multiprocess sampling (4 chains in 4 jobs)\n",
      "CompoundStep\n",
      ">Metropolis: [sigma]\n",
      ">Metropolis: [a0]\n",
      ">Metropolis: [cn]\n",
      ">Metropolis: [alpha]\n",
      "Sampling 4 chains: 100%|██████████| 82000/82000 [00:24<00:00, 3372.07draws/s]\n",
      "The estimated number of effective samples is smaller than 200 for some parameters.\n"
     ]
    },
    {
     "name": "stdout",
     "output_type": "stream",
     "text": [
      "191 327 23.415329682326753 -34.217890117625046 [-28.03001095]\n"
     ]
    },
    {
     "name": "stderr",
     "output_type": "stream",
     "text": [
      "INFO (theano.gof.compilelock): Refreshing lock /home/suntans/.theano/compiledir_Linux-4.15--generic-x86_64-with-debian-buster-sid-x86_64-3.6.6-64/lock_dir/lock\n",
      "Multiprocess sampling (4 chains in 4 jobs)\n",
      "CompoundStep\n",
      ">Metropolis: [sigma]\n",
      ">Metropolis: [a0]\n",
      ">Metropolis: [cn]\n",
      ">Metropolis: [alpha]\n",
      "Sampling 4 chains: 100%|██████████| 82000/82000 [00:24<00:00, 3384.30draws/s]\n",
      "The estimated number of effective samples is smaller than 200 for some parameters.\n"
     ]
    },
    {
     "name": "stdout",
     "output_type": "stream",
     "text": [
      "192 327 23.04354825893055 -33.31034624861451 [-27.66448279]\n"
     ]
    },
    {
     "name": "stderr",
     "output_type": "stream",
     "text": [
      "Multiprocess sampling (4 chains in 4 jobs)\n",
      "CompoundStep\n",
      ">Metropolis: [sigma]\n",
      ">Metropolis: [a0]\n",
      ">Metropolis: [cn]\n",
      ">Metropolis: [alpha]\n",
      "Sampling 4 chains: 100%|██████████| 82000/82000 [00:23<00:00, 3466.51draws/s]\n",
      "The estimated number of effective samples is smaller than 200 for some parameters.\n"
     ]
    },
    {
     "name": "stdout",
     "output_type": "stream",
     "text": [
      "193 327 26.531274061914147 -37.87194202897919 [-32.48621125]\n"
     ]
    },
    {
     "name": "stderr",
     "output_type": "stream",
     "text": [
      "INFO (theano.gof.compilelock): Refreshing lock /home/suntans/.theano/compiledir_Linux-4.15--generic-x86_64-with-debian-buster-sid-x86_64-3.6.6-64/lock_dir/lock\n",
      "Multiprocess sampling (4 chains in 4 jobs)\n",
      "CompoundStep\n",
      ">Metropolis: [sigma]\n",
      ">Metropolis: [a0]\n",
      ">Metropolis: [cn]\n",
      ">Metropolis: [alpha]\n",
      "Sampling 4 chains: 100%|██████████| 82000/82000 [00:24<00:00, 3292.19draws/s]\n",
      "The estimated number of effective samples is smaller than 200 for some parameters.\n"
     ]
    },
    {
     "name": "stdout",
     "output_type": "stream",
     "text": [
      "194 327 10.150626972769027 -20.407805938990492 [-11.03949751]\n"
     ]
    },
    {
     "name": "stderr",
     "output_type": "stream",
     "text": [
      "Multiprocess sampling (4 chains in 4 jobs)\n",
      "CompoundStep\n",
      ">Metropolis: [sigma]\n",
      ">Metropolis: [a0]\n",
      ">Metropolis: [cn]\n",
      ">Metropolis: [alpha]\n",
      "Sampling 4 chains: 100%|██████████| 82000/82000 [00:24<00:00, 3294.80draws/s]\n",
      "The estimated number of effective samples is smaller than 200 for some parameters.\n"
     ]
    },
    {
     "name": "stdout",
     "output_type": "stream",
     "text": [
      "195 327 13.154971132672975 -23.764946978890908 [-15.10873723]\n"
     ]
    },
    {
     "name": "stderr",
     "output_type": "stream",
     "text": [
      "INFO (theano.gof.compilelock): Refreshing lock /home/suntans/.theano/compiledir_Linux-4.15--generic-x86_64-with-debian-buster-sid-x86_64-3.6.6-64/lock_dir/lock\n",
      "Multiprocess sampling (4 chains in 4 jobs)\n",
      "CompoundStep\n",
      ">Metropolis: [sigma]\n",
      ">Metropolis: [a0]\n",
      ">Metropolis: [cn]\n",
      ">Metropolis: [alpha]\n",
      "Sampling 4 chains: 100%|██████████| 82000/82000 [00:24<00:00, 3382.20draws/s]\n",
      "The estimated number of effective samples is smaller than 200 for some parameters.\n"
     ]
    },
    {
     "name": "stdout",
     "output_type": "stream",
     "text": [
      "196 327 14.92431970043704 -24.869591696645266 [-17.13624294]\n"
     ]
    },
    {
     "name": "stderr",
     "output_type": "stream",
     "text": [
      "Multiprocess sampling (4 chains in 4 jobs)\n",
      "CompoundStep\n",
      ">Metropolis: [sigma]\n",
      ">Metropolis: [a0]\n",
      ">Metropolis: [cn]\n",
      ">Metropolis: [alpha]\n",
      "Sampling 4 chains: 100%|██████████| 82000/82000 [00:23<00:00, 3441.48draws/s]\n",
      "The estimated number of effective samples is smaller than 200 for some parameters.\n"
     ]
    },
    {
     "name": "stdout",
     "output_type": "stream",
     "text": [
      "197 327 21.78559705967897 -30.52829314469335 [-25.78304015]\n"
     ]
    },
    {
     "name": "stderr",
     "output_type": "stream",
     "text": [
      "INFO (theano.gof.compilelock): Refreshing lock /home/suntans/.theano/compiledir_Linux-4.15--generic-x86_64-with-debian-buster-sid-x86_64-3.6.6-64/lock_dir/lock\n",
      "Multiprocess sampling (4 chains in 4 jobs)\n",
      "CompoundStep\n",
      ">Metropolis: [sigma]\n",
      ">Metropolis: [a0]\n",
      ">Metropolis: [cn]\n",
      ">Metropolis: [alpha]\n",
      "Sampling 4 chains: 100%|██████████| 82000/82000 [00:23<00:00, 3426.59draws/s]\n",
      "The estimated number of effective samples is smaller than 200 for some parameters.\n"
     ]
    },
    {
     "name": "stdout",
     "output_type": "stream",
     "text": [
      "198 327 20.297513553055087 -33.013602350818196 [-23.84310732]\n"
     ]
    },
    {
     "name": "stderr",
     "output_type": "stream",
     "text": [
      "Multiprocess sampling (4 chains in 4 jobs)\n",
      "CompoundStep\n",
      ">Metropolis: [sigma]\n",
      ">Metropolis: [a0]\n",
      ">Metropolis: [cn]\n",
      ">Metropolis: [alpha]\n",
      "Sampling 4 chains: 100%|██████████| 82000/82000 [00:25<00:00, 3256.53draws/s]\n",
      "The estimated number of effective samples is smaller than 200 for some parameters.\n"
     ]
    },
    {
     "name": "stdout",
     "output_type": "stream",
     "text": [
      "199 327 20.22085652978735 -30.441383165790057 [-23.61649057]\n"
     ]
    },
    {
     "name": "stderr",
     "output_type": "stream",
     "text": [
      "INFO (theano.gof.compilelock): Refreshing lock /home/suntans/.theano/compiledir_Linux-4.15--generic-x86_64-with-debian-buster-sid-x86_64-3.6.6-64/lock_dir/lock\n",
      "Multiprocess sampling (4 chains in 4 jobs)\n",
      "CompoundStep\n",
      ">Metropolis: [sigma]\n",
      ">Metropolis: [a0]\n",
      ">Metropolis: [cn]\n",
      ">Metropolis: [alpha]\n",
      "Sampling 4 chains: 100%|██████████| 82000/82000 [00:24<00:00, 3365.41draws/s]\n",
      "The estimated number of effective samples is smaller than 200 for some parameters.\n"
     ]
    },
    {
     "name": "stdout",
     "output_type": "stream",
     "text": [
      "200 327 17.421600751951328 -28.583753813131914 [-20.39968241]\n"
     ]
    },
    {
     "name": "stderr",
     "output_type": "stream",
     "text": [
      "Multiprocess sampling (4 chains in 4 jobs)\n",
      "CompoundStep\n",
      ">Metropolis: [sigma]\n",
      ">Metropolis: [a0]\n",
      ">Metropolis: [cn]\n",
      ">Metropolis: [alpha]\n",
      "Sampling 4 chains: 100%|██████████| 82000/82000 [00:23<00:00, 3433.05draws/s]\n",
      "The estimated number of effective samples is smaller than 200 for some parameters.\n"
     ]
    },
    {
     "name": "stdout",
     "output_type": "stream",
     "text": [
      "201 327 13.90588641592697 -24.98293281909995 [-15.86105892]\n"
     ]
    },
    {
     "name": "stderr",
     "output_type": "stream",
     "text": [
      "INFO (theano.gof.compilelock): Refreshing lock /home/suntans/.theano/compiledir_Linux-4.15--generic-x86_64-with-debian-buster-sid-x86_64-3.6.6-64/lock_dir/lock\n",
      "Multiprocess sampling (4 chains in 4 jobs)\n",
      "CompoundStep\n",
      ">Metropolis: [sigma]\n",
      ">Metropolis: [a0]\n",
      ">Metropolis: [cn]\n",
      ">Metropolis: [alpha]\n",
      "Sampling 4 chains: 100%|██████████| 82000/82000 [00:23<00:00, 3497.32draws/s]\n",
      "The estimated number of effective samples is smaller than 200 for some parameters.\n"
     ]
    },
    {
     "name": "stdout",
     "output_type": "stream",
     "text": [
      "202 327 9.812636514493574 -22.405096494554126 [-10.756795]\n"
     ]
    },
    {
     "name": "stderr",
     "output_type": "stream",
     "text": [
      "Multiprocess sampling (4 chains in 4 jobs)\n",
      "CompoundStep\n",
      ">Metropolis: [sigma]\n",
      ">Metropolis: [a0]\n",
      ">Metropolis: [cn]\n",
      ">Metropolis: [alpha]\n",
      "Sampling 4 chains: 100%|██████████| 82000/82000 [00:23<00:00, 3451.72draws/s]\n",
      "The estimated number of effective samples is smaller than 200 for some parameters.\n"
     ]
    },
    {
     "name": "stdout",
     "output_type": "stream",
     "text": [
      "203 327 8.780623579146962 -20.89988476996166 [-9.43440534]\n"
     ]
    },
    {
     "name": "stderr",
     "output_type": "stream",
     "text": [
      "INFO (theano.gof.compilelock): Refreshing lock /home/suntans/.theano/compiledir_Linux-4.15--generic-x86_64-with-debian-buster-sid-x86_64-3.6.6-64/lock_dir/lock\n",
      "Multiprocess sampling (4 chains in 4 jobs)\n",
      "CompoundStep\n",
      ">Metropolis: [sigma]\n",
      ">Metropolis: [a0]\n",
      ">Metropolis: [cn]\n",
      ">Metropolis: [alpha]\n",
      "Sampling 4 chains: 100%|██████████| 82000/82000 [00:24<00:00, 3386.82draws/s]\n",
      "The estimated number of effective samples is smaller than 200 for some parameters.\n"
     ]
    },
    {
     "name": "stdout",
     "output_type": "stream",
     "text": [
      "204 327 18.742714128790272 -28.230307750460977 [-22.19094564]\n"
     ]
    },
    {
     "name": "stderr",
     "output_type": "stream",
     "text": [
      "Multiprocess sampling (4 chains in 4 jobs)\n",
      "CompoundStep\n",
      ">Metropolis: [sigma]\n",
      ">Metropolis: [a0]\n",
      ">Metropolis: [cn]\n",
      ">Metropolis: [alpha]\n",
      "Sampling 4 chains: 100%|██████████| 82000/82000 [00:23<00:00, 3435.02draws/s]\n",
      "The estimated number of effective samples is smaller than 200 for some parameters.\n"
     ]
    },
    {
     "name": "stdout",
     "output_type": "stream",
     "text": [
      "205 327 15.944514052897466 -25.789475749606527 [-18.52397185]\n"
     ]
    },
    {
     "name": "stderr",
     "output_type": "stream",
     "text": [
      "INFO (theano.gof.compilelock): Refreshing lock /home/suntans/.theano/compiledir_Linux-4.15--generic-x86_64-with-debian-buster-sid-x86_64-3.6.6-64/lock_dir/lock\n",
      "Multiprocess sampling (4 chains in 4 jobs)\n",
      "CompoundStep\n",
      ">Metropolis: [sigma]\n",
      ">Metropolis: [a0]\n",
      ">Metropolis: [cn]\n",
      ">Metropolis: [alpha]\n",
      "Sampling 4 chains: 100%|██████████| 82000/82000 [00:24<00:00, 3379.20draws/s]\n",
      "The estimated number of effective samples is smaller than 200 for some parameters.\n"
     ]
    },
    {
     "name": "stdout",
     "output_type": "stream",
     "text": [
      "206 327 16.676444992284964 -28.589500793359235 [-19.41218841]\n"
     ]
    },
    {
     "name": "stderr",
     "output_type": "stream",
     "text": [
      "Multiprocess sampling (4 chains in 4 jobs)\n",
      "CompoundStep\n",
      ">Metropolis: [sigma]\n",
      ">Metropolis: [a0]\n",
      ">Metropolis: [cn]\n",
      ">Metropolis: [alpha]\n",
      "Sampling 4 chains: 100%|██████████| 82000/82000 [00:24<00:00, 3379.78draws/s]\n",
      "The number of effective samples is smaller than 25% for some parameters.\n"
     ]
    },
    {
     "name": "stdout",
     "output_type": "stream",
     "text": [
      "207 327 15.395706186778622 -23.404292916170785 [-17.8689418]\n"
     ]
    },
    {
     "name": "stderr",
     "output_type": "stream",
     "text": [
      "INFO (theano.gof.compilelock): Refreshing lock /home/suntans/.theano/compiledir_Linux-4.15--generic-x86_64-with-debian-buster-sid-x86_64-3.6.6-64/lock_dir/lock\n",
      "Multiprocess sampling (4 chains in 4 jobs)\n",
      "CompoundStep\n",
      ">Metropolis: [sigma]\n",
      ">Metropolis: [a0]\n",
      ">Metropolis: [cn]\n",
      ">Metropolis: [alpha]\n",
      "Sampling 4 chains: 100%|██████████| 82000/82000 [00:23<00:00, 3516.43draws/s]\n",
      "The estimated number of effective samples is smaller than 200 for some parameters.\n"
     ]
    },
    {
     "name": "stdout",
     "output_type": "stream",
     "text": [
      "208 327 12.126171754203057 -20.43160326384355 [-13.86672685]\n"
     ]
    },
    {
     "name": "stderr",
     "output_type": "stream",
     "text": [
      "Multiprocess sampling (4 chains in 4 jobs)\n",
      "CompoundStep\n",
      ">Metropolis: [sigma]\n",
      ">Metropolis: [a0]\n",
      ">Metropolis: [cn]\n",
      ">Metropolis: [alpha]\n",
      "Sampling 4 chains: 100%|██████████| 82000/82000 [00:26<00:00, 3071.10draws/s]\n",
      "The estimated number of effective samples is smaller than 200 for some parameters.\n"
     ]
    },
    {
     "name": "stdout",
     "output_type": "stream",
     "text": [
      "209 327 6.417901065597984 -19.489527603190684 [-5.98339578]\n"
     ]
    },
    {
     "name": "stderr",
     "output_type": "stream",
     "text": [
      "INFO (theano.gof.compilelock): Refreshing lock /home/suntans/.theano/compiledir_Linux-4.15--generic-x86_64-with-debian-buster-sid-x86_64-3.6.6-64/lock_dir/lock\n",
      "Multiprocess sampling (4 chains in 4 jobs)\n",
      "CompoundStep\n",
      ">Metropolis: [sigma]\n",
      ">Metropolis: [a0]\n",
      ">Metropolis: [cn]\n",
      ">Metropolis: [alpha]\n",
      "Sampling 4 chains: 100%|██████████| 82000/82000 [00:27<00:00, 2946.15draws/s]\n",
      "The estimated number of effective samples is smaller than 200 for some parameters.\n"
     ]
    },
    {
     "name": "stdout",
     "output_type": "stream",
     "text": [
      "210 327 7.07405015444821 -17.491669466381932 [-7.37580504]\n"
     ]
    },
    {
     "name": "stderr",
     "output_type": "stream",
     "text": [
      "Multiprocess sampling (4 chains in 4 jobs)\n",
      "CompoundStep\n",
      ">Metropolis: [sigma]\n",
      ">Metropolis: [a0]\n",
      ">Metropolis: [cn]\n",
      ">Metropolis: [alpha]\n",
      "Sampling 4 chains: 100%|██████████| 82000/82000 [00:24<00:00, 3310.10draws/s]\n",
      "The estimated number of effective samples is smaller than 200 for some parameters.\n"
     ]
    },
    {
     "name": "stdout",
     "output_type": "stream",
     "text": [
      "211 327 12.791955038196127 -24.044635851450064 [-14.41463488]\n"
     ]
    },
    {
     "name": "stderr",
     "output_type": "stream",
     "text": [
      "INFO (theano.gof.compilelock): Refreshing lock /home/suntans/.theano/compiledir_Linux-4.15--generic-x86_64-with-debian-buster-sid-x86_64-3.6.6-64/lock_dir/lock\n",
      "Multiprocess sampling (4 chains in 4 jobs)\n",
      "CompoundStep\n",
      ">Metropolis: [sigma]\n",
      ">Metropolis: [a0]\n",
      ">Metropolis: [cn]\n",
      ">Metropolis: [alpha]\n",
      "Sampling 4 chains: 100%|██████████| 82000/82000 [00:24<00:00, 3356.58draws/s]\n",
      "The estimated number of effective samples is smaller than 200 for some parameters.\n"
     ]
    },
    {
     "name": "stdout",
     "output_type": "stream",
     "text": [
      "212 327 16.841116100167458 -26.3296190670805 [-19.72895306]\n"
     ]
    },
    {
     "name": "stderr",
     "output_type": "stream",
     "text": [
      "Multiprocess sampling (4 chains in 4 jobs)\n",
      "CompoundStep\n",
      ">Metropolis: [sigma]\n",
      ">Metropolis: [a0]\n",
      ">Metropolis: [cn]\n",
      ">Metropolis: [alpha]\n",
      "Sampling 4 chains: 100%|██████████| 82000/82000 [00:24<00:00, 3375.31draws/s]\n",
      "The estimated number of effective samples is smaller than 200 for some parameters.\n"
     ]
    },
    {
     "name": "stdout",
     "output_type": "stream",
     "text": [
      "213 327 22.05346835933639 -35.19721947665383 [-27.00057892]\n"
     ]
    },
    {
     "name": "stderr",
     "output_type": "stream",
     "text": [
      "INFO (theano.gof.compilelock): Refreshing lock /home/suntans/.theano/compiledir_Linux-4.15--generic-x86_64-with-debian-buster-sid-x86_64-3.6.6-64/lock_dir/lock\n",
      "Multiprocess sampling (4 chains in 4 jobs)\n",
      "CompoundStep\n",
      ">Metropolis: [sigma]\n",
      ">Metropolis: [a0]\n",
      ">Metropolis: [cn]\n",
      ">Metropolis: [alpha]\n",
      "Sampling 4 chains: 100%|██████████| 82000/82000 [00:25<00:00, 3258.16draws/s]\n",
      "The gelman-rubin statistic is larger than 1.05 for some parameters. This indicates slight problems during sampling.\n",
      "The estimated number of effective samples is smaller than 200 for some parameters.\n"
     ]
    },
    {
     "name": "stdout",
     "output_type": "stream",
     "text": [
      "214 327 24.111690845102018 -46.65305257303273 [-33.99762367]\n"
     ]
    },
    {
     "name": "stderr",
     "output_type": "stream",
     "text": [
      "Multiprocess sampling (4 chains in 4 jobs)\n",
      "CompoundStep\n",
      ">Metropolis: [sigma]\n",
      ">Metropolis: [a0]\n",
      ">Metropolis: [cn]\n",
      ">Metropolis: [alpha]\n",
      "Sampling 4 chains: 100%|██████████| 82000/82000 [00:25<00:00, 3268.26draws/s]\n",
      "The estimated number of effective samples is smaller than 200 for some parameters.\n"
     ]
    },
    {
     "name": "stdout",
     "output_type": "stream",
     "text": [
      "215 327 23.87070759885844 -38.37397563284105 [-30.95894938]\n"
     ]
    },
    {
     "name": "stderr",
     "output_type": "stream",
     "text": [
      "INFO (theano.gof.compilelock): Refreshing lock /home/suntans/.theano/compiledir_Linux-4.15--generic-x86_64-with-debian-buster-sid-x86_64-3.6.6-64/lock_dir/lock\n",
      "Multiprocess sampling (4 chains in 4 jobs)\n",
      "CompoundStep\n",
      ">Metropolis: [sigma]\n",
      ">Metropolis: [a0]\n",
      ">Metropolis: [cn]\n",
      ">Metropolis: [alpha]\n",
      "Sampling 4 chains: 100%|██████████| 82000/82000 [00:27<00:00, 2981.36draws/s]\n",
      "The gelman-rubin statistic is larger than 1.05 for some parameters. This indicates slight problems during sampling.\n",
      "The estimated number of effective samples is smaller than 200 for some parameters.\n"
     ]
    },
    {
     "name": "stdout",
     "output_type": "stream",
     "text": [
      "216 327 29.330619385246514 -49.249016723749335 [-41.13275771]\n"
     ]
    },
    {
     "name": "stderr",
     "output_type": "stream",
     "text": [
      "Multiprocess sampling (4 chains in 4 jobs)\n",
      "CompoundStep\n",
      ">Metropolis: [sigma]\n",
      ">Metropolis: [a0]\n",
      ">Metropolis: [cn]\n",
      ">Metropolis: [alpha]\n",
      "Sampling 4 chains: 100%|██████████| 82000/82000 [00:24<00:00, 3343.49draws/s]\n",
      "The gelman-rubin statistic is larger than 1.05 for some parameters. This indicates slight problems during sampling.\n",
      "The estimated number of effective samples is smaller than 200 for some parameters.\n"
     ]
    },
    {
     "name": "stdout",
     "output_type": "stream",
     "text": [
      "217 327 29.825114528170634 -57.21982575412522 [-50.44325323]\n"
     ]
    },
    {
     "name": "stderr",
     "output_type": "stream",
     "text": [
      "INFO (theano.gof.compilelock): Refreshing lock /home/suntans/.theano/compiledir_Linux-4.15--generic-x86_64-with-debian-buster-sid-x86_64-3.6.6-64/lock_dir/lock\n",
      "Multiprocess sampling (4 chains in 4 jobs)\n",
      "CompoundStep\n",
      ">Metropolis: [sigma]\n",
      ">Metropolis: [a0]\n",
      ">Metropolis: [cn]\n",
      ">Metropolis: [alpha]\n",
      "Sampling 4 chains: 100%|██████████| 82000/82000 [00:24<00:00, 3301.32draws/s]\n",
      "The estimated number of effective samples is smaller than 200 for some parameters.\n"
     ]
    },
    {
     "name": "stdout",
     "output_type": "stream",
     "text": [
      "218 327 26.92505028911407 -45.238301159370224 [-36.95655125]\n"
     ]
    },
    {
     "name": "stderr",
     "output_type": "stream",
     "text": [
      "Multiprocess sampling (4 chains in 4 jobs)\n",
      "CompoundStep\n",
      ">Metropolis: [sigma]\n",
      ">Metropolis: [a0]\n",
      ">Metropolis: [cn]\n",
      ">Metropolis: [alpha]\n",
      "Sampling 4 chains: 100%|██████████| 82000/82000 [00:24<00:00, 3397.08draws/s]\n",
      "The estimated number of effective samples is smaller than 200 for some parameters.\n"
     ]
    },
    {
     "name": "stdout",
     "output_type": "stream",
     "text": [
      "219 327 28.72067644284901 -51.37199071856229 [-39.196978]\n"
     ]
    },
    {
     "name": "stderr",
     "output_type": "stream",
     "text": [
      "INFO (theano.gof.compilelock): Refreshing lock /home/suntans/.theano/compiledir_Linux-4.15--generic-x86_64-with-debian-buster-sid-x86_64-3.6.6-64/lock_dir/lock\n",
      "Multiprocess sampling (4 chains in 4 jobs)\n",
      "CompoundStep\n",
      ">Metropolis: [sigma]\n",
      ">Metropolis: [a0]\n",
      ">Metropolis: [cn]\n",
      ">Metropolis: [alpha]\n",
      "Sampling 4 chains: 100%|██████████| 82000/82000 [00:26<00:00, 3120.84draws/s]\n",
      "The estimated number of effective samples is smaller than 200 for some parameters.\n"
     ]
    },
    {
     "name": "stdout",
     "output_type": "stream",
     "text": [
      "220 327 18.320730613520027 -28.185121584766314 [-21.28458464]\n"
     ]
    },
    {
     "name": "stderr",
     "output_type": "stream",
     "text": [
      "Multiprocess sampling (4 chains in 4 jobs)\n",
      "CompoundStep\n",
      ">Metropolis: [sigma]\n",
      ">Metropolis: [a0]\n",
      ">Metropolis: [cn]\n",
      ">Metropolis: [alpha]\n",
      "Sampling 4 chains: 100%|██████████| 82000/82000 [00:26<00:00, 3125.46draws/s]\n",
      "The estimated number of effective samples is smaller than 200 for some parameters.\n"
     ]
    },
    {
     "name": "stdout",
     "output_type": "stream",
     "text": [
      "221 327 15.685455967268446 -25.83742612457913 [-18.04151219]\n"
     ]
    },
    {
     "name": "stderr",
     "output_type": "stream",
     "text": [
      "INFO (theano.gof.compilelock): Refreshing lock /home/suntans/.theano/compiledir_Linux-4.15--generic-x86_64-with-debian-buster-sid-x86_64-3.6.6-64/lock_dir/lock\n",
      "Multiprocess sampling (4 chains in 4 jobs)\n",
      "CompoundStep\n",
      ">Metropolis: [sigma]\n",
      ">Metropolis: [a0]\n",
      ">Metropolis: [cn]\n",
      ">Metropolis: [alpha]\n",
      "Sampling 4 chains: 100%|██████████| 82000/82000 [00:25<00:00, 3159.59draws/s]\n",
      "The estimated number of effective samples is smaller than 200 for some parameters.\n"
     ]
    },
    {
     "name": "stdout",
     "output_type": "stream",
     "text": [
      "222 327 6.933742456069698 -22.16923760153776 [-7.05370501]\n"
     ]
    },
    {
     "name": "stderr",
     "output_type": "stream",
     "text": [
      "Multiprocess sampling (4 chains in 4 jobs)\n",
      "CompoundStep\n",
      ">Metropolis: [sigma]\n",
      ">Metropolis: [a0]\n",
      ">Metropolis: [cn]\n",
      ">Metropolis: [alpha]\n",
      "Sampling 4 chains: 100%|██████████| 82000/82000 [00:25<00:00, 3272.36draws/s]\n",
      "The estimated number of effective samples is smaller than 200 for some parameters.\n"
     ]
    },
    {
     "name": "stdout",
     "output_type": "stream",
     "text": [
      "223 327 10.079043619824708 -21.03091531253108 [-10.92469259]\n"
     ]
    },
    {
     "name": "stderr",
     "output_type": "stream",
     "text": [
      "INFO (theano.gof.compilelock): Refreshing lock /home/suntans/.theano/compiledir_Linux-4.15--generic-x86_64-with-debian-buster-sid-x86_64-3.6.6-64/lock_dir/lock\n",
      "Multiprocess sampling (4 chains in 4 jobs)\n",
      "CompoundStep\n",
      ">Metropolis: [sigma]\n",
      ">Metropolis: [a0]\n",
      ">Metropolis: [cn]\n",
      ">Metropolis: [alpha]\n",
      "Sampling 4 chains: 100%|██████████| 82000/82000 [00:24<00:00, 3383.65draws/s]\n",
      "The estimated number of effective samples is smaller than 200 for some parameters.\n"
     ]
    },
    {
     "name": "stdout",
     "output_type": "stream",
     "text": [
      "224 327 16.43206677373719 -25.118177037342416 [-19.05940479]\n"
     ]
    },
    {
     "name": "stderr",
     "output_type": "stream",
     "text": [
      "Multiprocess sampling (4 chains in 4 jobs)\n",
      "CompoundStep\n",
      ">Metropolis: [sigma]\n",
      ">Metropolis: [a0]\n",
      ">Metropolis: [cn]\n",
      ">Metropolis: [alpha]\n",
      "Sampling 4 chains: 100%|██████████| 82000/82000 [00:24<00:00, 3393.26draws/s]\n",
      "The estimated number of effective samples is smaller than 200 for some parameters.\n"
     ]
    },
    {
     "name": "stdout",
     "output_type": "stream",
     "text": [
      "225 327 22.652668577737156 -31.91854177318577 [-27.07495985]\n"
     ]
    },
    {
     "name": "stderr",
     "output_type": "stream",
     "text": [
      "INFO (theano.gof.compilelock): Refreshing lock /home/suntans/.theano/compiledir_Linux-4.15--generic-x86_64-with-debian-buster-sid-x86_64-3.6.6-64/lock_dir/lock\n",
      "Multiprocess sampling (4 chains in 4 jobs)\n",
      "CompoundStep\n",
      ">Metropolis: [sigma]\n",
      ">Metropolis: [a0]\n",
      ">Metropolis: [cn]\n",
      ">Metropolis: [alpha]\n",
      "Sampling 4 chains: 100%|██████████| 82000/82000 [00:25<00:00, 3220.86draws/s]\n",
      "The estimated number of effective samples is smaller than 200 for some parameters.\n"
     ]
    },
    {
     "name": "stdout",
     "output_type": "stream",
     "text": [
      "226 327 15.908266845609072 -23.728988710535454 [-18.63005317]\n"
     ]
    },
    {
     "name": "stderr",
     "output_type": "stream",
     "text": [
      "Multiprocess sampling (4 chains in 4 jobs)\n",
      "CompoundStep\n",
      ">Metropolis: [sigma]\n",
      ">Metropolis: [a0]\n",
      ">Metropolis: [cn]\n",
      ">Metropolis: [alpha]\n",
      "Sampling 4 chains: 100%|██████████| 82000/82000 [00:26<00:00, 3037.64draws/s]\n",
      "The estimated number of effective samples is smaller than 200 for some parameters.\n"
     ]
    },
    {
     "name": "stdout",
     "output_type": "stream",
     "text": [
      "227 327 11.490306255952786 -23.376942434486548 [-12.95791293]\n"
     ]
    },
    {
     "name": "stderr",
     "output_type": "stream",
     "text": [
      "INFO (theano.gof.compilelock): Refreshing lock /home/suntans/.theano/compiledir_Linux-4.15--generic-x86_64-with-debian-buster-sid-x86_64-3.6.6-64/lock_dir/lock\n",
      "Multiprocess sampling (4 chains in 4 jobs)\n",
      "CompoundStep\n",
      ">Metropolis: [sigma]\n",
      ">Metropolis: [a0]\n",
      ">Metropolis: [cn]\n",
      ">Metropolis: [alpha]\n",
      "Sampling 4 chains: 100%|██████████| 82000/82000 [00:24<00:00, 3304.77draws/s]\n",
      "The estimated number of effective samples is smaller than 200 for some parameters.\n"
     ]
    },
    {
     "name": "stdout",
     "output_type": "stream",
     "text": [
      "228 327 9.704793862848431 -19.787525788612303 [-10.25316956]\n"
     ]
    },
    {
     "name": "stderr",
     "output_type": "stream",
     "text": [
      "Multiprocess sampling (4 chains in 4 jobs)\n",
      "CompoundStep\n",
      ">Metropolis: [sigma]\n",
      ">Metropolis: [a0]\n",
      ">Metropolis: [cn]\n",
      ">Metropolis: [alpha]\n",
      "Sampling 4 chains: 100%|██████████| 82000/82000 [00:24<00:00, 3395.21draws/s]\n",
      "The estimated number of effective samples is smaller than 200 for some parameters.\n"
     ]
    },
    {
     "name": "stdout",
     "output_type": "stream",
     "text": [
      "229 327 10.798967807798272 -20.64808995030159 [-11.80534434]\n"
     ]
    },
    {
     "name": "stderr",
     "output_type": "stream",
     "text": [
      "INFO (theano.gof.compilelock): Refreshing lock /home/suntans/.theano/compiledir_Linux-4.15--generic-x86_64-with-debian-buster-sid-x86_64-3.6.6-64/lock_dir/lock\n",
      "Multiprocess sampling (4 chains in 4 jobs)\n",
      "CompoundStep\n",
      ">Metropolis: [sigma]\n",
      ">Metropolis: [a0]\n",
      ">Metropolis: [cn]\n",
      ">Metropolis: [alpha]\n",
      "Sampling 4 chains: 100%|██████████| 82000/82000 [00:24<00:00, 3392.51draws/s]\n",
      "The estimated number of effective samples is smaller than 200 for some parameters.\n"
     ]
    },
    {
     "name": "stdout",
     "output_type": "stream",
     "text": [
      "230 327 16.7865456375399 -27.058620144336796 [-19.41661372]\n"
     ]
    },
    {
     "name": "stderr",
     "output_type": "stream",
     "text": [
      "Multiprocess sampling (4 chains in 4 jobs)\n",
      "CompoundStep\n",
      ">Metropolis: [sigma]\n",
      ">Metropolis: [a0]\n",
      ">Metropolis: [cn]\n",
      ">Metropolis: [alpha]\n",
      "Sampling 4 chains: 100%|██████████| 82000/82000 [00:23<00:00, 3429.77draws/s]\n",
      "The number of effective samples is smaller than 25% for some parameters.\n"
     ]
    },
    {
     "name": "stdout",
     "output_type": "stream",
     "text": [
      "231 327 15.178791482721069 -24.443522742086685 [-17.57339226]\n"
     ]
    },
    {
     "name": "stderr",
     "output_type": "stream",
     "text": [
      "INFO (theano.gof.compilelock): Refreshing lock /home/suntans/.theano/compiledir_Linux-4.15--generic-x86_64-with-debian-buster-sid-x86_64-3.6.6-64/lock_dir/lock\n",
      "Multiprocess sampling (4 chains in 4 jobs)\n",
      "CompoundStep\n",
      ">Metropolis: [sigma]\n",
      ">Metropolis: [a0]\n",
      ">Metropolis: [cn]\n",
      ">Metropolis: [alpha]\n",
      "Sampling 4 chains: 100%|██████████| 82000/82000 [00:23<00:00, 3431.32draws/s]\n",
      "The estimated number of effective samples is smaller than 200 for some parameters.\n"
     ]
    },
    {
     "name": "stdout",
     "output_type": "stream",
     "text": [
      "232 327 12.065612208783637 -25.53712296918593 [-13.50554327]\n"
     ]
    },
    {
     "name": "stderr",
     "output_type": "stream",
     "text": [
      "Multiprocess sampling (4 chains in 4 jobs)\n",
      "CompoundStep\n",
      ">Metropolis: [sigma]\n",
      ">Metropolis: [a0]\n",
      ">Metropolis: [cn]\n",
      ">Metropolis: [alpha]\n",
      "Sampling 4 chains: 100%|██████████| 82000/82000 [00:24<00:00, 3414.96draws/s]\n",
      "The estimated number of effective samples is smaller than 200 for some parameters.\n"
     ]
    },
    {
     "name": "stdout",
     "output_type": "stream",
     "text": [
      "233 327 13.118345671945793 -22.419380371166767 [-14.80757728]\n"
     ]
    },
    {
     "name": "stderr",
     "output_type": "stream",
     "text": [
      "INFO (theano.gof.compilelock): Refreshing lock /home/suntans/.theano/compiledir_Linux-4.15--generic-x86_64-with-debian-buster-sid-x86_64-3.6.6-64/lock_dir/lock\n",
      "Multiprocess sampling (4 chains in 4 jobs)\n",
      "CompoundStep\n",
      ">Metropolis: [sigma]\n",
      ">Metropolis: [a0]\n",
      ">Metropolis: [cn]\n",
      ">Metropolis: [alpha]\n",
      "Sampling 4 chains: 100%|██████████| 82000/82000 [00:25<00:00, 3234.78draws/s]\n",
      "The estimated number of effective samples is smaller than 200 for some parameters.\n"
     ]
    },
    {
     "name": "stdout",
     "output_type": "stream",
     "text": [
      "234 327 22.950641898762225 -32.05445405605992 [-27.10775286]\n"
     ]
    },
    {
     "name": "stderr",
     "output_type": "stream",
     "text": [
      "Multiprocess sampling (4 chains in 4 jobs)\n",
      "CompoundStep\n",
      ">Metropolis: [sigma]\n",
      ">Metropolis: [a0]\n",
      ">Metropolis: [cn]\n",
      ">Metropolis: [alpha]\n",
      "Sampling 4 chains: 100%|██████████| 82000/82000 [00:24<00:00, 3362.98draws/s]\n",
      "The estimated number of effective samples is smaller than 200 for some parameters.\n"
     ]
    },
    {
     "name": "stdout",
     "output_type": "stream",
     "text": [
      "235 327 20.87822794285523 -32.956219799476024 [-24.79577082]\n"
     ]
    },
    {
     "name": "stderr",
     "output_type": "stream",
     "text": [
      "INFO (theano.gof.compilelock): Refreshing lock /home/suntans/.theano/compiledir_Linux-4.15--generic-x86_64-with-debian-buster-sid-x86_64-3.6.6-64/lock_dir/lock\n",
      "Multiprocess sampling (4 chains in 4 jobs)\n",
      "CompoundStep\n",
      ">Metropolis: [sigma]\n",
      ">Metropolis: [a0]\n",
      ">Metropolis: [cn]\n",
      ">Metropolis: [alpha]\n",
      "Sampling 4 chains: 100%|██████████| 82000/82000 [00:24<00:00, 3382.09draws/s]\n",
      "The estimated number of effective samples is smaller than 200 for some parameters.\n"
     ]
    },
    {
     "name": "stdout",
     "output_type": "stream",
     "text": [
      "236 327 14.945380941904594 -25.940917255043836 [-17.27169818]\n"
     ]
    },
    {
     "name": "stderr",
     "output_type": "stream",
     "text": [
      "Multiprocess sampling (4 chains in 4 jobs)\n",
      "CompoundStep\n",
      ">Metropolis: [sigma]\n",
      ">Metropolis: [a0]\n",
      ">Metropolis: [cn]\n",
      ">Metropolis: [alpha]\n",
      "Sampling 4 chains: 100%|██████████| 82000/82000 [00:24<00:00, 3316.96draws/s]\n",
      "The estimated number of effective samples is smaller than 200 for some parameters.\n"
     ]
    },
    {
     "name": "stdout",
     "output_type": "stream",
     "text": [
      "237 327 21.713121040426863 -31.731698382318807 [-25.72582773]\n"
     ]
    },
    {
     "name": "stderr",
     "output_type": "stream",
     "text": [
      "INFO (theano.gof.compilelock): Refreshing lock /home/suntans/.theano/compiledir_Linux-4.15--generic-x86_64-with-debian-buster-sid-x86_64-3.6.6-64/lock_dir/lock\n",
      "Multiprocess sampling (4 chains in 4 jobs)\n",
      "CompoundStep\n",
      ">Metropolis: [sigma]\n",
      ">Metropolis: [a0]\n",
      ">Metropolis: [cn]\n",
      ">Metropolis: [alpha]\n",
      "Sampling 4 chains: 100%|██████████| 82000/82000 [00:23<00:00, 3431.37draws/s]\n",
      "The estimated number of effective samples is smaller than 200 for some parameters.\n"
     ]
    },
    {
     "name": "stdout",
     "output_type": "stream",
     "text": [
      "238 327 20.249068173876832 -30.28909241327472 [-23.8318065]\n"
     ]
    },
    {
     "name": "stderr",
     "output_type": "stream",
     "text": [
      "Multiprocess sampling (4 chains in 4 jobs)\n",
      "CompoundStep\n",
      ">Metropolis: [sigma]\n",
      ">Metropolis: [a0]\n",
      ">Metropolis: [cn]\n",
      ">Metropolis: [alpha]\n",
      "Sampling 4 chains: 100%|██████████| 82000/82000 [00:24<00:00, 3346.98draws/s]\n",
      "The estimated number of effective samples is smaller than 200 for some parameters.\n"
     ]
    },
    {
     "name": "stdout",
     "output_type": "stream",
     "text": [
      "239 327 16.536185984457894 -24.793079911207336 [-19.26100418]\n"
     ]
    },
    {
     "name": "stderr",
     "output_type": "stream",
     "text": [
      "INFO (theano.gof.compilelock): Refreshing lock /home/suntans/.theano/compiledir_Linux-4.15--generic-x86_64-with-debian-buster-sid-x86_64-3.6.6-64/lock_dir/lock\n",
      "Multiprocess sampling (4 chains in 4 jobs)\n",
      "CompoundStep\n",
      ">Metropolis: [sigma]\n",
      ">Metropolis: [a0]\n",
      ">Metropolis: [cn]\n",
      ">Metropolis: [alpha]\n",
      "Sampling 4 chains: 100%|██████████| 82000/82000 [00:24<00:00, 3351.15draws/s]\n",
      "The estimated number of effective samples is smaller than 200 for some parameters.\n"
     ]
    },
    {
     "name": "stdout",
     "output_type": "stream",
     "text": [
      "240 327 23.19790873793194 -35.29431665241992 [-28.00702187]\n"
     ]
    },
    {
     "name": "stderr",
     "output_type": "stream",
     "text": [
      "Multiprocess sampling (4 chains in 4 jobs)\n",
      "CompoundStep\n",
      ">Metropolis: [sigma]\n",
      ">Metropolis: [a0]\n",
      ">Metropolis: [cn]\n",
      ">Metropolis: [alpha]\n",
      "Sampling 4 chains: 100%|██████████| 82000/82000 [00:25<00:00, 3195.69draws/s]\n",
      "The gelman-rubin statistic is larger than 1.05 for some parameters. This indicates slight problems during sampling.\n",
      "The estimated number of effective samples is smaller than 200 for some parameters.\n"
     ]
    },
    {
     "name": "stdout",
     "output_type": "stream",
     "text": [
      "241 327 25.12628151247201 -34.246752970046444 [-30.21922206]\n"
     ]
    },
    {
     "name": "stderr",
     "output_type": "stream",
     "text": [
      "INFO (theano.gof.compilelock): Refreshing lock /home/suntans/.theano/compiledir_Linux-4.15--generic-x86_64-with-debian-buster-sid-x86_64-3.6.6-64/lock_dir/lock\n",
      "Multiprocess sampling (4 chains in 4 jobs)\n",
      "CompoundStep\n",
      ">Metropolis: [sigma]\n",
      ">Metropolis: [a0]\n",
      ">Metropolis: [cn]\n",
      ">Metropolis: [alpha]\n",
      "Sampling 4 chains: 100%|██████████| 82000/82000 [00:25<00:00, 3205.50draws/s]\n",
      "The estimated number of effective samples is smaller than 200 for some parameters.\n"
     ]
    },
    {
     "name": "stdout",
     "output_type": "stream",
     "text": [
      "242 327 27.800326406680924 -39.635568350043954 [-34.4117959]\n"
     ]
    },
    {
     "name": "stderr",
     "output_type": "stream",
     "text": [
      "Multiprocess sampling (4 chains in 4 jobs)\n",
      "CompoundStep\n",
      ">Metropolis: [sigma]\n",
      ">Metropolis: [a0]\n",
      ">Metropolis: [cn]\n",
      ">Metropolis: [alpha]\n",
      "Sampling 4 chains: 100%|██████████| 82000/82000 [00:25<00:00, 3264.29draws/s]\n",
      "The estimated number of effective samples is smaller than 200 for some parameters.\n"
     ]
    },
    {
     "name": "stdout",
     "output_type": "stream",
     "text": [
      "243 327 23.8931882458563 -34.026513477683096 [-28.76746068]\n"
     ]
    },
    {
     "name": "stderr",
     "output_type": "stream",
     "text": [
      "INFO (theano.gof.compilelock): Refreshing lock /home/suntans/.theano/compiledir_Linux-4.15--generic-x86_64-with-debian-buster-sid-x86_64-3.6.6-64/lock_dir/lock\n",
      "Multiprocess sampling (4 chains in 4 jobs)\n",
      "CompoundStep\n",
      ">Metropolis: [sigma]\n",
      ">Metropolis: [a0]\n",
      ">Metropolis: [cn]\n",
      ">Metropolis: [alpha]\n",
      "Sampling 4 chains: 100%|██████████| 82000/82000 [00:25<00:00, 3162.99draws/s]\n",
      "The estimated number of effective samples is smaller than 200 for some parameters.\n"
     ]
    },
    {
     "name": "stdout",
     "output_type": "stream",
     "text": [
      "244 327 20.677373341390886 -30.779765527377325 [-24.56538212]\n"
     ]
    },
    {
     "name": "stderr",
     "output_type": "stream",
     "text": [
      "Multiprocess sampling (4 chains in 4 jobs)\n",
      "CompoundStep\n",
      ">Metropolis: [sigma]\n",
      ">Metropolis: [a0]\n",
      ">Metropolis: [cn]\n",
      ">Metropolis: [alpha]\n",
      "Sampling 4 chains: 100%|██████████| 82000/82000 [00:29<00:00, 2778.68draws/s]\n",
      "The estimated number of effective samples is smaller than 200 for some parameters.\n"
     ]
    },
    {
     "name": "stdout",
     "output_type": "stream",
     "text": [
      "245 327 21.945172468009318 -31.352199677730784 [-25.92610577]\n"
     ]
    },
    {
     "name": "stderr",
     "output_type": "stream",
     "text": [
      "INFO (theano.gof.compilelock): Refreshing lock /home/suntans/.theano/compiledir_Linux-4.15--generic-x86_64-with-debian-buster-sid-x86_64-3.6.6-64/lock_dir/lock\n",
      "Multiprocess sampling (4 chains in 4 jobs)\n",
      "CompoundStep\n",
      ">Metropolis: [sigma]\n",
      ">Metropolis: [a0]\n",
      ">Metropolis: [cn]\n",
      ">Metropolis: [alpha]\n",
      "Sampling 4 chains: 100%|██████████| 82000/82000 [00:27<00:00, 2984.42draws/s]\n",
      "The estimated number of effective samples is smaller than 200 for some parameters.\n"
     ]
    },
    {
     "name": "stdout",
     "output_type": "stream",
     "text": [
      "246 327 16.753747191030385 -26.06342709032022 [-19.52094929]\n"
     ]
    },
    {
     "name": "stderr",
     "output_type": "stream",
     "text": [
      "Multiprocess sampling (4 chains in 4 jobs)\n",
      "CompoundStep\n",
      ">Metropolis: [sigma]\n",
      ">Metropolis: [a0]\n",
      ">Metropolis: [cn]\n",
      ">Metropolis: [alpha]\n",
      "Sampling 4 chains: 100%|██████████| 82000/82000 [00:27<00:00, 3012.95draws/s]\n",
      "The estimated number of effective samples is smaller than 200 for some parameters.\n"
     ]
    },
    {
     "name": "stdout",
     "output_type": "stream",
     "text": [
      "247 327 14.518515346069291 -25.029644733160175 [-16.75408669]\n"
     ]
    },
    {
     "name": "stderr",
     "output_type": "stream",
     "text": [
      "INFO (theano.gof.compilelock): Refreshing lock /home/suntans/.theano/compiledir_Linux-4.15--generic-x86_64-with-debian-buster-sid-x86_64-3.6.6-64/lock_dir/lock\n",
      "Multiprocess sampling (4 chains in 4 jobs)\n",
      "CompoundStep\n",
      ">Metropolis: [sigma]\n",
      ">Metropolis: [a0]\n",
      ">Metropolis: [cn]\n",
      ">Metropolis: [alpha]\n",
      "Sampling 4 chains: 100%|██████████| 82000/82000 [00:25<00:00, 3172.06draws/s]\n",
      "The estimated number of effective samples is smaller than 200 for some parameters.\n"
     ]
    },
    {
     "name": "stdout",
     "output_type": "stream",
     "text": [
      "248 327 14.949809149510616 -24.617457650090536 [-17.15874413]\n"
     ]
    },
    {
     "name": "stderr",
     "output_type": "stream",
     "text": [
      "Multiprocess sampling (4 chains in 4 jobs)\n",
      "CompoundStep\n",
      ">Metropolis: [sigma]\n",
      ">Metropolis: [a0]\n",
      ">Metropolis: [cn]\n",
      ">Metropolis: [alpha]\n",
      "Sampling 4 chains: 100%|██████████| 82000/82000 [00:25<00:00, 3219.40draws/s]\n",
      "The estimated number of effective samples is smaller than 200 for some parameters.\n"
     ]
    },
    {
     "name": "stdout",
     "output_type": "stream",
     "text": [
      "249 327 17.340573313556256 -27.440392059661555 [-20.30015503]\n"
     ]
    },
    {
     "name": "stderr",
     "output_type": "stream",
     "text": [
      "INFO (theano.gof.compilelock): Refreshing lock /home/suntans/.theano/compiledir_Linux-4.15--generic-x86_64-with-debian-buster-sid-x86_64-3.6.6-64/lock_dir/lock\n",
      "Multiprocess sampling (4 chains in 4 jobs)\n",
      "CompoundStep\n",
      ">Metropolis: [sigma]\n",
      ">Metropolis: [a0]\n",
      ">Metropolis: [cn]\n",
      ">Metropolis: [alpha]\n",
      "Sampling 4 chains: 100%|██████████| 82000/82000 [00:25<00:00, 3221.08draws/s]\n",
      "The estimated number of effective samples is smaller than 200 for some parameters.\n"
     ]
    },
    {
     "name": "stdout",
     "output_type": "stream",
     "text": [
      "250 327 23.494882762881293 -34.066289955995934 [-28.5192932]\n"
     ]
    },
    {
     "name": "stderr",
     "output_type": "stream",
     "text": [
      "Multiprocess sampling (4 chains in 4 jobs)\n",
      "CompoundStep\n",
      ">Metropolis: [sigma]\n",
      ">Metropolis: [a0]\n",
      ">Metropolis: [cn]\n",
      ">Metropolis: [alpha]\n",
      "Sampling 4 chains: 100%|██████████| 82000/82000 [00:23<00:00, 3429.12draws/s]\n",
      "The estimated number of effective samples is smaller than 200 for some parameters.\n"
     ]
    },
    {
     "name": "stdout",
     "output_type": "stream",
     "text": [
      "251 327 17.416774503563225 -27.596566313335366 [-20.44795408]\n"
     ]
    },
    {
     "name": "stderr",
     "output_type": "stream",
     "text": [
      "INFO (theano.gof.compilelock): Refreshing lock /home/suntans/.theano/compiledir_Linux-4.15--generic-x86_64-with-debian-buster-sid-x86_64-3.6.6-64/lock_dir/lock\n",
      "Multiprocess sampling (4 chains in 4 jobs)\n",
      "CompoundStep\n",
      ">Metropolis: [sigma]\n",
      ">Metropolis: [a0]\n",
      ">Metropolis: [cn]\n",
      ">Metropolis: [alpha]\n",
      "Sampling 4 chains: 100%|██████████| 82000/82000 [00:24<00:00, 3366.93draws/s]\n",
      "The estimated number of effective samples is smaller than 200 for some parameters.\n"
     ]
    },
    {
     "name": "stdout",
     "output_type": "stream",
     "text": [
      "252 327 23.621623284936227 -34.07927826826367 [-28.177732]\n"
     ]
    },
    {
     "name": "stderr",
     "output_type": "stream",
     "text": [
      "Multiprocess sampling (4 chains in 4 jobs)\n",
      "CompoundStep\n",
      ">Metropolis: [sigma]\n",
      ">Metropolis: [a0]\n",
      ">Metropolis: [cn]\n",
      ">Metropolis: [alpha]\n",
      "Sampling 4 chains: 100%|██████████| 82000/82000 [00:24<00:00, 3289.30draws/s]\n",
      "The estimated number of effective samples is smaller than 200 for some parameters.\n"
     ]
    },
    {
     "name": "stdout",
     "output_type": "stream",
     "text": [
      "253 327 23.034896926455534 -33.1832559019963 [-27.66122647]\n"
     ]
    },
    {
     "name": "stderr",
     "output_type": "stream",
     "text": [
      "INFO (theano.gof.compilelock): Refreshing lock /home/suntans/.theano/compiledir_Linux-4.15--generic-x86_64-with-debian-buster-sid-x86_64-3.6.6-64/lock_dir/lock\n",
      "Multiprocess sampling (4 chains in 4 jobs)\n",
      "CompoundStep\n",
      ">Metropolis: [sigma]\n",
      ">Metropolis: [a0]\n",
      ">Metropolis: [cn]\n",
      ">Metropolis: [alpha]\n",
      "Sampling 4 chains: 100%|██████████| 82000/82000 [00:24<00:00, 3392.26draws/s]\n",
      "The estimated number of effective samples is smaller than 200 for some parameters.\n"
     ]
    },
    {
     "name": "stdout",
     "output_type": "stream",
     "text": [
      "254 327 28.535769847007295 -50.987694434874705 [-39.88677105]\n"
     ]
    },
    {
     "name": "stderr",
     "output_type": "stream",
     "text": [
      "Multiprocess sampling (4 chains in 4 jobs)\n",
      "CompoundStep\n",
      ">Metropolis: [sigma]\n",
      ">Metropolis: [a0]\n",
      ">Metropolis: [cn]\n",
      ">Metropolis: [alpha]\n",
      "Sampling 4 chains: 100%|██████████| 82000/82000 [00:23<00:00, 3430.87draws/s]\n",
      "The estimated number of effective samples is smaller than 200 for some parameters.\n"
     ]
    },
    {
     "name": "stdout",
     "output_type": "stream",
     "text": [
      "255 327 23.35508036388405 -33.212627445950474 [-28.07285691]\n"
     ]
    },
    {
     "name": "stderr",
     "output_type": "stream",
     "text": [
      "INFO (theano.gof.compilelock): Refreshing lock /home/suntans/.theano/compiledir_Linux-4.15--generic-x86_64-with-debian-buster-sid-x86_64-3.6.6-64/lock_dir/lock\n",
      "Multiprocess sampling (4 chains in 4 jobs)\n",
      "CompoundStep\n",
      ">Metropolis: [sigma]\n",
      ">Metropolis: [a0]\n",
      ">Metropolis: [cn]\n",
      ">Metropolis: [alpha]\n",
      "Sampling 4 chains: 100%|██████████| 82000/82000 [00:23<00:00, 3438.70draws/s]\n",
      "The estimated number of effective samples is smaller than 200 for some parameters.\n"
     ]
    },
    {
     "name": "stdout",
     "output_type": "stream",
     "text": [
      "256 327 19.263459928713033 -28.386318251761114 [-22.63918619]\n"
     ]
    },
    {
     "name": "stderr",
     "output_type": "stream",
     "text": [
      "Multiprocess sampling (4 chains in 4 jobs)\n",
      "CompoundStep\n",
      ">Metropolis: [sigma]\n",
      ">Metropolis: [a0]\n",
      ">Metropolis: [cn]\n",
      ">Metropolis: [alpha]\n",
      "Sampling 4 chains: 100%|██████████| 82000/82000 [00:27<00:00, 2982.00draws/s]\n",
      "The estimated number of effective samples is smaller than 200 for some parameters.\n"
     ]
    },
    {
     "name": "stdout",
     "output_type": "stream",
     "text": [
      "257 327 16.328779012596513 -28.439845371876338 [-18.87756288]\n"
     ]
    },
    {
     "name": "stderr",
     "output_type": "stream",
     "text": [
      "INFO (theano.gof.compilelock): Refreshing lock /home/suntans/.theano/compiledir_Linux-4.15--generic-x86_64-with-debian-buster-sid-x86_64-3.6.6-64/lock_dir/lock\n",
      "Multiprocess sampling (4 chains in 4 jobs)\n",
      "CompoundStep\n",
      ">Metropolis: [sigma]\n",
      ">Metropolis: [a0]\n",
      ">Metropolis: [cn]\n",
      ">Metropolis: [alpha]\n",
      "Sampling 4 chains: 100%|██████████| 82000/82000 [00:24<00:00, 3389.89draws/s]\n",
      "The estimated number of effective samples is smaller than 200 for some parameters.\n"
     ]
    },
    {
     "name": "stdout",
     "output_type": "stream",
     "text": [
      "258 327 16.806523805245277 -26.12327442937824 [-19.60255036]\n"
     ]
    },
    {
     "name": "stderr",
     "output_type": "stream",
     "text": [
      "Multiprocess sampling (4 chains in 4 jobs)\n",
      "CompoundStep\n",
      ">Metropolis: [sigma]\n",
      ">Metropolis: [a0]\n",
      ">Metropolis: [cn]\n",
      ">Metropolis: [alpha]\n",
      "Sampling 4 chains: 100%|██████████| 82000/82000 [00:24<00:00, 3352.88draws/s]\n",
      "The estimated number of effective samples is smaller than 200 for some parameters.\n"
     ]
    },
    {
     "name": "stdout",
     "output_type": "stream",
     "text": [
      "259 327 17.478043542482933 -26.350899224893546 [-20.25061532]\n"
     ]
    },
    {
     "name": "stderr",
     "output_type": "stream",
     "text": [
      "INFO (theano.gof.compilelock): Refreshing lock /home/suntans/.theano/compiledir_Linux-4.15--generic-x86_64-with-debian-buster-sid-x86_64-3.6.6-64/lock_dir/lock\n",
      "Multiprocess sampling (4 chains in 4 jobs)\n",
      "CompoundStep\n",
      ">Metropolis: [sigma]\n",
      ">Metropolis: [a0]\n",
      ">Metropolis: [cn]\n",
      ">Metropolis: [alpha]\n",
      "Sampling 4 chains: 100%|██████████| 82000/82000 [00:24<00:00, 3387.93draws/s]\n",
      "The estimated number of effective samples is smaller than 200 for some parameters.\n"
     ]
    },
    {
     "name": "stdout",
     "output_type": "stream",
     "text": [
      "260 327 19.660472231854335 -32.00212663042589 [-23.16630564]\n"
     ]
    },
    {
     "name": "stderr",
     "output_type": "stream",
     "text": [
      "Multiprocess sampling (4 chains in 4 jobs)\n",
      "CompoundStep\n",
      ">Metropolis: [sigma]\n",
      ">Metropolis: [a0]\n",
      ">Metropolis: [cn]\n",
      ">Metropolis: [alpha]\n",
      "Sampling 4 chains: 100%|██████████| 82000/82000 [00:25<00:00, 3204.88draws/s]\n",
      "The estimated number of effective samples is smaller than 200 for some parameters.\n"
     ]
    },
    {
     "name": "stdout",
     "output_type": "stream",
     "text": [
      "261 327 13.794592431040495 -24.874099400277483 [-15.85927176]\n"
     ]
    },
    {
     "name": "stderr",
     "output_type": "stream",
     "text": [
      "INFO (theano.gof.compilelock): Refreshing lock /home/suntans/.theano/compiledir_Linux-4.15--generic-x86_64-with-debian-buster-sid-x86_64-3.6.6-64/lock_dir/lock\n",
      "Multiprocess sampling (4 chains in 4 jobs)\n",
      "CompoundStep\n",
      ">Metropolis: [sigma]\n",
      ">Metropolis: [a0]\n",
      ">Metropolis: [cn]\n",
      ">Metropolis: [alpha]\n",
      "Sampling 4 chains: 100%|██████████| 82000/82000 [00:24<00:00, 3355.25draws/s]\n",
      "The estimated number of effective samples is smaller than 200 for some parameters.\n"
     ]
    },
    {
     "name": "stdout",
     "output_type": "stream",
     "text": [
      "262 327 12.791291434251656 -23.851325666606236 [-14.37534983]\n"
     ]
    },
    {
     "name": "stderr",
     "output_type": "stream",
     "text": [
      "Multiprocess sampling (4 chains in 4 jobs)\n",
      "CompoundStep\n",
      ">Metropolis: [sigma]\n",
      ">Metropolis: [a0]\n",
      ">Metropolis: [cn]\n",
      ">Metropolis: [alpha]\n",
      "Sampling 4 chains: 100%|██████████| 82000/82000 [00:23<00:00, 3452.95draws/s]\n",
      "The estimated number of effective samples is smaller than 200 for some parameters.\n"
     ]
    },
    {
     "name": "stdout",
     "output_type": "stream",
     "text": [
      "263 327 16.872781618966844 -26.02509364810129 [-19.43223915]\n"
     ]
    },
    {
     "name": "stderr",
     "output_type": "stream",
     "text": [
      "INFO (theano.gof.compilelock): Refreshing lock /home/suntans/.theano/compiledir_Linux-4.15--generic-x86_64-with-debian-buster-sid-x86_64-3.6.6-64/lock_dir/lock\n",
      "Multiprocess sampling (4 chains in 4 jobs)\n",
      "CompoundStep\n",
      ">Metropolis: [sigma]\n",
      ">Metropolis: [a0]\n",
      ">Metropolis: [cn]\n",
      ">Metropolis: [alpha]\n",
      "Sampling 4 chains: 100%|██████████| 82000/82000 [00:23<00:00, 3559.72draws/s]\n",
      "The estimated number of effective samples is smaller than 200 for some parameters.\n"
     ]
    },
    {
     "name": "stdout",
     "output_type": "stream",
     "text": [
      "264 327 17.37987579671533 -26.559442629790706 [-20.10552118]\n"
     ]
    },
    {
     "name": "stderr",
     "output_type": "stream",
     "text": [
      "Multiprocess sampling (4 chains in 4 jobs)\n",
      "CompoundStep\n",
      ">Metropolis: [sigma]\n",
      ">Metropolis: [a0]\n",
      ">Metropolis: [cn]\n",
      ">Metropolis: [alpha]\n",
      "Sampling 4 chains: 100%|██████████| 82000/82000 [00:22<00:00, 3589.32draws/s]\n",
      "The estimated number of effective samples is smaller than 200 for some parameters.\n"
     ]
    },
    {
     "name": "stdout",
     "output_type": "stream",
     "text": [
      "265 327 22.33760544840758 -31.47960073946303 [-26.41775314]\n"
     ]
    },
    {
     "name": "stderr",
     "output_type": "stream",
     "text": [
      "INFO (theano.gof.compilelock): Refreshing lock /home/suntans/.theano/compiledir_Linux-4.15--generic-x86_64-with-debian-buster-sid-x86_64-3.6.6-64/lock_dir/lock\n",
      "Multiprocess sampling (4 chains in 4 jobs)\n",
      "CompoundStep\n",
      ">Metropolis: [sigma]\n",
      ">Metropolis: [a0]\n",
      ">Metropolis: [cn]\n",
      ">Metropolis: [alpha]\n",
      "Sampling 4 chains: 100%|██████████| 82000/82000 [00:22<00:00, 3654.41draws/s]\n",
      "The gelman-rubin statistic is larger than 1.05 for some parameters. This indicates slight problems during sampling.\n",
      "The estimated number of effective samples is smaller than 200 for some parameters.\n"
     ]
    },
    {
     "name": "stdout",
     "output_type": "stream",
     "text": [
      "266 327 24.718095572128572 -32.86721874041957 [-29.88014787]\n"
     ]
    },
    {
     "name": "stderr",
     "output_type": "stream",
     "text": [
      "Multiprocess sampling (4 chains in 4 jobs)\n",
      "CompoundStep\n",
      ">Metropolis: [sigma]\n",
      ">Metropolis: [a0]\n",
      ">Metropolis: [cn]\n",
      ">Metropolis: [alpha]\n",
      "Sampling 4 chains: 100%|██████████| 82000/82000 [00:22<00:00, 3639.60draws/s]\n",
      "The estimated number of effective samples is smaller than 200 for some parameters.\n"
     ]
    },
    {
     "name": "stdout",
     "output_type": "stream",
     "text": [
      "267 327 16.599955249276128 -27.366722049261767 [-19.14953384]\n"
     ]
    },
    {
     "name": "stderr",
     "output_type": "stream",
     "text": [
      "INFO (theano.gof.compilelock): Refreshing lock /home/suntans/.theano/compiledir_Linux-4.15--generic-x86_64-with-debian-buster-sid-x86_64-3.6.6-64/lock_dir/lock\n",
      "Multiprocess sampling (4 chains in 4 jobs)\n",
      "CompoundStep\n",
      ">Metropolis: [sigma]\n",
      ">Metropolis: [a0]\n",
      ">Metropolis: [cn]\n",
      ">Metropolis: [alpha]\n",
      "Sampling 4 chains: 100%|██████████| 82000/82000 [00:23<00:00, 3520.81draws/s]\n",
      "The estimated number of effective samples is smaller than 200 for some parameters.\n"
     ]
    },
    {
     "name": "stdout",
     "output_type": "stream",
     "text": [
      "268 327 14.692224675587207 -26.641548104167658 [-16.89762741]\n"
     ]
    },
    {
     "name": "stderr",
     "output_type": "stream",
     "text": [
      "Multiprocess sampling (4 chains in 4 jobs)\n",
      "CompoundStep\n",
      ">Metropolis: [sigma]\n",
      ">Metropolis: [a0]\n",
      ">Metropolis: [cn]\n",
      ">Metropolis: [alpha]\n",
      "Sampling 4 chains: 100%|██████████| 82000/82000 [00:23<00:00, 3466.33draws/s]\n",
      "The estimated number of effective samples is smaller than 200 for some parameters.\n"
     ]
    },
    {
     "name": "stdout",
     "output_type": "stream",
     "text": [
      "269 327 16.69102739962365 -25.801128980539076 [-19.30426831]\n"
     ]
    },
    {
     "name": "stderr",
     "output_type": "stream",
     "text": [
      "INFO (theano.gof.compilelock): Refreshing lock /home/suntans/.theano/compiledir_Linux-4.15--generic-x86_64-with-debian-buster-sid-x86_64-3.6.6-64/lock_dir/lock\n",
      "Multiprocess sampling (4 chains in 4 jobs)\n",
      "CompoundStep\n",
      ">Metropolis: [sigma]\n",
      ">Metropolis: [a0]\n",
      ">Metropolis: [cn]\n",
      ">Metropolis: [alpha]\n",
      "Sampling 4 chains: 100%|██████████| 82000/82000 [00:23<00:00, 3462.73draws/s]\n",
      "The estimated number of effective samples is smaller than 200 for some parameters.\n"
     ]
    },
    {
     "name": "stdout",
     "output_type": "stream",
     "text": [
      "270 327 20.51964965387222 -29.756284539587483 [-24.3573246]\n"
     ]
    },
    {
     "name": "stderr",
     "output_type": "stream",
     "text": [
      "Multiprocess sampling (4 chains in 4 jobs)\n",
      "CompoundStep\n",
      ">Metropolis: [sigma]\n",
      ">Metropolis: [a0]\n",
      ">Metropolis: [cn]\n",
      ">Metropolis: [alpha]\n",
      "Sampling 4 chains: 100%|██████████| 82000/82000 [00:26<00:00, 3124.74draws/s]\n",
      "The estimated number of effective samples is smaller than 200 for some parameters.\n"
     ]
    },
    {
     "name": "stdout",
     "output_type": "stream",
     "text": [
      "271 327 24.944399867076758 -36.73088493481601 [-30.90556076]\n"
     ]
    },
    {
     "name": "stderr",
     "output_type": "stream",
     "text": [
      "INFO (theano.gof.compilelock): Refreshing lock /home/suntans/.theano/compiledir_Linux-4.15--generic-x86_64-with-debian-buster-sid-x86_64-3.6.6-64/lock_dir/lock\n",
      "Multiprocess sampling (4 chains in 4 jobs)\n",
      "CompoundStep\n",
      ">Metropolis: [sigma]\n",
      ">Metropolis: [a0]\n",
      ">Metropolis: [cn]\n",
      ">Metropolis: [alpha]\n",
      "Sampling 4 chains: 100%|██████████| 82000/82000 [00:20<00:00, 3921.72draws/s]\n",
      "The estimated number of effective samples is smaller than 200 for some parameters.\n"
     ]
    },
    {
     "name": "stdout",
     "output_type": "stream",
     "text": [
      "272 327 22.147968249218057 -30.052821533437356 [-26.2897338]\n"
     ]
    },
    {
     "name": "stderr",
     "output_type": "stream",
     "text": [
      "Multiprocess sampling (4 chains in 4 jobs)\n",
      "CompoundStep\n",
      ">Metropolis: [sigma]\n",
      ">Metropolis: [a0]\n",
      ">Metropolis: [cn]\n",
      ">Metropolis: [alpha]\n",
      "Sampling 4 chains: 100%|██████████| 82000/82000 [00:21<00:00, 3836.54draws/s]\n",
      "The estimated number of effective samples is smaller than 200 for some parameters.\n"
     ]
    },
    {
     "name": "stdout",
     "output_type": "stream",
     "text": [
      "273 327 23.769121943793667 -35.78768067844851 [-28.829506]\n"
     ]
    },
    {
     "name": "stderr",
     "output_type": "stream",
     "text": [
      "INFO (theano.gof.compilelock): Refreshing lock /home/suntans/.theano/compiledir_Linux-4.15--generic-x86_64-with-debian-buster-sid-x86_64-3.6.6-64/lock_dir/lock\n",
      "Multiprocess sampling (4 chains in 4 jobs)\n",
      "CompoundStep\n",
      ">Metropolis: [sigma]\n",
      ">Metropolis: [a0]\n",
      ">Metropolis: [cn]\n",
      ">Metropolis: [alpha]\n",
      "Sampling 4 chains: 100%|██████████| 82000/82000 [00:21<00:00, 3844.66draws/s]\n",
      "The number of effective samples is smaller than 25% for some parameters.\n"
     ]
    },
    {
     "name": "stdout",
     "output_type": "stream",
     "text": [
      "274 327 19.95987654329284 -29.16609718273171 [-23.27660402]\n"
     ]
    },
    {
     "name": "stderr",
     "output_type": "stream",
     "text": [
      "Multiprocess sampling (4 chains in 4 jobs)\n",
      "CompoundStep\n",
      ">Metropolis: [sigma]\n",
      ">Metropolis: [a0]\n",
      ">Metropolis: [cn]\n",
      ">Metropolis: [alpha]\n",
      "Sampling 4 chains: 100%|██████████| 82000/82000 [00:20<00:00, 3916.94draws/s]\n",
      "The estimated number of effective samples is smaller than 200 for some parameters.\n"
     ]
    },
    {
     "name": "stdout",
     "output_type": "stream",
     "text": [
      "275 327 13.392234341934527 -22.505357483602857 [-15.18552957]\n"
     ]
    },
    {
     "name": "stderr",
     "output_type": "stream",
     "text": [
      "INFO (theano.gof.compilelock): Refreshing lock /home/suntans/.theano/compiledir_Linux-4.15--generic-x86_64-with-debian-buster-sid-x86_64-3.6.6-64/lock_dir/lock\n",
      "Multiprocess sampling (4 chains in 4 jobs)\n",
      "CompoundStep\n",
      ">Metropolis: [sigma]\n",
      ">Metropolis: [a0]\n",
      ">Metropolis: [cn]\n",
      ">Metropolis: [alpha]\n",
      "Sampling 4 chains: 100%|██████████| 82000/82000 [00:21<00:00, 3887.32draws/s]\n",
      "The estimated number of effective samples is smaller than 200 for some parameters.\n"
     ]
    },
    {
     "name": "stdout",
     "output_type": "stream",
     "text": [
      "276 327 14.746426175635102 -25.116193225660627 [-16.97681505]\n"
     ]
    },
    {
     "name": "stderr",
     "output_type": "stream",
     "text": [
      "Multiprocess sampling (4 chains in 4 jobs)\n",
      "CompoundStep\n",
      ">Metropolis: [sigma]\n",
      ">Metropolis: [a0]\n",
      ">Metropolis: [cn]\n",
      ">Metropolis: [alpha]\n",
      "Sampling 4 chains: 100%|██████████| 82000/82000 [00:23<00:00, 3434.63draws/s]\n",
      "The estimated number of effective samples is smaller than 200 for some parameters.\n"
     ]
    },
    {
     "name": "stdout",
     "output_type": "stream",
     "text": [
      "277 327 13.60217640522669 -21.213476277955582 [-15.53457505]\n"
     ]
    },
    {
     "name": "stderr",
     "output_type": "stream",
     "text": [
      "INFO (theano.gof.compilelock): Refreshing lock /home/suntans/.theano/compiledir_Linux-4.15--generic-x86_64-with-debian-buster-sid-x86_64-3.6.6-64/lock_dir/lock\n",
      "Multiprocess sampling (4 chains in 4 jobs)\n",
      "CompoundStep\n",
      ">Metropolis: [sigma]\n",
      ">Metropolis: [a0]\n",
      ">Metropolis: [cn]\n",
      ">Metropolis: [alpha]\n",
      "Sampling 4 chains: 100%|██████████| 82000/82000 [00:21<00:00, 3802.03draws/s]\n",
      "The estimated number of effective samples is smaller than 200 for some parameters.\n"
     ]
    },
    {
     "name": "stdout",
     "output_type": "stream",
     "text": [
      "278 327 10.219724775999595 -19.10089430161592 [-11.35970037]\n"
     ]
    },
    {
     "name": "stderr",
     "output_type": "stream",
     "text": [
      "Multiprocess sampling (4 chains in 4 jobs)\n",
      "CompoundStep\n",
      ">Metropolis: [sigma]\n",
      ">Metropolis: [a0]\n",
      ">Metropolis: [cn]\n",
      ">Metropolis: [alpha]\n",
      "Sampling 4 chains: 100%|██████████| 82000/82000 [00:21<00:00, 3844.76draws/s]\n",
      "The estimated number of effective samples is smaller than 200 for some parameters.\n"
     ]
    },
    {
     "name": "stdout",
     "output_type": "stream",
     "text": [
      "279 327 12.240076477613755 -26.389866114338936 [-13.60173166]\n"
     ]
    },
    {
     "name": "stderr",
     "output_type": "stream",
     "text": [
      "INFO (theano.gof.compilelock): Refreshing lock /home/suntans/.theano/compiledir_Linux-4.15--generic-x86_64-with-debian-buster-sid-x86_64-3.6.6-64/lock_dir/lock\n",
      "Multiprocess sampling (4 chains in 4 jobs)\n",
      "CompoundStep\n",
      ">Metropolis: [sigma]\n",
      ">Metropolis: [a0]\n",
      ">Metropolis: [cn]\n",
      ">Metropolis: [alpha]\n",
      "Sampling 4 chains: 100%|██████████| 82000/82000 [00:23<00:00, 3465.95draws/s]\n",
      "The number of effective samples is smaller than 25% for some parameters.\n"
     ]
    },
    {
     "name": "stdout",
     "output_type": "stream",
     "text": [
      "280 327 16.24061751989064 -25.897022260706613 [-18.79049576]\n"
     ]
    },
    {
     "name": "stderr",
     "output_type": "stream",
     "text": [
      "Multiprocess sampling (4 chains in 4 jobs)\n",
      "CompoundStep\n",
      ">Metropolis: [sigma]\n",
      ">Metropolis: [a0]\n",
      ">Metropolis: [cn]\n",
      ">Metropolis: [alpha]\n",
      "Sampling 4 chains: 100%|██████████| 82000/82000 [00:23<00:00, 3484.15draws/s]\n",
      "The estimated number of effective samples is smaller than 200 for some parameters.\n"
     ]
    },
    {
     "name": "stdout",
     "output_type": "stream",
     "text": [
      "281 327 23.243492307218258 -32.38834009768991 [-28.11438128]\n"
     ]
    },
    {
     "name": "stderr",
     "output_type": "stream",
     "text": [
      "INFO (theano.gof.compilelock): Refreshing lock /home/suntans/.theano/compiledir_Linux-4.15--generic-x86_64-with-debian-buster-sid-x86_64-3.6.6-64/lock_dir/lock\n",
      "Multiprocess sampling (4 chains in 4 jobs)\n",
      "CompoundStep\n",
      ">Metropolis: [sigma]\n",
      ">Metropolis: [a0]\n",
      ">Metropolis: [cn]\n",
      ">Metropolis: [alpha]\n",
      "Sampling 4 chains: 100%|██████████| 82000/82000 [00:21<00:00, 3887.61draws/s]\n",
      "The estimated number of effective samples is smaller than 200 for some parameters.\n"
     ]
    },
    {
     "name": "stdout",
     "output_type": "stream",
     "text": [
      "282 327 23.132258125861515 -35.682154212876256 [-29.69948006]\n"
     ]
    },
    {
     "name": "stderr",
     "output_type": "stream",
     "text": [
      "Multiprocess sampling (4 chains in 4 jobs)\n",
      "CompoundStep\n",
      ">Metropolis: [sigma]\n",
      ">Metropolis: [a0]\n",
      ">Metropolis: [cn]\n",
      ">Metropolis: [alpha]\n",
      "Sampling 4 chains: 100%|██████████| 82000/82000 [00:22<00:00, 3627.52draws/s]\n",
      "The estimated number of effective samples is smaller than 200 for some parameters.\n"
     ]
    },
    {
     "name": "stdout",
     "output_type": "stream",
     "text": [
      "283 327 20.777271399698297 -28.261121247875018 [-24.9393236]\n"
     ]
    },
    {
     "name": "stderr",
     "output_type": "stream",
     "text": [
      "INFO (theano.gof.compilelock): Refreshing lock /home/suntans/.theano/compiledir_Linux-4.15--generic-x86_64-with-debian-buster-sid-x86_64-3.6.6-64/lock_dir/lock\n",
      "Multiprocess sampling (4 chains in 4 jobs)\n",
      "CompoundStep\n",
      ">Metropolis: [sigma]\n",
      ">Metropolis: [a0]\n",
      ">Metropolis: [cn]\n",
      ">Metropolis: [alpha]\n",
      "Sampling 4 chains: 100%|██████████| 82000/82000 [00:21<00:00, 3756.95draws/s]\n",
      "The estimated number of effective samples is smaller than 200 for some parameters.\n"
     ]
    },
    {
     "name": "stdout",
     "output_type": "stream",
     "text": [
      "284 327 20.263514661317718 -28.079685111761417 [-23.82496038]\n"
     ]
    },
    {
     "name": "stderr",
     "output_type": "stream",
     "text": [
      "Multiprocess sampling (4 chains in 4 jobs)\n",
      "CompoundStep\n",
      ">Metropolis: [sigma]\n",
      ">Metropolis: [a0]\n",
      ">Metropolis: [cn]\n",
      ">Metropolis: [alpha]\n",
      "Sampling 4 chains: 100%|██████████| 82000/82000 [00:21<00:00, 3730.09draws/s]\n",
      "The estimated number of effective samples is smaller than 200 for some parameters.\n"
     ]
    },
    {
     "name": "stdout",
     "output_type": "stream",
     "text": [
      "285 327 19.77833525958241 -28.636868320975363 [-23.56501854]\n"
     ]
    },
    {
     "name": "stderr",
     "output_type": "stream",
     "text": [
      "INFO (theano.gof.compilelock): Refreshing lock /home/suntans/.theano/compiledir_Linux-4.15--generic-x86_64-with-debian-buster-sid-x86_64-3.6.6-64/lock_dir/lock\n",
      "Multiprocess sampling (4 chains in 4 jobs)\n",
      "CompoundStep\n",
      ">Metropolis: [sigma]\n",
      ">Metropolis: [a0]\n",
      ">Metropolis: [cn]\n",
      ">Metropolis: [alpha]\n",
      "Sampling 4 chains: 100%|██████████| 82000/82000 [00:24<00:00, 3343.04draws/s]\n",
      "The estimated number of effective samples is smaller than 200 for some parameters.\n"
     ]
    },
    {
     "name": "stdout",
     "output_type": "stream",
     "text": [
      "286 327 22.99233138492921 -31.921527748143934 [-27.63902057]\n"
     ]
    },
    {
     "name": "stderr",
     "output_type": "stream",
     "text": [
      "Multiprocess sampling (4 chains in 4 jobs)\n",
      "CompoundStep\n",
      ">Metropolis: [sigma]\n",
      ">Metropolis: [a0]\n",
      ">Metropolis: [cn]\n",
      ">Metropolis: [alpha]\n",
      "Sampling 4 chains: 100%|██████████| 82000/82000 [00:20<00:00, 4068.74draws/s]\n",
      "The number of effective samples is smaller than 25% for some parameters.\n"
     ]
    },
    {
     "name": "stdout",
     "output_type": "stream",
     "text": [
      "287 327 18.04076394590792 -29.822278930095596 [-21.05798806]\n"
     ]
    },
    {
     "name": "stderr",
     "output_type": "stream",
     "text": [
      "INFO (theano.gof.compilelock): Refreshing lock /home/suntans/.theano/compiledir_Linux-4.15--generic-x86_64-with-debian-buster-sid-x86_64-3.6.6-64/lock_dir/lock\n",
      "Multiprocess sampling (4 chains in 4 jobs)\n",
      "CompoundStep\n",
      ">Metropolis: [sigma]\n",
      ">Metropolis: [a0]\n",
      ">Metropolis: [cn]\n",
      ">Metropolis: [alpha]\n",
      "Sampling 4 chains: 100%|██████████| 82000/82000 [00:24<00:00, 3376.41draws/s]\n",
      "The estimated number of effective samples is smaller than 200 for some parameters.\n"
     ]
    },
    {
     "name": "stdout",
     "output_type": "stream",
     "text": [
      "288 327 20.71209236956772 -31.29496084353364 [-24.45027523]\n"
     ]
    },
    {
     "name": "stderr",
     "output_type": "stream",
     "text": [
      "Multiprocess sampling (4 chains in 4 jobs)\n",
      "CompoundStep\n",
      ">Metropolis: [sigma]\n",
      ">Metropolis: [a0]\n",
      ">Metropolis: [cn]\n",
      ">Metropolis: [alpha]\n",
      "Sampling 4 chains: 100%|██████████| 82000/82000 [00:23<00:00, 3522.14draws/s]\n",
      "The estimated number of effective samples is smaller than 200 for some parameters.\n"
     ]
    },
    {
     "name": "stdout",
     "output_type": "stream",
     "text": [
      "289 327 19.168778280963522 -28.24496112192484 [-22.4186077]\n"
     ]
    },
    {
     "name": "stderr",
     "output_type": "stream",
     "text": [
      "INFO (theano.gof.compilelock): Refreshing lock /home/suntans/.theano/compiledir_Linux-4.15--generic-x86_64-with-debian-buster-sid-x86_64-3.6.6-64/lock_dir/lock\n",
      "Multiprocess sampling (4 chains in 4 jobs)\n",
      "CompoundStep\n",
      ">Metropolis: [sigma]\n",
      ">Metropolis: [a0]\n",
      ">Metropolis: [cn]\n",
      ">Metropolis: [alpha]\n",
      "Sampling 4 chains: 100%|██████████| 82000/82000 [00:22<00:00, 3571.22draws/s]\n",
      "The estimated number of effective samples is smaller than 200 for some parameters.\n"
     ]
    },
    {
     "name": "stdout",
     "output_type": "stream",
     "text": [
      "290 327 17.182579346536265 -25.79561818331054 [-20.02449475]\n"
     ]
    },
    {
     "name": "stderr",
     "output_type": "stream",
     "text": [
      "Multiprocess sampling (4 chains in 4 jobs)\n",
      "CompoundStep\n",
      ">Metropolis: [sigma]\n",
      ">Metropolis: [a0]\n",
      ">Metropolis: [cn]\n",
      ">Metropolis: [alpha]\n",
      "Sampling 4 chains: 100%|██████████| 82000/82000 [00:21<00:00, 3901.90draws/s]\n",
      "The estimated number of effective samples is smaller than 200 for some parameters.\n"
     ]
    },
    {
     "name": "stdout",
     "output_type": "stream",
     "text": [
      "291 327 18.960863689830106 -28.838481051207985 [-22.37396366]\n"
     ]
    },
    {
     "name": "stderr",
     "output_type": "stream",
     "text": [
      "INFO (theano.gof.compilelock): Refreshing lock /home/suntans/.theano/compiledir_Linux-4.15--generic-x86_64-with-debian-buster-sid-x86_64-3.6.6-64/lock_dir/lock\n",
      "Multiprocess sampling (4 chains in 4 jobs)\n",
      "CompoundStep\n",
      ">Metropolis: [sigma]\n",
      ">Metropolis: [a0]\n",
      ">Metropolis: [cn]\n",
      ">Metropolis: [alpha]\n",
      "Sampling 4 chains: 100%|██████████| 82000/82000 [00:25<00:00, 3256.81draws/s]\n",
      "The estimated number of effective samples is smaller than 200 for some parameters.\n"
     ]
    },
    {
     "name": "stdout",
     "output_type": "stream",
     "text": [
      "292 327 22.535677920632224 -32.24648218737338 [-26.60113068]\n"
     ]
    },
    {
     "name": "stderr",
     "output_type": "stream",
     "text": [
      "Multiprocess sampling (4 chains in 4 jobs)\n",
      "CompoundStep\n",
      ">Metropolis: [sigma]\n",
      ">Metropolis: [a0]\n",
      ">Metropolis: [cn]\n",
      ">Metropolis: [alpha]\n",
      "Sampling 4 chains: 100%|██████████| 82000/82000 [00:23<00:00, 3503.18draws/s]\n",
      "The estimated number of effective samples is smaller than 200 for some parameters.\n"
     ]
    },
    {
     "name": "stdout",
     "output_type": "stream",
     "text": [
      "293 327 19.81380183454965 -34.809106023223684 [-23.18308675]\n"
     ]
    },
    {
     "name": "stderr",
     "output_type": "stream",
     "text": [
      "INFO (theano.gof.compilelock): Refreshing lock /home/suntans/.theano/compiledir_Linux-4.15--generic-x86_64-with-debian-buster-sid-x86_64-3.6.6-64/lock_dir/lock\n",
      "Multiprocess sampling (4 chains in 4 jobs)\n",
      "CompoundStep\n",
      ">Metropolis: [sigma]\n",
      ">Metropolis: [a0]\n",
      ">Metropolis: [cn]\n",
      ">Metropolis: [alpha]\n",
      "Sampling 4 chains: 100%|██████████| 82000/82000 [00:21<00:00, 3902.05draws/s]\n",
      "The estimated number of effective samples is smaller than 200 for some parameters.\n"
     ]
    },
    {
     "name": "stdout",
     "output_type": "stream",
     "text": [
      "294 327 22.290145224891916 -31.842938419258584 [-26.35888506]\n"
     ]
    },
    {
     "name": "stderr",
     "output_type": "stream",
     "text": [
      "Multiprocess sampling (4 chains in 4 jobs)\n",
      "CompoundStep\n",
      ">Metropolis: [sigma]\n",
      ">Metropolis: [a0]\n",
      ">Metropolis: [cn]\n",
      ">Metropolis: [alpha]\n",
      "Sampling 4 chains: 100%|██████████| 82000/82000 [00:20<00:00, 3911.70draws/s]\n",
      "The estimated number of effective samples is smaller than 200 for some parameters.\n"
     ]
    },
    {
     "name": "stdout",
     "output_type": "stream",
     "text": [
      "295 327 21.729298251912805 -32.87689750072054 [-25.88064794]\n"
     ]
    },
    {
     "name": "stderr",
     "output_type": "stream",
     "text": [
      "INFO (theano.gof.compilelock): Refreshing lock /home/suntans/.theano/compiledir_Linux-4.15--generic-x86_64-with-debian-buster-sid-x86_64-3.6.6-64/lock_dir/lock\n",
      "Multiprocess sampling (4 chains in 4 jobs)\n",
      "CompoundStep\n",
      ">Metropolis: [sigma]\n",
      ">Metropolis: [a0]\n",
      ">Metropolis: [cn]\n",
      ">Metropolis: [alpha]\n",
      "Sampling 4 chains: 100%|██████████| 82000/82000 [00:25<00:00, 3260.67draws/s]\n",
      "The estimated number of effective samples is smaller than 200 for some parameters.\n"
     ]
    },
    {
     "name": "stdout",
     "output_type": "stream",
     "text": [
      "296 327 17.28060196484871 -28.229176956842288 [-20.29366965]\n"
     ]
    },
    {
     "name": "stderr",
     "output_type": "stream",
     "text": [
      "Multiprocess sampling (4 chains in 4 jobs)\n",
      "CompoundStep\n",
      ">Metropolis: [sigma]\n",
      ">Metropolis: [a0]\n",
      ">Metropolis: [cn]\n",
      ">Metropolis: [alpha]\n",
      "Sampling 4 chains: 100%|██████████| 82000/82000 [00:22<00:00, 3591.70draws/s]\n",
      "The estimated number of effective samples is smaller than 200 for some parameters.\n"
     ]
    },
    {
     "name": "stdout",
     "output_type": "stream",
     "text": [
      "297 327 15.078821345165649 -26.34194304883547 [-17.22652215]\n"
     ]
    },
    {
     "name": "stderr",
     "output_type": "stream",
     "text": [
      "INFO (theano.gof.compilelock): Refreshing lock /home/suntans/.theano/compiledir_Linux-4.15--generic-x86_64-with-debian-buster-sid-x86_64-3.6.6-64/lock_dir/lock\n",
      "Multiprocess sampling (4 chains in 4 jobs)\n",
      "CompoundStep\n",
      ">Metropolis: [sigma]\n",
      ">Metropolis: [a0]\n",
      ">Metropolis: [cn]\n",
      ">Metropolis: [alpha]\n",
      "Sampling 4 chains: 100%|██████████| 82000/82000 [00:23<00:00, 3448.74draws/s]\n",
      "The estimated number of effective samples is smaller than 200 for some parameters.\n"
     ]
    },
    {
     "name": "stdout",
     "output_type": "stream",
     "text": [
      "298 327 16.8383996721164 -28.401830914702742 [-19.69287641]\n"
     ]
    },
    {
     "name": "stderr",
     "output_type": "stream",
     "text": [
      "Multiprocess sampling (4 chains in 4 jobs)\n",
      "CompoundStep\n",
      ">Metropolis: [sigma]\n",
      ">Metropolis: [a0]\n",
      ">Metropolis: [cn]\n",
      ">Metropolis: [alpha]\n",
      "Sampling 4 chains: 100%|██████████| 82000/82000 [00:23<00:00, 3462.10draws/s]\n",
      "The estimated number of effective samples is smaller than 200 for some parameters.\n"
     ]
    },
    {
     "name": "stdout",
     "output_type": "stream",
     "text": [
      "299 327 17.375430590027076 -25.354361289102446 [-20.25068497]\n"
     ]
    },
    {
     "name": "stderr",
     "output_type": "stream",
     "text": [
      "INFO (theano.gof.compilelock): Refreshing lock /home/suntans/.theano/compiledir_Linux-4.15--generic-x86_64-with-debian-buster-sid-x86_64-3.6.6-64/lock_dir/lock\n",
      "Multiprocess sampling (4 chains in 4 jobs)\n",
      "CompoundStep\n",
      ">Metropolis: [sigma]\n",
      ">Metropolis: [a0]\n",
      ">Metropolis: [cn]\n",
      ">Metropolis: [alpha]\n",
      "Sampling 4 chains: 100%|██████████| 82000/82000 [00:27<00:00, 2999.17draws/s]\n",
      "The estimated number of effective samples is smaller than 200 for some parameters.\n"
     ]
    },
    {
     "name": "stdout",
     "output_type": "stream",
     "text": [
      "300 327 14.347972084556714 -26.383704701691563 [-16.46545019]\n"
     ]
    },
    {
     "name": "stderr",
     "output_type": "stream",
     "text": [
      "Multiprocess sampling (4 chains in 4 jobs)\n",
      "CompoundStep\n",
      ">Metropolis: [sigma]\n",
      ">Metropolis: [a0]\n",
      ">Metropolis: [cn]\n",
      ">Metropolis: [alpha]\n",
      "Sampling 4 chains: 100%|██████████| 82000/82000 [00:22<00:00, 3614.97draws/s]\n",
      "The estimated number of effective samples is smaller than 200 for some parameters.\n"
     ]
    },
    {
     "name": "stdout",
     "output_type": "stream",
     "text": [
      "301 327 14.547334488994018 -25.773985038813255 [-16.51963548]\n"
     ]
    },
    {
     "name": "stderr",
     "output_type": "stream",
     "text": [
      "INFO (theano.gof.compilelock): Refreshing lock /home/suntans/.theano/compiledir_Linux-4.15--generic-x86_64-with-debian-buster-sid-x86_64-3.6.6-64/lock_dir/lock\n",
      "Multiprocess sampling (4 chains in 4 jobs)\n",
      "CompoundStep\n",
      ">Metropolis: [sigma]\n",
      ">Metropolis: [a0]\n",
      ">Metropolis: [cn]\n",
      ">Metropolis: [alpha]\n",
      "Sampling 4 chains: 100%|██████████| 82000/82000 [00:27<00:00, 3034.55draws/s]\n",
      "The estimated number of effective samples is smaller than 200 for some parameters.\n"
     ]
    },
    {
     "name": "stdout",
     "output_type": "stream",
     "text": [
      "302 327 15.791832291036688 -26.39334034038955 [-18.29088486]\n"
     ]
    },
    {
     "name": "stderr",
     "output_type": "stream",
     "text": [
      "Multiprocess sampling (4 chains in 4 jobs)\n",
      "CompoundStep\n",
      ">Metropolis: [sigma]\n",
      ">Metropolis: [a0]\n",
      ">Metropolis: [cn]\n",
      ">Metropolis: [alpha]\n",
      "Sampling 4 chains: 100%|██████████| 82000/82000 [00:20<00:00, 3916.59draws/s]\n",
      "The estimated number of effective samples is smaller than 200 for some parameters.\n"
     ]
    },
    {
     "name": "stdout",
     "output_type": "stream",
     "text": [
      "303 327 19.78014095633915 -31.332997680395152 [-23.22247882]\n"
     ]
    },
    {
     "name": "stderr",
     "output_type": "stream",
     "text": [
      "INFO (theano.gof.compilelock): Refreshing lock /home/suntans/.theano/compiledir_Linux-4.15--generic-x86_64-with-debian-buster-sid-x86_64-3.6.6-64/lock_dir/lock\n",
      "Multiprocess sampling (4 chains in 4 jobs)\n",
      "CompoundStep\n",
      ">Metropolis: [sigma]\n",
      ">Metropolis: [a0]\n",
      ">Metropolis: [cn]\n",
      ">Metropolis: [alpha]\n",
      "Sampling 4 chains: 100%|██████████| 82000/82000 [00:21<00:00, 3799.05draws/s]\n",
      "The estimated number of effective samples is smaller than 200 for some parameters.\n"
     ]
    },
    {
     "name": "stdout",
     "output_type": "stream",
     "text": [
      "304 327 18.69819826260243 -28.72701952960102 [-21.95476033]\n"
     ]
    },
    {
     "name": "stderr",
     "output_type": "stream",
     "text": [
      "Multiprocess sampling (4 chains in 4 jobs)\n",
      "CompoundStep\n",
      ">Metropolis: [sigma]\n",
      ">Metropolis: [a0]\n",
      ">Metropolis: [cn]\n",
      ">Metropolis: [alpha]\n",
      "Sampling 4 chains: 100%|██████████| 82000/82000 [00:22<00:00, 3687.44draws/s]\n",
      "The estimated number of effective samples is smaller than 200 for some parameters.\n"
     ]
    },
    {
     "name": "stdout",
     "output_type": "stream",
     "text": [
      "305 327 25.72826312083621 -35.7656939608894 [-30.98452083]\n"
     ]
    },
    {
     "name": "stderr",
     "output_type": "stream",
     "text": [
      "INFO (theano.gof.compilelock): Refreshing lock /home/suntans/.theano/compiledir_Linux-4.15--generic-x86_64-with-debian-buster-sid-x86_64-3.6.6-64/lock_dir/lock\n",
      "Multiprocess sampling (4 chains in 4 jobs)\n",
      "CompoundStep\n",
      ">Metropolis: [sigma]\n",
      ">Metropolis: [a0]\n",
      ">Metropolis: [cn]\n",
      ">Metropolis: [alpha]\n",
      "Sampling 4 chains: 100%|██████████| 82000/82000 [00:20<00:00, 3966.87draws/s]\n",
      "The estimated number of effective samples is smaller than 200 for some parameters.\n"
     ]
    },
    {
     "name": "stdout",
     "output_type": "stream",
     "text": [
      "306 327 27.887895660789805 -39.95787728823483 [-34.9155441]\n"
     ]
    },
    {
     "name": "stderr",
     "output_type": "stream",
     "text": [
      "Multiprocess sampling (4 chains in 4 jobs)\n",
      "CompoundStep\n",
      ">Metropolis: [sigma]\n",
      ">Metropolis: [a0]\n",
      ">Metropolis: [cn]\n",
      ">Metropolis: [alpha]\n",
      "Sampling 4 chains: 100%|██████████| 82000/82000 [00:20<00:00, 4042.94draws/s]\n",
      "The estimated number of effective samples is smaller than 200 for some parameters.\n"
     ]
    },
    {
     "name": "stdout",
     "output_type": "stream",
     "text": [
      "307 327 24.678704013314164 -34.33805440298286 [-29.99980803]\n"
     ]
    },
    {
     "name": "stderr",
     "output_type": "stream",
     "text": [
      "INFO (theano.gof.compilelock): Refreshing lock /home/suntans/.theano/compiledir_Linux-4.15--generic-x86_64-with-debian-buster-sid-x86_64-3.6.6-64/lock_dir/lock\n",
      "Multiprocess sampling (4 chains in 4 jobs)\n",
      "CompoundStep\n",
      ">Metropolis: [sigma]\n",
      ">Metropolis: [a0]\n",
      ">Metropolis: [cn]\n",
      ">Metropolis: [alpha]\n",
      "Sampling 4 chains: 100%|██████████| 82000/82000 [00:20<00:00, 4011.72draws/s]\n",
      "The estimated number of effective samples is smaller than 200 for some parameters.\n"
     ]
    },
    {
     "name": "stdout",
     "output_type": "stream",
     "text": [
      "308 327 27.296353480151275 -39.55516284154402 [-34.0447161]\n"
     ]
    },
    {
     "name": "stderr",
     "output_type": "stream",
     "text": [
      "Multiprocess sampling (4 chains in 4 jobs)\n",
      "CompoundStep\n",
      ">Metropolis: [sigma]\n",
      ">Metropolis: [a0]\n",
      ">Metropolis: [cn]\n",
      ">Metropolis: [alpha]\n",
      "Sampling 4 chains: 100%|██████████| 82000/82000 [00:23<00:00, 3528.01draws/s]\n",
      "The estimated number of effective samples is smaller than 200 for some parameters.\n"
     ]
    },
    {
     "name": "stdout",
     "output_type": "stream",
     "text": [
      "309 327 14.704578405896754 -28.56519031453455 [-16.88043734]\n"
     ]
    },
    {
     "name": "stderr",
     "output_type": "stream",
     "text": [
      "INFO (theano.gof.compilelock): Refreshing lock /home/suntans/.theano/compiledir_Linux-4.15--generic-x86_64-with-debian-buster-sid-x86_64-3.6.6-64/lock_dir/lock\n",
      "Multiprocess sampling (4 chains in 4 jobs)\n",
      "CompoundStep\n",
      ">Metropolis: [sigma]\n",
      ">Metropolis: [a0]\n",
      ">Metropolis: [cn]\n",
      ">Metropolis: [alpha]\n",
      "Sampling 4 chains: 100%|██████████| 82000/82000 [00:20<00:00, 4053.58draws/s]\n",
      "The estimated number of effective samples is smaller than 200 for some parameters.\n"
     ]
    },
    {
     "name": "stdout",
     "output_type": "stream",
     "text": [
      "310 327 22.34784850974316 -31.774539377009333 [-26.91411598]\n"
     ]
    },
    {
     "name": "stderr",
     "output_type": "stream",
     "text": [
      "Multiprocess sampling (4 chains in 4 jobs)\n",
      "CompoundStep\n",
      ">Metropolis: [sigma]\n",
      ">Metropolis: [a0]\n",
      ">Metropolis: [cn]\n",
      ">Metropolis: [alpha]\n",
      "Sampling 4 chains: 100%|██████████| 82000/82000 [00:22<00:00, 3646.36draws/s]\n",
      "The estimated number of effective samples is smaller than 200 for some parameters.\n"
     ]
    },
    {
     "name": "stdout",
     "output_type": "stream",
     "text": [
      "311 327 18.952530079343347 -29.859090686142412 [-22.17281271]\n"
     ]
    },
    {
     "name": "stderr",
     "output_type": "stream",
     "text": [
      "INFO (theano.gof.compilelock): Refreshing lock /home/suntans/.theano/compiledir_Linux-4.15--generic-x86_64-with-debian-buster-sid-x86_64-3.6.6-64/lock_dir/lock\n",
      "Multiprocess sampling (4 chains in 4 jobs)\n",
      "CompoundStep\n",
      ">Metropolis: [sigma]\n",
      ">Metropolis: [a0]\n",
      ">Metropolis: [cn]\n",
      ">Metropolis: [alpha]\n",
      "Sampling 4 chains: 100%|██████████| 82000/82000 [00:20<00:00, 3942.59draws/s]\n",
      "The estimated number of effective samples is smaller than 200 for some parameters.\n"
     ]
    },
    {
     "name": "stdout",
     "output_type": "stream",
     "text": [
      "312 327 20.52788663986667 -31.024617655787456 [-24.40900232]\n"
     ]
    },
    {
     "name": "stderr",
     "output_type": "stream",
     "text": [
      "Multiprocess sampling (4 chains in 4 jobs)\n",
      "CompoundStep\n",
      ">Metropolis: [sigma]\n",
      ">Metropolis: [a0]\n",
      ">Metropolis: [cn]\n",
      ">Metropolis: [alpha]\n",
      "Sampling 4 chains: 100%|██████████| 82000/82000 [00:20<00:00, 3993.52draws/s]\n",
      "The number of effective samples is smaller than 25% for some parameters.\n"
     ]
    },
    {
     "name": "stdout",
     "output_type": "stream",
     "text": [
      "313 327 17.669011395647864 -27.666468997825035 [-20.59565141]\n"
     ]
    },
    {
     "name": "stderr",
     "output_type": "stream",
     "text": [
      "INFO (theano.gof.compilelock): Refreshing lock /home/suntans/.theano/compiledir_Linux-4.15--generic-x86_64-with-debian-buster-sid-x86_64-3.6.6-64/lock_dir/lock\n",
      "Multiprocess sampling (4 chains in 4 jobs)\n",
      "CompoundStep\n",
      ">Metropolis: [sigma]\n",
      ">Metropolis: [a0]\n",
      ">Metropolis: [cn]\n",
      ">Metropolis: [alpha]\n",
      "Sampling 4 chains: 100%|██████████| 82000/82000 [00:20<00:00, 3917.25draws/s]\n",
      "The estimated number of effective samples is smaller than 200 for some parameters.\n"
     ]
    },
    {
     "name": "stdout",
     "output_type": "stream",
     "text": [
      "314 327 13.883889836137367 -24.301384071127007 [-15.88598024]\n"
     ]
    },
    {
     "name": "stderr",
     "output_type": "stream",
     "text": [
      "Multiprocess sampling (4 chains in 4 jobs)\n",
      "CompoundStep\n",
      ">Metropolis: [sigma]\n",
      ">Metropolis: [a0]\n",
      ">Metropolis: [cn]\n",
      ">Metropolis: [alpha]\n",
      "Sampling 4 chains: 100%|██████████| 82000/82000 [00:20<00:00, 3923.92draws/s]\n",
      "The estimated number of effective samples is smaller than 200 for some parameters.\n"
     ]
    },
    {
     "name": "stdout",
     "output_type": "stream",
     "text": [
      "315 327 14.575390747412458 -24.62826688690108 [-16.64259277]\n"
     ]
    },
    {
     "name": "stderr",
     "output_type": "stream",
     "text": [
      "INFO (theano.gof.compilelock): Refreshing lock /home/suntans/.theano/compiledir_Linux-4.15--generic-x86_64-with-debian-buster-sid-x86_64-3.6.6-64/lock_dir/lock\n",
      "Multiprocess sampling (4 chains in 4 jobs)\n",
      "CompoundStep\n",
      ">Metropolis: [sigma]\n",
      ">Metropolis: [a0]\n",
      ">Metropolis: [cn]\n",
      ">Metropolis: [alpha]\n",
      "Sampling 4 chains: 100%|██████████| 82000/82000 [00:20<00:00, 4088.79draws/s]\n",
      "The number of effective samples is smaller than 25% for some parameters.\n"
     ]
    },
    {
     "name": "stdout",
     "output_type": "stream",
     "text": [
      "316 327 17.540740651385498 -27.51203019105809 [-20.38171163]\n"
     ]
    },
    {
     "name": "stderr",
     "output_type": "stream",
     "text": [
      "Multiprocess sampling (4 chains in 4 jobs)\n",
      "CompoundStep\n",
      ">Metropolis: [sigma]\n",
      ">Metropolis: [a0]\n",
      ">Metropolis: [cn]\n",
      ">Metropolis: [alpha]\n",
      "Sampling 4 chains: 100%|██████████| 82000/82000 [00:20<00:00, 3931.76draws/s]\n",
      "The estimated number of effective samples is smaller than 200 for some parameters.\n"
     ]
    },
    {
     "name": "stdout",
     "output_type": "stream",
     "text": [
      "317 327 14.96323204055328 -24.61454124052914 [-17.08844524]\n"
     ]
    },
    {
     "name": "stderr",
     "output_type": "stream",
     "text": [
      "INFO (theano.gof.compilelock): Refreshing lock /home/suntans/.theano/compiledir_Linux-4.15--generic-x86_64-with-debian-buster-sid-x86_64-3.6.6-64/lock_dir/lock\n",
      "Multiprocess sampling (4 chains in 4 jobs)\n",
      "CompoundStep\n",
      ">Metropolis: [sigma]\n",
      ">Metropolis: [a0]\n",
      ">Metropolis: [cn]\n",
      ">Metropolis: [alpha]\n",
      "Sampling 4 chains: 100%|██████████| 82000/82000 [00:20<00:00, 4015.98draws/s]\n",
      "The estimated number of effective samples is smaller than 200 for some parameters.\n"
     ]
    },
    {
     "name": "stdout",
     "output_type": "stream",
     "text": [
      "318 327 17.24263305035428 -28.586010971564594 [-20.07951069]\n"
     ]
    },
    {
     "name": "stderr",
     "output_type": "stream",
     "text": [
      "Multiprocess sampling (4 chains in 4 jobs)\n",
      "CompoundStep\n",
      ">Metropolis: [sigma]\n",
      ">Metropolis: [a0]\n",
      ">Metropolis: [cn]\n",
      ">Metropolis: [alpha]\n",
      "Sampling 4 chains: 100%|██████████| 82000/82000 [00:21<00:00, 3828.05draws/s]\n",
      "The estimated number of effective samples is smaller than 200 for some parameters.\n"
     ]
    },
    {
     "name": "stdout",
     "output_type": "stream",
     "text": [
      "319 327 15.925429859275868 -26.478765675659247 [-18.23542878]\n"
     ]
    },
    {
     "name": "stderr",
     "output_type": "stream",
     "text": [
      "INFO (theano.gof.compilelock): Refreshing lock /home/suntans/.theano/compiledir_Linux-4.15--generic-x86_64-with-debian-buster-sid-x86_64-3.6.6-64/lock_dir/lock\n",
      "Multiprocess sampling (4 chains in 4 jobs)\n",
      "CompoundStep\n",
      ">Metropolis: [sigma]\n",
      ">Metropolis: [a0]\n",
      ">Metropolis: [cn]\n",
      ">Metropolis: [alpha]\n",
      "Sampling 4 chains: 100%|██████████| 82000/82000 [00:22<00:00, 3632.75draws/s]\n",
      "The estimated number of effective samples is smaller than 200 for some parameters.\n"
     ]
    },
    {
     "name": "stdout",
     "output_type": "stream",
     "text": [
      "320 327 17.37273601915872 -29.232714802050413 [-20.28338269]\n"
     ]
    },
    {
     "name": "stderr",
     "output_type": "stream",
     "text": [
      "Multiprocess sampling (4 chains in 4 jobs)\n",
      "CompoundStep\n",
      ">Metropolis: [sigma]\n",
      ">Metropolis: [a0]\n",
      ">Metropolis: [cn]\n",
      ">Metropolis: [alpha]\n",
      "Sampling 4 chains: 100%|██████████| 82000/82000 [00:20<00:00, 4048.59draws/s]\n",
      "The estimated number of effective samples is smaller than 200 for some parameters.\n"
     ]
    },
    {
     "name": "stdout",
     "output_type": "stream",
     "text": [
      "321 327 16.723878985247225 -27.463659626982373 [-19.45104426]\n"
     ]
    },
    {
     "name": "stderr",
     "output_type": "stream",
     "text": [
      "INFO (theano.gof.compilelock): Refreshing lock /home/suntans/.theano/compiledir_Linux-4.15--generic-x86_64-with-debian-buster-sid-x86_64-3.6.6-64/lock_dir/lock\n",
      "Multiprocess sampling (4 chains in 4 jobs)\n",
      "CompoundStep\n",
      ">Metropolis: [sigma]\n",
      ">Metropolis: [a0]\n",
      ">Metropolis: [cn]\n",
      ">Metropolis: [alpha]\n",
      "Sampling 4 chains: 100%|██████████| 82000/82000 [00:22<00:00, 3684.32draws/s]\n",
      "The estimated number of effective samples is smaller than 200 for some parameters.\n"
     ]
    },
    {
     "name": "stdout",
     "output_type": "stream",
     "text": [
      "322 327 18.483359880882702 -26.63350997637822 [-21.85142842]\n"
     ]
    },
    {
     "name": "stderr",
     "output_type": "stream",
     "text": [
      "Multiprocess sampling (4 chains in 4 jobs)\n",
      "CompoundStep\n",
      ">Metropolis: [sigma]\n",
      ">Metropolis: [a0]\n",
      ">Metropolis: [cn]\n",
      ">Metropolis: [alpha]\n",
      "Sampling 4 chains: 100%|██████████| 82000/82000 [00:21<00:00, 3785.11draws/s]\n",
      "The estimated number of effective samples is smaller than 200 for some parameters.\n"
     ]
    },
    {
     "name": "stdout",
     "output_type": "stream",
     "text": [
      "323 327 20.272042212117295 -30.957640882094708 [-24.06393924]\n"
     ]
    },
    {
     "name": "stderr",
     "output_type": "stream",
     "text": [
      "INFO (theano.gof.compilelock): Refreshing lock /home/suntans/.theano/compiledir_Linux-4.15--generic-x86_64-with-debian-buster-sid-x86_64-3.6.6-64/lock_dir/lock\n",
      "Multiprocess sampling (4 chains in 4 jobs)\n",
      "CompoundStep\n",
      ">Metropolis: [sigma]\n",
      ">Metropolis: [a0]\n",
      ">Metropolis: [cn]\n",
      ">Metropolis: [alpha]\n",
      "Sampling 4 chains: 100%|██████████| 82000/82000 [00:20<00:00, 4048.10draws/s]\n",
      "The estimated number of effective samples is smaller than 200 for some parameters.\n"
     ]
    },
    {
     "name": "stdout",
     "output_type": "stream",
     "text": [
      "324 327 21.09202700446191 -30.454945225855173 [-25.03850161]\n"
     ]
    },
    {
     "name": "stderr",
     "output_type": "stream",
     "text": [
      "Multiprocess sampling (4 chains in 4 jobs)\n",
      "CompoundStep\n",
      ">Metropolis: [sigma]\n",
      ">Metropolis: [a0]\n",
      ">Metropolis: [cn]\n",
      ">Metropolis: [alpha]\n",
      "Sampling 4 chains: 100%|██████████| 82000/82000 [00:20<00:00, 4046.39draws/s]\n",
      "The estimated number of effective samples is smaller than 200 for some parameters.\n"
     ]
    },
    {
     "name": "stdout",
     "output_type": "stream",
     "text": [
      "325 327 21.386142912107747 -36.39569221795914 [-27.4606618]\n"
     ]
    },
    {
     "name": "stderr",
     "output_type": "stream",
     "text": [
      "INFO (theano.gof.compilelock): Refreshing lock /home/suntans/.theano/compiledir_Linux-4.15--generic-x86_64-with-debian-buster-sid-x86_64-3.6.6-64/lock_dir/lock\n",
      "Multiprocess sampling (4 chains in 4 jobs)\n",
      "CompoundStep\n",
      ">Metropolis: [sigma]\n",
      ">Metropolis: [a0]\n",
      ">Metropolis: [cn]\n",
      ">Metropolis: [alpha]\n",
      "Sampling 4 chains: 100%|██████████| 82000/82000 [00:21<00:00, 3896.54draws/s]\n",
      "The estimated number of effective samples is smaller than 200 for some parameters.\n"
     ]
    },
    {
     "name": "stdout",
     "output_type": "stream",
     "text": [
      "326 327 18.536625247175476 -33.38795002836118 [-21.70510437]\n"
     ]
    }
   ],
   "source": [
    "# Calc optimal a0 in a for loop\n",
    "a0_all = np.zeros((nt,))\n",
    "for ii in range(nt):\n",
    "    with pm.Model() as a0model:\n",
    "\n",
    "        # Priors on inputs (alpha and cn are pretty tight as they are from the data)\n",
    "        alpha = pm.Normal('alpha', alpha_mean[ii], alpha_std[ii])\n",
    "        cn = pm.Normal('cn', c_mean[ii], c_std[ii])\n",
    "\n",
    "        a0 = pm.Normal('a0', 15, 5) # wide\n",
    "\n",
    "        # Mean function\n",
    "        Lhat =calc_Lhat(a0, omega0, cn, alpha, L)\n",
    "\n",
    "        Ahat = calc_Ahat_quadratic_pm(Lhat, Ahat_args)\n",
    "\n",
    "        mu = pm.Deterministic('Amax', a0*Ahat)\n",
    "\n",
    "        sigma = pm.HalfNormal('sigma',2)\n",
    "\n",
    "        #step1 = pm.Metropolis([Lhat, mu])\n",
    "        #step2 = pm.Metropolis([sigma])\n",
    "\n",
    "        a_fit = pm.Normal('a_fit', mu, sd=sigma, observed = Amax_obs.values[ii])\n",
    "\n",
    "        #mp = pm.find_MAP()\n",
    "        #print(ii, nt, mp['a0'], mp['Amax'], Amax_obs.values[ii])\n",
    "        trace = pm.sample(500, tune=20000, step=pm.Metropolis())\n",
    "        print(ii, nt, trace['a0'].mean(), trace['Amax'].min(), Amax_obs.values[ii])\n",
    "\n",
    "    a0_all[ii] = trace['a0'].mean()\n",
    "    a0_all[ii] = mp['a0'].mean()\n",
    "\n",
    "        \n",
    "\n"
   ]
  },
  {
   "cell_type": "code",
   "execution_count": 32,
   "metadata": {},
   "outputs": [
    {
     "data": {
      "application/javascript": [
       "/* Put everything inside the global mpl namespace */\n",
       "window.mpl = {};\n",
       "\n",
       "\n",
       "mpl.get_websocket_type = function() {\n",
       "    if (typeof(WebSocket) !== 'undefined') {\n",
       "        return WebSocket;\n",
       "    } else if (typeof(MozWebSocket) !== 'undefined') {\n",
       "        return MozWebSocket;\n",
       "    } else {\n",
       "        alert('Your browser does not have WebSocket support.' +\n",
       "              'Please try Chrome, Safari or Firefox ≥ 6. ' +\n",
       "              'Firefox 4 and 5 are also supported but you ' +\n",
       "              'have to enable WebSockets in about:config.');\n",
       "    };\n",
       "}\n",
       "\n",
       "mpl.figure = function(figure_id, websocket, ondownload, parent_element) {\n",
       "    this.id = figure_id;\n",
       "\n",
       "    this.ws = websocket;\n",
       "\n",
       "    this.supports_binary = (this.ws.binaryType != undefined);\n",
       "\n",
       "    if (!this.supports_binary) {\n",
       "        var warnings = document.getElementById(\"mpl-warnings\");\n",
       "        if (warnings) {\n",
       "            warnings.style.display = 'block';\n",
       "            warnings.textContent = (\n",
       "                \"This browser does not support binary websocket messages. \" +\n",
       "                    \"Performance may be slow.\");\n",
       "        }\n",
       "    }\n",
       "\n",
       "    this.imageObj = new Image();\n",
       "\n",
       "    this.context = undefined;\n",
       "    this.message = undefined;\n",
       "    this.canvas = undefined;\n",
       "    this.rubberband_canvas = undefined;\n",
       "    this.rubberband_context = undefined;\n",
       "    this.format_dropdown = undefined;\n",
       "\n",
       "    this.image_mode = 'full';\n",
       "\n",
       "    this.root = $('<div/>');\n",
       "    this._root_extra_style(this.root)\n",
       "    this.root.attr('style', 'display: inline-block');\n",
       "\n",
       "    $(parent_element).append(this.root);\n",
       "\n",
       "    this._init_header(this);\n",
       "    this._init_canvas(this);\n",
       "    this._init_toolbar(this);\n",
       "\n",
       "    var fig = this;\n",
       "\n",
       "    this.waiting = false;\n",
       "\n",
       "    this.ws.onopen =  function () {\n",
       "            fig.send_message(\"supports_binary\", {value: fig.supports_binary});\n",
       "            fig.send_message(\"send_image_mode\", {});\n",
       "            if (mpl.ratio != 1) {\n",
       "                fig.send_message(\"set_dpi_ratio\", {'dpi_ratio': mpl.ratio});\n",
       "            }\n",
       "            fig.send_message(\"refresh\", {});\n",
       "        }\n",
       "\n",
       "    this.imageObj.onload = function() {\n",
       "            if (fig.image_mode == 'full') {\n",
       "                // Full images could contain transparency (where diff images\n",
       "                // almost always do), so we need to clear the canvas so that\n",
       "                // there is no ghosting.\n",
       "                fig.context.clearRect(0, 0, fig.canvas.width, fig.canvas.height);\n",
       "            }\n",
       "            fig.context.drawImage(fig.imageObj, 0, 0);\n",
       "        };\n",
       "\n",
       "    this.imageObj.onunload = function() {\n",
       "        fig.ws.close();\n",
       "    }\n",
       "\n",
       "    this.ws.onmessage = this._make_on_message_function(this);\n",
       "\n",
       "    this.ondownload = ondownload;\n",
       "}\n",
       "\n",
       "mpl.figure.prototype._init_header = function() {\n",
       "    var titlebar = $(\n",
       "        '<div class=\"ui-dialog-titlebar ui-widget-header ui-corner-all ' +\n",
       "        'ui-helper-clearfix\"/>');\n",
       "    var titletext = $(\n",
       "        '<div class=\"ui-dialog-title\" style=\"width: 100%; ' +\n",
       "        'text-align: center; padding: 3px;\"/>');\n",
       "    titlebar.append(titletext)\n",
       "    this.root.append(titlebar);\n",
       "    this.header = titletext[0];\n",
       "}\n",
       "\n",
       "\n",
       "\n",
       "mpl.figure.prototype._canvas_extra_style = function(canvas_div) {\n",
       "\n",
       "}\n",
       "\n",
       "\n",
       "mpl.figure.prototype._root_extra_style = function(canvas_div) {\n",
       "\n",
       "}\n",
       "\n",
       "mpl.figure.prototype._init_canvas = function() {\n",
       "    var fig = this;\n",
       "\n",
       "    var canvas_div = $('<div/>');\n",
       "\n",
       "    canvas_div.attr('style', 'position: relative; clear: both; outline: 0');\n",
       "\n",
       "    function canvas_keyboard_event(event) {\n",
       "        return fig.key_event(event, event['data']);\n",
       "    }\n",
       "\n",
       "    canvas_div.keydown('key_press', canvas_keyboard_event);\n",
       "    canvas_div.keyup('key_release', canvas_keyboard_event);\n",
       "    this.canvas_div = canvas_div\n",
       "    this._canvas_extra_style(canvas_div)\n",
       "    this.root.append(canvas_div);\n",
       "\n",
       "    var canvas = $('<canvas/>');\n",
       "    canvas.addClass('mpl-canvas');\n",
       "    canvas.attr('style', \"left: 0; top: 0; z-index: 0; outline: 0\")\n",
       "\n",
       "    this.canvas = canvas[0];\n",
       "    this.context = canvas[0].getContext(\"2d\");\n",
       "\n",
       "    var backingStore = this.context.backingStorePixelRatio ||\n",
       "\tthis.context.webkitBackingStorePixelRatio ||\n",
       "\tthis.context.mozBackingStorePixelRatio ||\n",
       "\tthis.context.msBackingStorePixelRatio ||\n",
       "\tthis.context.oBackingStorePixelRatio ||\n",
       "\tthis.context.backingStorePixelRatio || 1;\n",
       "\n",
       "    mpl.ratio = (window.devicePixelRatio || 1) / backingStore;\n",
       "\n",
       "    var rubberband = $('<canvas/>');\n",
       "    rubberband.attr('style', \"position: absolute; left: 0; top: 0; z-index: 1;\")\n",
       "\n",
       "    var pass_mouse_events = true;\n",
       "\n",
       "    canvas_div.resizable({\n",
       "        start: function(event, ui) {\n",
       "            pass_mouse_events = false;\n",
       "        },\n",
       "        resize: function(event, ui) {\n",
       "            fig.request_resize(ui.size.width, ui.size.height);\n",
       "        },\n",
       "        stop: function(event, ui) {\n",
       "            pass_mouse_events = true;\n",
       "            fig.request_resize(ui.size.width, ui.size.height);\n",
       "        },\n",
       "    });\n",
       "\n",
       "    function mouse_event_fn(event) {\n",
       "        if (pass_mouse_events)\n",
       "            return fig.mouse_event(event, event['data']);\n",
       "    }\n",
       "\n",
       "    rubberband.mousedown('button_press', mouse_event_fn);\n",
       "    rubberband.mouseup('button_release', mouse_event_fn);\n",
       "    // Throttle sequential mouse events to 1 every 20ms.\n",
       "    rubberband.mousemove('motion_notify', mouse_event_fn);\n",
       "\n",
       "    rubberband.mouseenter('figure_enter', mouse_event_fn);\n",
       "    rubberband.mouseleave('figure_leave', mouse_event_fn);\n",
       "\n",
       "    canvas_div.on(\"wheel\", function (event) {\n",
       "        event = event.originalEvent;\n",
       "        event['data'] = 'scroll'\n",
       "        if (event.deltaY < 0) {\n",
       "            event.step = 1;\n",
       "        } else {\n",
       "            event.step = -1;\n",
       "        }\n",
       "        mouse_event_fn(event);\n",
       "    });\n",
       "\n",
       "    canvas_div.append(canvas);\n",
       "    canvas_div.append(rubberband);\n",
       "\n",
       "    this.rubberband = rubberband;\n",
       "    this.rubberband_canvas = rubberband[0];\n",
       "    this.rubberband_context = rubberband[0].getContext(\"2d\");\n",
       "    this.rubberband_context.strokeStyle = \"#000000\";\n",
       "\n",
       "    this._resize_canvas = function(width, height) {\n",
       "        // Keep the size of the canvas, canvas container, and rubber band\n",
       "        // canvas in synch.\n",
       "        canvas_div.css('width', width)\n",
       "        canvas_div.css('height', height)\n",
       "\n",
       "        canvas.attr('width', width * mpl.ratio);\n",
       "        canvas.attr('height', height * mpl.ratio);\n",
       "        canvas.attr('style', 'width: ' + width + 'px; height: ' + height + 'px;');\n",
       "\n",
       "        rubberband.attr('width', width);\n",
       "        rubberband.attr('height', height);\n",
       "    }\n",
       "\n",
       "    // Set the figure to an initial 600x600px, this will subsequently be updated\n",
       "    // upon first draw.\n",
       "    this._resize_canvas(600, 600);\n",
       "\n",
       "    // Disable right mouse context menu.\n",
       "    $(this.rubberband_canvas).bind(\"contextmenu\",function(e){\n",
       "        return false;\n",
       "    });\n",
       "\n",
       "    function set_focus () {\n",
       "        canvas.focus();\n",
       "        canvas_div.focus();\n",
       "    }\n",
       "\n",
       "    window.setTimeout(set_focus, 100);\n",
       "}\n",
       "\n",
       "mpl.figure.prototype._init_toolbar = function() {\n",
       "    var fig = this;\n",
       "\n",
       "    var nav_element = $('<div/>')\n",
       "    nav_element.attr('style', 'width: 100%');\n",
       "    this.root.append(nav_element);\n",
       "\n",
       "    // Define a callback function for later on.\n",
       "    function toolbar_event(event) {\n",
       "        return fig.toolbar_button_onclick(event['data']);\n",
       "    }\n",
       "    function toolbar_mouse_event(event) {\n",
       "        return fig.toolbar_button_onmouseover(event['data']);\n",
       "    }\n",
       "\n",
       "    for(var toolbar_ind in mpl.toolbar_items) {\n",
       "        var name = mpl.toolbar_items[toolbar_ind][0];\n",
       "        var tooltip = mpl.toolbar_items[toolbar_ind][1];\n",
       "        var image = mpl.toolbar_items[toolbar_ind][2];\n",
       "        var method_name = mpl.toolbar_items[toolbar_ind][3];\n",
       "\n",
       "        if (!name) {\n",
       "            // put a spacer in here.\n",
       "            continue;\n",
       "        }\n",
       "        var button = $('<button/>');\n",
       "        button.addClass('ui-button ui-widget ui-state-default ui-corner-all ' +\n",
       "                        'ui-button-icon-only');\n",
       "        button.attr('role', 'button');\n",
       "        button.attr('aria-disabled', 'false');\n",
       "        button.click(method_name, toolbar_event);\n",
       "        button.mouseover(tooltip, toolbar_mouse_event);\n",
       "\n",
       "        var icon_img = $('<span/>');\n",
       "        icon_img.addClass('ui-button-icon-primary ui-icon');\n",
       "        icon_img.addClass(image);\n",
       "        icon_img.addClass('ui-corner-all');\n",
       "\n",
       "        var tooltip_span = $('<span/>');\n",
       "        tooltip_span.addClass('ui-button-text');\n",
       "        tooltip_span.html(tooltip);\n",
       "\n",
       "        button.append(icon_img);\n",
       "        button.append(tooltip_span);\n",
       "\n",
       "        nav_element.append(button);\n",
       "    }\n",
       "\n",
       "    var fmt_picker_span = $('<span/>');\n",
       "\n",
       "    var fmt_picker = $('<select/>');\n",
       "    fmt_picker.addClass('mpl-toolbar-option ui-widget ui-widget-content');\n",
       "    fmt_picker_span.append(fmt_picker);\n",
       "    nav_element.append(fmt_picker_span);\n",
       "    this.format_dropdown = fmt_picker[0];\n",
       "\n",
       "    for (var ind in mpl.extensions) {\n",
       "        var fmt = mpl.extensions[ind];\n",
       "        var option = $(\n",
       "            '<option/>', {selected: fmt === mpl.default_extension}).html(fmt);\n",
       "        fmt_picker.append(option)\n",
       "    }\n",
       "\n",
       "    // Add hover states to the ui-buttons\n",
       "    $( \".ui-button\" ).hover(\n",
       "        function() { $(this).addClass(\"ui-state-hover\");},\n",
       "        function() { $(this).removeClass(\"ui-state-hover\");}\n",
       "    );\n",
       "\n",
       "    var status_bar = $('<span class=\"mpl-message\"/>');\n",
       "    nav_element.append(status_bar);\n",
       "    this.message = status_bar[0];\n",
       "}\n",
       "\n",
       "mpl.figure.prototype.request_resize = function(x_pixels, y_pixels) {\n",
       "    // Request matplotlib to resize the figure. Matplotlib will then trigger a resize in the client,\n",
       "    // which will in turn request a refresh of the image.\n",
       "    this.send_message('resize', {'width': x_pixels, 'height': y_pixels});\n",
       "}\n",
       "\n",
       "mpl.figure.prototype.send_message = function(type, properties) {\n",
       "    properties['type'] = type;\n",
       "    properties['figure_id'] = this.id;\n",
       "    this.ws.send(JSON.stringify(properties));\n",
       "}\n",
       "\n",
       "mpl.figure.prototype.send_draw_message = function() {\n",
       "    if (!this.waiting) {\n",
       "        this.waiting = true;\n",
       "        this.ws.send(JSON.stringify({type: \"draw\", figure_id: this.id}));\n",
       "    }\n",
       "}\n",
       "\n",
       "\n",
       "mpl.figure.prototype.handle_save = function(fig, msg) {\n",
       "    var format_dropdown = fig.format_dropdown;\n",
       "    var format = format_dropdown.options[format_dropdown.selectedIndex].value;\n",
       "    fig.ondownload(fig, format);\n",
       "}\n",
       "\n",
       "\n",
       "mpl.figure.prototype.handle_resize = function(fig, msg) {\n",
       "    var size = msg['size'];\n",
       "    if (size[0] != fig.canvas.width || size[1] != fig.canvas.height) {\n",
       "        fig._resize_canvas(size[0], size[1]);\n",
       "        fig.send_message(\"refresh\", {});\n",
       "    };\n",
       "}\n",
       "\n",
       "mpl.figure.prototype.handle_rubberband = function(fig, msg) {\n",
       "    var x0 = msg['x0'] / mpl.ratio;\n",
       "    var y0 = (fig.canvas.height - msg['y0']) / mpl.ratio;\n",
       "    var x1 = msg['x1'] / mpl.ratio;\n",
       "    var y1 = (fig.canvas.height - msg['y1']) / mpl.ratio;\n",
       "    x0 = Math.floor(x0) + 0.5;\n",
       "    y0 = Math.floor(y0) + 0.5;\n",
       "    x1 = Math.floor(x1) + 0.5;\n",
       "    y1 = Math.floor(y1) + 0.5;\n",
       "    var min_x = Math.min(x0, x1);\n",
       "    var min_y = Math.min(y0, y1);\n",
       "    var width = Math.abs(x1 - x0);\n",
       "    var height = Math.abs(y1 - y0);\n",
       "\n",
       "    fig.rubberband_context.clearRect(\n",
       "        0, 0, fig.canvas.width, fig.canvas.height);\n",
       "\n",
       "    fig.rubberband_context.strokeRect(min_x, min_y, width, height);\n",
       "}\n",
       "\n",
       "mpl.figure.prototype.handle_figure_label = function(fig, msg) {\n",
       "    // Updates the figure title.\n",
       "    fig.header.textContent = msg['label'];\n",
       "}\n",
       "\n",
       "mpl.figure.prototype.handle_cursor = function(fig, msg) {\n",
       "    var cursor = msg['cursor'];\n",
       "    switch(cursor)\n",
       "    {\n",
       "    case 0:\n",
       "        cursor = 'pointer';\n",
       "        break;\n",
       "    case 1:\n",
       "        cursor = 'default';\n",
       "        break;\n",
       "    case 2:\n",
       "        cursor = 'crosshair';\n",
       "        break;\n",
       "    case 3:\n",
       "        cursor = 'move';\n",
       "        break;\n",
       "    }\n",
       "    fig.rubberband_canvas.style.cursor = cursor;\n",
       "}\n",
       "\n",
       "mpl.figure.prototype.handle_message = function(fig, msg) {\n",
       "    fig.message.textContent = msg['message'];\n",
       "}\n",
       "\n",
       "mpl.figure.prototype.handle_draw = function(fig, msg) {\n",
       "    // Request the server to send over a new figure.\n",
       "    fig.send_draw_message();\n",
       "}\n",
       "\n",
       "mpl.figure.prototype.handle_image_mode = function(fig, msg) {\n",
       "    fig.image_mode = msg['mode'];\n",
       "}\n",
       "\n",
       "mpl.figure.prototype.updated_canvas_event = function() {\n",
       "    // Called whenever the canvas gets updated.\n",
       "    this.send_message(\"ack\", {});\n",
       "}\n",
       "\n",
       "// A function to construct a web socket function for onmessage handling.\n",
       "// Called in the figure constructor.\n",
       "mpl.figure.prototype._make_on_message_function = function(fig) {\n",
       "    return function socket_on_message(evt) {\n",
       "        if (evt.data instanceof Blob) {\n",
       "            /* FIXME: We get \"Resource interpreted as Image but\n",
       "             * transferred with MIME type text/plain:\" errors on\n",
       "             * Chrome.  But how to set the MIME type?  It doesn't seem\n",
       "             * to be part of the websocket stream */\n",
       "            evt.data.type = \"image/png\";\n",
       "\n",
       "            /* Free the memory for the previous frames */\n",
       "            if (fig.imageObj.src) {\n",
       "                (window.URL || window.webkitURL).revokeObjectURL(\n",
       "                    fig.imageObj.src);\n",
       "            }\n",
       "\n",
       "            fig.imageObj.src = (window.URL || window.webkitURL).createObjectURL(\n",
       "                evt.data);\n",
       "            fig.updated_canvas_event();\n",
       "            fig.waiting = false;\n",
       "            return;\n",
       "        }\n",
       "        else if (typeof evt.data === 'string' && evt.data.slice(0, 21) == \"data:image/png;base64\") {\n",
       "            fig.imageObj.src = evt.data;\n",
       "            fig.updated_canvas_event();\n",
       "            fig.waiting = false;\n",
       "            return;\n",
       "        }\n",
       "\n",
       "        var msg = JSON.parse(evt.data);\n",
       "        var msg_type = msg['type'];\n",
       "\n",
       "        // Call the  \"handle_{type}\" callback, which takes\n",
       "        // the figure and JSON message as its only arguments.\n",
       "        try {\n",
       "            var callback = fig[\"handle_\" + msg_type];\n",
       "        } catch (e) {\n",
       "            console.log(\"No handler for the '\" + msg_type + \"' message type: \", msg);\n",
       "            return;\n",
       "        }\n",
       "\n",
       "        if (callback) {\n",
       "            try {\n",
       "                // console.log(\"Handling '\" + msg_type + \"' message: \", msg);\n",
       "                callback(fig, msg);\n",
       "            } catch (e) {\n",
       "                console.log(\"Exception inside the 'handler_\" + msg_type + \"' callback:\", e, e.stack, msg);\n",
       "            }\n",
       "        }\n",
       "    };\n",
       "}\n",
       "\n",
       "// from http://stackoverflow.com/questions/1114465/getting-mouse-location-in-canvas\n",
       "mpl.findpos = function(e) {\n",
       "    //this section is from http://www.quirksmode.org/js/events_properties.html\n",
       "    var targ;\n",
       "    if (!e)\n",
       "        e = window.event;\n",
       "    if (e.target)\n",
       "        targ = e.target;\n",
       "    else if (e.srcElement)\n",
       "        targ = e.srcElement;\n",
       "    if (targ.nodeType == 3) // defeat Safari bug\n",
       "        targ = targ.parentNode;\n",
       "\n",
       "    // jQuery normalizes the pageX and pageY\n",
       "    // pageX,Y are the mouse positions relative to the document\n",
       "    // offset() returns the position of the element relative to the document\n",
       "    var x = e.pageX - $(targ).offset().left;\n",
       "    var y = e.pageY - $(targ).offset().top;\n",
       "\n",
       "    return {\"x\": x, \"y\": y};\n",
       "};\n",
       "\n",
       "/*\n",
       " * return a copy of an object with only non-object keys\n",
       " * we need this to avoid circular references\n",
       " * http://stackoverflow.com/a/24161582/3208463\n",
       " */\n",
       "function simpleKeys (original) {\n",
       "  return Object.keys(original).reduce(function (obj, key) {\n",
       "    if (typeof original[key] !== 'object')\n",
       "        obj[key] = original[key]\n",
       "    return obj;\n",
       "  }, {});\n",
       "}\n",
       "\n",
       "mpl.figure.prototype.mouse_event = function(event, name) {\n",
       "    var canvas_pos = mpl.findpos(event)\n",
       "\n",
       "    if (name === 'button_press')\n",
       "    {\n",
       "        this.canvas.focus();\n",
       "        this.canvas_div.focus();\n",
       "    }\n",
       "\n",
       "    var x = canvas_pos.x * mpl.ratio;\n",
       "    var y = canvas_pos.y * mpl.ratio;\n",
       "\n",
       "    this.send_message(name, {x: x, y: y, button: event.button,\n",
       "                             step: event.step,\n",
       "                             guiEvent: simpleKeys(event)});\n",
       "\n",
       "    /* This prevents the web browser from automatically changing to\n",
       "     * the text insertion cursor when the button is pressed.  We want\n",
       "     * to control all of the cursor setting manually through the\n",
       "     * 'cursor' event from matplotlib */\n",
       "    event.preventDefault();\n",
       "    return false;\n",
       "}\n",
       "\n",
       "mpl.figure.prototype._key_event_extra = function(event, name) {\n",
       "    // Handle any extra behaviour associated with a key event\n",
       "}\n",
       "\n",
       "mpl.figure.prototype.key_event = function(event, name) {\n",
       "\n",
       "    // Prevent repeat events\n",
       "    if (name == 'key_press')\n",
       "    {\n",
       "        if (event.which === this._key)\n",
       "            return;\n",
       "        else\n",
       "            this._key = event.which;\n",
       "    }\n",
       "    if (name == 'key_release')\n",
       "        this._key = null;\n",
       "\n",
       "    var value = '';\n",
       "    if (event.ctrlKey && event.which != 17)\n",
       "        value += \"ctrl+\";\n",
       "    if (event.altKey && event.which != 18)\n",
       "        value += \"alt+\";\n",
       "    if (event.shiftKey && event.which != 16)\n",
       "        value += \"shift+\";\n",
       "\n",
       "    value += 'k';\n",
       "    value += event.which.toString();\n",
       "\n",
       "    this._key_event_extra(event, name);\n",
       "\n",
       "    this.send_message(name, {key: value,\n",
       "                             guiEvent: simpleKeys(event)});\n",
       "    return false;\n",
       "}\n",
       "\n",
       "mpl.figure.prototype.toolbar_button_onclick = function(name) {\n",
       "    if (name == 'download') {\n",
       "        this.handle_save(this, null);\n",
       "    } else {\n",
       "        this.send_message(\"toolbar_button\", {name: name});\n",
       "    }\n",
       "};\n",
       "\n",
       "mpl.figure.prototype.toolbar_button_onmouseover = function(tooltip) {\n",
       "    this.message.textContent = tooltip;\n",
       "};\n",
       "mpl.toolbar_items = [[\"Home\", \"Reset original view\", \"fa fa-home icon-home\", \"home\"], [\"Back\", \"Back to previous view\", \"fa fa-arrow-left icon-arrow-left\", \"back\"], [\"Forward\", \"Forward to next view\", \"fa fa-arrow-right icon-arrow-right\", \"forward\"], [\"\", \"\", \"\", \"\"], [\"Pan\", \"Pan axes with left mouse, zoom with right\", \"fa fa-arrows icon-move\", \"pan\"], [\"Zoom\", \"Zoom to rectangle\", \"fa fa-square-o icon-check-empty\", \"zoom\"], [\"\", \"\", \"\", \"\"], [\"Download\", \"Download plot\", \"fa fa-floppy-o icon-save\", \"download\"]];\n",
       "\n",
       "mpl.extensions = [\"eps\", \"jpeg\", \"pdf\", \"png\", \"ps\", \"raw\", \"svg\", \"tif\"];\n",
       "\n",
       "mpl.default_extension = \"png\";var comm_websocket_adapter = function(comm) {\n",
       "    // Create a \"websocket\"-like object which calls the given IPython comm\n",
       "    // object with the appropriate methods. Currently this is a non binary\n",
       "    // socket, so there is still some room for performance tuning.\n",
       "    var ws = {};\n",
       "\n",
       "    ws.close = function() {\n",
       "        comm.close()\n",
       "    };\n",
       "    ws.send = function(m) {\n",
       "        //console.log('sending', m);\n",
       "        comm.send(m);\n",
       "    };\n",
       "    // Register the callback with on_msg.\n",
       "    comm.on_msg(function(msg) {\n",
       "        //console.log('receiving', msg['content']['data'], msg);\n",
       "        // Pass the mpl event to the overridden (by mpl) onmessage function.\n",
       "        ws.onmessage(msg['content']['data'])\n",
       "    });\n",
       "    return ws;\n",
       "}\n",
       "\n",
       "mpl.mpl_figure_comm = function(comm, msg) {\n",
       "    // This is the function which gets called when the mpl process\n",
       "    // starts-up an IPython Comm through the \"matplotlib\" channel.\n",
       "\n",
       "    var id = msg.content.data.id;\n",
       "    // Get hold of the div created by the display call when the Comm\n",
       "    // socket was opened in Python.\n",
       "    var element = $(\"#\" + id);\n",
       "    var ws_proxy = comm_websocket_adapter(comm)\n",
       "\n",
       "    function ondownload(figure, format) {\n",
       "        window.open(figure.imageObj.src);\n",
       "    }\n",
       "\n",
       "    var fig = new mpl.figure(id, ws_proxy,\n",
       "                           ondownload,\n",
       "                           element.get(0));\n",
       "\n",
       "    // Call onopen now - mpl needs it, as it is assuming we've passed it a real\n",
       "    // web socket which is closed, not our websocket->open comm proxy.\n",
       "    ws_proxy.onopen();\n",
       "\n",
       "    fig.parent_element = element.get(0);\n",
       "    fig.cell_info = mpl.find_output_cell(\"<div id='\" + id + \"'></div>\");\n",
       "    if (!fig.cell_info) {\n",
       "        console.error(\"Failed to find cell for figure\", id, fig);\n",
       "        return;\n",
       "    }\n",
       "\n",
       "    var output_index = fig.cell_info[2]\n",
       "    var cell = fig.cell_info[0];\n",
       "\n",
       "};\n",
       "\n",
       "mpl.figure.prototype.handle_close = function(fig, msg) {\n",
       "    var width = fig.canvas.width/mpl.ratio\n",
       "    fig.root.unbind('remove')\n",
       "\n",
       "    // Update the output cell to use the data from the current canvas.\n",
       "    fig.push_to_output();\n",
       "    var dataURL = fig.canvas.toDataURL();\n",
       "    // Re-enable the keyboard manager in IPython - without this line, in FF,\n",
       "    // the notebook keyboard shortcuts fail.\n",
       "    IPython.keyboard_manager.enable()\n",
       "    $(fig.parent_element).html('<img src=\"' + dataURL + '\" width=\"' + width + '\">');\n",
       "    fig.close_ws(fig, msg);\n",
       "}\n",
       "\n",
       "mpl.figure.prototype.close_ws = function(fig, msg){\n",
       "    fig.send_message('closing', msg);\n",
       "    // fig.ws.close()\n",
       "}\n",
       "\n",
       "mpl.figure.prototype.push_to_output = function(remove_interactive) {\n",
       "    // Turn the data on the canvas into data in the output cell.\n",
       "    var width = this.canvas.width/mpl.ratio\n",
       "    var dataURL = this.canvas.toDataURL();\n",
       "    this.cell_info[1]['text/html'] = '<img src=\"' + dataURL + '\" width=\"' + width + '\">';\n",
       "}\n",
       "\n",
       "mpl.figure.prototype.updated_canvas_event = function() {\n",
       "    // Tell IPython that the notebook contents must change.\n",
       "    IPython.notebook.set_dirty(true);\n",
       "    this.send_message(\"ack\", {});\n",
       "    var fig = this;\n",
       "    // Wait a second, then push the new image to the DOM so\n",
       "    // that it is saved nicely (might be nice to debounce this).\n",
       "    setTimeout(function () { fig.push_to_output() }, 1000);\n",
       "}\n",
       "\n",
       "mpl.figure.prototype._init_toolbar = function() {\n",
       "    var fig = this;\n",
       "\n",
       "    var nav_element = $('<div/>')\n",
       "    nav_element.attr('style', 'width: 100%');\n",
       "    this.root.append(nav_element);\n",
       "\n",
       "    // Define a callback function for later on.\n",
       "    function toolbar_event(event) {\n",
       "        return fig.toolbar_button_onclick(event['data']);\n",
       "    }\n",
       "    function toolbar_mouse_event(event) {\n",
       "        return fig.toolbar_button_onmouseover(event['data']);\n",
       "    }\n",
       "\n",
       "    for(var toolbar_ind in mpl.toolbar_items){\n",
       "        var name = mpl.toolbar_items[toolbar_ind][0];\n",
       "        var tooltip = mpl.toolbar_items[toolbar_ind][1];\n",
       "        var image = mpl.toolbar_items[toolbar_ind][2];\n",
       "        var method_name = mpl.toolbar_items[toolbar_ind][3];\n",
       "\n",
       "        if (!name) { continue; };\n",
       "\n",
       "        var button = $('<button class=\"btn btn-default\" href=\"#\" title=\"' + name + '\"><i class=\"fa ' + image + ' fa-lg\"></i></button>');\n",
       "        button.click(method_name, toolbar_event);\n",
       "        button.mouseover(tooltip, toolbar_mouse_event);\n",
       "        nav_element.append(button);\n",
       "    }\n",
       "\n",
       "    // Add the status bar.\n",
       "    var status_bar = $('<span class=\"mpl-message\" style=\"text-align:right; float: right;\"/>');\n",
       "    nav_element.append(status_bar);\n",
       "    this.message = status_bar[0];\n",
       "\n",
       "    // Add the close button to the window.\n",
       "    var buttongrp = $('<div class=\"btn-group inline pull-right\"></div>');\n",
       "    var button = $('<button class=\"btn btn-mini btn-primary\" href=\"#\" title=\"Stop Interaction\"><i class=\"fa fa-power-off icon-remove icon-large\"></i></button>');\n",
       "    button.click(function (evt) { fig.handle_close(fig, {}); } );\n",
       "    button.mouseover('Stop Interaction', toolbar_mouse_event);\n",
       "    buttongrp.append(button);\n",
       "    var titlebar = this.root.find($('.ui-dialog-titlebar'));\n",
       "    titlebar.prepend(buttongrp);\n",
       "}\n",
       "\n",
       "mpl.figure.prototype._root_extra_style = function(el){\n",
       "    var fig = this\n",
       "    el.on(\"remove\", function(){\n",
       "\tfig.close_ws(fig, {});\n",
       "    });\n",
       "}\n",
       "\n",
       "mpl.figure.prototype._canvas_extra_style = function(el){\n",
       "    // this is important to make the div 'focusable\n",
       "    el.attr('tabindex', 0)\n",
       "    // reach out to IPython and tell the keyboard manager to turn it's self\n",
       "    // off when our div gets focus\n",
       "\n",
       "    // location in version 3\n",
       "    if (IPython.notebook.keyboard_manager) {\n",
       "        IPython.notebook.keyboard_manager.register_events(el);\n",
       "    }\n",
       "    else {\n",
       "        // location in version 2\n",
       "        IPython.keyboard_manager.register_events(el);\n",
       "    }\n",
       "\n",
       "}\n",
       "\n",
       "mpl.figure.prototype._key_event_extra = function(event, name) {\n",
       "    var manager = IPython.notebook.keyboard_manager;\n",
       "    if (!manager)\n",
       "        manager = IPython.keyboard_manager;\n",
       "\n",
       "    // Check for shift+enter\n",
       "    if (event.shiftKey && event.which == 13) {\n",
       "        this.canvas_div.blur();\n",
       "        event.shiftKey = false;\n",
       "        // Send a \"J\" for go to next cell\n",
       "        event.which = 74;\n",
       "        event.keyCode = 74;\n",
       "        manager.command_mode();\n",
       "        manager.handle_keydown(event);\n",
       "    }\n",
       "}\n",
       "\n",
       "mpl.figure.prototype.handle_save = function(fig, msg) {\n",
       "    fig.ondownload(fig, null);\n",
       "}\n",
       "\n",
       "\n",
       "mpl.find_output_cell = function(html_output) {\n",
       "    // Return the cell and output element which can be found *uniquely* in the notebook.\n",
       "    // Note - this is a bit hacky, but it is done because the \"notebook_saving.Notebook\"\n",
       "    // IPython event is triggered only after the cells have been serialised, which for\n",
       "    // our purposes (turning an active figure into a static one), is too late.\n",
       "    var cells = IPython.notebook.get_cells();\n",
       "    var ncells = cells.length;\n",
       "    for (var i=0; i<ncells; i++) {\n",
       "        var cell = cells[i];\n",
       "        if (cell.cell_type === 'code'){\n",
       "            for (var j=0; j<cell.output_area.outputs.length; j++) {\n",
       "                var data = cell.output_area.outputs[j];\n",
       "                if (data.data) {\n",
       "                    // IPython >= 3 moved mimebundle to data attribute of output\n",
       "                    data = data.data;\n",
       "                }\n",
       "                if (data['text/html'] == html_output) {\n",
       "                    return [cell, data, j];\n",
       "                }\n",
       "            }\n",
       "        }\n",
       "    }\n",
       "}\n",
       "\n",
       "// Register the function which deals with the matplotlib target/channel.\n",
       "// The kernel may be null if the page has been refreshed.\n",
       "if (IPython.notebook.kernel != null) {\n",
       "    IPython.notebook.kernel.comm_manager.register_target('matplotlib', mpl.mpl_figure_comm);\n",
       "}\n"
      ],
      "text/plain": [
       "<IPython.core.display.Javascript object>"
      ]
     },
     "metadata": {},
     "output_type": "display_data"
    },
    {
     "data": {
      "text/html": [
       "<img src=\"data:image/png;base64,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\" width=\"976\">"
      ],
      "text/plain": [
       "<IPython.core.display.HTML object>"
      ]
     },
     "metadata": {},
     "output_type": "display_data"
    },
    {
     "data": {
      "text/plain": [
       "(0, 40)"
      ]
     },
     "execution_count": 32,
     "metadata": {},
     "output_type": "execute_result"
    }
   ],
   "source": [
    "plt.figure()\n",
    "plt.plot(Amax_obs.index,a0_all,'.')\n",
    "plt.ylim(0,40)"
   ]
  },
  {
   "cell_type": "code",
   "execution_count": 49,
   "metadata": {},
   "outputs": [
    {
     "name": "stderr",
     "output_type": "stream",
     "text": [
      "Multiprocess sampling (4 chains in 4 jobs)\n",
      "CompoundStep\n",
      ">Metropolis: [sigma]\n",
      ">Metropolis: [a0]\n",
      ">Metropolis: [cn]\n",
      ">Metropolis: [alpha]\n",
      "Sampling 4 chains: 100%|██████████| 402000/402000 [09:12<00:00, 727.84draws/s]\n",
      "The gelman-rubin statistic is larger than 1.4 for some parameters. The sampler did not converge.\n",
      "The estimated number of effective samples is smaller than 200 for some parameters.\n"
     ]
    },
    {
     "data": {
      "text/html": [
       "<div>\n",
       "<style scoped>\n",
       "    .dataframe tbody tr th:only-of-type {\n",
       "        vertical-align: middle;\n",
       "    }\n",
       "\n",
       "    .dataframe tbody tr th {\n",
       "        vertical-align: top;\n",
       "    }\n",
       "\n",
       "    .dataframe thead th {\n",
       "        text-align: right;\n",
       "    }\n",
       "</style>\n",
       "<table border=\"1\" class=\"dataframe\">\n",
       "  <thead>\n",
       "    <tr style=\"text-align: right;\">\n",
       "      <th></th>\n",
       "      <th>mean</th>\n",
       "      <th>sd</th>\n",
       "      <th>mc_error</th>\n",
       "      <th>hpd_2.5</th>\n",
       "      <th>hpd_97.5</th>\n",
       "      <th>n_eff</th>\n",
       "      <th>Rhat</th>\n",
       "    </tr>\n",
       "  </thead>\n",
       "  <tbody>\n",
       "    <tr>\n",
       "      <th>alpha__0</th>\n",
       "      <td>-0.006138</td>\n",
       "      <td>0.000370</td>\n",
       "      <td>0.000037</td>\n",
       "      <td>-0.006766</td>\n",
       "      <td>-0.005798</td>\n",
       "      <td>2.012247</td>\n",
       "      <td>16.003039</td>\n",
       "    </tr>\n",
       "    <tr>\n",
       "      <th>alpha__1</th>\n",
       "      <td>-0.005920</td>\n",
       "      <td>0.000326</td>\n",
       "      <td>0.000033</td>\n",
       "      <td>-0.006318</td>\n",
       "      <td>-0.005423</td>\n",
       "      <td>2.013227</td>\n",
       "      <td>15.282715</td>\n",
       "    </tr>\n",
       "    <tr>\n",
       "      <th>alpha__2</th>\n",
       "      <td>-0.006962</td>\n",
       "      <td>0.000894</td>\n",
       "      <td>0.000089</td>\n",
       "      <td>-0.008502</td>\n",
       "      <td>-0.006307</td>\n",
       "      <td>2.004758</td>\n",
       "      <td>31.581838</td>\n",
       "    </tr>\n",
       "    <tr>\n",
       "      <th>alpha__3</th>\n",
       "      <td>-0.006023</td>\n",
       "      <td>0.001018</td>\n",
       "      <td>0.000102</td>\n",
       "      <td>-0.006798</td>\n",
       "      <td>-0.004278</td>\n",
       "      <td>2.005443</td>\n",
       "      <td>30.579976</td>\n",
       "    </tr>\n",
       "    <tr>\n",
       "      <th>alpha__4</th>\n",
       "      <td>-0.007264</td>\n",
       "      <td>0.000647</td>\n",
       "      <td>0.000065</td>\n",
       "      <td>-0.008378</td>\n",
       "      <td>-0.006748</td>\n",
       "      <td>2.005930</td>\n",
       "      <td>26.706971</td>\n",
       "    </tr>\n",
       "    <tr>\n",
       "      <th>alpha__5</th>\n",
       "      <td>-0.007389</td>\n",
       "      <td>0.000322</td>\n",
       "      <td>0.000032</td>\n",
       "      <td>-0.007943</td>\n",
       "      <td>-0.007144</td>\n",
       "      <td>2.009589</td>\n",
       "      <td>18.332022</td>\n",
       "    </tr>\n",
       "    <tr>\n",
       "      <th>alpha__6</th>\n",
       "      <td>-0.005870</td>\n",
       "      <td>0.002712</td>\n",
       "      <td>0.000271</td>\n",
       "      <td>-0.007509</td>\n",
       "      <td>-0.001173</td>\n",
       "      <td>2.002133</td>\n",
       "      <td>140.718884</td>\n",
       "    </tr>\n",
       "    <tr>\n",
       "      <th>alpha__7</th>\n",
       "      <td>-0.008160</td>\n",
       "      <td>0.000907</td>\n",
       "      <td>0.000091</td>\n",
       "      <td>-0.009747</td>\n",
       "      <td>-0.007535</td>\n",
       "      <td>2.003389</td>\n",
       "      <td>44.856193</td>\n",
       "    </tr>\n",
       "    <tr>\n",
       "      <th>alpha__8</th>\n",
       "      <td>-0.006199</td>\n",
       "      <td>0.000965</td>\n",
       "      <td>0.000097</td>\n",
       "      <td>-0.006845</td>\n",
       "      <td>-0.004530</td>\n",
       "      <td>2.003896</td>\n",
       "      <td>37.447232</td>\n",
       "    </tr>\n",
       "    <tr>\n",
       "      <th>alpha__9</th>\n",
       "      <td>-0.007406</td>\n",
       "      <td>0.000800</td>\n",
       "      <td>0.000080</td>\n",
       "      <td>-0.008766</td>\n",
       "      <td>-0.006741</td>\n",
       "      <td>2.007730</td>\n",
       "      <td>23.575314</td>\n",
       "    </tr>\n",
       "    <tr>\n",
       "      <th>alpha__10</th>\n",
       "      <td>-0.006325</td>\n",
       "      <td>0.000950</td>\n",
       "      <td>0.000095</td>\n",
       "      <td>-0.007061</td>\n",
       "      <td>-0.004692</td>\n",
       "      <td>2.005530</td>\n",
       "      <td>29.543778</td>\n",
       "    </tr>\n",
       "    <tr>\n",
       "      <th>alpha__11</th>\n",
       "      <td>-0.007275</td>\n",
       "      <td>0.000381</td>\n",
       "      <td>0.000038</td>\n",
       "      <td>-0.007875</td>\n",
       "      <td>-0.006815</td>\n",
       "      <td>2.010282</td>\n",
       "      <td>17.774437</td>\n",
       "    </tr>\n",
       "    <tr>\n",
       "      <th>alpha__12</th>\n",
       "      <td>-0.006278</td>\n",
       "      <td>0.001958</td>\n",
       "      <td>0.000196</td>\n",
       "      <td>-0.009550</td>\n",
       "      <td>-0.004267</td>\n",
       "      <td>2.002610</td>\n",
       "      <td>68.392290</td>\n",
       "    </tr>\n",
       "    <tr>\n",
       "      <th>alpha__13</th>\n",
       "      <td>-0.006367</td>\n",
       "      <td>0.000163</td>\n",
       "      <td>0.000016</td>\n",
       "      <td>-0.006565</td>\n",
       "      <td>-0.006080</td>\n",
       "      <td>2.041745</td>\n",
       "      <td>8.409776</td>\n",
       "    </tr>\n",
       "    <tr>\n",
       "      <th>alpha__14</th>\n",
       "      <td>-0.006674</td>\n",
       "      <td>0.000696</td>\n",
       "      <td>0.000070</td>\n",
       "      <td>-0.007845</td>\n",
       "      <td>-0.006037</td>\n",
       "      <td>2.004872</td>\n",
       "      <td>30.487343</td>\n",
       "    </tr>\n",
       "    <tr>\n",
       "      <th>alpha__15</th>\n",
       "      <td>-0.007440</td>\n",
       "      <td>0.000785</td>\n",
       "      <td>0.000078</td>\n",
       "      <td>-0.008715</td>\n",
       "      <td>-0.006738</td>\n",
       "      <td>2.004164</td>\n",
       "      <td>35.348054</td>\n",
       "    </tr>\n",
       "    <tr>\n",
       "      <th>alpha__16</th>\n",
       "      <td>-0.005845</td>\n",
       "      <td>0.000208</td>\n",
       "      <td>0.000021</td>\n",
       "      <td>-0.006231</td>\n",
       "      <td>-0.005619</td>\n",
       "      <td>2.114280</td>\n",
       "      <td>5.347688</td>\n",
       "    </tr>\n",
       "    <tr>\n",
       "      <th>alpha__17</th>\n",
       "      <td>-0.005862</td>\n",
       "      <td>0.000167</td>\n",
       "      <td>0.000017</td>\n",
       "      <td>-0.006158</td>\n",
       "      <td>-0.005658</td>\n",
       "      <td>2.055586</td>\n",
       "      <td>7.131995</td>\n",
       "    </tr>\n",
       "    <tr>\n",
       "      <th>alpha__18</th>\n",
       "      <td>-0.006166</td>\n",
       "      <td>0.000214</td>\n",
       "      <td>0.000021</td>\n",
       "      <td>-0.006554</td>\n",
       "      <td>-0.005892</td>\n",
       "      <td>2.039400</td>\n",
       "      <td>8.898695</td>\n",
       "    </tr>\n",
       "    <tr>\n",
       "      <th>alpha__19</th>\n",
       "      <td>-0.006725</td>\n",
       "      <td>0.001035</td>\n",
       "      <td>0.000104</td>\n",
       "      <td>-0.008514</td>\n",
       "      <td>-0.006016</td>\n",
       "      <td>2.003075</td>\n",
       "      <td>51.367051</td>\n",
       "    </tr>\n",
       "    <tr>\n",
       "      <th>alpha__20</th>\n",
       "      <td>-0.006176</td>\n",
       "      <td>0.000468</td>\n",
       "      <td>0.000047</td>\n",
       "      <td>-0.006629</td>\n",
       "      <td>-0.005396</td>\n",
       "      <td>2.004816</td>\n",
       "      <td>29.875759</td>\n",
       "    </tr>\n",
       "    <tr>\n",
       "      <th>alpha__21</th>\n",
       "      <td>-0.006722</td>\n",
       "      <td>0.000111</td>\n",
       "      <td>0.000011</td>\n",
       "      <td>-0.006851</td>\n",
       "      <td>-0.006507</td>\n",
       "      <td>2.228876</td>\n",
       "      <td>3.722474</td>\n",
       "    </tr>\n",
       "    <tr>\n",
       "      <th>alpha__22</th>\n",
       "      <td>-0.006409</td>\n",
       "      <td>0.000833</td>\n",
       "      <td>0.000083</td>\n",
       "      <td>-0.006996</td>\n",
       "      <td>-0.004970</td>\n",
       "      <td>2.004808</td>\n",
       "      <td>31.489976</td>\n",
       "    </tr>\n",
       "    <tr>\n",
       "      <th>alpha__23</th>\n",
       "      <td>-0.007280</td>\n",
       "      <td>0.000692</td>\n",
       "      <td>0.000069</td>\n",
       "      <td>-0.008374</td>\n",
       "      <td>-0.006610</td>\n",
       "      <td>2.006664</td>\n",
       "      <td>25.029845</td>\n",
       "    </tr>\n",
       "    <tr>\n",
       "      <th>alpha__24</th>\n",
       "      <td>-0.007598</td>\n",
       "      <td>0.001042</td>\n",
       "      <td>0.000104</td>\n",
       "      <td>-0.009383</td>\n",
       "      <td>-0.006711</td>\n",
       "      <td>2.003227</td>\n",
       "      <td>46.263946</td>\n",
       "    </tr>\n",
       "    <tr>\n",
       "      <th>alpha__25</th>\n",
       "      <td>-0.007209</td>\n",
       "      <td>0.000460</td>\n",
       "      <td>0.000046</td>\n",
       "      <td>-0.008000</td>\n",
       "      <td>-0.006867</td>\n",
       "      <td>2.016612</td>\n",
       "      <td>13.942908</td>\n",
       "    </tr>\n",
       "    <tr>\n",
       "      <th>alpha__26</th>\n",
       "      <td>-0.006822</td>\n",
       "      <td>0.000177</td>\n",
       "      <td>0.000018</td>\n",
       "      <td>-0.007059</td>\n",
       "      <td>-0.006556</td>\n",
       "      <td>2.017582</td>\n",
       "      <td>13.580963</td>\n",
       "    </tr>\n",
       "    <tr>\n",
       "      <th>alpha__27</th>\n",
       "      <td>-0.006739</td>\n",
       "      <td>0.000217</td>\n",
       "      <td>0.000022</td>\n",
       "      <td>-0.007093</td>\n",
       "      <td>-0.006496</td>\n",
       "      <td>2.037175</td>\n",
       "      <td>9.489833</td>\n",
       "    </tr>\n",
       "    <tr>\n",
       "      <th>alpha__28</th>\n",
       "      <td>-0.005226</td>\n",
       "      <td>0.001763</td>\n",
       "      <td>0.000176</td>\n",
       "      <td>-0.006547</td>\n",
       "      <td>-0.002183</td>\n",
       "      <td>2.002810</td>\n",
       "      <td>59.869991</td>\n",
       "    </tr>\n",
       "    <tr>\n",
       "      <th>alpha__29</th>\n",
       "      <td>-0.006300</td>\n",
       "      <td>0.000458</td>\n",
       "      <td>0.000046</td>\n",
       "      <td>-0.007041</td>\n",
       "      <td>-0.005818</td>\n",
       "      <td>2.020734</td>\n",
       "      <td>12.621646</td>\n",
       "    </tr>\n",
       "    <tr>\n",
       "      <th>...</th>\n",
       "      <td>...</td>\n",
       "      <td>...</td>\n",
       "      <td>...</td>\n",
       "      <td>...</td>\n",
       "      <td>...</td>\n",
       "      <td>...</td>\n",
       "      <td>...</td>\n",
       "    </tr>\n",
       "    <tr>\n",
       "      <th>sigma__297</th>\n",
       "      <td>3.326968</td>\n",
       "      <td>0.037686</td>\n",
       "      <td>0.003735</td>\n",
       "      <td>3.256467</td>\n",
       "      <td>3.389048</td>\n",
       "      <td>7.684361</td>\n",
       "      <td>1.292558</td>\n",
       "    </tr>\n",
       "    <tr>\n",
       "      <th>sigma__298</th>\n",
       "      <td>3.344842</td>\n",
       "      <td>0.035028</td>\n",
       "      <td>0.003464</td>\n",
       "      <td>3.281646</td>\n",
       "      <td>3.415578</td>\n",
       "      <td>6.270102</td>\n",
       "      <td>1.409643</td>\n",
       "    </tr>\n",
       "    <tr>\n",
       "      <th>sigma__299</th>\n",
       "      <td>3.323677</td>\n",
       "      <td>0.029918</td>\n",
       "      <td>0.002945</td>\n",
       "      <td>3.266741</td>\n",
       "      <td>3.361773</td>\n",
       "      <td>12.218812</td>\n",
       "      <td>1.118084</td>\n",
       "    </tr>\n",
       "    <tr>\n",
       "      <th>sigma__300</th>\n",
       "      <td>3.302711</td>\n",
       "      <td>0.039138</td>\n",
       "      <td>0.003879</td>\n",
       "      <td>3.235326</td>\n",
       "      <td>3.367876</td>\n",
       "      <td>2.666293</td>\n",
       "      <td>2.289805</td>\n",
       "    </tr>\n",
       "    <tr>\n",
       "      <th>sigma__301</th>\n",
       "      <td>3.345457</td>\n",
       "      <td>0.045157</td>\n",
       "      <td>0.004485</td>\n",
       "      <td>3.271464</td>\n",
       "      <td>3.430800</td>\n",
       "      <td>2.547697</td>\n",
       "      <td>2.379694</td>\n",
       "    </tr>\n",
       "    <tr>\n",
       "      <th>sigma__302</th>\n",
       "      <td>3.332373</td>\n",
       "      <td>0.038286</td>\n",
       "      <td>0.003789</td>\n",
       "      <td>3.278066</td>\n",
       "      <td>3.418178</td>\n",
       "      <td>2.825751</td>\n",
       "      <td>2.097546</td>\n",
       "    </tr>\n",
       "    <tr>\n",
       "      <th>sigma__303</th>\n",
       "      <td>3.334076</td>\n",
       "      <td>0.045059</td>\n",
       "      <td>0.004469</td>\n",
       "      <td>3.210946</td>\n",
       "      <td>3.396395</td>\n",
       "      <td>4.250223</td>\n",
       "      <td>1.620216</td>\n",
       "    </tr>\n",
       "    <tr>\n",
       "      <th>sigma__304</th>\n",
       "      <td>3.311131</td>\n",
       "      <td>0.055424</td>\n",
       "      <td>0.005518</td>\n",
       "      <td>3.223087</td>\n",
       "      <td>3.395363</td>\n",
       "      <td>2.177792</td>\n",
       "      <td>3.870912</td>\n",
       "    </tr>\n",
       "    <tr>\n",
       "      <th>sigma__305</th>\n",
       "      <td>3.354818</td>\n",
       "      <td>0.049458</td>\n",
       "      <td>0.004919</td>\n",
       "      <td>3.265085</td>\n",
       "      <td>3.441812</td>\n",
       "      <td>2.318429</td>\n",
       "      <td>3.075628</td>\n",
       "    </tr>\n",
       "    <tr>\n",
       "      <th>sigma__306</th>\n",
       "      <td>3.370970</td>\n",
       "      <td>0.042024</td>\n",
       "      <td>0.004166</td>\n",
       "      <td>3.294512</td>\n",
       "      <td>3.435301</td>\n",
       "      <td>2.823439</td>\n",
       "      <td>2.184284</td>\n",
       "    </tr>\n",
       "    <tr>\n",
       "      <th>sigma__307</th>\n",
       "      <td>3.325129</td>\n",
       "      <td>0.035476</td>\n",
       "      <td>0.003506</td>\n",
       "      <td>3.263434</td>\n",
       "      <td>3.388585</td>\n",
       "      <td>3.692234</td>\n",
       "      <td>1.666790</td>\n",
       "    </tr>\n",
       "    <tr>\n",
       "      <th>sigma__308</th>\n",
       "      <td>3.332421</td>\n",
       "      <td>0.030490</td>\n",
       "      <td>0.003004</td>\n",
       "      <td>3.282423</td>\n",
       "      <td>3.377574</td>\n",
       "      <td>6.600648</td>\n",
       "      <td>1.368331</td>\n",
       "    </tr>\n",
       "    <tr>\n",
       "      <th>sigma__309</th>\n",
       "      <td>3.356120</td>\n",
       "      <td>0.043363</td>\n",
       "      <td>0.004295</td>\n",
       "      <td>3.275044</td>\n",
       "      <td>3.431315</td>\n",
       "      <td>3.608604</td>\n",
       "      <td>1.685418</td>\n",
       "    </tr>\n",
       "    <tr>\n",
       "      <th>sigma__310</th>\n",
       "      <td>3.337634</td>\n",
       "      <td>0.036889</td>\n",
       "      <td>0.003654</td>\n",
       "      <td>3.275293</td>\n",
       "      <td>3.402101</td>\n",
       "      <td>3.275112</td>\n",
       "      <td>1.804072</td>\n",
       "    </tr>\n",
       "    <tr>\n",
       "      <th>sigma__311</th>\n",
       "      <td>3.328359</td>\n",
       "      <td>0.028585</td>\n",
       "      <td>0.002817</td>\n",
       "      <td>3.267361</td>\n",
       "      <td>3.387305</td>\n",
       "      <td>5.571269</td>\n",
       "      <td>1.441993</td>\n",
       "    </tr>\n",
       "    <tr>\n",
       "      <th>sigma__312</th>\n",
       "      <td>3.326197</td>\n",
       "      <td>0.034771</td>\n",
       "      <td>0.003443</td>\n",
       "      <td>3.267704</td>\n",
       "      <td>3.383331</td>\n",
       "      <td>3.010331</td>\n",
       "      <td>1.992435</td>\n",
       "    </tr>\n",
       "    <tr>\n",
       "      <th>sigma__313</th>\n",
       "      <td>3.347376</td>\n",
       "      <td>0.029547</td>\n",
       "      <td>0.002911</td>\n",
       "      <td>3.300691</td>\n",
       "      <td>3.403406</td>\n",
       "      <td>3.601482</td>\n",
       "      <td>1.745230</td>\n",
       "    </tr>\n",
       "    <tr>\n",
       "      <th>sigma__314</th>\n",
       "      <td>3.346917</td>\n",
       "      <td>0.038462</td>\n",
       "      <td>0.003814</td>\n",
       "      <td>3.275750</td>\n",
       "      <td>3.418047</td>\n",
       "      <td>4.715551</td>\n",
       "      <td>1.510324</td>\n",
       "    </tr>\n",
       "    <tr>\n",
       "      <th>sigma__315</th>\n",
       "      <td>3.352005</td>\n",
       "      <td>0.045690</td>\n",
       "      <td>0.004533</td>\n",
       "      <td>3.271716</td>\n",
       "      <td>3.432312</td>\n",
       "      <td>2.838718</td>\n",
       "      <td>2.115537</td>\n",
       "    </tr>\n",
       "    <tr>\n",
       "      <th>sigma__316</th>\n",
       "      <td>3.322916</td>\n",
       "      <td>0.040297</td>\n",
       "      <td>0.003997</td>\n",
       "      <td>3.254609</td>\n",
       "      <td>3.415693</td>\n",
       "      <td>3.680691</td>\n",
       "      <td>1.755348</td>\n",
       "    </tr>\n",
       "    <tr>\n",
       "      <th>sigma__317</th>\n",
       "      <td>3.324182</td>\n",
       "      <td>0.032794</td>\n",
       "      <td>0.003244</td>\n",
       "      <td>3.246200</td>\n",
       "      <td>3.375351</td>\n",
       "      <td>3.155655</td>\n",
       "      <td>1.887358</td>\n",
       "    </tr>\n",
       "    <tr>\n",
       "      <th>sigma__318</th>\n",
       "      <td>3.339382</td>\n",
       "      <td>0.051749</td>\n",
       "      <td>0.005151</td>\n",
       "      <td>3.240779</td>\n",
       "      <td>3.422511</td>\n",
       "      <td>2.723420</td>\n",
       "      <td>2.356198</td>\n",
       "    </tr>\n",
       "    <tr>\n",
       "      <th>sigma__319</th>\n",
       "      <td>3.313259</td>\n",
       "      <td>0.040427</td>\n",
       "      <td>0.004010</td>\n",
       "      <td>3.256390</td>\n",
       "      <td>3.380170</td>\n",
       "      <td>3.809624</td>\n",
       "      <td>1.726438</td>\n",
       "    </tr>\n",
       "    <tr>\n",
       "      <th>sigma__320</th>\n",
       "      <td>3.345061</td>\n",
       "      <td>0.048740</td>\n",
       "      <td>0.004851</td>\n",
       "      <td>3.266134</td>\n",
       "      <td>3.412675</td>\n",
       "      <td>3.147164</td>\n",
       "      <td>1.934537</td>\n",
       "    </tr>\n",
       "    <tr>\n",
       "      <th>sigma__321</th>\n",
       "      <td>3.350078</td>\n",
       "      <td>0.030861</td>\n",
       "      <td>0.003042</td>\n",
       "      <td>3.292287</td>\n",
       "      <td>3.410386</td>\n",
       "      <td>2.755603</td>\n",
       "      <td>2.177712</td>\n",
       "    </tr>\n",
       "    <tr>\n",
       "      <th>sigma__322</th>\n",
       "      <td>3.355524</td>\n",
       "      <td>0.030953</td>\n",
       "      <td>0.003057</td>\n",
       "      <td>3.299067</td>\n",
       "      <td>3.412929</td>\n",
       "      <td>3.558565</td>\n",
       "      <td>1.737077</td>\n",
       "    </tr>\n",
       "    <tr>\n",
       "      <th>sigma__323</th>\n",
       "      <td>3.325208</td>\n",
       "      <td>0.037791</td>\n",
       "      <td>0.003746</td>\n",
       "      <td>3.233778</td>\n",
       "      <td>3.381093</td>\n",
       "      <td>3.420958</td>\n",
       "      <td>1.807998</td>\n",
       "    </tr>\n",
       "    <tr>\n",
       "      <th>sigma__324</th>\n",
       "      <td>3.375595</td>\n",
       "      <td>0.045925</td>\n",
       "      <td>0.004563</td>\n",
       "      <td>3.313060</td>\n",
       "      <td>3.463990</td>\n",
       "      <td>5.014091</td>\n",
       "      <td>1.522970</td>\n",
       "    </tr>\n",
       "    <tr>\n",
       "      <th>sigma__325</th>\n",
       "      <td>3.324203</td>\n",
       "      <td>0.030520</td>\n",
       "      <td>0.003011</td>\n",
       "      <td>3.274256</td>\n",
       "      <td>3.396595</td>\n",
       "      <td>4.285792</td>\n",
       "      <td>1.514275</td>\n",
       "    </tr>\n",
       "    <tr>\n",
       "      <th>sigma__326</th>\n",
       "      <td>3.349439</td>\n",
       "      <td>0.047458</td>\n",
       "      <td>0.004715</td>\n",
       "      <td>3.275554</td>\n",
       "      <td>3.434943</td>\n",
       "      <td>2.557305</td>\n",
       "      <td>2.429427</td>\n",
       "    </tr>\n",
       "  </tbody>\n",
       "</table>\n",
       "<p>1635 rows × 7 columns</p>\n",
       "</div>"
      ],
      "text/plain": [
       "                mean        sd  mc_error   hpd_2.5  hpd_97.5      n_eff  \\\n",
       "alpha__0   -0.006138  0.000370  0.000037 -0.006766 -0.005798   2.012247   \n",
       "alpha__1   -0.005920  0.000326  0.000033 -0.006318 -0.005423   2.013227   \n",
       "alpha__2   -0.006962  0.000894  0.000089 -0.008502 -0.006307   2.004758   \n",
       "alpha__3   -0.006023  0.001018  0.000102 -0.006798 -0.004278   2.005443   \n",
       "alpha__4   -0.007264  0.000647  0.000065 -0.008378 -0.006748   2.005930   \n",
       "alpha__5   -0.007389  0.000322  0.000032 -0.007943 -0.007144   2.009589   \n",
       "alpha__6   -0.005870  0.002712  0.000271 -0.007509 -0.001173   2.002133   \n",
       "alpha__7   -0.008160  0.000907  0.000091 -0.009747 -0.007535   2.003389   \n",
       "alpha__8   -0.006199  0.000965  0.000097 -0.006845 -0.004530   2.003896   \n",
       "alpha__9   -0.007406  0.000800  0.000080 -0.008766 -0.006741   2.007730   \n",
       "alpha__10  -0.006325  0.000950  0.000095 -0.007061 -0.004692   2.005530   \n",
       "alpha__11  -0.007275  0.000381  0.000038 -0.007875 -0.006815   2.010282   \n",
       "alpha__12  -0.006278  0.001958  0.000196 -0.009550 -0.004267   2.002610   \n",
       "alpha__13  -0.006367  0.000163  0.000016 -0.006565 -0.006080   2.041745   \n",
       "alpha__14  -0.006674  0.000696  0.000070 -0.007845 -0.006037   2.004872   \n",
       "alpha__15  -0.007440  0.000785  0.000078 -0.008715 -0.006738   2.004164   \n",
       "alpha__16  -0.005845  0.000208  0.000021 -0.006231 -0.005619   2.114280   \n",
       "alpha__17  -0.005862  0.000167  0.000017 -0.006158 -0.005658   2.055586   \n",
       "alpha__18  -0.006166  0.000214  0.000021 -0.006554 -0.005892   2.039400   \n",
       "alpha__19  -0.006725  0.001035  0.000104 -0.008514 -0.006016   2.003075   \n",
       "alpha__20  -0.006176  0.000468  0.000047 -0.006629 -0.005396   2.004816   \n",
       "alpha__21  -0.006722  0.000111  0.000011 -0.006851 -0.006507   2.228876   \n",
       "alpha__22  -0.006409  0.000833  0.000083 -0.006996 -0.004970   2.004808   \n",
       "alpha__23  -0.007280  0.000692  0.000069 -0.008374 -0.006610   2.006664   \n",
       "alpha__24  -0.007598  0.001042  0.000104 -0.009383 -0.006711   2.003227   \n",
       "alpha__25  -0.007209  0.000460  0.000046 -0.008000 -0.006867   2.016612   \n",
       "alpha__26  -0.006822  0.000177  0.000018 -0.007059 -0.006556   2.017582   \n",
       "alpha__27  -0.006739  0.000217  0.000022 -0.007093 -0.006496   2.037175   \n",
       "alpha__28  -0.005226  0.001763  0.000176 -0.006547 -0.002183   2.002810   \n",
       "alpha__29  -0.006300  0.000458  0.000046 -0.007041 -0.005818   2.020734   \n",
       "...              ...       ...       ...       ...       ...        ...   \n",
       "sigma__297  3.326968  0.037686  0.003735  3.256467  3.389048   7.684361   \n",
       "sigma__298  3.344842  0.035028  0.003464  3.281646  3.415578   6.270102   \n",
       "sigma__299  3.323677  0.029918  0.002945  3.266741  3.361773  12.218812   \n",
       "sigma__300  3.302711  0.039138  0.003879  3.235326  3.367876   2.666293   \n",
       "sigma__301  3.345457  0.045157  0.004485  3.271464  3.430800   2.547697   \n",
       "sigma__302  3.332373  0.038286  0.003789  3.278066  3.418178   2.825751   \n",
       "sigma__303  3.334076  0.045059  0.004469  3.210946  3.396395   4.250223   \n",
       "sigma__304  3.311131  0.055424  0.005518  3.223087  3.395363   2.177792   \n",
       "sigma__305  3.354818  0.049458  0.004919  3.265085  3.441812   2.318429   \n",
       "sigma__306  3.370970  0.042024  0.004166  3.294512  3.435301   2.823439   \n",
       "sigma__307  3.325129  0.035476  0.003506  3.263434  3.388585   3.692234   \n",
       "sigma__308  3.332421  0.030490  0.003004  3.282423  3.377574   6.600648   \n",
       "sigma__309  3.356120  0.043363  0.004295  3.275044  3.431315   3.608604   \n",
       "sigma__310  3.337634  0.036889  0.003654  3.275293  3.402101   3.275112   \n",
       "sigma__311  3.328359  0.028585  0.002817  3.267361  3.387305   5.571269   \n",
       "sigma__312  3.326197  0.034771  0.003443  3.267704  3.383331   3.010331   \n",
       "sigma__313  3.347376  0.029547  0.002911  3.300691  3.403406   3.601482   \n",
       "sigma__314  3.346917  0.038462  0.003814  3.275750  3.418047   4.715551   \n",
       "sigma__315  3.352005  0.045690  0.004533  3.271716  3.432312   2.838718   \n",
       "sigma__316  3.322916  0.040297  0.003997  3.254609  3.415693   3.680691   \n",
       "sigma__317  3.324182  0.032794  0.003244  3.246200  3.375351   3.155655   \n",
       "sigma__318  3.339382  0.051749  0.005151  3.240779  3.422511   2.723420   \n",
       "sigma__319  3.313259  0.040427  0.004010  3.256390  3.380170   3.809624   \n",
       "sigma__320  3.345061  0.048740  0.004851  3.266134  3.412675   3.147164   \n",
       "sigma__321  3.350078  0.030861  0.003042  3.292287  3.410386   2.755603   \n",
       "sigma__322  3.355524  0.030953  0.003057  3.299067  3.412929   3.558565   \n",
       "sigma__323  3.325208  0.037791  0.003746  3.233778  3.381093   3.420958   \n",
       "sigma__324  3.375595  0.045925  0.004563  3.313060  3.463990   5.014091   \n",
       "sigma__325  3.324203  0.030520  0.003011  3.274256  3.396595   4.285792   \n",
       "sigma__326  3.349439  0.047458  0.004715  3.275554  3.434943   2.557305   \n",
       "\n",
       "                  Rhat  \n",
       "alpha__0     16.003039  \n",
       "alpha__1     15.282715  \n",
       "alpha__2     31.581838  \n",
       "alpha__3     30.579976  \n",
       "alpha__4     26.706971  \n",
       "alpha__5     18.332022  \n",
       "alpha__6    140.718884  \n",
       "alpha__7     44.856193  \n",
       "alpha__8     37.447232  \n",
       "alpha__9     23.575314  \n",
       "alpha__10    29.543778  \n",
       "alpha__11    17.774437  \n",
       "alpha__12    68.392290  \n",
       "alpha__13     8.409776  \n",
       "alpha__14    30.487343  \n",
       "alpha__15    35.348054  \n",
       "alpha__16     5.347688  \n",
       "alpha__17     7.131995  \n",
       "alpha__18     8.898695  \n",
       "alpha__19    51.367051  \n",
       "alpha__20    29.875759  \n",
       "alpha__21     3.722474  \n",
       "alpha__22    31.489976  \n",
       "alpha__23    25.029845  \n",
       "alpha__24    46.263946  \n",
       "alpha__25    13.942908  \n",
       "alpha__26    13.580963  \n",
       "alpha__27     9.489833  \n",
       "alpha__28    59.869991  \n",
       "alpha__29    12.621646  \n",
       "...                ...  \n",
       "sigma__297    1.292558  \n",
       "sigma__298    1.409643  \n",
       "sigma__299    1.118084  \n",
       "sigma__300    2.289805  \n",
       "sigma__301    2.379694  \n",
       "sigma__302    2.097546  \n",
       "sigma__303    1.620216  \n",
       "sigma__304    3.870912  \n",
       "sigma__305    3.075628  \n",
       "sigma__306    2.184284  \n",
       "sigma__307    1.666790  \n",
       "sigma__308    1.368331  \n",
       "sigma__309    1.685418  \n",
       "sigma__310    1.804072  \n",
       "sigma__311    1.441993  \n",
       "sigma__312    1.992435  \n",
       "sigma__313    1.745230  \n",
       "sigma__314    1.510324  \n",
       "sigma__315    2.115537  \n",
       "sigma__316    1.755348  \n",
       "sigma__317    1.887358  \n",
       "sigma__318    2.356198  \n",
       "sigma__319    1.726438  \n",
       "sigma__320    1.934537  \n",
       "sigma__321    2.177712  \n",
       "sigma__322    1.737077  \n",
       "sigma__323    1.807998  \n",
       "sigma__324    1.522970  \n",
       "sigma__325    1.514275  \n",
       "sigma__326    2.429427  \n",
       "\n",
       "[1635 rows x 7 columns]"
      ]
     },
     "execution_count": 49,
     "metadata": {},
     "output_type": "execute_result"
    }
   ],
   "source": [
    "with pm.Model() as a0model:\n",
    "    \n",
    "    # Priors on inputs (alpha and cn are pretty tight as they are from the data)\n",
    "    alpha = pm.Normal('alpha', alpha_mean[0:nt], alpha_std[0:nt], shape=(nt,))\n",
    "    cn = pm.Normal('cn', c_mean[0:nt], c_std[0:nt], shape=(nt,))\n",
    "    #cn = pm.Normal('cn', c_mean[0], c_std[0], )\n",
    "\n",
    "    #a0 = pm.Normal('a0', 15, 10, shape=nt) # wide\n",
    "    a0 = pm.GaussianRandomWalk('a0',sd=5, shape=nt)\n",
    "    \n",
    "    # Mean function\n",
    "    Lhat =calc_Lhat(a0, omega0, cn, alpha, L)\n",
    "\n",
    "    Ahat = calc_Ahat_quadratic_pm(Lhat, Ahat_args)\n",
    "    \n",
    "    mu = pm.Deterministic('Amax', a0*Ahat)\n",
    "    \n",
    "    sigma = pm.HalfNormal('sigma',0.1,shape=nt)\n",
    "    \n",
    "    #step1 = pm.Metropolis([Lhat, mu])\n",
    "    #step2 = pm.Metropolis([sigma])\n",
    "    \n",
    "    a_fit = pm.Normal('a_fit',mu, sd=sigma, observed = Amax_obs.values[0:nt], )\n",
    "    \n",
    "    #mp = pm.find_MAP()\n",
    "    trace = pm.sample(500, tune=100000, step=pm.Metropolis())\n",
    "\n",
    "#print(mp)\n",
    "pm.summary(trace)"
   ]
  },
  {
   "cell_type": "code",
   "execution_count": 50,
   "metadata": {},
   "outputs": [
    {
     "ename": "OSError",
     "evalue": "[Errno 12] Cannot allocate memory",
     "output_type": "error",
     "traceback": [
      "\u001b[0;31m---------------------------------------------------------------------------\u001b[0m",
      "\u001b[0;31mOSError\u001b[0m                                   Traceback (most recent call last)",
      "\u001b[0;32m~/.conda/envs/soda/lib/python3.6/site-packages/IPython/core/formatters.py\u001b[0m in \u001b[0;36m__call__\u001b[0;34m(self, obj)\u001b[0m\n\u001b[1;32m    343\u001b[0m             \u001b[0mmethod\u001b[0m \u001b[0;34m=\u001b[0m \u001b[0mget_real_method\u001b[0m\u001b[0;34m(\u001b[0m\u001b[0mobj\u001b[0m\u001b[0;34m,\u001b[0m \u001b[0mself\u001b[0m\u001b[0;34m.\u001b[0m\u001b[0mprint_method\u001b[0m\u001b[0;34m)\u001b[0m\u001b[0;34m\u001b[0m\u001b[0m\n\u001b[1;32m    344\u001b[0m             \u001b[0;32mif\u001b[0m \u001b[0mmethod\u001b[0m \u001b[0;32mis\u001b[0m \u001b[0;32mnot\u001b[0m \u001b[0;32mNone\u001b[0m\u001b[0;34m:\u001b[0m\u001b[0;34m\u001b[0m\u001b[0m\n\u001b[0;32m--> 345\u001b[0;31m                 \u001b[0;32mreturn\u001b[0m \u001b[0mmethod\u001b[0m\u001b[0;34m(\u001b[0m\u001b[0;34m)\u001b[0m\u001b[0;34m\u001b[0m\u001b[0m\n\u001b[0m\u001b[1;32m    346\u001b[0m             \u001b[0;32mreturn\u001b[0m \u001b[0;32mNone\u001b[0m\u001b[0;34m\u001b[0m\u001b[0m\n\u001b[1;32m    347\u001b[0m         \u001b[0;32melse\u001b[0m\u001b[0;34m:\u001b[0m\u001b[0;34m\u001b[0m\u001b[0m\n",
      "\u001b[0;32m~/.conda/envs/soda/lib/python3.6/site-packages/graphviz/files.py\u001b[0m in \u001b[0;36m_repr_svg_\u001b[0;34m(self)\u001b[0m\n\u001b[1;32m    104\u001b[0m \u001b[0;34m\u001b[0m\u001b[0m\n\u001b[1;32m    105\u001b[0m     \u001b[0;32mdef\u001b[0m \u001b[0m_repr_svg_\u001b[0m\u001b[0;34m(\u001b[0m\u001b[0mself\u001b[0m\u001b[0;34m)\u001b[0m\u001b[0;34m:\u001b[0m\u001b[0;34m\u001b[0m\u001b[0m\n\u001b[0;32m--> 106\u001b[0;31m         \u001b[0;32mreturn\u001b[0m \u001b[0mself\u001b[0m\u001b[0;34m.\u001b[0m\u001b[0mpipe\u001b[0m\u001b[0;34m(\u001b[0m\u001b[0mformat\u001b[0m\u001b[0;34m=\u001b[0m\u001b[0;34m'svg'\u001b[0m\u001b[0;34m)\u001b[0m\u001b[0;34m.\u001b[0m\u001b[0mdecode\u001b[0m\u001b[0;34m(\u001b[0m\u001b[0mself\u001b[0m\u001b[0;34m.\u001b[0m\u001b[0m_encoding\u001b[0m\u001b[0;34m)\u001b[0m\u001b[0;34m\u001b[0m\u001b[0m\n\u001b[0m\u001b[1;32m    107\u001b[0m \u001b[0;34m\u001b[0m\u001b[0m\n\u001b[1;32m    108\u001b[0m     \u001b[0;32mdef\u001b[0m \u001b[0mpipe\u001b[0m\u001b[0;34m(\u001b[0m\u001b[0mself\u001b[0m\u001b[0;34m,\u001b[0m \u001b[0mformat\u001b[0m\u001b[0;34m=\u001b[0m\u001b[0;32mNone\u001b[0m\u001b[0;34m,\u001b[0m \u001b[0mrenderer\u001b[0m\u001b[0;34m=\u001b[0m\u001b[0;32mNone\u001b[0m\u001b[0;34m,\u001b[0m \u001b[0mformatter\u001b[0m\u001b[0;34m=\u001b[0m\u001b[0;32mNone\u001b[0m\u001b[0;34m)\u001b[0m\u001b[0;34m:\u001b[0m\u001b[0;34m\u001b[0m\u001b[0m\n",
      "\u001b[0;32m~/.conda/envs/soda/lib/python3.6/site-packages/graphviz/files.py\u001b[0m in \u001b[0;36mpipe\u001b[0;34m(self, format, renderer, formatter)\u001b[0m\n\u001b[1;32m    126\u001b[0m         \u001b[0mdata\u001b[0m \u001b[0;34m=\u001b[0m \u001b[0mtext_type\u001b[0m\u001b[0;34m(\u001b[0m\u001b[0mself\u001b[0m\u001b[0;34m.\u001b[0m\u001b[0msource\u001b[0m\u001b[0;34m)\u001b[0m\u001b[0;34m.\u001b[0m\u001b[0mencode\u001b[0m\u001b[0;34m(\u001b[0m\u001b[0mself\u001b[0m\u001b[0;34m.\u001b[0m\u001b[0m_encoding\u001b[0m\u001b[0;34m)\u001b[0m\u001b[0;34m\u001b[0m\u001b[0m\n\u001b[1;32m    127\u001b[0m \u001b[0;34m\u001b[0m\u001b[0m\n\u001b[0;32m--> 128\u001b[0;31m         \u001b[0mout\u001b[0m \u001b[0;34m=\u001b[0m \u001b[0mbackend\u001b[0m\u001b[0;34m.\u001b[0m\u001b[0mpipe\u001b[0m\u001b[0;34m(\u001b[0m\u001b[0mself\u001b[0m\u001b[0;34m.\u001b[0m\u001b[0m_engine\u001b[0m\u001b[0;34m,\u001b[0m \u001b[0mformat\u001b[0m\u001b[0;34m,\u001b[0m \u001b[0mdata\u001b[0m\u001b[0;34m,\u001b[0m \u001b[0mrenderer\u001b[0m\u001b[0;34m,\u001b[0m \u001b[0mformatter\u001b[0m\u001b[0;34m)\u001b[0m\u001b[0;34m\u001b[0m\u001b[0m\n\u001b[0m\u001b[1;32m    129\u001b[0m \u001b[0;34m\u001b[0m\u001b[0m\n\u001b[1;32m    130\u001b[0m         \u001b[0;32mreturn\u001b[0m \u001b[0mout\u001b[0m\u001b[0;34m\u001b[0m\u001b[0m\n",
      "\u001b[0;32m~/.conda/envs/soda/lib/python3.6/site-packages/graphviz/backend.py\u001b[0m in \u001b[0;36mpipe\u001b[0;34m(engine, format, data, renderer, formatter, quiet)\u001b[0m\n\u001b[1;32m    204\u001b[0m     \"\"\"\n\u001b[1;32m    205\u001b[0m     \u001b[0mcmd\u001b[0m\u001b[0;34m,\u001b[0m \u001b[0m_\u001b[0m \u001b[0;34m=\u001b[0m \u001b[0mcommand\u001b[0m\u001b[0;34m(\u001b[0m\u001b[0mengine\u001b[0m\u001b[0;34m,\u001b[0m \u001b[0mformat\u001b[0m\u001b[0;34m,\u001b[0m \u001b[0;32mNone\u001b[0m\u001b[0;34m,\u001b[0m \u001b[0mrenderer\u001b[0m\u001b[0;34m,\u001b[0m \u001b[0mformatter\u001b[0m\u001b[0;34m)\u001b[0m\u001b[0;34m\u001b[0m\u001b[0m\n\u001b[0;32m--> 206\u001b[0;31m     \u001b[0mout\u001b[0m\u001b[0;34m,\u001b[0m \u001b[0m_\u001b[0m \u001b[0;34m=\u001b[0m \u001b[0mrun\u001b[0m\u001b[0;34m(\u001b[0m\u001b[0mcmd\u001b[0m\u001b[0;34m,\u001b[0m \u001b[0minput\u001b[0m\u001b[0;34m=\u001b[0m\u001b[0mdata\u001b[0m\u001b[0;34m,\u001b[0m \u001b[0mcapture_output\u001b[0m\u001b[0;34m=\u001b[0m\u001b[0;32mTrue\u001b[0m\u001b[0;34m,\u001b[0m \u001b[0mcheck\u001b[0m\u001b[0;34m=\u001b[0m\u001b[0;32mTrue\u001b[0m\u001b[0;34m,\u001b[0m \u001b[0mquiet\u001b[0m\u001b[0;34m=\u001b[0m\u001b[0mquiet\u001b[0m\u001b[0;34m)\u001b[0m\u001b[0;34m\u001b[0m\u001b[0m\n\u001b[0m\u001b[1;32m    207\u001b[0m     \u001b[0;32mreturn\u001b[0m \u001b[0mout\u001b[0m\u001b[0;34m\u001b[0m\u001b[0m\n\u001b[1;32m    208\u001b[0m \u001b[0;34m\u001b[0m\u001b[0m\n",
      "\u001b[0;32m~/.conda/envs/soda/lib/python3.6/site-packages/graphviz/backend.py\u001b[0m in \u001b[0;36mrun\u001b[0;34m(cmd, input, capture_output, check, quiet, **kwargs)\u001b[0m\n\u001b[1;32m    145\u001b[0m \u001b[0;34m\u001b[0m\u001b[0m\n\u001b[1;32m    146\u001b[0m     \u001b[0;32mtry\u001b[0m\u001b[0;34m:\u001b[0m\u001b[0;34m\u001b[0m\u001b[0m\n\u001b[0;32m--> 147\u001b[0;31m         \u001b[0mproc\u001b[0m \u001b[0;34m=\u001b[0m \u001b[0msubprocess\u001b[0m\u001b[0;34m.\u001b[0m\u001b[0mPopen\u001b[0m\u001b[0;34m(\u001b[0m\u001b[0mcmd\u001b[0m\u001b[0;34m,\u001b[0m \u001b[0mstartupinfo\u001b[0m\u001b[0;34m=\u001b[0m\u001b[0mget_startupinfo\u001b[0m\u001b[0;34m(\u001b[0m\u001b[0;34m)\u001b[0m\u001b[0;34m,\u001b[0m \u001b[0;34m**\u001b[0m\u001b[0mkwargs\u001b[0m\u001b[0;34m)\u001b[0m\u001b[0;34m\u001b[0m\u001b[0m\n\u001b[0m\u001b[1;32m    148\u001b[0m     \u001b[0;32mexcept\u001b[0m \u001b[0mOSError\u001b[0m \u001b[0;32mas\u001b[0m \u001b[0me\u001b[0m\u001b[0;34m:\u001b[0m\u001b[0;34m\u001b[0m\u001b[0m\n\u001b[1;32m    149\u001b[0m         \u001b[0;32mif\u001b[0m \u001b[0me\u001b[0m\u001b[0;34m.\u001b[0m\u001b[0merrno\u001b[0m \u001b[0;34m==\u001b[0m \u001b[0merrno\u001b[0m\u001b[0;34m.\u001b[0m\u001b[0mENOENT\u001b[0m\u001b[0;34m:\u001b[0m\u001b[0;34m\u001b[0m\u001b[0m\n",
      "\u001b[0;32m~/.conda/envs/soda/lib/python3.6/subprocess.py\u001b[0m in \u001b[0;36m__init__\u001b[0;34m(self, args, bufsize, executable, stdin, stdout, stderr, preexec_fn, close_fds, shell, cwd, env, universal_newlines, startupinfo, creationflags, restore_signals, start_new_session, pass_fds, encoding, errors)\u001b[0m\n\u001b[1;32m    707\u001b[0m                                 \u001b[0mc2pread\u001b[0m\u001b[0;34m,\u001b[0m \u001b[0mc2pwrite\u001b[0m\u001b[0;34m,\u001b[0m\u001b[0;34m\u001b[0m\u001b[0m\n\u001b[1;32m    708\u001b[0m                                 \u001b[0merrread\u001b[0m\u001b[0;34m,\u001b[0m \u001b[0merrwrite\u001b[0m\u001b[0;34m,\u001b[0m\u001b[0;34m\u001b[0m\u001b[0m\n\u001b[0;32m--> 709\u001b[0;31m                                 restore_signals, start_new_session)\n\u001b[0m\u001b[1;32m    710\u001b[0m         \u001b[0;32mexcept\u001b[0m\u001b[0;34m:\u001b[0m\u001b[0;34m\u001b[0m\u001b[0m\n\u001b[1;32m    711\u001b[0m             \u001b[0;31m# Cleanup if the child failed starting.\u001b[0m\u001b[0;34m\u001b[0m\u001b[0;34m\u001b[0m\u001b[0m\n",
      "\u001b[0;32m~/.conda/envs/soda/lib/python3.6/subprocess.py\u001b[0m in \u001b[0;36m_execute_child\u001b[0;34m(self, args, executable, preexec_fn, close_fds, pass_fds, cwd, env, startupinfo, creationflags, shell, p2cread, p2cwrite, c2pread, c2pwrite, errread, errwrite, restore_signals, start_new_session)\u001b[0m\n\u001b[1;32m   1273\u001b[0m                             \u001b[0merrread\u001b[0m\u001b[0;34m,\u001b[0m \u001b[0merrwrite\u001b[0m\u001b[0;34m,\u001b[0m\u001b[0;34m\u001b[0m\u001b[0m\n\u001b[1;32m   1274\u001b[0m                             \u001b[0merrpipe_read\u001b[0m\u001b[0;34m,\u001b[0m \u001b[0merrpipe_write\u001b[0m\u001b[0;34m,\u001b[0m\u001b[0;34m\u001b[0m\u001b[0m\n\u001b[0;32m-> 1275\u001b[0;31m                             restore_signals, start_new_session, preexec_fn)\n\u001b[0m\u001b[1;32m   1276\u001b[0m                     \u001b[0mself\u001b[0m\u001b[0;34m.\u001b[0m\u001b[0m_child_created\u001b[0m \u001b[0;34m=\u001b[0m \u001b[0;32mTrue\u001b[0m\u001b[0;34m\u001b[0m\u001b[0m\n\u001b[1;32m   1277\u001b[0m                 \u001b[0;32mfinally\u001b[0m\u001b[0;34m:\u001b[0m\u001b[0;34m\u001b[0m\u001b[0m\n",
      "\u001b[0;31mOSError\u001b[0m: [Errno 12] Cannot allocate memory"
     ]
    },
    {
     "data": {
      "text/plain": [
       "<graphviz.dot.Digraph at 0x7f14533f0f60>"
      ]
     },
     "execution_count": 50,
     "metadata": {},
     "output_type": "execute_result"
    }
   ],
   "source": [
    "pm.model_to_graphviz(a0model)"
   ]
  },
  {
   "cell_type": "code",
   "execution_count": 51,
   "metadata": {},
   "outputs": [
    {
     "data": {
      "application/javascript": [
       "/* Put everything inside the global mpl namespace */\n",
       "window.mpl = {};\n",
       "\n",
       "\n",
       "mpl.get_websocket_type = function() {\n",
       "    if (typeof(WebSocket) !== 'undefined') {\n",
       "        return WebSocket;\n",
       "    } else if (typeof(MozWebSocket) !== 'undefined') {\n",
       "        return MozWebSocket;\n",
       "    } else {\n",
       "        alert('Your browser does not have WebSocket support.' +\n",
       "              'Please try Chrome, Safari or Firefox ≥ 6. ' +\n",
       "              'Firefox 4 and 5 are also supported but you ' +\n",
       "              'have to enable WebSockets in about:config.');\n",
       "    };\n",
       "}\n",
       "\n",
       "mpl.figure = function(figure_id, websocket, ondownload, parent_element) {\n",
       "    this.id = figure_id;\n",
       "\n",
       "    this.ws = websocket;\n",
       "\n",
       "    this.supports_binary = (this.ws.binaryType != undefined);\n",
       "\n",
       "    if (!this.supports_binary) {\n",
       "        var warnings = document.getElementById(\"mpl-warnings\");\n",
       "        if (warnings) {\n",
       "            warnings.style.display = 'block';\n",
       "            warnings.textContent = (\n",
       "                \"This browser does not support binary websocket messages. \" +\n",
       "                    \"Performance may be slow.\");\n",
       "        }\n",
       "    }\n",
       "\n",
       "    this.imageObj = new Image();\n",
       "\n",
       "    this.context = undefined;\n",
       "    this.message = undefined;\n",
       "    this.canvas = undefined;\n",
       "    this.rubberband_canvas = undefined;\n",
       "    this.rubberband_context = undefined;\n",
       "    this.format_dropdown = undefined;\n",
       "\n",
       "    this.image_mode = 'full';\n",
       "\n",
       "    this.root = $('<div/>');\n",
       "    this._root_extra_style(this.root)\n",
       "    this.root.attr('style', 'display: inline-block');\n",
       "\n",
       "    $(parent_element).append(this.root);\n",
       "\n",
       "    this._init_header(this);\n",
       "    this._init_canvas(this);\n",
       "    this._init_toolbar(this);\n",
       "\n",
       "    var fig = this;\n",
       "\n",
       "    this.waiting = false;\n",
       "\n",
       "    this.ws.onopen =  function () {\n",
       "            fig.send_message(\"supports_binary\", {value: fig.supports_binary});\n",
       "            fig.send_message(\"send_image_mode\", {});\n",
       "            if (mpl.ratio != 1) {\n",
       "                fig.send_message(\"set_dpi_ratio\", {'dpi_ratio': mpl.ratio});\n",
       "            }\n",
       "            fig.send_message(\"refresh\", {});\n",
       "        }\n",
       "\n",
       "    this.imageObj.onload = function() {\n",
       "            if (fig.image_mode == 'full') {\n",
       "                // Full images could contain transparency (where diff images\n",
       "                // almost always do), so we need to clear the canvas so that\n",
       "                // there is no ghosting.\n",
       "                fig.context.clearRect(0, 0, fig.canvas.width, fig.canvas.height);\n",
       "            }\n",
       "            fig.context.drawImage(fig.imageObj, 0, 0);\n",
       "        };\n",
       "\n",
       "    this.imageObj.onunload = function() {\n",
       "        fig.ws.close();\n",
       "    }\n",
       "\n",
       "    this.ws.onmessage = this._make_on_message_function(this);\n",
       "\n",
       "    this.ondownload = ondownload;\n",
       "}\n",
       "\n",
       "mpl.figure.prototype._init_header = function() {\n",
       "    var titlebar = $(\n",
       "        '<div class=\"ui-dialog-titlebar ui-widget-header ui-corner-all ' +\n",
       "        'ui-helper-clearfix\"/>');\n",
       "    var titletext = $(\n",
       "        '<div class=\"ui-dialog-title\" style=\"width: 100%; ' +\n",
       "        'text-align: center; padding: 3px;\"/>');\n",
       "    titlebar.append(titletext)\n",
       "    this.root.append(titlebar);\n",
       "    this.header = titletext[0];\n",
       "}\n",
       "\n",
       "\n",
       "\n",
       "mpl.figure.prototype._canvas_extra_style = function(canvas_div) {\n",
       "\n",
       "}\n",
       "\n",
       "\n",
       "mpl.figure.prototype._root_extra_style = function(canvas_div) {\n",
       "\n",
       "}\n",
       "\n",
       "mpl.figure.prototype._init_canvas = function() {\n",
       "    var fig = this;\n",
       "\n",
       "    var canvas_div = $('<div/>');\n",
       "\n",
       "    canvas_div.attr('style', 'position: relative; clear: both; outline: 0');\n",
       "\n",
       "    function canvas_keyboard_event(event) {\n",
       "        return fig.key_event(event, event['data']);\n",
       "    }\n",
       "\n",
       "    canvas_div.keydown('key_press', canvas_keyboard_event);\n",
       "    canvas_div.keyup('key_release', canvas_keyboard_event);\n",
       "    this.canvas_div = canvas_div\n",
       "    this._canvas_extra_style(canvas_div)\n",
       "    this.root.append(canvas_div);\n",
       "\n",
       "    var canvas = $('<canvas/>');\n",
       "    canvas.addClass('mpl-canvas');\n",
       "    canvas.attr('style', \"left: 0; top: 0; z-index: 0; outline: 0\")\n",
       "\n",
       "    this.canvas = canvas[0];\n",
       "    this.context = canvas[0].getContext(\"2d\");\n",
       "\n",
       "    var backingStore = this.context.backingStorePixelRatio ||\n",
       "\tthis.context.webkitBackingStorePixelRatio ||\n",
       "\tthis.context.mozBackingStorePixelRatio ||\n",
       "\tthis.context.msBackingStorePixelRatio ||\n",
       "\tthis.context.oBackingStorePixelRatio ||\n",
       "\tthis.context.backingStorePixelRatio || 1;\n",
       "\n",
       "    mpl.ratio = (window.devicePixelRatio || 1) / backingStore;\n",
       "\n",
       "    var rubberband = $('<canvas/>');\n",
       "    rubberband.attr('style', \"position: absolute; left: 0; top: 0; z-index: 1;\")\n",
       "\n",
       "    var pass_mouse_events = true;\n",
       "\n",
       "    canvas_div.resizable({\n",
       "        start: function(event, ui) {\n",
       "            pass_mouse_events = false;\n",
       "        },\n",
       "        resize: function(event, ui) {\n",
       "            fig.request_resize(ui.size.width, ui.size.height);\n",
       "        },\n",
       "        stop: function(event, ui) {\n",
       "            pass_mouse_events = true;\n",
       "            fig.request_resize(ui.size.width, ui.size.height);\n",
       "        },\n",
       "    });\n",
       "\n",
       "    function mouse_event_fn(event) {\n",
       "        if (pass_mouse_events)\n",
       "            return fig.mouse_event(event, event['data']);\n",
       "    }\n",
       "\n",
       "    rubberband.mousedown('button_press', mouse_event_fn);\n",
       "    rubberband.mouseup('button_release', mouse_event_fn);\n",
       "    // Throttle sequential mouse events to 1 every 20ms.\n",
       "    rubberband.mousemove('motion_notify', mouse_event_fn);\n",
       "\n",
       "    rubberband.mouseenter('figure_enter', mouse_event_fn);\n",
       "    rubberband.mouseleave('figure_leave', mouse_event_fn);\n",
       "\n",
       "    canvas_div.on(\"wheel\", function (event) {\n",
       "        event = event.originalEvent;\n",
       "        event['data'] = 'scroll'\n",
       "        if (event.deltaY < 0) {\n",
       "            event.step = 1;\n",
       "        } else {\n",
       "            event.step = -1;\n",
       "        }\n",
       "        mouse_event_fn(event);\n",
       "    });\n",
       "\n",
       "    canvas_div.append(canvas);\n",
       "    canvas_div.append(rubberband);\n",
       "\n",
       "    this.rubberband = rubberband;\n",
       "    this.rubberband_canvas = rubberband[0];\n",
       "    this.rubberband_context = rubberband[0].getContext(\"2d\");\n",
       "    this.rubberband_context.strokeStyle = \"#000000\";\n",
       "\n",
       "    this._resize_canvas = function(width, height) {\n",
       "        // Keep the size of the canvas, canvas container, and rubber band\n",
       "        // canvas in synch.\n",
       "        canvas_div.css('width', width)\n",
       "        canvas_div.css('height', height)\n",
       "\n",
       "        canvas.attr('width', width * mpl.ratio);\n",
       "        canvas.attr('height', height * mpl.ratio);\n",
       "        canvas.attr('style', 'width: ' + width + 'px; height: ' + height + 'px;');\n",
       "\n",
       "        rubberband.attr('width', width);\n",
       "        rubberband.attr('height', height);\n",
       "    }\n",
       "\n",
       "    // Set the figure to an initial 600x600px, this will subsequently be updated\n",
       "    // upon first draw.\n",
       "    this._resize_canvas(600, 600);\n",
       "\n",
       "    // Disable right mouse context menu.\n",
       "    $(this.rubberband_canvas).bind(\"contextmenu\",function(e){\n",
       "        return false;\n",
       "    });\n",
       "\n",
       "    function set_focus () {\n",
       "        canvas.focus();\n",
       "        canvas_div.focus();\n",
       "    }\n",
       "\n",
       "    window.setTimeout(set_focus, 100);\n",
       "}\n",
       "\n",
       "mpl.figure.prototype._init_toolbar = function() {\n",
       "    var fig = this;\n",
       "\n",
       "    var nav_element = $('<div/>')\n",
       "    nav_element.attr('style', 'width: 100%');\n",
       "    this.root.append(nav_element);\n",
       "\n",
       "    // Define a callback function for later on.\n",
       "    function toolbar_event(event) {\n",
       "        return fig.toolbar_button_onclick(event['data']);\n",
       "    }\n",
       "    function toolbar_mouse_event(event) {\n",
       "        return fig.toolbar_button_onmouseover(event['data']);\n",
       "    }\n",
       "\n",
       "    for(var toolbar_ind in mpl.toolbar_items) {\n",
       "        var name = mpl.toolbar_items[toolbar_ind][0];\n",
       "        var tooltip = mpl.toolbar_items[toolbar_ind][1];\n",
       "        var image = mpl.toolbar_items[toolbar_ind][2];\n",
       "        var method_name = mpl.toolbar_items[toolbar_ind][3];\n",
       "\n",
       "        if (!name) {\n",
       "            // put a spacer in here.\n",
       "            continue;\n",
       "        }\n",
       "        var button = $('<button/>');\n",
       "        button.addClass('ui-button ui-widget ui-state-default ui-corner-all ' +\n",
       "                        'ui-button-icon-only');\n",
       "        button.attr('role', 'button');\n",
       "        button.attr('aria-disabled', 'false');\n",
       "        button.click(method_name, toolbar_event);\n",
       "        button.mouseover(tooltip, toolbar_mouse_event);\n",
       "\n",
       "        var icon_img = $('<span/>');\n",
       "        icon_img.addClass('ui-button-icon-primary ui-icon');\n",
       "        icon_img.addClass(image);\n",
       "        icon_img.addClass('ui-corner-all');\n",
       "\n",
       "        var tooltip_span = $('<span/>');\n",
       "        tooltip_span.addClass('ui-button-text');\n",
       "        tooltip_span.html(tooltip);\n",
       "\n",
       "        button.append(icon_img);\n",
       "        button.append(tooltip_span);\n",
       "\n",
       "        nav_element.append(button);\n",
       "    }\n",
       "\n",
       "    var fmt_picker_span = $('<span/>');\n",
       "\n",
       "    var fmt_picker = $('<select/>');\n",
       "    fmt_picker.addClass('mpl-toolbar-option ui-widget ui-widget-content');\n",
       "    fmt_picker_span.append(fmt_picker);\n",
       "    nav_element.append(fmt_picker_span);\n",
       "    this.format_dropdown = fmt_picker[0];\n",
       "\n",
       "    for (var ind in mpl.extensions) {\n",
       "        var fmt = mpl.extensions[ind];\n",
       "        var option = $(\n",
       "            '<option/>', {selected: fmt === mpl.default_extension}).html(fmt);\n",
       "        fmt_picker.append(option)\n",
       "    }\n",
       "\n",
       "    // Add hover states to the ui-buttons\n",
       "    $( \".ui-button\" ).hover(\n",
       "        function() { $(this).addClass(\"ui-state-hover\");},\n",
       "        function() { $(this).removeClass(\"ui-state-hover\");}\n",
       "    );\n",
       "\n",
       "    var status_bar = $('<span class=\"mpl-message\"/>');\n",
       "    nav_element.append(status_bar);\n",
       "    this.message = status_bar[0];\n",
       "}\n",
       "\n",
       "mpl.figure.prototype.request_resize = function(x_pixels, y_pixels) {\n",
       "    // Request matplotlib to resize the figure. Matplotlib will then trigger a resize in the client,\n",
       "    // which will in turn request a refresh of the image.\n",
       "    this.send_message('resize', {'width': x_pixels, 'height': y_pixels});\n",
       "}\n",
       "\n",
       "mpl.figure.prototype.send_message = function(type, properties) {\n",
       "    properties['type'] = type;\n",
       "    properties['figure_id'] = this.id;\n",
       "    this.ws.send(JSON.stringify(properties));\n",
       "}\n",
       "\n",
       "mpl.figure.prototype.send_draw_message = function() {\n",
       "    if (!this.waiting) {\n",
       "        this.waiting = true;\n",
       "        this.ws.send(JSON.stringify({type: \"draw\", figure_id: this.id}));\n",
       "    }\n",
       "}\n",
       "\n",
       "\n",
       "mpl.figure.prototype.handle_save = function(fig, msg) {\n",
       "    var format_dropdown = fig.format_dropdown;\n",
       "    var format = format_dropdown.options[format_dropdown.selectedIndex].value;\n",
       "    fig.ondownload(fig, format);\n",
       "}\n",
       "\n",
       "\n",
       "mpl.figure.prototype.handle_resize = function(fig, msg) {\n",
       "    var size = msg['size'];\n",
       "    if (size[0] != fig.canvas.width || size[1] != fig.canvas.height) {\n",
       "        fig._resize_canvas(size[0], size[1]);\n",
       "        fig.send_message(\"refresh\", {});\n",
       "    };\n",
       "}\n",
       "\n",
       "mpl.figure.prototype.handle_rubberband = function(fig, msg) {\n",
       "    var x0 = msg['x0'] / mpl.ratio;\n",
       "    var y0 = (fig.canvas.height - msg['y0']) / mpl.ratio;\n",
       "    var x1 = msg['x1'] / mpl.ratio;\n",
       "    var y1 = (fig.canvas.height - msg['y1']) / mpl.ratio;\n",
       "    x0 = Math.floor(x0) + 0.5;\n",
       "    y0 = Math.floor(y0) + 0.5;\n",
       "    x1 = Math.floor(x1) + 0.5;\n",
       "    y1 = Math.floor(y1) + 0.5;\n",
       "    var min_x = Math.min(x0, x1);\n",
       "    var min_y = Math.min(y0, y1);\n",
       "    var width = Math.abs(x1 - x0);\n",
       "    var height = Math.abs(y1 - y0);\n",
       "\n",
       "    fig.rubberband_context.clearRect(\n",
       "        0, 0, fig.canvas.width, fig.canvas.height);\n",
       "\n",
       "    fig.rubberband_context.strokeRect(min_x, min_y, width, height);\n",
       "}\n",
       "\n",
       "mpl.figure.prototype.handle_figure_label = function(fig, msg) {\n",
       "    // Updates the figure title.\n",
       "    fig.header.textContent = msg['label'];\n",
       "}\n",
       "\n",
       "mpl.figure.prototype.handle_cursor = function(fig, msg) {\n",
       "    var cursor = msg['cursor'];\n",
       "    switch(cursor)\n",
       "    {\n",
       "    case 0:\n",
       "        cursor = 'pointer';\n",
       "        break;\n",
       "    case 1:\n",
       "        cursor = 'default';\n",
       "        break;\n",
       "    case 2:\n",
       "        cursor = 'crosshair';\n",
       "        break;\n",
       "    case 3:\n",
       "        cursor = 'move';\n",
       "        break;\n",
       "    }\n",
       "    fig.rubberband_canvas.style.cursor = cursor;\n",
       "}\n",
       "\n",
       "mpl.figure.prototype.handle_message = function(fig, msg) {\n",
       "    fig.message.textContent = msg['message'];\n",
       "}\n",
       "\n",
       "mpl.figure.prototype.handle_draw = function(fig, msg) {\n",
       "    // Request the server to send over a new figure.\n",
       "    fig.send_draw_message();\n",
       "}\n",
       "\n",
       "mpl.figure.prototype.handle_image_mode = function(fig, msg) {\n",
       "    fig.image_mode = msg['mode'];\n",
       "}\n",
       "\n",
       "mpl.figure.prototype.updated_canvas_event = function() {\n",
       "    // Called whenever the canvas gets updated.\n",
       "    this.send_message(\"ack\", {});\n",
       "}\n",
       "\n",
       "// A function to construct a web socket function for onmessage handling.\n",
       "// Called in the figure constructor.\n",
       "mpl.figure.prototype._make_on_message_function = function(fig) {\n",
       "    return function socket_on_message(evt) {\n",
       "        if (evt.data instanceof Blob) {\n",
       "            /* FIXME: We get \"Resource interpreted as Image but\n",
       "             * transferred with MIME type text/plain:\" errors on\n",
       "             * Chrome.  But how to set the MIME type?  It doesn't seem\n",
       "             * to be part of the websocket stream */\n",
       "            evt.data.type = \"image/png\";\n",
       "\n",
       "            /* Free the memory for the previous frames */\n",
       "            if (fig.imageObj.src) {\n",
       "                (window.URL || window.webkitURL).revokeObjectURL(\n",
       "                    fig.imageObj.src);\n",
       "            }\n",
       "\n",
       "            fig.imageObj.src = (window.URL || window.webkitURL).createObjectURL(\n",
       "                evt.data);\n",
       "            fig.updated_canvas_event();\n",
       "            fig.waiting = false;\n",
       "            return;\n",
       "        }\n",
       "        else if (typeof evt.data === 'string' && evt.data.slice(0, 21) == \"data:image/png;base64\") {\n",
       "            fig.imageObj.src = evt.data;\n",
       "            fig.updated_canvas_event();\n",
       "            fig.waiting = false;\n",
       "            return;\n",
       "        }\n",
       "\n",
       "        var msg = JSON.parse(evt.data);\n",
       "        var msg_type = msg['type'];\n",
       "\n",
       "        // Call the  \"handle_{type}\" callback, which takes\n",
       "        // the figure and JSON message as its only arguments.\n",
       "        try {\n",
       "            var callback = fig[\"handle_\" + msg_type];\n",
       "        } catch (e) {\n",
       "            console.log(\"No handler for the '\" + msg_type + \"' message type: \", msg);\n",
       "            return;\n",
       "        }\n",
       "\n",
       "        if (callback) {\n",
       "            try {\n",
       "                // console.log(\"Handling '\" + msg_type + \"' message: \", msg);\n",
       "                callback(fig, msg);\n",
       "            } catch (e) {\n",
       "                console.log(\"Exception inside the 'handler_\" + msg_type + \"' callback:\", e, e.stack, msg);\n",
       "            }\n",
       "        }\n",
       "    };\n",
       "}\n",
       "\n",
       "// from http://stackoverflow.com/questions/1114465/getting-mouse-location-in-canvas\n",
       "mpl.findpos = function(e) {\n",
       "    //this section is from http://www.quirksmode.org/js/events_properties.html\n",
       "    var targ;\n",
       "    if (!e)\n",
       "        e = window.event;\n",
       "    if (e.target)\n",
       "        targ = e.target;\n",
       "    else if (e.srcElement)\n",
       "        targ = e.srcElement;\n",
       "    if (targ.nodeType == 3) // defeat Safari bug\n",
       "        targ = targ.parentNode;\n",
       "\n",
       "    // jQuery normalizes the pageX and pageY\n",
       "    // pageX,Y are the mouse positions relative to the document\n",
       "    // offset() returns the position of the element relative to the document\n",
       "    var x = e.pageX - $(targ).offset().left;\n",
       "    var y = e.pageY - $(targ).offset().top;\n",
       "\n",
       "    return {\"x\": x, \"y\": y};\n",
       "};\n",
       "\n",
       "/*\n",
       " * return a copy of an object with only non-object keys\n",
       " * we need this to avoid circular references\n",
       " * http://stackoverflow.com/a/24161582/3208463\n",
       " */\n",
       "function simpleKeys (original) {\n",
       "  return Object.keys(original).reduce(function (obj, key) {\n",
       "    if (typeof original[key] !== 'object')\n",
       "        obj[key] = original[key]\n",
       "    return obj;\n",
       "  }, {});\n",
       "}\n",
       "\n",
       "mpl.figure.prototype.mouse_event = function(event, name) {\n",
       "    var canvas_pos = mpl.findpos(event)\n",
       "\n",
       "    if (name === 'button_press')\n",
       "    {\n",
       "        this.canvas.focus();\n",
       "        this.canvas_div.focus();\n",
       "    }\n",
       "\n",
       "    var x = canvas_pos.x * mpl.ratio;\n",
       "    var y = canvas_pos.y * mpl.ratio;\n",
       "\n",
       "    this.send_message(name, {x: x, y: y, button: event.button,\n",
       "                             step: event.step,\n",
       "                             guiEvent: simpleKeys(event)});\n",
       "\n",
       "    /* This prevents the web browser from automatically changing to\n",
       "     * the text insertion cursor when the button is pressed.  We want\n",
       "     * to control all of the cursor setting manually through the\n",
       "     * 'cursor' event from matplotlib */\n",
       "    event.preventDefault();\n",
       "    return false;\n",
       "}\n",
       "\n",
       "mpl.figure.prototype._key_event_extra = function(event, name) {\n",
       "    // Handle any extra behaviour associated with a key event\n",
       "}\n",
       "\n",
       "mpl.figure.prototype.key_event = function(event, name) {\n",
       "\n",
       "    // Prevent repeat events\n",
       "    if (name == 'key_press')\n",
       "    {\n",
       "        if (event.which === this._key)\n",
       "            return;\n",
       "        else\n",
       "            this._key = event.which;\n",
       "    }\n",
       "    if (name == 'key_release')\n",
       "        this._key = null;\n",
       "\n",
       "    var value = '';\n",
       "    if (event.ctrlKey && event.which != 17)\n",
       "        value += \"ctrl+\";\n",
       "    if (event.altKey && event.which != 18)\n",
       "        value += \"alt+\";\n",
       "    if (event.shiftKey && event.which != 16)\n",
       "        value += \"shift+\";\n",
       "\n",
       "    value += 'k';\n",
       "    value += event.which.toString();\n",
       "\n",
       "    this._key_event_extra(event, name);\n",
       "\n",
       "    this.send_message(name, {key: value,\n",
       "                             guiEvent: simpleKeys(event)});\n",
       "    return false;\n",
       "}\n",
       "\n",
       "mpl.figure.prototype.toolbar_button_onclick = function(name) {\n",
       "    if (name == 'download') {\n",
       "        this.handle_save(this, null);\n",
       "    } else {\n",
       "        this.send_message(\"toolbar_button\", {name: name});\n",
       "    }\n",
       "};\n",
       "\n",
       "mpl.figure.prototype.toolbar_button_onmouseover = function(tooltip) {\n",
       "    this.message.textContent = tooltip;\n",
       "};\n",
       "mpl.toolbar_items = [[\"Home\", \"Reset original view\", \"fa fa-home icon-home\", \"home\"], [\"Back\", \"Back to previous view\", \"fa fa-arrow-left icon-arrow-left\", \"back\"], [\"Forward\", \"Forward to next view\", \"fa fa-arrow-right icon-arrow-right\", \"forward\"], [\"\", \"\", \"\", \"\"], [\"Pan\", \"Pan axes with left mouse, zoom with right\", \"fa fa-arrows icon-move\", \"pan\"], [\"Zoom\", \"Zoom to rectangle\", \"fa fa-square-o icon-check-empty\", \"zoom\"], [\"\", \"\", \"\", \"\"], [\"Download\", \"Download plot\", \"fa fa-floppy-o icon-save\", \"download\"]];\n",
       "\n",
       "mpl.extensions = [\"eps\", \"jpeg\", \"pdf\", \"png\", \"ps\", \"raw\", \"svg\", \"tif\"];\n",
       "\n",
       "mpl.default_extension = \"png\";var comm_websocket_adapter = function(comm) {\n",
       "    // Create a \"websocket\"-like object which calls the given IPython comm\n",
       "    // object with the appropriate methods. Currently this is a non binary\n",
       "    // socket, so there is still some room for performance tuning.\n",
       "    var ws = {};\n",
       "\n",
       "    ws.close = function() {\n",
       "        comm.close()\n",
       "    };\n",
       "    ws.send = function(m) {\n",
       "        //console.log('sending', m);\n",
       "        comm.send(m);\n",
       "    };\n",
       "    // Register the callback with on_msg.\n",
       "    comm.on_msg(function(msg) {\n",
       "        //console.log('receiving', msg['content']['data'], msg);\n",
       "        // Pass the mpl event to the overridden (by mpl) onmessage function.\n",
       "        ws.onmessage(msg['content']['data'])\n",
       "    });\n",
       "    return ws;\n",
       "}\n",
       "\n",
       "mpl.mpl_figure_comm = function(comm, msg) {\n",
       "    // This is the function which gets called when the mpl process\n",
       "    // starts-up an IPython Comm through the \"matplotlib\" channel.\n",
       "\n",
       "    var id = msg.content.data.id;\n",
       "    // Get hold of the div created by the display call when the Comm\n",
       "    // socket was opened in Python.\n",
       "    var element = $(\"#\" + id);\n",
       "    var ws_proxy = comm_websocket_adapter(comm)\n",
       "\n",
       "    function ondownload(figure, format) {\n",
       "        window.open(figure.imageObj.src);\n",
       "    }\n",
       "\n",
       "    var fig = new mpl.figure(id, ws_proxy,\n",
       "                           ondownload,\n",
       "                           element.get(0));\n",
       "\n",
       "    // Call onopen now - mpl needs it, as it is assuming we've passed it a real\n",
       "    // web socket which is closed, not our websocket->open comm proxy.\n",
       "    ws_proxy.onopen();\n",
       "\n",
       "    fig.parent_element = element.get(0);\n",
       "    fig.cell_info = mpl.find_output_cell(\"<div id='\" + id + \"'></div>\");\n",
       "    if (!fig.cell_info) {\n",
       "        console.error(\"Failed to find cell for figure\", id, fig);\n",
       "        return;\n",
       "    }\n",
       "\n",
       "    var output_index = fig.cell_info[2]\n",
       "    var cell = fig.cell_info[0];\n",
       "\n",
       "};\n",
       "\n",
       "mpl.figure.prototype.handle_close = function(fig, msg) {\n",
       "    var width = fig.canvas.width/mpl.ratio\n",
       "    fig.root.unbind('remove')\n",
       "\n",
       "    // Update the output cell to use the data from the current canvas.\n",
       "    fig.push_to_output();\n",
       "    var dataURL = fig.canvas.toDataURL();\n",
       "    // Re-enable the keyboard manager in IPython - without this line, in FF,\n",
       "    // the notebook keyboard shortcuts fail.\n",
       "    IPython.keyboard_manager.enable()\n",
       "    $(fig.parent_element).html('<img src=\"' + dataURL + '\" width=\"' + width + '\">');\n",
       "    fig.close_ws(fig, msg);\n",
       "}\n",
       "\n",
       "mpl.figure.prototype.close_ws = function(fig, msg){\n",
       "    fig.send_message('closing', msg);\n",
       "    // fig.ws.close()\n",
       "}\n",
       "\n",
       "mpl.figure.prototype.push_to_output = function(remove_interactive) {\n",
       "    // Turn the data on the canvas into data in the output cell.\n",
       "    var width = this.canvas.width/mpl.ratio\n",
       "    var dataURL = this.canvas.toDataURL();\n",
       "    this.cell_info[1]['text/html'] = '<img src=\"' + dataURL + '\" width=\"' + width + '\">';\n",
       "}\n",
       "\n",
       "mpl.figure.prototype.updated_canvas_event = function() {\n",
       "    // Tell IPython that the notebook contents must change.\n",
       "    IPython.notebook.set_dirty(true);\n",
       "    this.send_message(\"ack\", {});\n",
       "    var fig = this;\n",
       "    // Wait a second, then push the new image to the DOM so\n",
       "    // that it is saved nicely (might be nice to debounce this).\n",
       "    setTimeout(function () { fig.push_to_output() }, 1000);\n",
       "}\n",
       "\n",
       "mpl.figure.prototype._init_toolbar = function() {\n",
       "    var fig = this;\n",
       "\n",
       "    var nav_element = $('<div/>')\n",
       "    nav_element.attr('style', 'width: 100%');\n",
       "    this.root.append(nav_element);\n",
       "\n",
       "    // Define a callback function for later on.\n",
       "    function toolbar_event(event) {\n",
       "        return fig.toolbar_button_onclick(event['data']);\n",
       "    }\n",
       "    function toolbar_mouse_event(event) {\n",
       "        return fig.toolbar_button_onmouseover(event['data']);\n",
       "    }\n",
       "\n",
       "    for(var toolbar_ind in mpl.toolbar_items){\n",
       "        var name = mpl.toolbar_items[toolbar_ind][0];\n",
       "        var tooltip = mpl.toolbar_items[toolbar_ind][1];\n",
       "        var image = mpl.toolbar_items[toolbar_ind][2];\n",
       "        var method_name = mpl.toolbar_items[toolbar_ind][3];\n",
       "\n",
       "        if (!name) { continue; };\n",
       "\n",
       "        var button = $('<button class=\"btn btn-default\" href=\"#\" title=\"' + name + '\"><i class=\"fa ' + image + ' fa-lg\"></i></button>');\n",
       "        button.click(method_name, toolbar_event);\n",
       "        button.mouseover(tooltip, toolbar_mouse_event);\n",
       "        nav_element.append(button);\n",
       "    }\n",
       "\n",
       "    // Add the status bar.\n",
       "    var status_bar = $('<span class=\"mpl-message\" style=\"text-align:right; float: right;\"/>');\n",
       "    nav_element.append(status_bar);\n",
       "    this.message = status_bar[0];\n",
       "\n",
       "    // Add the close button to the window.\n",
       "    var buttongrp = $('<div class=\"btn-group inline pull-right\"></div>');\n",
       "    var button = $('<button class=\"btn btn-mini btn-primary\" href=\"#\" title=\"Stop Interaction\"><i class=\"fa fa-power-off icon-remove icon-large\"></i></button>');\n",
       "    button.click(function (evt) { fig.handle_close(fig, {}); } );\n",
       "    button.mouseover('Stop Interaction', toolbar_mouse_event);\n",
       "    buttongrp.append(button);\n",
       "    var titlebar = this.root.find($('.ui-dialog-titlebar'));\n",
       "    titlebar.prepend(buttongrp);\n",
       "}\n",
       "\n",
       "mpl.figure.prototype._root_extra_style = function(el){\n",
       "    var fig = this\n",
       "    el.on(\"remove\", function(){\n",
       "\tfig.close_ws(fig, {});\n",
       "    });\n",
       "}\n",
       "\n",
       "mpl.figure.prototype._canvas_extra_style = function(el){\n",
       "    // this is important to make the div 'focusable\n",
       "    el.attr('tabindex', 0)\n",
       "    // reach out to IPython and tell the keyboard manager to turn it's self\n",
       "    // off when our div gets focus\n",
       "\n",
       "    // location in version 3\n",
       "    if (IPython.notebook.keyboard_manager) {\n",
       "        IPython.notebook.keyboard_manager.register_events(el);\n",
       "    }\n",
       "    else {\n",
       "        // location in version 2\n",
       "        IPython.keyboard_manager.register_events(el);\n",
       "    }\n",
       "\n",
       "}\n",
       "\n",
       "mpl.figure.prototype._key_event_extra = function(event, name) {\n",
       "    var manager = IPython.notebook.keyboard_manager;\n",
       "    if (!manager)\n",
       "        manager = IPython.keyboard_manager;\n",
       "\n",
       "    // Check for shift+enter\n",
       "    if (event.shiftKey && event.which == 13) {\n",
       "        this.canvas_div.blur();\n",
       "        event.shiftKey = false;\n",
       "        // Send a \"J\" for go to next cell\n",
       "        event.which = 74;\n",
       "        event.keyCode = 74;\n",
       "        manager.command_mode();\n",
       "        manager.handle_keydown(event);\n",
       "    }\n",
       "}\n",
       "\n",
       "mpl.figure.prototype.handle_save = function(fig, msg) {\n",
       "    fig.ondownload(fig, null);\n",
       "}\n",
       "\n",
       "\n",
       "mpl.find_output_cell = function(html_output) {\n",
       "    // Return the cell and output element which can be found *uniquely* in the notebook.\n",
       "    // Note - this is a bit hacky, but it is done because the \"notebook_saving.Notebook\"\n",
       "    // IPython event is triggered only after the cells have been serialised, which for\n",
       "    // our purposes (turning an active figure into a static one), is too late.\n",
       "    var cells = IPython.notebook.get_cells();\n",
       "    var ncells = cells.length;\n",
       "    for (var i=0; i<ncells; i++) {\n",
       "        var cell = cells[i];\n",
       "        if (cell.cell_type === 'code'){\n",
       "            for (var j=0; j<cell.output_area.outputs.length; j++) {\n",
       "                var data = cell.output_area.outputs[j];\n",
       "                if (data.data) {\n",
       "                    // IPython >= 3 moved mimebundle to data attribute of output\n",
       "                    data = data.data;\n",
       "                }\n",
       "                if (data['text/html'] == html_output) {\n",
       "                    return [cell, data, j];\n",
       "                }\n",
       "            }\n",
       "        }\n",
       "    }\n",
       "}\n",
       "\n",
       "// Register the function which deals with the matplotlib target/channel.\n",
       "// The kernel may be null if the page has been refreshed.\n",
       "if (IPython.notebook.kernel != null) {\n",
       "    IPython.notebook.kernel.comm_manager.register_target('matplotlib', mpl.mpl_figure_comm);\n",
       "}\n"
      ],
      "text/plain": [
       "<IPython.core.display.Javascript object>"
      ]
     },
     "metadata": {},
     "output_type": "display_data"
    },
    {
     "data": {
      "text/html": [
       "<img src=\"data:image/png;base64,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\" width=\"1000\">"
      ],
      "text/plain": [
       "<IPython.core.display.HTML object>"
      ]
     },
     "metadata": {},
     "output_type": "display_data"
    },
    {
     "data": {
      "text/plain": [
       "[<matplotlib.lines.Line2D at 0x7f146c51bf28>]"
      ]
     },
     "execution_count": 51,
     "metadata": {},
     "output_type": "execute_result"
    }
   ],
   "source": [
    "plt.figure(figsize=(10,5))\n",
    "#plt.plot(Amax_obs.index[0:nt], trace['a0'].mean(axis=0),'.')\n",
    "plt.plot(Amax_obs.index[0:nt], trace['Amax'].mean(axis=0),'.')\n",
    "\n",
    "plt.plot(Amax_obs.index[0:nt], Amax_obs.values[0:nt],'.')\n"
   ]
  },
  {
   "cell_type": "code",
   "execution_count": null,
   "metadata": {},
   "outputs": [],
   "source": [
    "# It looks like the sampler struggle in this case\n",
    "# Let's seem if it works for the linear response model\n",
    "\n"
   ]
  },
  {
   "cell_type": "code",
   "execution_count": null,
   "metadata": {},
   "outputs": [],
   "source": [
    "# Get the tides\n",
    "xpt, ypt = 122.6, -13.1\n",
    "\n",
    "\n",
    "# Grab the barotropic tide data\n",
    "tidemod = '/home/suntans/Share/ScottReef/DATA/TIDES/Ind2016/Model_Ind_2016'\n",
    "tidecons = ['M2','S2','N2','K2','K1','O1','P1','Q1']\n",
    "\n",
    "# Extract the tidal height for the whole period\n",
    "time = TimeVector('20070801.000000','20091001.000000',3600)\n",
    "eta, U,V = readotps.tide_pred(tidemod,np.array([xpt]),\n",
    "                        np.array([ypt]),time)\n",
    "\n",
    "eta_ts = timeseries(time,eta)\n",
    "\n",
    "eta_amp, eta_phs, omega,_,eta_harmonic,_=eta_ts.tidefit(frqnames=tidecons,basetime=basetime)\n",
    "\n",
    "h_re, h_im = pol2cart(eta_phs.data, eta_amp.data)\n",
    "nf = len(omega)\n",
    "beta_s = np.zeros((2*nf,))\n",
    "beta_s[0:-1:2] = h_re.ravel()\n",
    "beta_s[1::2] = h_im.ravel()\n",
    "beta_s,h_re\n",
    "\n"
   ]
  },
  {
   "cell_type": "code",
   "execution_count": null,
   "metadata": {},
   "outputs": [],
   "source": [
    "def sine_model_envelope_pm(beta_s, ff, t):\n",
    "    n = len(ff)\n",
    "    \n",
    "    #result = t*0\n",
    "    \n",
    "    result = tt.zeros(t.shape)\n",
    "\n",
    "    for ii in range(0,n):\n",
    "        result += beta_s[2*ii]*pm.math.cos(ff[ii] * t) + beta_s[2*ii+1]*pm.math.sin(ff[ii]*t)\n",
    "        \n",
    "    # Compute the imaginary part by adding a 90 degree phase shift\n",
    "    #result_i = t*0\n",
    "    result_i = tt.zeros(t.shape)\n",
    "\n",
    "    for ii in range(0,n):\n",
    "        result_i += beta_s[2*ii]*pm.math.cos(ff[ii] * t + np.pi/2) \\\n",
    "            + beta_s[2*ii+1]*pm.math.sin(ff[ii]*t + np.pi/2)\n",
    "    \n",
    "    return pm.math.sqrt(result*result + result_i*result_i)\n",
    "\n",
    "tdaysa0 = shared(tdays.values)\n",
    "\n",
    "with pm.Model() as model:\n",
    "    \n",
    "\n",
    "    # a0 model\n",
    "    beta1 = pm.HalfNormal('beta1', 10)\n",
    "    \n",
    "    # offset\n",
    "    beta0 = pm.HalfNormal('beta0', 1) \n",
    "    \n",
    "    # error\n",
    "    #sd = pm.HalfNormal('sd', 1)\n",
    "\n",
    "    lag = pm.HalfNormal('lag', 1)\n",
    "    \n",
    "    # Alternative approach is to compute the lagged envelope function directly\n",
    "    tsec = (tdaysa0-lag)*86400.\n",
    "    #ylag = sine_model_envelope_pm(beta_s, omega, tsec)\n",
    "    ylag = sine_model_envelope_pm(beta_s[0:8], omega[0:4], tsec) + \\\n",
    "        sine_model_envelope_pm(beta_s[8:], omega[4:], tsec)\n",
    "\n",
    "    \n",
    "    #vals = pm.Normal('vals', alpha1*ylag + beta, sd=sd, observed=Y)\n",
    "    #a0 = pm.Normal('a0', beta1*ylag + beta0, sd, shape=nt)\n",
    "    a0 =  pm.Deterministic('a0',beta1*ylag + beta0)\n",
    "    \n",
    "    # Priors on inputs (alpha and cn are pretty tight as they are from the data)\n",
    "    alpha = pm.Normal('alpha', alpha_mean[0:nt], alpha_std[0:nt], shape=nt)\n",
    "    cn = pm.Normal('cn', c_mean[0:nt], c_std[0:nt], shape=nt)\n",
    "    \n",
    "    #a0 = pm.Normal('a0', 15, 10, shape=nt) # wide\n",
    "    \n",
    "    # Mean function\n",
    "    Lhat =calc_Lhat(a0, omega0, cn, alpha, L)\n",
    "\n",
    "    Ahat = calc_Ahat_quadratic_pm(Lhat, Ahat_args)\n",
    "    \n",
    "    mu = pm.Deterministic('Amax', a0*Ahat)\n",
    "    \n",
    "    sigma = pm.HalfNormal('sigma',2)\n",
    "    \n",
    "    #step1 = pm.Metropolis([Lhat, mu])\n",
    "    #step2 = pm.Metropolis([sigma])\n",
    "    \n",
    "    a_fit = pm.Normal('a_fit', mu, sd=sigma, observed = Amax_obs.values[0:nt] )\n",
    "    \n",
    "    #trace = pm.sample(500, tune=10000, step=pm.Metropolis())\n",
    "    # Use variational inference\n",
    "    inference = pm.ADVI()\n",
    "    approx = pm.fit(n=60000, method=inference)\n",
    "    trace = approx.sample(draws=1000)\n"
   ]
  },
  {
   "cell_type": "code",
   "execution_count": null,
   "metadata": {},
   "outputs": [],
   "source": [
    "pm.summary(trace)"
   ]
  },
  {
   "cell_type": "code",
   "execution_count": null,
   "metadata": {},
   "outputs": [],
   "source": [
    "plt.figure(figsize=(10,5))\n",
    "plt.plot(Amax_obs.index[0:nt], np.percentile(trace['Amax'],1,axis=0),'r.')\n",
    "plt.plot(Amax_obs.index[0:nt], Amax_obs.values[0:nt],'b.')"
   ]
  },
  {
   "cell_type": "raw",
   "metadata": {},
   "source": [
    "L = 0.6e5\n",
    "alpha = alpha_n.sel(timeslow=time,method='nearest').values\n",
    "cn = c_n.sel(timeslow=time,method='nearest').values\n",
    "\n",
    "timeinsec = SecondsSince(time.values, basetime=basetime)\n",
    "\n",
    "Ahat_args= (-2.68,-0.54)\n",
    "That_args = (1.9,1.4,-0.34)\n",
    "omega0 = 2*np.pi/(12.42*3600)\n",
    "\n",
    "nsamples = a0_beta.shape[0]\n",
    "nt = timeinsec.shape[0]\n",
    "\n",
    "Apred = np.zeros((nsamples,nt))\n",
    "for ii in range(nsamples):\n",
    "    Ahat, a0 = compute_Amax(a0_beta[ii,:], alpha, cn, L, \\\n",
    "        beta_s, omega, timeinsec, Ahat_args, That_args, omega0)\n",
    "    \n",
    "    Apred[ii,:] = Ahat*a0\n",
    "    "
   ]
  },
  {
   "cell_type": "raw",
   "metadata": {},
   "source": [
    "plt.figure(figsize=(9,5))\n",
    "\n",
    "plt.plot(time, np.median(Apred,axis=0),'r-.')\n",
    "\n",
    "plt.fill_between(time, np.min(Apred,axis=0),\n",
    "            np.max(Apred,axis=0) ,color='r' ,alpha=0.5   )\n",
    "\n",
    "plt.grid(b=True)\n",
    "plt.ylim(-80,80)\n",
    "plt.plot(ds_A.time, ds_A, 'k.')"
   ]
  },
  {
   "cell_type": "code",
   "execution_count": null,
   "metadata": {},
   "outputs": [],
   "source": []
  }
 ],
 "metadata": {
  "kernelspec": {
   "display_name": "Python 3",
   "language": "python",
   "name": "python3"
  },
  "language_info": {
   "codemirror_mode": {
    "name": "ipython",
    "version": 3
   },
   "file_extension": ".py",
   "mimetype": "text/x-python",
   "name": "python",
   "nbconvert_exporter": "python",
   "pygments_lexer": "ipython3",
   "version": "3.6.6"
  }
 },
 "nbformat": 4,
 "nbformat_minor": 2
}
