{
 "cells": [
  {
   "cell_type": "markdown",
   "metadata": {},
   "source": [
    "# Create an input data set of $a_0$ and $\\rho(z)$ for the vKdV model"
   ]
  },
  {
   "cell_type": "code",
   "execution_count": 2,
   "metadata": {},
   "outputs": [
    {
     "name": "stderr",
     "output_type": "stream",
     "text": [
      "/home/suntans/.conda/envs/soda/lib/python3.6/site-packages/mpl_toolkits/axes_grid/__init__.py:12: MatplotlibDeprecationWarning: \n",
      "The mpl_toolkits.axes_grid module was deprecated in Matplotlib 2.1 and will be removed two minor releases later. Use mpl_toolkits.axes_grid1 and mpl_toolkits.axisartist, which provide the same functionality instead.\n",
      "  obj_type='module')\n"
     ]
    }
   ],
   "source": [
    "import h5py\n",
    "import numpy as np\n",
    "import pandas as pd\n",
    "import xarray as xr\n",
    "from datetime import datetime\n",
    "import matplotlib.pyplot as plt\n",
    "from mpl_toolkits.axes_grid.inset_locator import inset_axes\n",
    "#from mpl_toolkits.axisartist.\n",
    "from matplotlib.collections import LineCollection\n",
    "\n",
    "from glob import glob"
   ]
  },
  {
   "cell_type": "code",
   "execution_count": 3,
   "metadata": {},
   "outputs": [],
   "source": [
    "#%matplotlib notebook"
   ]
  },
  {
   "cell_type": "code",
   "execution_count": 4,
   "metadata": {},
   "outputs": [],
   "source": [
    "plt.rcParams.update({'font.size': 18})\n",
    "plt.rcParams.update({'axes.labelsize':'large'})"
   ]
  },
  {
   "cell_type": "code",
   "execution_count": 5,
   "metadata": {},
   "outputs": [],
   "source": [
    "def double_tanh_6(beta, z):\n",
    "    \n",
    "    return beta[0,...] - beta[1,...]*(np.tanh((z+beta[2,...])/beta[3,...])\n",
    "                + np.tanh((z+beta[2,...] + beta[4,...])/beta[5,...]))"
   ]
  },
  {
   "cell_type": "code",
   "execution_count": 6,
   "metadata": {},
   "outputs": [],
   "source": [
    "def maximum_amplitude_finder(amp_signal):\n",
    "    amp_min = np.min(amp_signal)\n",
    "    amp_max = np.max(amp_signal)\n",
    "    if np.abs(amp_min)>amp_max:\n",
    "        return amp_min, np.argwhere(amp_signal==amp_min)[0][0]\n",
    "    else:\n",
    "        return amp_max, np.argwhere(amp_signal==amp_max)[0][0]"
   ]
  },
  {
   "cell_type": "code",
   "execution_count": 7,
   "metadata": {},
   "outputs": [],
   "source": [
    "def load_density_h5(h5file):\n",
    "    f = h5py.File(h5file,'r')\n",
    "    rho = f['rho'][:]\n",
    "    depth = f['depth'][:]\n",
    "    data = f['beta_samples'][:]\n",
    "    time = f['time'][:].astype('<M8[ns]')\n",
    "    f.close()\n",
    "    return data,time, rho, depth\n",
    "\n",
    "def load_density_xr(h5file):\n",
    "    data,time, rho, depth = load_density_h5(h5file)\n",
    "\n",
    "    nparams, nt, ntrace = data.shape\n",
    "    dims3 = ('params','time','ensemble')\n",
    "\n",
    "    coords3 = {'time':time, 'ensemble':range(ntrace), 'params':range(nparams)}\n",
    "\n",
    "\n",
    "\n",
    "    beta_da = xr.DataArray(data,\n",
    "        coords=coords3,\n",
    "        dims=dims3,\n",
    "        attrs={'long_name':'', 'units':''},\n",
    "        )\n",
    "\n",
    "    return xr.Dataset({'beta':beta_da,})"
   ]
  },
  {
   "cell_type": "code",
   "execution_count": 13,
   "metadata": {},
   "outputs": [],
   "source": [
    "###########\n",
    "# Inputs\n",
    "#datadir = '/home/suntans/cloudstor/Data/IMOS/'\n",
    "datadir = '../../run_ddcurves/DATA_SHELL/'\n",
    "\n",
    "# ddcurves BHM output file\n",
    "nparams=6\n",
    "#h5file = '%s/Crux_KP150_12mth_Density_lowpass_density_bhm_6params_2018-12-16.h5'%datadir\n",
    "h5file = '%s/Crux_KP150_Phs2_Density_lowpass_density_bhm_6params_2018-11-23.h5'%datadir\n",
    "\n",
    "density_func = double_tanh_6\n"
   ]
  },
  {
   "cell_type": "code",
   "execution_count": 33,
   "metadata": {},
   "outputs": [
    {
     "data": {
      "text/plain": [
       "<xarray.Dataset>\n",
       "Dimensions:   (ensemble: 500, params: 6, time: 750)\n",
       "Coordinates:\n",
       "  * time      (time) datetime64[ns] 2016-10-31T06:40:00 ... 2017-05-06T12:40:00\n",
       "  * ensemble  (ensemble) int64 0 1 2 3 4 5 6 7 ... 493 494 495 496 497 498 499\n",
       "  * params    (params) int64 0 1 2 3 4 5\n",
       "Data variables:\n",
       "    beta      (params, time, ensemble) float64 1.023e+03 1.023e+03 ... 30.12"
      ]
     },
     "execution_count": 33,
     "metadata": {},
     "output_type": "execute_result"
    }
   ],
   "source": [
    "# Load the output of ddcurves as an xarray object\n",
    "ds = load_density_xr(h5file)\n",
    "ds"
   ]
  },
  {
   "cell_type": "code",
   "execution_count": 39,
   "metadata": {
    "scrolled": true
   },
   "outputs": [
    {
     "data": {
      "text/plain": [
       "[<matplotlib.lines.Line2D at 0x7fd20d2a5828>]"
      ]
     },
     "execution_count": 39,
     "metadata": {},
     "output_type": "execute_result"
    },
    {
     "data": {
      "image/png": "[encoded data removed]",
      "text/plain": [
       "<Figure size 432x288 with 1 Axes>"
      ]
     },
     "metadata": {},
     "output_type": "display_data"
    }
   ],
   "source": [
    "plt.figure()\n",
    "ds.beta[5,:,:].median(axis=-1).plot()"
   ]
  },
  {
   "cell_type": "code",
   "execution_count": 15,
   "metadata": {},
   "outputs": [],
   "source": [
    "# Load the amplitude and density data\n",
    "\n",
    "ncfile = '/home/suntans/Share/ARCHub/DATA/FIELD/ShellCrux/KP150_Fitted_Buoyancy_wout_motion.nc'\n",
    "\n",
    "ds1 = xr.open_dataset(ncfile,group='KP150_phs1')\n",
    "ds2 = xr.open_dataset(ncfile,group='KP150_phs2')\n",
    "\n",
    "# Merge the two\n",
    "A_n = xr.concat([ds1['A_n'][:,0],ds2['A_n'][:,0]], dim='time')"
   ]
  },
  {
   "cell_type": "raw",
   "metadata": {},
   "source": [
    "plt.figure()\n",
    "#ax=plt.subplot(211)\n",
    "A_n.plot(lw=0.2)\n",
    "plt.grid(b=True)\n",
    "plt.ylim(-70,70)"
   ]
  },
  {
   "cell_type": "code",
   "execution_count": 17,
   "metadata": {},
   "outputs": [
    {
     "data": {
      "text/plain": [
       "DatetimeIndex(['2016-11-01', '2016-11-02', '2016-11-03', '2016-11-04',\n",
       "               '2016-11-05', '2016-11-06', '2016-11-07', '2016-11-08',\n",
       "               '2016-11-09', '2016-11-10',\n",
       "               ...\n",
       "               '2017-04-22', '2017-04-23', '2017-04-24', '2017-04-25',\n",
       "               '2017-04-26', '2017-04-27', '2017-04-28', '2017-04-29',\n",
       "               '2017-04-30', '2017-05-01'],\n",
       "              dtype='datetime64[ns]', length=182, freq='D')"
      ]
     },
     "execution_count": 17,
     "metadata": {},
     "output_type": "execute_result"
    }
   ],
   "source": [
    "# Create a time series of single days with the max amplitude and a guess at beta\n",
    "time1 = pd.date_range('2016-5-1','2016-9-15') \n",
    "time2 = pd.date_range('2016-11-1','2017-5-1')\n",
    "\n",
    "#time = time1.append(time2)\n",
    "time = time2\n",
    "time"
   ]
  },
  {
   "cell_type": "code",
   "execution_count": 31,
   "metadata": {},
   "outputs": [
    {
     "name": "stdout",
     "output_type": "stream",
     "text": [
      "time, timemax, Amax, beta0, beta1, beta2, beta3, beta4, beta5\n",
      "2016-11-01 00:00:00, 2016-11-01T05:47:00.000000000, -22.35, 1023.26, 1.25, 62.85, 62.25, 91.05, 53.20\n",
      "2016-11-02 00:00:00, 2016-11-02T17:53:00.000000000, -24.94, 1023.26, 1.25, 62.65, 63.83, 90.50, 51.77\n",
      "2016-11-03 00:00:00, 2016-11-03T12:05:00.000000000, 27.27, 1023.26, 1.25, 62.71, 64.90, 91.79, 47.92\n",
      "2016-11-04 00:00:00, 2016-11-04T18:24:00.000000000, -26.74, 1023.26, 1.25, 62.77, 66.03, 93.24, 43.40\n",
      "2016-11-05 00:00:00, 2016-11-05T06:20:00.000000000, -24.84, 1023.25, 1.25, 62.83, 65.73, 94.28, 40.82\n",
      "2016-11-06 00:00:00, 2016-11-06T19:21:00.000000000, -20.59, 1023.25, 1.25, 63.07, 64.66, 94.49, 39.08\n",
      "2016-11-07 00:00:00, 2016-11-07T19:53:00.000000000, -22.32, 1023.24, 1.25, 63.33, 62.98, 95.36, 39.32\n",
      "2016-11-08 00:00:00, 2016-11-08T08:45:00.000000000, -20.83, 1023.24, 1.25, 63.27, 60.26, 94.53, 39.53\n",
      "2016-11-09 00:00:00, 2016-11-09T19:47:00.000000000, -17.62, 1023.26, 1.25, 63.34, 60.93, 92.46, 41.97\n",
      "2016-11-10 00:00:00, 2016-11-10T21:42:00.000000000, -19.02, 1023.26, 1.25, 63.30, 61.17, 90.91, 43.69\n",
      "2016-11-11 00:00:00, 2016-11-11T18:00:00.000000000, 18.79, 1023.27, 1.25, 63.14, 60.29, 90.84, 44.00\n",
      "2016-11-12 00:00:00, 2016-11-12T13:41:00.000000000, -21.29, 1023.27, 1.25, 62.99, 60.75, 91.23, 44.36\n",
      "2016-11-13 00:00:00, 2016-11-13T07:01:00.000000000, 21.37, 1023.31, 1.25, 62.79, 62.35, 93.01, 45.43\n",
      "2016-11-14 00:00:00, 2016-11-14T08:11:00.000000000, 22.83, 1023.32, 1.25, 62.62, 63.94, 93.92, 46.21\n",
      "2016-11-15 00:00:00, 2016-11-15T09:32:00.000000000, 24.42, 1023.31, 1.25, 62.85, 64.99, 94.90, 47.13\n",
      "2016-11-16 00:00:00, 2016-11-16T17:04:00.000000000, -22.06, 1023.29, 1.25, 62.71, 65.62, 94.66, 48.09\n",
      "2016-11-17 00:00:00, 2016-11-17T11:47:00.000000000, 24.96, 1023.28, 1.25, 62.66, 65.48, 94.97, 48.24\n",
      "2016-11-18 00:00:00, 2016-11-18T15:45:00.000000000, -24.63, 1023.25, 1.25, 62.64, 63.83, 94.36, 45.14\n",
      "2016-11-19 00:00:00, 2016-11-19T17:18:00.000000000, -26.74, 1023.24, 1.25, 62.59, 64.23, 94.92, 43.57\n",
      "2016-11-20 00:00:00, 2016-11-20T17:56:00.000000000, -25.13, 1023.24, 1.25, 62.61, 67.28, 93.99, 42.89\n",
      "2016-11-21 00:00:00, 2016-11-21T17:37:00.000000000, -29.65, 1023.23, 1.25, 62.75, 66.57, 92.02, 43.12\n",
      "2016-11-22 00:00:00, 2016-11-22T19:24:00.000000000, -21.78, 1023.20, 1.25, 62.95, 66.00, 89.56, 42.01\n",
      "2016-11-23 00:00:00, 2016-11-23T08:00:00.000000000, -22.39, 1023.18, 1.25, 62.60, 66.38, 88.21, 39.10\n",
      "2016-11-24 00:00:00, 2016-11-24T20:30:00.000000000, -15.86, 1023.19, 1.25, 62.68, 64.87, 88.69, 38.85\n",
      "2016-11-25 00:00:00, 2016-11-25T20:47:00.000000000, -13.06, 1023.24, 1.25, 62.13, 65.39, 89.74, 43.14\n",
      "2016-11-26 00:00:00, 2016-11-26T14:09:00.000000000, -14.07, 1023.32, 1.24, 61.94, 68.62, 91.83, 50.32\n",
      "2016-11-27 00:00:00, 2016-11-27T18:56:00.000000000, 22.11, 1023.35, 1.25, 61.83, 69.89, 93.35, 53.55\n",
      "2016-11-28 00:00:00, 2016-11-28T10:30:00.000000000, 23.46, 1023.34, 1.25, 62.07, 65.95, 94.27, 53.69\n",
      "2016-11-29 00:00:00, 2016-11-29T16:58:00.000000000, -27.83, 1023.30, 1.25, 62.22, 60.47, 94.10, 53.43\n",
      "2016-11-30 00:00:00, 2016-11-30T16:19:00.000000000, -26.81, 1023.30, 1.25, 62.35, 61.35, 94.70, 51.62\n",
      "2016-12-01 00:00:00, 2016-12-01T10:48:00.000000000, 32.62, 1023.28, 1.25, 62.39, 62.11, 94.94, 49.44\n",
      "2016-12-02 00:00:00, 2016-12-02T17:55:00.000000000, -31.34, 1023.24, 1.25, 62.68, 62.96, 95.05, 48.38\n",
      "2016-12-03 00:00:00, 2016-12-03T16:56:00.000000000, -32.71, 1023.22, 1.25, 63.12, 61.58, 94.28, 50.08\n",
      "2016-12-04 00:00:00, 2016-12-04T16:47:00.000000000, -38.56, 1023.23, 1.25, 63.31, 61.21, 96.11, 51.60\n",
      "2016-12-05 00:00:00, 2016-12-05T17:39:00.000000000, -34.90, 1023.24, 1.25, 63.22, 64.51, 96.87, 53.16\n",
      "2016-12-06 00:00:00, 2016-12-06T17:55:00.000000000, -41.71, 1023.23, 1.25, 63.33, 64.83, 96.18, 50.78\n",
      "2016-12-07 00:00:00, 2016-12-07T18:42:00.000000000, -32.30, 1023.24, 1.25, 63.38, 59.36, 97.04, 51.42\n",
      "2016-12-08 00:00:00, 2016-12-08T19:53:00.000000000, -30.76, 1023.28, 1.25, 63.26, 52.84, 98.91, 52.88\n",
      "2016-12-09 00:00:00, 2016-12-09T20:31:00.000000000, -24.82, 1023.30, 1.25, 63.26, 50.79, 100.13, 52.24\n",
      "2016-12-10 00:00:00, 2016-12-10T21:35:00.000000000, -22.46, 1023.31, 1.25, 63.39, 54.99, 98.81, 54.59\n",
      "2016-12-11 00:00:00, 2016-12-11T07:50:00.000000000, 22.78, 1023.32, 1.25, 62.95, 54.94, 99.13, 56.16\n",
      "2016-12-12 00:00:00, 2016-12-12T12:03:00.000000000, -17.85, 1023.35, 1.25, 62.66, 53.88, 99.59, 56.69\n",
      "2016-12-13 00:00:00, 2016-12-13T08:44:00.000000000, 23.00, 1023.36, 1.25, 62.26, 52.54, 99.32, 57.95\n",
      "2016-12-14 00:00:00, 2016-12-14T09:47:00.000000000, 23.63, 1023.35, 1.25, 62.13, 50.12, 98.56, 57.80\n",
      "2016-12-15 00:00:00, 2016-12-15T10:11:00.000000000, 29.08, 1023.35, 1.25, 61.97, 49.61, 98.13, 57.00\n",
      "2016-12-16 00:00:00, 2016-12-16T15:51:00.000000000, -37.23, 1023.35, 1.25, 62.12, 50.44, 97.53, 57.08\n",
      "2016-12-17 00:00:00, 2016-12-17T17:12:00.000000000, -36.27, 1023.34, 1.25, 62.43, 51.88, 97.84, 55.98\n",
      "2016-12-18 00:00:00, 2016-12-18T17:11:00.000000000, -40.27, 1023.33, 1.25, 62.48, 50.85, 97.41, 52.72\n",
      "2016-12-19 00:00:00, 2016-12-19T18:11:00.000000000, -38.75, 1023.34, 1.25, 62.60, 49.37, 97.52, 50.01\n",
      "2016-12-20 00:00:00, 2016-12-20T19:04:00.000000000, -35.21, 1023.35, 1.25, 62.87, 52.52, 96.33, 51.44\n",
      "2016-12-21 00:00:00, 2016-12-21T14:55:00.000000000, 32.06, 1023.35, 1.25, 62.97, 55.11, 95.80, 51.31\n",
      "2016-12-22 00:00:00, 2016-12-22T12:52:00.000000000, 28.77, 1023.31, 1.25, 63.70, 55.52, 97.90, 49.68\n",
      "2016-12-23 00:00:00, 2016-12-23T01:51:00.000000000, 20.78, 1023.25, 1.25, 63.64, 60.74, 99.97, 48.24\n",
      "2016-12-24 00:00:00, 2016-12-24T14:45:00.000000000, -16.29, 1023.26, 1.25, 63.69, 65.75, 101.26, 47.32\n",
      "2016-12-25 00:00:00, 2016-12-25T08:49:00.000000000, 13.36, 1023.31, 1.25, 63.31, 70.51, 99.21, 47.93\n",
      "2016-12-26 00:00:00, 2016-12-26T06:00:00.000000000, -13.65, 1023.35, 1.25, 63.41, 71.18, 98.33, 48.18\n",
      "2016-12-27 00:00:00, 2016-12-27T15:12:00.000000000, -14.90, 1023.37, 1.25, 63.42, 67.96, 99.16, 49.25\n",
      "2016-12-28 00:00:00, 2016-12-28T16:03:00.000000000, -16.25, 1023.38, 1.25, 63.19, 63.06, 97.44, 50.01\n",
      "2016-12-29 00:00:00, 2016-12-29T16:25:00.000000000, -19.79, 1023.41, 1.25, 63.20, 59.75, 96.62, 51.14\n",
      "2016-12-30 00:00:00, 2016-12-30T15:56:00.000000000, -23.27, 1023.44, 1.25, 63.34, 56.80, 96.53, 53.00\n",
      "2016-12-31 00:00:00, 2016-12-31T17:16:00.000000000, -26.33, 1023.49, 1.25, 62.82, 54.25, 96.05, 55.24\n",
      "2017-01-01 00:00:00, 2017-01-01T05:12:00.000000000, -28.20, 1023.53, 1.25, 62.43, 52.39, 95.16, 57.06\n",
      "2017-01-02 00:00:00, 2017-01-02T05:11:00.000000000, -26.98, 1023.54, 1.25, 62.44, 54.88, 93.37, 57.50\n",
      "2017-01-03 00:00:00, 2017-01-03T05:03:00.000000000, -30.60, 1023.53, 1.25, 62.80, 53.85, 91.79, 57.76\n",
      "2017-01-04 00:00:00, 2017-01-04T05:13:00.000000000, -27.47, 1023.54, 1.25, 62.88, 53.55, 93.12, 57.36\n",
      "2017-01-05 00:00:00, 2017-01-05T18:37:00.000000000, -20.11, 1023.52, 1.25, 63.10, 57.58, 92.55, 56.75\n",
      "2017-01-06 00:00:00, 2017-01-06T21:08:00.000000000, -18.53, 1023.49, 1.25, 63.02, 60.47, 93.02, 58.35\n",
      "2017-01-07 00:00:00, 2017-01-07T21:55:00.000000000, -19.79, 1023.49, 1.25, 63.09, 60.25, 92.48, 59.05\n",
      "2017-01-08 00:00:00, 2017-01-08T22:52:00.000000000, -13.35, 1023.50, 1.25, 62.90, 59.16, 92.10, 59.40\n",
      "2017-01-09 00:00:00, 2017-01-09T16:47:00.000000000, 11.44, 1023.48, 1.25, 63.22, 59.92, 91.09, 59.31\n",
      "2017-01-10 00:00:00, 2017-01-10T17:58:00.000000000, 11.65, 1023.47, 1.25, 62.92, 60.55, 90.57, 59.61\n",
      "2017-01-11 00:00:00, 2017-01-11T15:06:00.000000000, -12.92, 1023.50, 1.25, 62.88, 59.30, 90.69, 61.22\n",
      "2017-01-12 00:00:00, 2017-01-12T03:34:00.000000000, -15.36, 1023.48, 1.25, 62.45, 60.88, 90.28, 63.37\n",
      "2017-01-13 00:00:00, 2017-01-13T05:09:00.000000000, -15.43, 1023.47, 1.25, 62.46, 62.70, 90.50, 62.99\n",
      "2017-01-14 00:00:00, 2017-01-14T12:38:00.000000000, 17.63, 1023.45, 1.25, 62.41, 63.46, 91.52, 63.20\n",
      "2017-01-15 00:00:00, 2017-01-15T03:52:00.000000000, 19.14, 1023.42, 1.24, 62.45, 65.74, 92.18, 63.68\n",
      "2017-01-16 00:00:00, 2017-01-16T04:33:00.000000000, 22.83, 1023.41, 1.25, 62.45, 66.60, 92.27, 62.53\n",
      "2017-01-17 00:00:00, 2017-01-17T05:05:00.000000000, 26.30, 1023.41, 1.25, 62.31, 66.78, 93.15, 60.69\n",
      "2017-01-18 00:00:00, 2017-01-18T05:29:00.000000000, 27.46, 1023.42, 1.24, 62.49, 66.48, 94.02, 57.71\n",
      "2017-01-19 00:00:00, 2017-01-19T05:51:00.000000000, 21.35, 1023.42, 1.24, 62.50, 67.44, 94.45, 57.14\n",
      "2017-01-20 00:00:00, 2017-01-20T14:01:00.000000000, 15.30, 1023.40, 1.24, 62.29, 70.60, 93.45, 57.72\n",
      "2017-01-21 00:00:00, 2017-01-21T14:07:00.000000000, 16.42, 1023.38, 1.25, 62.28, 70.30, 91.71, 56.14\n"
     ]
    },
    {
     "name": "stdout",
     "output_type": "stream",
     "text": [
      "2017-01-22 00:00:00, 2017-01-22T15:04:00.000000000, 13.83, 1023.37, 1.24, 62.35, 69.55, 91.15, 54.85\n",
      "2017-01-23 00:00:00, 2017-01-23T09:03:00.000000000, -13.31, 1023.37, 1.25, 62.40, 67.79, 89.04, 54.63\n",
      "2017-01-24 00:00:00, 2017-01-24T11:02:00.000000000, -15.23, 1023.41, 1.25, 62.44, 62.43, 86.72, 54.92\n",
      "2017-01-25 00:00:00, 2017-01-25T19:55:00.000000000, 13.80, 1023.45, 1.25, 62.35, 60.97, 86.98, 56.30\n",
      "2017-01-26 00:00:00, 2017-01-26T09:42:00.000000000, 18.64, 1023.44, 1.25, 62.33, 64.11, 88.38, 59.85\n",
      "2017-01-27 00:00:00, 2017-01-27T21:46:00.000000000, 16.98, 1023.43, 1.24, 61.94, 67.64, 89.31, 63.21\n",
      "2017-01-28 00:00:00, 2017-01-28T16:38:00.000000000, -18.99, 1023.42, 1.24, 61.80, 70.14, 89.38, 64.66\n",
      "2017-01-29 00:00:00, 2017-01-29T11:07:00.000000000, 17.99, 1023.44, 1.24, 61.63, 71.07, 89.94, 65.72\n",
      "2017-01-30 00:00:00, 2017-01-30T06:18:00.000000000, -18.69, 1023.47, 1.24, 61.97, 71.13, 91.10, 67.49\n",
      "2017-01-31 00:00:00, 2017-01-31T13:22:00.000000000, 21.34, 1023.47, 1.24, 61.84, 70.02, 92.02, 67.35\n",
      "2017-02-01 00:00:00, 2017-02-01T13:32:00.000000000, 20.43, 1023.47, 1.24, 61.97, 68.98, 92.55, 64.92\n",
      "2017-02-02 00:00:00, 2017-02-02T16:41:00.000000000, -23.85, 1023.46, 1.25, 62.36, 69.22, 93.92, 62.32\n",
      "2017-02-03 00:00:00, 2017-02-03T17:29:00.000000000, -36.38, 1023.46, 1.25, 62.56, 69.76, 95.12, 60.09\n",
      "2017-02-04 00:00:00, 2017-02-04T17:53:00.000000000, -30.96, 1023.49, 1.25, 62.43, 65.77, 94.57, 59.84\n",
      "2017-02-05 00:00:00, 2017-02-05T19:28:00.000000000, -28.35, 1023.56, 1.25, 62.42, 62.44, 93.25, 59.58\n",
      "2017-02-06 00:00:00, 2017-02-06T20:51:00.000000000, -22.57, 1023.59, 1.25, 62.54, 63.99, 93.31, 58.94\n",
      "2017-02-07 00:00:00, 2017-02-07T23:17:00.000000000, -23.70, 1023.58, 1.25, 62.55, 66.83, 93.09, 59.47\n",
      "2017-02-08 00:00:00, 2017-02-08T00:02:00.000000000, -18.93, 1023.58, 1.25, 62.31, 67.20, 91.61, 61.85\n",
      "2017-02-09 00:00:00, 2017-02-09T15:52:00.000000000, -11.86, 1023.62, 1.25, 62.21, 64.91, 91.30, 64.15\n",
      "2017-02-10 00:00:00, 2017-02-10T14:57:00.000000000, -16.13, 1023.63, 1.25, 61.92, 62.24, 90.85, 65.69\n",
      "2017-02-11 00:00:00, 2017-02-11T15:31:00.000000000, -18.93, 1023.65, 1.25, 61.85, 61.15, 90.51, 69.00\n",
      "2017-02-12 00:00:00, 2017-02-12T16:04:00.000000000, -36.86, 1023.69, 1.25, 61.77, 59.43, 90.01, 70.24\n",
      "2017-02-13 00:00:00, 2017-02-13T16:09:00.000000000, -38.33, 1023.71, 1.25, 61.77, 60.67, 89.46, 71.28\n",
      "2017-02-14 00:00:00, 2017-02-14T17:43:00.000000000, -41.27, 1023.68, 1.25, 61.96, 62.28, 90.17, 70.75\n",
      "2017-02-15 00:00:00, 2017-02-15T17:36:00.000000000, -38.32, 1023.63, 1.25, 62.27, 65.89, 91.16, 68.64\n",
      "2017-02-16 00:00:00, 2017-02-16T06:59:00.000000000, -33.82, 1023.58, 1.24, 62.46, 69.86, 91.96, 65.51\n",
      "2017-02-17 00:00:00, 2017-02-17T17:54:00.000000000, -28.18, 1023.55, 1.25, 62.13, 71.49, 91.72, 63.52\n",
      "2017-02-18 00:00:00, 2017-02-18T18:21:00.000000000, -24.07, 1023.55, 1.25, 62.60, 70.10, 92.25, 61.73\n",
      "2017-02-19 00:00:00, 2017-02-19T19:05:00.000000000, -23.69, 1023.55, 1.25, 62.68, 69.48, 93.02, 60.06\n",
      "2017-02-20 00:00:00, 2017-02-20T19:27:00.000000000, -26.57, 1023.52, 1.25, 62.77, 70.30, 93.48, 59.58\n",
      "2017-02-21 00:00:00, 2017-02-21T20:21:00.000000000, -19.19, 1023.51, 1.25, 62.63, 71.11, 93.12, 59.78\n",
      "2017-02-22 00:00:00, 2017-02-22T04:17:00.000000000, 9.88, 1023.51, 1.25, 62.48, 70.04, 93.34, 60.12\n",
      "2017-02-23 00:00:00, 2017-02-23T23:41:00.000000000, 7.58, 1023.52, 1.25, 62.42, 67.44, 93.28, 60.04\n",
      "2017-02-24 00:00:00, 2017-02-24T11:20:00.000000000, 11.75, 1023.52, 1.25, 62.32, 65.88, 92.96, 61.08\n",
      "2017-02-25 00:00:00, 2017-02-25T12:18:00.000000000, 13.93, 1023.54, 1.25, 62.15, 66.78, 93.22, 61.18\n",
      "2017-02-26 00:00:00, 2017-02-26T17:27:00.000000000, -15.53, 1023.54, 1.25, 62.13, 65.67, 93.09, 61.55\n",
      "2017-02-27 00:00:00, 2017-02-27T17:33:00.000000000, -19.80, 1023.54, 1.24, 61.93, 64.06, 91.15, 62.93\n",
      "2017-02-28 00:00:00, 2017-02-28T12:23:00.000000000, 22.99, 1023.54, 1.25, 61.89, 61.12, 91.34, 62.50\n",
      "2017-03-01 00:00:00, 2017-03-01T12:48:00.000000000, 23.12, 1023.52, 1.25, 61.76, 62.17, 91.89, 62.51\n",
      "2017-03-02 00:00:00, 2017-03-02T19:25:00.000000000, -25.47, 1023.51, 1.25, 61.95, 62.75, 92.61, 62.56\n",
      "2017-03-03 00:00:00, 2017-03-03T19:00:00.000000000, -26.96, 1023.50, 1.25, 62.11, 61.48, 92.94, 60.81\n",
      "2017-03-04 00:00:00, 2017-03-04T19:12:00.000000000, -24.87, 1023.49, 1.25, 62.23, 62.33, 93.48, 58.23\n",
      "2017-03-05 00:00:00, 2017-03-05T19:19:00.000000000, -25.16, 1023.47, 1.25, 62.48, 59.91, 92.96, 54.47\n",
      "2017-03-06 00:00:00, 2017-03-06T20:43:00.000000000, -16.41, 1023.44, 1.25, 62.76, 57.38, 92.61, 51.56\n",
      "2017-03-07 00:00:00, 2017-03-07T07:38:00.000000000, -19.00, 1023.45, 1.25, 62.67, 57.77, 93.23, 51.90\n",
      "2017-03-08 00:00:00, 2017-03-08T18:47:00.000000000, 13.65, 1023.47, 1.25, 62.38, 57.67, 93.52, 53.41\n",
      "2017-03-09 00:00:00, 2017-03-09T21:22:00.000000000, 16.76, 1023.50, 1.25, 62.38, 54.70, 92.98, 54.39\n",
      "2017-03-10 00:00:00, 2017-03-10T21:49:00.000000000, 19.97, 1023.51, 1.25, 62.18, 53.68, 92.26, 54.83\n",
      "2017-03-11 00:00:00, 2017-03-11T15:28:00.000000000, -21.07, 1023.54, 1.25, 62.14, 53.67, 91.93, 56.99\n",
      "2017-03-12 00:00:00, 2017-03-12T16:41:00.000000000, -25.31, 1023.58, 1.25, 61.78, 54.56, 92.23, 60.41\n",
      "2017-03-13 00:00:00, 2017-03-13T16:36:00.000000000, -29.50, 1023.61, 1.25, 61.72, 54.98, 91.53, 62.36\n",
      "2017-03-14 00:00:00, 2017-03-14T16:58:00.000000000, -28.39, 1023.61, 1.25, 61.73, 53.97, 92.24, 62.86\n",
      "2017-03-15 00:00:00, 2017-03-15T17:08:00.000000000, -35.03, 1023.61, 1.25, 61.72, 53.29, 92.98, 64.07\n",
      "2017-03-16 00:00:00, 2017-03-16T18:14:00.000000000, -40.68, 1023.61, 1.25, 61.64, 51.38, 91.97, 62.42\n",
      "2017-03-17 00:00:00, 2017-03-17T06:22:00.000000000, -45.36, 1023.60, 1.25, 61.66, 50.99, 91.62, 59.92\n",
      "2017-03-18 00:00:00, 2017-03-18T19:15:00.000000000, -41.95, 1023.56, 1.25, 62.06, 54.64, 91.28, 57.04\n",
      "2017-03-19 00:00:00, 2017-03-19T08:17:00.000000000, -50.19, 1023.53, 1.25, 62.22, 54.50, 92.05, 55.04\n",
      "2017-03-20 00:00:00, 2017-03-20T08:24:00.000000000, -38.14, 1023.55, 1.25, 62.36, 52.16, 90.87, 54.02\n",
      "2017-03-21 00:00:00, 2017-03-21T09:47:00.000000000, -29.05, 1023.56, 1.25, 62.50, 50.83, 90.56, 52.25\n",
      "2017-03-22 00:00:00, 2017-03-22T09:54:00.000000000, -24.27, 1023.57, 1.25, 62.46, 50.72, 89.32, 53.73\n",
      "2017-03-23 00:00:00, 2017-03-23T10:49:00.000000000, -13.64, 1023.59, 1.25, 62.72, 48.13, 87.76, 54.86\n",
      "2017-03-24 00:00:00, 2017-03-24T22:29:00.000000000, 12.15, 1023.60, 1.25, 62.60, 47.96, 87.31, 54.97\n",
      "2017-03-25 00:00:00, 2017-03-25T23:44:00.000000000, 15.25, 1023.59, 1.25, 62.67, 49.51, 88.18, 56.24\n",
      "2017-03-26 00:00:00, 2017-03-26T15:38:00.000000000, -18.31, 1023.61, 1.25, 62.24, 51.14, 89.99, 57.71\n",
      "2017-03-27 00:00:00, 2017-03-27T15:44:00.000000000, -26.12, 1023.64, 1.25, 61.82, 49.22, 89.56, 58.98\n",
      "2017-03-28 00:00:00, 2017-03-28T16:15:00.000000000, -29.83, 1023.65, 1.25, 61.70, 48.63, 88.51, 60.01\n",
      "2017-03-29 00:00:00, 2017-03-29T17:24:00.000000000, -33.43, 1023.64, 1.25, 61.81, 49.57, 88.26, 60.71\n",
      "2017-03-30 00:00:00, 2017-03-30T17:06:00.000000000, -39.54, 1023.63, 1.25, 61.94, 50.16, 90.09, 61.42\n",
      "2017-03-31 00:00:00, 2017-03-31T18:23:00.000000000, -46.13, 1023.61, 1.25, 61.96, 51.79, 92.16, 61.13\n",
      "2017-04-01 00:00:00, 2017-04-01T06:35:00.000000000, -52.22, 1023.59, 1.25, 62.06, 52.45, 93.86, 62.33\n",
      "2017-04-02 00:00:00, 2017-04-02T19:24:00.000000000, -58.11, 1023.56, 1.25, 62.09, 54.31, 96.07, 60.92\n",
      "2017-04-03 00:00:00, 2017-04-03T08:03:00.000000000, -67.60, 1023.53, 1.25, 62.46, 57.45, 97.86, 55.82\n",
      "2017-04-04 00:00:00, 2017-04-04T07:44:00.000000000, -52.34, 1023.51, 1.25, 62.41, 58.72, 96.01, 51.01\n",
      "2017-04-05 00:00:00, 2017-04-05T09:10:00.000000000, -39.76, 1023.49, 1.25, 62.51, 58.19, 93.16, 46.59\n",
      "2017-04-06 00:00:00, 2017-04-06T09:30:00.000000000, -30.77, 1023.46, 1.25, 62.49, 58.89, 90.64, 44.20\n",
      "2017-04-07 00:00:00, 2017-04-07T20:05:00.000000000, 17.79, 1023.46, 1.25, 62.31, 56.13, 90.04, 43.25\n",
      "2017-04-08 00:00:00, 2017-04-08T21:01:00.000000000, 16.29, 1023.47, 1.25, 62.06, 56.44, 87.92, 45.06\n",
      "2017-04-09 00:00:00, 2017-04-09T23:50:00.000000000, 22.75, 1023.48, 1.25, 62.12, 57.36, 86.27, 45.94\n",
      "2017-04-10 00:00:00, 2017-04-10T00:07:00.000000000, 24.41, 1023.47, 1.25, 61.88, 58.85, 87.66, 46.65\n",
      "2017-04-11 00:00:00, 2017-04-11T12:58:00.000000000, 25.22, 1023.48, 1.25, 62.04, 59.30, 89.78, 50.67\n",
      "2017-04-12 00:00:00, 2017-04-12T05:22:00.000000000, -27.17, 1023.49, 1.25, 61.53, 61.27, 89.34, 55.28\n",
      "2017-04-13 00:00:00, 2017-04-13T05:47:00.000000000, -32.00, 1023.48, 1.25, 61.53, 61.80, 88.60, 54.93\n",
      "2017-04-14 00:00:00, 2017-04-14T01:51:00.000000000, 32.77, 1023.45, 1.25, 61.59, 61.21, 89.53, 52.56\n",
      "2017-04-15 00:00:00, 2017-04-15T07:04:00.000000000, -30.23, 1023.43, 1.25, 62.00, 61.34, 91.11, 51.27\n"
     ]
    },
    {
     "name": "stdout",
     "output_type": "stream",
     "text": [
      "2017-04-16 00:00:00, 2017-04-16T07:42:00.000000000, -29.55, 1023.41, 1.25, 62.37, 62.41, 91.52, 50.13\n",
      "2017-04-17 00:00:00, 2017-04-17T06:40:00.000000000, -27.77, 1023.37, 1.25, 62.80, 62.28, 92.51, 48.75\n",
      "2017-04-18 00:00:00, 2017-04-18T08:12:00.000000000, -38.53, 1023.34, 1.25, 63.04, 63.49, 93.77, 47.04\n",
      "2017-04-19 00:00:00, 2017-04-19T08:22:00.000000000, -25.29, 1023.35, 1.25, 63.08, 62.42, 93.53, 45.19\n",
      "2017-04-20 00:00:00, 2017-04-20T09:00:00.000000000, -21.52, 1023.37, 1.25, 62.80, 62.16, 93.57, 41.60\n",
      "2017-04-21 00:00:00, 2017-04-21T01:08:00.000000000, 16.83, 1023.37, 1.25, 62.73, 63.65, 94.49, 40.62\n",
      "2017-04-22 00:00:00, 2017-04-22T11:56:00.000000000, -14.08, 1023.38, 1.25, 62.47, 62.10, 94.10, 41.45\n",
      "2017-04-23 00:00:00, 2017-04-23T19:32:00.000000000, 17.42, 1023.38, 1.25, 62.20, 60.11, 92.21, 39.56\n",
      "2017-04-24 00:00:00, 2017-04-24T20:37:00.000000000, 17.53, 1023.39, 1.25, 62.11, 60.17, 91.87, 40.42\n",
      "2017-04-25 00:00:00, 2017-04-25T14:40:00.000000000, -20.21, 1023.39, 1.25, 61.96, 61.39, 90.43, 42.50\n",
      "2017-04-26 00:00:00, 2017-04-27T00:00:00.000000000, 20.39, 1023.40, 1.25, 61.67, 62.64, 89.76, 42.57\n",
      "2017-04-27 00:00:00, 2017-04-27T08:33:00.000000000, 21.40, 1023.40, 1.25, 61.92, 63.52, 89.94, 43.12\n",
      "2017-04-28 00:00:00, 2017-04-28T12:51:00.000000000, 24.51, 1023.35, 1.25, 62.35, 74.32, 91.08, 41.42\n",
      "2017-04-29 00:00:00, 2017-04-29T19:52:00.000000000, -29.91, 1023.31, 1.25, 62.74, 86.71, 91.27, 37.59\n",
      "2017-04-30 00:00:00, 2017-04-30T23:51:00.000000000, 34.01, 1023.39, 1.25, 62.55, 84.07, 87.97, 37.47\n"
     ]
    }
   ],
   "source": [
    "print('time, timemax, Amax, beta0, beta1, beta2, beta3, beta4, beta5')\n",
    "for t1,t2 in zip(time[0:-1],time[1::]):\n",
    "    A = A_n.sel(time=slice(t1,t2))\n",
    "    \n",
    "    # Find the amplitude\n",
    "    Amax,idx = maximum_amplitude_finder(A.values)\n",
    "    \n",
    "    #plt.figure()\n",
    "    #A.plot()\n",
    "    #plt.plot(A.time.values[idx],Amax,'mo')\n",
    "    \n",
    "    # Find a representative (median) beta\n",
    "    dsc=ds.sel(time=t2,method='nearest')\n",
    "    meanbeta = dsc.beta.median(axis=-1).values\n",
    "    #print('{}, {}, {}'.format(t1, A.time.values[idx], Amax, ))\n",
    "    outstr = '%s, %s, %3.2f'%(t1, A.time.values[idx], Amax, )\n",
    "    for bb in meanbeta:\n",
    "        outstr +=', %3.2f'%bb\n",
    "\n",
    "    print(outstr)\n",
    "    #print('{}, {}, {}, {}, {}, {}, {}, {}, {}'.format(t1, A.time.values[idx], Amax, dsc.beta.mean(axis=-1).values) )\n",
    "    \n",
    "\n"
   ]
  },
  {
   "cell_type": "code",
   "execution_count": null,
   "metadata": {},
   "outputs": [],
   "source": []
  },
  {
   "cell_type": "code",
   "execution_count": null,
   "metadata": {},
   "outputs": [],
   "source": []
  }
 ],
 "metadata": {
  "kernelspec": {
   "display_name": "Python 3",
   "language": "python",
   "name": "python3"
  },
  "language_info": {
   "codemirror_mode": {
    "name": "ipython",
    "version": 3
   },
   "file_extension": ".py",
   "mimetype": "text/x-python",
   "name": "python",
   "nbconvert_exporter": "python",
   "pygments_lexer": "ipython3",
   "version": "3.6.4"
  }
 },
 "nbformat": 4,
 "nbformat_minor": 2
}
