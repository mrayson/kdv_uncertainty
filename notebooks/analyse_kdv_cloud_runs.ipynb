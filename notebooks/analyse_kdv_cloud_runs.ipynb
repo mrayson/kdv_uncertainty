{
 "cells": [
  {
   "cell_type": "markdown",
   "metadata": {},
   "source": [
    "# KdV Uncertainty output\n",
    "\n",
    "## Plots\n",
    "\n",
    "Produce the following plots:\n",
    " - Example a0 and density profiles for one time step\n",
    " - Example of a time-series all A(t) for 1, 10, 500 runs\n",
    " - Timeseries of 'max_amplitude' all runs\n",
    " - Timeseries of normalized 'max_amplitude' all runs\n",
    " \n",
    "---\n",
    "Other plots for the paper/talks:\n",
    " - *Example of scenario A(x,t)* requires running a simulation..."
   ]
  },
  {
   "cell_type": "code",
   "execution_count": 115,
   "metadata": {},
   "outputs": [],
   "source": [
    "import h5py\n",
    "from glob import glob\n",
    "\n",
    "\n",
    "from dask import array as da\n",
    "from dask import delayed\n",
    "\n",
    "import matplotlib.pyplot as plt\n",
    "%matplotlib notebook"
   ]
  },
  {
   "cell_type": "markdown",
   "metadata": {},
   "source": [
    "# Test loading some data\n",
    "\n",
    "Data are stored in individual hdf5 files for each step (1473) and each sample (500)"
   ]
  },
  {
   "cell_type": "code",
   "execution_count": 128,
   "metadata": {},
   "outputs": [
    {
     "data": {
      "text/plain": [
       "'shiny_dashboard/data/timepoint-1/all_amplitudes/2018-07-24--13-00-34_timepoint-1_sample-0_output.h5'"
      ]
     },
     "execution_count": 128,
     "metadata": {},
     "output_type": "execute_result"
    }
   ],
   "source": [
    "sorted(glob(\"shiny_dashboard/data/timepoint-1/all_amplitudes/*.h5\"))\n",
    "\n",
    "def get_file_name(timepoint, sample):\n",
    "    return \"shiny_dashboard/data/timepoint-%d/all_amplitudes/2018-07-24--13-00-34_timepoint-%d_sample-%d_output.h5\"%(timepoint,timepoint,sample)\n",
    "\n",
    "get_file_name(1,0)"
   ]
  },
  {
   "cell_type": "code",
   "execution_count": 129,
   "metadata": {},
   "outputs": [
    {
     "data": {
      "text/plain": [
       "['a0_sample',\n",
       " 'amplitudes',\n",
       " 'beta_samples',\n",
       " 'max_amplitude',\n",
       " 'sample',\n",
       " 'timepoint']"
      ]
     },
     "execution_count": 129,
     "metadata": {},
     "output_type": "execute_result"
    }
   ],
   "source": [
    "h5 = h5py.File(get_file_name(1,0),'r')\n",
    "list(h5.keys())"
   ]
  },
  {
   "cell_type": "code",
   "execution_count": 118,
   "metadata": {},
   "outputs": [
    {
     "data": {
      "text/plain": [
       "5.395666138530389"
      ]
     },
     "execution_count": 118,
     "metadata": {},
     "output_type": "execute_result"
    }
   ],
   "source": [
    "h5['a0_sample'].value"
   ]
  },
  {
   "cell_type": "code",
   "execution_count": 119,
   "metadata": {},
   "outputs": [
    {
     "data": {
      "text/plain": [
       "array([1023.43542536,    1.26678955,   60.79655458,   24.98486602,\n",
       "        141.5239436 ,   44.09018998])"
      ]
     },
     "execution_count": 119,
     "metadata": {},
     "output_type": "execute_result"
    }
   ],
   "source": [
    "h5['beta_samples'][:]"
   ]
  },
  {
   "cell_type": "code",
   "execution_count": 120,
   "metadata": {},
   "outputs": [
    {
     "data": {
      "text/plain": [
       "-5.94777680902352"
      ]
     },
     "execution_count": 120,
     "metadata": {},
     "output_type": "execute_result"
    }
   ],
   "source": [
    "h5['max_amplitude'].value"
   ]
  },
  {
   "cell_type": "code",
   "execution_count": 121,
   "metadata": {},
   "outputs": [
    {
     "data": {
      "text/plain": [
       "(6480,)"
      ]
     },
     "execution_count": 121,
     "metadata": {},
     "output_type": "execute_result"
    }
   ],
   "source": [
    "h5['amplitudes'].shape"
   ]
  },
  {
   "cell_type": "markdown",
   "metadata": {},
   "source": [
    "# Data loading tools"
   ]
  },
  {
   "cell_type": "code",
   "execution_count": 130,
   "metadata": {},
   "outputs": [],
   "source": [
    "@delayed(nout=1)\n",
    "def load_h5_step(varname, timepoint):\n",
    "    nsamples = 500\n",
    "\n",
    "    a0 = []\n",
    "    for ii in range(nsamples):\n",
    "        h5 = h5py.File(get_file_name(timepoint,ii),'r')\n",
    "        a0.append(da.from_array( h5[varname].value, chunks=-1))\n",
    "        h5.close()\n",
    "\n",
    "    a0_da = da.stack(a0)\n",
    "\n",
    "    return a0_da\n",
    "\n",
    "@delayed(nout=1)\n",
    "def load_h5_alltime(varname, maxpoints):\n",
    "\n",
    "    a0 = []\n",
    "    for ii in range(maxpoints):\n",
    "        a0_da = load_h5_step(varname, ii)\n",
    "        a0.append(a0_da)\n",
    "        \n",
    "    #a0_t = da.stack(a0, axis=0)\n",
    "    \n",
    "    return a0\n",
    "\n",
    "        \n",
    "#amp, beta, a0 = load_h5_step(1)"
   ]
  },
  {
   "cell_type": "code",
   "execution_count": 123,
   "metadata": {},
   "outputs": [
    {
     "data": {
      "text/plain": [
       "Delayed('load_h5_step-2a25ca3c-ffe1-46b0-9d14-e4486e15219d')"
      ]
     },
     "execution_count": 123,
     "metadata": {},
     "output_type": "execute_result"
    }
   ],
   "source": [
    "a0 = load_h5_step('a0_sample',10)\n",
    "#a0 = load_h5_step('beta_samples',10)\n",
    "\n",
    "#a0 = load_h5_alltime('beta_samples',10)\n",
    "\n",
    "a0.compute()"
   ]
  },
  {
   "cell_type": "markdown",
   "metadata": {},
   "source": [
    "# Plot of some initial conditions for one scenario"
   ]
  },
  {
   "cell_type": "code",
   "execution_count": 133,
   "metadata": {},
   "outputs": [
    {
     "data": {
      "text/plain": [
       "Text(0.5,0,'Count')"
      ]
     },
     "execution_count": 133,
     "metadata": {},
     "output_type": "execute_result"
    },
    {
     "data": {
      "image/png": "[encoded data removed]",
      "text/plain": [
       "<matplotlib.figure.Figure at 0x7f34c9192ef0>"
      ]
     },
     "metadata": {},
     "output_type": "display_data"
    }
   ],
   "source": [
    "plt.hist(a0.compute(),bins=25, color='0.5', edgecolor='k')\n",
    "plt.xlabel('$a_0$ [m]')\n",
    "plt.xlabel('Count')"
   ]
  },
  {
   "cell_type": "code",
   "execution_count": 111,
   "metadata": {},
   "outputs": [
    {
     "data": {
      "text/plain": [
       "(Delayed('load_h5_step-6ce176db-7e12-4bb8-b633-410275438125'),)"
      ]
     },
     "execution_count": 111,
     "metadata": {},
     "output_type": "execute_result"
    }
   ],
   "source": [
    "out"
   ]
  },
  {
   "cell_type": "code",
   "execution_count": 62,
   "metadata": {},
   "outputs": [],
   "source": [
    "delayed?"
   ]
  },
  {
   "cell_type": "code",
   "execution_count": null,
   "metadata": {},
   "outputs": [],
   "source": []
  }
 ],
 "metadata": {
  "kernelspec": {
   "display_name": "Python 3",
   "language": "python",
   "name": "python3"
  },
  "language_info": {
   "codemirror_mode": {
    "name": "ipython",
    "version": 3
   },
   "file_extension": ".py",
   "mimetype": "text/x-python",
   "name": "python",
   "nbconvert_exporter": "python",
   "pygments_lexer": "ipython3",
   "version": "3.6.4"
  }
 },
 "nbformat": 4,
 "nbformat_minor": 2
}
