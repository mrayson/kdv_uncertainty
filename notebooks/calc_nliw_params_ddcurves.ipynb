{
 "cells": [
  {
   "cell_type": "markdown",
   "metadata": {},
   "source": [
    "# Plot output h5 data generated via ddcurves\n",
    "\n"
   ]
  },
  {
   "cell_type": "code",
   "execution_count": 1,
   "metadata": {},
   "outputs": [
    {
     "name": "stderr",
     "output_type": "stream",
     "text": [
      "/home/suntans/.conda/envs/soda/lib/python3.6/site-packages/matplotlib/cbook/deprecation.py:106: MatplotlibDeprecationWarning: The mpl_toolkits.axes_grid module was deprecated in version 2.1. Use mpl_toolkits.axes_grid1 and mpl_toolkits.axisartist provies the same functionality instead.\n",
      "  warnings.warn(message, mplDeprecation, stacklevel=1)\n"
     ]
    }
   ],
   "source": [
    "import h5py\n",
    "import numpy as np\n",
    "import pandas as pd\n",
    "import xarray as xr\n",
    "from datetime import datetime\n",
    "import matplotlib.pyplot as plt\n",
    "\n",
    "from iwaves import kdv\n",
    "from iwaves.utils import isw\n",
    "from tqdm import tqdm # progress bar\n",
    "from glob import glob\n",
    "\n"
   ]
  },
  {
   "cell_type": "code",
   "execution_count": 16,
   "metadata": {},
   "outputs": [
    {
     "data": {
      "text/plain": [
       "array([   0.,  -10.,  -20.,  -30.,  -40.,  -50.,  -60.,  -70.,  -80.,\n",
       "        -90., -100., -110., -120., -130., -140., -150., -160., -170.,\n",
       "       -180., -190., -200., -210., -220., -230., -240., -250., -260.,\n",
       "       -270., -280., -290., -300., -310., -320., -330., -340., -350.,\n",
       "       -360., -370., -380., -390., -400.])"
      ]
     },
     "execution_count": 16,
     "metadata": {},
     "output_type": "execute_result"
    }
   ],
   "source": [
    "#############3\n",
    "# Inputs\n",
    "\n",
    "#f = h5py.File('DATA_QC/test_beta-samples.h5','r')\n",
    "#h5file = 'DATA_QC/IMOS_Density_KIM200_2013_a_beta-samples-array-all-data.h5'\n",
    "\n",
    "datadir = '/home/suntans/cloudstor/Data/IMOS/'\n",
    "datafile1 = '%s/IMOS_Density_KIM400_2014_a_density_bhm_6params_2018-11-27.h5'%datadir\n",
    "#datafile2 = '%s/DATA_QC/Crux_KP150_Phs2_Density_lowpass'%datadir\n",
    "sitename = 'ITFTIS'\n",
    "zmin = -405\n",
    "nparams = 6\n",
    "\n",
    "\n",
    "dz = 10.0\n",
    "mode = 0\n",
    "# top down\n",
    "zout = np.arange(0,zmin, -dz)\n",
    "zout"
   ]
  },
  {
   "cell_type": "code",
   "execution_count": 17,
   "metadata": {},
   "outputs": [
    {
     "data": {
      "text/plain": [
       "['/home/suntans/cloudstor/Data/IMOS/IMOS_Density_ITFTIS_2013_b_density_bhm_6params_2018-11-29.h5',\n",
       " '/home/suntans/cloudstor/Data/IMOS/IMOS_Density_ITFTIS_2014_a_density_bhm_6params_2018-11-29.h5',\n",
       " '/home/suntans/cloudstor/Data/IMOS/IMOS_Density_ITFTIS_2014_b_density_bhm_6params_2018-11-29.h5',\n",
       " '/home/suntans/cloudstor/Data/IMOS/IMOS_Density_ITFTIS_2015_a_density_bhm_6params_2018-11-29.h5',\n",
       " '/home/suntans/cloudstor/Data/IMOS/IMOS_Density_ITFTIS_2015_b_density_bhm_6params_2018-11-28.h5']"
      ]
     },
     "execution_count": 17,
     "metadata": {},
     "output_type": "execute_result"
    }
   ],
   "source": [
    "glob('%s/*_%s_*_%dparams_*.h5'%(datadir, sitename, nparams))\n",
    "#'%s/IMOS_Density_%s_*_%dparmas_*.h5'%(datadir, sitename, nparams)"
   ]
  },
  {
   "cell_type": "markdown",
   "metadata": {},
   "source": [
    "# Load\n",
    "\n",
    "Data is stored in hdf5 format. The $\\beta$'s are stored in the group `data/beta_samples` that has dimensions [#parameters, #time, #samples]"
   ]
  },
  {
   "cell_type": "code",
   "execution_count": 4,
   "metadata": {},
   "outputs": [
    {
     "name": "stdout",
     "output_type": "stream",
     "text": [
      "beta_samples\n",
      "depth\n",
      "mu_beta_samples\n",
      "rho\n",
      "time\n",
      "-406.2\n"
     ]
    }
   ],
   "source": [
    "f = h5py.File(datafile1,'r')\n",
    "for kk in f.keys():\n",
    "    print(kk)\n",
    "print(f['depth'][:].min())\n",
    "f.close()"
   ]
  },
  {
   "cell_type": "code",
   "execution_count": 5,
   "metadata": {},
   "outputs": [
    {
     "name": "stdout",
     "output_type": "stream",
     "text": [
      "6 811 500\n"
     ]
    }
   ],
   "source": [
    "def load_density_h5(h5file):\n",
    "    f = h5py.File(h5file,'r')\n",
    "    data = f['beta_samples'][:]\n",
    "    time = f['time'][:].astype('<M8[ns]')\n",
    "    f.close()\n",
    "    return data,time\n",
    "\n",
    "\n",
    "data1,time = load_density_h5('%s'%datafile1)\n",
    "#data2 = load_density_h5('%s_beta-samples-array-all-data.h5'%datafile2)\n",
    "\n",
    "#data = np.concatenate([data1,data2], axis=1)\n",
    "data = data1\n",
    "nparam, nt, ntrace = data[:].shape\n",
    "print(nparam, nt, ntrace)\n"
   ]
  },
  {
   "cell_type": "code",
   "execution_count": 22,
   "metadata": {},
   "outputs": [],
   "source": [
    "def double_tanh_6(beta, z):\n",
    "    \n",
    "    return beta[0] - beta[1]*(np.tanh((z+beta[2])/beta[3])\n",
    "                + np.tanh((z+beta[2] + beta[4])/beta[5]))\n",
    "\n",
    "def double_tanh_7(beta, z):\n",
    "    \n",
    "    return beta[0] - beta[1]*np.tanh((z+beta[2])/beta[3]) \\\n",
    "            - beta[6]* np.tanh((z+beta[2] + beta[4])/beta[5])"
   ]
  },
  {
   "cell_type": "code",
   "execution_count": 7,
   "metadata": {},
   "outputs": [
    {
     "name": "stderr",
     "output_type": "stream",
     "text": [
      "  2%|▏         | 19/811 [00:48<33:25,  2.53s/it]"
     ]
    },
    {
     "ename": "KeyboardInterrupt",
     "evalue": "",
     "output_type": "error",
     "traceback": [
      "\u001b[0;31m---------------------------------------------------------------------------\u001b[0m",
      "\u001b[0;31mKeyboardInterrupt\u001b[0m                         Traceback (most recent call last)",
      "\u001b[0;32m<ipython-input-7-6564e006a809>\u001b[0m in \u001b[0;36m<module>\u001b[0;34m()\u001b[0m\n\u001b[1;32m     15\u001b[0m         \u001b[0mN2\u001b[0m \u001b[0;34m=\u001b[0m \u001b[0;34m-\u001b[0m\u001b[0;36m9.81\u001b[0m\u001b[0;34m/\u001b[0m\u001b[0;36m1000\u001b[0m\u001b[0;34m*\u001b[0m\u001b[0mnp\u001b[0m\u001b[0;34m.\u001b[0m\u001b[0mgradient\u001b[0m\u001b[0;34m(\u001b[0m\u001b[0mrhotmp\u001b[0m\u001b[0;34m,\u001b[0m\u001b[0;34m-\u001b[0m\u001b[0mdz\u001b[0m\u001b[0;34m)\u001b[0m\u001b[0;34m\u001b[0m\u001b[0m\n\u001b[1;32m     16\u001b[0m \u001b[0;34m\u001b[0m\u001b[0m\n\u001b[0;32m---> 17\u001b[0;31m         \u001b[0mphi\u001b[0m\u001b[0;34m,\u001b[0m\u001b[0mcn\u001b[0m \u001b[0;34m=\u001b[0m \u001b[0misw\u001b[0m\u001b[0;34m.\u001b[0m\u001b[0miwave_modes\u001b[0m\u001b[0;34m(\u001b[0m\u001b[0mN2\u001b[0m\u001b[0;34m,\u001b[0m \u001b[0mdz\u001b[0m\u001b[0;34m)\u001b[0m\u001b[0;34m\u001b[0m\u001b[0m\n\u001b[0m\u001b[1;32m     18\u001b[0m \u001b[0;34m\u001b[0m\u001b[0m\n\u001b[1;32m     19\u001b[0m         \u001b[0mphi_1\u001b[0m \u001b[0;34m=\u001b[0m \u001b[0mphi\u001b[0m\u001b[0;34m[\u001b[0m\u001b[0;34m:\u001b[0m\u001b[0;34m,\u001b[0m\u001b[0mmode\u001b[0m\u001b[0;34m]\u001b[0m\u001b[0;34m\u001b[0m\u001b[0m\n",
      "\u001b[0;32m~/code/iwaves/iwaves/utils/isw.py\u001b[0m in \u001b[0;36miwave_modes\u001b[0;34m(N2, dz, k)\u001b[0m\n\u001b[1;32m    742\u001b[0m \u001b[0;34m\u001b[0m\u001b[0m\n\u001b[1;32m    743\u001b[0m     \u001b[0;31m# Solve... (use scipy not numpy)\u001b[0m\u001b[0;34m\u001b[0m\u001b[0;34m\u001b[0m\u001b[0m\n\u001b[0;32m--> 744\u001b[0;31m     \u001b[0mw\u001b[0m\u001b[0;34m,\u001b[0m \u001b[0mphi\u001b[0m \u001b[0;34m=\u001b[0m \u001b[0mlinalg\u001b[0m\u001b[0;34m.\u001b[0m\u001b[0meig\u001b[0m\u001b[0;34m(\u001b[0m\u001b[0mA\u001b[0m\u001b[0;34m,\u001b[0m \u001b[0mb\u001b[0m\u001b[0;34m=\u001b[0m\u001b[0mB\u001b[0m\u001b[0;34m)\u001b[0m\u001b[0;34m\u001b[0m\u001b[0m\n\u001b[0m\u001b[1;32m    745\u001b[0m \u001b[0;34m\u001b[0m\u001b[0m\n\u001b[1;32m    746\u001b[0m     \u001b[0mc\u001b[0m \u001b[0;34m=\u001b[0m \u001b[0;36m1.\u001b[0m \u001b[0;34m/\u001b[0m \u001b[0mnp\u001b[0m\u001b[0;34m.\u001b[0m\u001b[0mpower\u001b[0m\u001b[0;34m(\u001b[0m\u001b[0mw\u001b[0m\u001b[0;34m,\u001b[0m \u001b[0;36m0.5\u001b[0m\u001b[0;34m)\u001b[0m \u001b[0;31m# since term is ... + N^2/c^2 \\phi\u001b[0m\u001b[0;34m\u001b[0m\u001b[0m\n",
      "\u001b[0;32m~/.conda/envs/soda/lib/python3.6/site-packages/scipy/linalg/decomp.py\u001b[0m in \u001b[0;36meig\u001b[0;34m(a, b, left, right, overwrite_a, overwrite_b, check_finite, homogeneous_eigvals)\u001b[0m\n\u001b[1;32m    194\u001b[0m             \u001b[0;32mraise\u001b[0m \u001b[0mValueError\u001b[0m\u001b[0;34m(\u001b[0m\u001b[0;34m'a and b must have the same shape'\u001b[0m\u001b[0;34m)\u001b[0m\u001b[0;34m\u001b[0m\u001b[0m\n\u001b[1;32m    195\u001b[0m         return _geneig(a1, b1, left, right, overwrite_a, overwrite_b,\n\u001b[0;32m--> 196\u001b[0;31m                        homogeneous_eigvals)\n\u001b[0m\u001b[1;32m    197\u001b[0m \u001b[0;34m\u001b[0m\u001b[0m\n\u001b[1;32m    198\u001b[0m     \u001b[0mgeev\u001b[0m\u001b[0;34m,\u001b[0m \u001b[0mgeev_lwork\u001b[0m \u001b[0;34m=\u001b[0m \u001b[0mget_lapack_funcs\u001b[0m\u001b[0;34m(\u001b[0m\u001b[0;34m(\u001b[0m\u001b[0;34m'geev'\u001b[0m\u001b[0;34m,\u001b[0m \u001b[0;34m'geev_lwork'\u001b[0m\u001b[0;34m)\u001b[0m\u001b[0;34m,\u001b[0m \u001b[0;34m(\u001b[0m\u001b[0ma1\u001b[0m\u001b[0;34m,\u001b[0m\u001b[0;34m)\u001b[0m\u001b[0;34m)\u001b[0m\u001b[0;34m\u001b[0m\u001b[0m\n",
      "\u001b[0;32m~/.conda/envs/soda/lib/python3.6/site-packages/scipy/linalg/decomp.py\u001b[0m in \u001b[0;36m_geneig\u001b[0;34m(a1, b1, left, right, overwrite_a, overwrite_b, homogeneous_eigvals)\u001b[0m\n\u001b[1;32m     86\u001b[0m         alphar, alphai, beta, vl, vr, work, info = ggev(a1, b1, cvl, cvr,\n\u001b[1;32m     87\u001b[0m                                                         \u001b[0mlwork\u001b[0m\u001b[0;34m,\u001b[0m \u001b[0moverwrite_a\u001b[0m\u001b[0;34m,\u001b[0m\u001b[0;34m\u001b[0m\u001b[0m\n\u001b[0;32m---> 88\u001b[0;31m                                                         overwrite_b)\n\u001b[0m\u001b[1;32m     89\u001b[0m         \u001b[0malpha\u001b[0m \u001b[0;34m=\u001b[0m \u001b[0malphar\u001b[0m \u001b[0;34m+\u001b[0m \u001b[0m_I\u001b[0m \u001b[0;34m*\u001b[0m \u001b[0malphai\u001b[0m\u001b[0;34m\u001b[0m\u001b[0m\n\u001b[1;32m     90\u001b[0m         \u001b[0mw\u001b[0m \u001b[0;34m=\u001b[0m \u001b[0m_make_eigvals\u001b[0m\u001b[0;34m(\u001b[0m\u001b[0malpha\u001b[0m\u001b[0;34m,\u001b[0m \u001b[0mbeta\u001b[0m\u001b[0;34m,\u001b[0m \u001b[0mhomogeneous_eigvals\u001b[0m\u001b[0;34m)\u001b[0m\u001b[0;34m\u001b[0m\u001b[0m\n",
      "\u001b[0;31mKeyboardInterrupt\u001b[0m: "
     ]
    }
   ],
   "source": [
    "#%%time\n",
    "\n",
    "samples = ntrace\n",
    "alpha_ens = np.zeros((nt,samples))\n",
    "c_ens = np.zeros((nt,samples))\n",
    "\n",
    "rand_loc = np.random.randint(0, ntrace, samples)\n",
    "\n",
    "for tstep in tqdm(range(0,nt)):\n",
    "    #if (tstep%20==0):\n",
    "    #    print('%d of %d...'%(tstep,nt))\n",
    "    for ii in range(samples):\n",
    "        rhotmp = double_tanh_6(data[:,tstep, rand_loc[ii]], zout)\n",
    "\n",
    "        N2 = -9.81/1000*np.gradient(rhotmp,-dz)\n",
    "\n",
    "        phi,cn = isw.iwave_modes(N2, dz)\n",
    "        \n",
    "        phi_1 = phi[:,mode]\n",
    "        phi_1 =phi_1 / np.abs(phi_1).max()\n",
    "        phi_1 *= np.sign(phi_1.sum())\n",
    "        \n",
    "        alpha = isw.calc_alpha(phi_1, cn[mode],N2,dz)\n",
    "\n",
    "        alpha_ens[tstep,ii] = alpha\n",
    "        c_ens[tstep,ii] = cn[mode]\n",
    "        #mykdv = kdv.KdV(rhotmp,zout)\n"
   ]
  },
  {
   "cell_type": "code",
   "execution_count": 8,
   "metadata": {},
   "outputs": [
    {
     "data": {
      "text/plain": [
       "<xarray.Dataset>\n",
       "Dimensions:   (ensemble: 500, params: 6, time: 811)\n",
       "Coordinates:\n",
       "  * time      (time) datetime64[ns] 2014-02-01T12:00:01 ... 2014-08-23T00:00:01\n",
       "  * ensemble  (ensemble) int64 0 1 2 3 4 5 6 7 ... 493 494 495 496 497 498 499\n",
       "  * params    (params) int64 0 1 2 3 4 5\n",
       "Data variables:\n",
       "    cn        (time, ensemble) float64 1.498 1.508 1.519 1.507 ... 0.0 0.0 0.0\n",
       "    alpha     (time, ensemble) float64 -0.00914 -0.009538 -0.009237 ... 0.0 0.0\n",
       "    beta      (params, time, ensemble) float64 1.024e+03 1.023e+03 ... 113.3"
      ]
     },
     "execution_count": 8,
     "metadata": {},
     "output_type": "execute_result"
    }
   ],
   "source": [
    "# Create an xray dataset with the output\n",
    "dims2 = ('time','ensemble',)\n",
    "dims3 = ('params','time','ensemble')\n",
    "\n",
    "#time = rho.time.values\n",
    "#time = range(nt)\n",
    "coords2 = {'time':time, 'ensemble':range(ntrace)}\n",
    "coords3 = {'time':time, 'ensemble':range(ntrace), 'params':range(nparams)}\n",
    "           \n",
    "\n",
    "cn_da = xr.DataArray(c_ens,\n",
    "    coords=coords2,\n",
    "    dims=dims2,\n",
    "    attrs={'long_name':'', 'units':''},\n",
    "    )\n",
    "\n",
    "alpha_da = xr.DataArray(alpha_ens,\n",
    "    coords=coords2,\n",
    "    dims=dims2,\n",
    "    attrs={'long_name':'', 'units':''},\n",
    "    )\n",
    "\n",
    "beta_da = xr.DataArray(data,\n",
    "    coords=coords3,\n",
    "    dims=dims3,\n",
    "    attrs={'long_name':'', 'units':''},\n",
    "    )\n",
    "\n",
    "dsout = xr.Dataset({'cn':cn_da, 'alpha':alpha_da, 'beta':beta_da,\\\n",
    "                   })\n",
    "dsout"
   ]
  },
  {
   "cell_type": "code",
   "execution_count": 19,
   "metadata": {},
   "outputs": [],
   "source": [
    "def calc_nliw_params(h5file, zmin, dz):\n",
    "    \n",
    "    # Lload the data\n",
    "    data,time = load_density_h5(h5file)\n",
    "    nparam, nt, ntrace = data[:].shape\n",
    "    \n",
    "    zout = np.arange(0,zmin, -dz)\n",
    "\n",
    "    \n",
    "    # Calculate c and alpha\n",
    "    samples = ntrace\n",
    "    alpha_ens = np.zeros((nt,samples))\n",
    "    c_ens = np.zeros((nt,samples))\n",
    "\n",
    "    rand_loc = np.random.randint(0, ntrace, samples)\n",
    "\n",
    "    for tstep in tqdm(range(0,nt)):\n",
    "        #if (tstep%20==0):\n",
    "        #    print('%d of %d...'%(tstep,nt))\n",
    "        for ii in range(samples):\n",
    "            \n",
    "            if nparams == 6:\n",
    "                rhotmp = double_tanh_6(data[:,tstep, rand_loc[ii]], zout)\n",
    "            elif nparams == 7:\n",
    "                rhotmp = double_tanh_7(data[:,tstep, rand_loc[ii]], zout)\n",
    "\n",
    "\n",
    "            N2 = -9.81/1000*np.gradient(rhotmp,-dz)\n",
    "\n",
    "            phi,cn = isw.iwave_modes(N2, dz)\n",
    "\n",
    "            phi_1 = phi[:,mode]\n",
    "            phi_1 =phi_1 / np.abs(phi_1).max()\n",
    "            phi_1 *= np.sign(phi_1.sum())\n",
    "\n",
    "            alpha = isw.calc_alpha(phi_1, cn[mode],N2,dz)\n",
    "\n",
    "            alpha_ens[tstep,ii] = alpha\n",
    "            c_ens[tstep,ii] = cn[mode]\n",
    "            #mykdv = kdv.KdV(rhotmp,zout)\n",
    "            \n",
    "    # Export to an xarray data set\n",
    "    # Create an xray dataset with the output\n",
    "    dims2 = ('time','ensemble',)\n",
    "    dims3 = ('params','time','ensemble')\n",
    "\n",
    "    #time = rho.time.values\n",
    "    #time = range(nt)\n",
    "    coords2 = {'time':time, 'ensemble':range(ntrace)}\n",
    "    coords3 = {'time':time, 'ensemble':range(ntrace), 'params':range(nparams)}\n",
    "\n",
    "\n",
    "    cn_da = xr.DataArray(c_ens,\n",
    "        coords=coords2,\n",
    "        dims=dims2,\n",
    "        attrs={'long_name':'', 'units':''},\n",
    "        )\n",
    "\n",
    "    alpha_da = xr.DataArray(alpha_ens,\n",
    "        coords=coords2,\n",
    "        dims=dims2,\n",
    "        attrs={'long_name':'', 'units':''},\n",
    "        )\n",
    "\n",
    "    beta_da = xr.DataArray(data,\n",
    "        coords=coords3,\n",
    "        dims=dims3,\n",
    "        attrs={'long_name':'', 'units':''},\n",
    "        )\n",
    "\n",
    "    dsout = xr.Dataset({'cn':cn_da, 'alpha':alpha_da, 'beta':beta_da,})\n",
    "    \n",
    "    return dsout\n"
   ]
  },
  {
   "cell_type": "code",
   "execution_count": 25,
   "metadata": {},
   "outputs": [
    {
     "name": "stderr",
     "output_type": "stream",
     "text": [
      "\n",
      "\n",
      "  0%|          | 0/811 [00:00<?, ?it/s]\u001b[A\u001b[A\n",
      "\n",
      "  0%|          | 1/811 [00:02<34:28,  2.55s/it]\u001b[A\u001b[A\n",
      "\n",
      "  0%|          | 2/811 [00:04<32:57,  2.44s/it]\u001b[A\u001b[A\n",
      "\n",
      "  0%|          | 3/811 [00:07<33:48,  2.51s/it]\u001b[A\u001b[A\n",
      "\n",
      "  0%|          | 4/811 [00:09<33:10,  2.47s/it]\u001b[A\u001b[A\n",
      "\n",
      "  1%|          | 5/811 [00:12<33:11,  2.47s/it]\u001b[A\u001b[A\n",
      "\n",
      "  1%|          | 6/811 [00:14<33:25,  2.49s/it]\u001b[A\u001b[A\n",
      "\n",
      "  1%|          | 7/811 [00:17<32:43,  2.44s/it]\u001b[A\u001b[A\n",
      "\n",
      "  1%|          | 8/811 [00:19<32:50,  2.45s/it]\u001b[A\u001b[A\n",
      "\n",
      "  1%|          | 9/811 [00:22<32:50,  2.46s/it]\u001b[A\u001b[A\n",
      "\n",
      "  1%|          | 10/811 [00:24<32:48,  2.46s/it]\u001b[A\u001b[A\n",
      "\n",
      "  1%|▏         | 11/811 [00:27<32:52,  2.47s/it]\u001b[A\u001b[A\n",
      "\n",
      "  1%|▏         | 12/811 [00:29<32:46,  2.46s/it]\u001b[A\u001b[A\n",
      "\n",
      "  2%|▏         | 13/811 [00:32<33:12,  2.50s/it]\u001b[A\u001b[A\n",
      "\n",
      "  2%|▏         | 14/811 [00:35<33:37,  2.53s/it]\u001b[A\u001b[A\n",
      "\n",
      "  2%|▏         | 15/811 [00:38<34:01,  2.56s/it]\u001b[A\u001b[A\n",
      "\n",
      "  2%|▏         | 16/811 [00:41<34:02,  2.57s/it]\u001b[A\u001b[A\n",
      "\n",
      "  2%|▏         | 17/811 [00:43<34:02,  2.57s/it]\u001b[A\u001b[A\n",
      "\n",
      "  2%|▏         | 18/811 [00:46<33:56,  2.57s/it]\u001b[A\u001b[A\n",
      "\n",
      "  2%|▏         | 19/811 [00:48<33:46,  2.56s/it]\u001b[A\u001b[A"
     ]
    },
    {
     "ename": "KeyboardInterrupt",
     "evalue": "",
     "output_type": "error",
     "traceback": [
      "\u001b[0;31m---------------------------------------------------------------------------\u001b[0m",
      "\u001b[0;31mKeyboardInterrupt\u001b[0m                         Traceback (most recent call last)",
      "\u001b[0;32m<ipython-input-25-9aa04c26ddef>\u001b[0m in \u001b[0;36m<module>\u001b[0;34m()\u001b[0m\n\u001b[0;32m----> 1\u001b[0;31m \u001b[0mcalc_nliw_params\u001b[0m\u001b[0;34m(\u001b[0m\u001b[0mdatafile1\u001b[0m\u001b[0;34m,\u001b[0m \u001b[0;34m-\u001b[0m\u001b[0;36m400\u001b[0m\u001b[0;34m,\u001b[0m \u001b[0;36m10\u001b[0m\u001b[0;34m)\u001b[0m\u001b[0;34m\u001b[0m\u001b[0m\n\u001b[0m",
      "\u001b[0;32m<ipython-input-19-5868a2a99704>\u001b[0m in \u001b[0;36mcalc_nliw_params\u001b[0;34m(h5file, zmin, dz)\u001b[0m\n\u001b[1;32m     23\u001b[0m             \u001b[0mN2\u001b[0m \u001b[0;34m=\u001b[0m \u001b[0;34m-\u001b[0m\u001b[0;36m9.81\u001b[0m\u001b[0;34m/\u001b[0m\u001b[0;36m1000\u001b[0m\u001b[0;34m*\u001b[0m\u001b[0mnp\u001b[0m\u001b[0;34m.\u001b[0m\u001b[0mgradient\u001b[0m\u001b[0;34m(\u001b[0m\u001b[0mrhotmp\u001b[0m\u001b[0;34m,\u001b[0m\u001b[0;34m-\u001b[0m\u001b[0mdz\u001b[0m\u001b[0;34m)\u001b[0m\u001b[0;34m\u001b[0m\u001b[0m\n\u001b[1;32m     24\u001b[0m \u001b[0;34m\u001b[0m\u001b[0m\n\u001b[0;32m---> 25\u001b[0;31m             \u001b[0mphi\u001b[0m\u001b[0;34m,\u001b[0m\u001b[0mcn\u001b[0m \u001b[0;34m=\u001b[0m \u001b[0misw\u001b[0m\u001b[0;34m.\u001b[0m\u001b[0miwave_modes\u001b[0m\u001b[0;34m(\u001b[0m\u001b[0mN2\u001b[0m\u001b[0;34m,\u001b[0m \u001b[0mdz\u001b[0m\u001b[0;34m)\u001b[0m\u001b[0;34m\u001b[0m\u001b[0m\n\u001b[0m\u001b[1;32m     26\u001b[0m \u001b[0;34m\u001b[0m\u001b[0m\n\u001b[1;32m     27\u001b[0m             \u001b[0mphi_1\u001b[0m \u001b[0;34m=\u001b[0m \u001b[0mphi\u001b[0m\u001b[0;34m[\u001b[0m\u001b[0;34m:\u001b[0m\u001b[0;34m,\u001b[0m\u001b[0mmode\u001b[0m\u001b[0;34m]\u001b[0m\u001b[0;34m\u001b[0m\u001b[0m\n",
      "\u001b[0;32m~/code/iwaves/iwaves/utils/isw.py\u001b[0m in \u001b[0;36miwave_modes\u001b[0;34m(N2, dz, k)\u001b[0m\n\u001b[1;32m    729\u001b[0m     \u001b[0;31m# Construct the LHS matrix, A\u001b[0m\u001b[0;34m\u001b[0m\u001b[0;34m\u001b[0m\u001b[0m\n\u001b[1;32m    730\u001b[0m     \u001b[0mA\u001b[0m \u001b[0;34m=\u001b[0m \u001b[0mnp\u001b[0m\u001b[0;34m.\u001b[0m\u001b[0mdiag\u001b[0m\u001b[0;34m(\u001b[0m\u001b[0;34m-\u001b[0m\u001b[0;36m1\u001b[0m\u001b[0;34m*\u001b[0m\u001b[0mdz2\u001b[0m\u001b[0;34m*\u001b[0m\u001b[0mnp\u001b[0m\u001b[0;34m.\u001b[0m\u001b[0mones\u001b[0m\u001b[0;34m(\u001b[0m\u001b[0;34m(\u001b[0m\u001b[0mnz\u001b[0m\u001b[0;34m-\u001b[0m\u001b[0;36m1\u001b[0m\u001b[0;34m)\u001b[0m\u001b[0;34m)\u001b[0m\u001b[0;34m,\u001b[0m\u001b[0;34m-\u001b[0m\u001b[0;36m1\u001b[0m\u001b[0;34m)\u001b[0m \u001b[0;34m+\u001b[0m\u001b[0;31m \u001b[0m\u001b[0;31m\\\u001b[0m\u001b[0;34m\u001b[0m\u001b[0m\n\u001b[0;32m--> 731\u001b[0;31m         \u001b[0mnp\u001b[0m\u001b[0;34m.\u001b[0m\u001b[0mdiag\u001b[0m\u001b[0;34m(\u001b[0m\u001b[0;36m2\u001b[0m\u001b[0;34m*\u001b[0m\u001b[0mdz2\u001b[0m\u001b[0;34m*\u001b[0m\u001b[0mnp\u001b[0m\u001b[0;34m.\u001b[0m\u001b[0mones\u001b[0m\u001b[0;34m(\u001b[0m\u001b[0;34m(\u001b[0m\u001b[0mnz\u001b[0m\u001b[0;34m,\u001b[0m\u001b[0;34m)\u001b[0m\u001b[0;34m)\u001b[0m\u001b[0;34m,\u001b[0m\u001b[0;36m0\u001b[0m\u001b[0;34m)\u001b[0m \u001b[0;34m+\u001b[0m\u001b[0;31m \u001b[0m\u001b[0;31m\\\u001b[0m\u001b[0;34m\u001b[0m\u001b[0m\n\u001b[0m\u001b[1;32m    732\u001b[0m         \u001b[0mnp\u001b[0m\u001b[0;34m.\u001b[0m\u001b[0mdiag\u001b[0m\u001b[0;34m(\u001b[0m\u001b[0;34m-\u001b[0m\u001b[0;36m1\u001b[0m\u001b[0;34m*\u001b[0m\u001b[0mdz2\u001b[0m\u001b[0;34m*\u001b[0m\u001b[0mnp\u001b[0m\u001b[0;34m.\u001b[0m\u001b[0mones\u001b[0m\u001b[0;34m(\u001b[0m\u001b[0;34m(\u001b[0m\u001b[0mnz\u001b[0m\u001b[0;34m-\u001b[0m\u001b[0;36m1\u001b[0m\u001b[0;34m)\u001b[0m\u001b[0;34m)\u001b[0m\u001b[0;34m,\u001b[0m\u001b[0;36m1\u001b[0m\u001b[0;34m)\u001b[0m\u001b[0;34m\u001b[0m\u001b[0m\n\u001b[1;32m    733\u001b[0m \u001b[0;34m\u001b[0m\u001b[0m\n",
      "\u001b[0;31mKeyboardInterrupt\u001b[0m: "
     ]
    }
   ],
   "source": [
    "calc_nliw_params(datafile1, -400, 10)"
   ]
  },
  {
   "cell_type": "code",
   "execution_count": null,
   "metadata": {},
   "outputs": [],
   "source": []
  }
 ],
 "metadata": {
  "kernelspec": {
   "display_name": "Python 3",
   "language": "python",
   "name": "python3"
  },
  "language_info": {
   "codemirror_mode": {
    "name": "ipython",
    "version": 3
   },
   "file_extension": ".py",
   "mimetype": "text/x-python",
   "name": "python",
   "nbconvert_exporter": "python",
   "pygments_lexer": "ipython3",
   "version": "3.6.6"
  }
 },
 "nbformat": 4,
 "nbformat_minor": 2
}
