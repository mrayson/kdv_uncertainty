{
 "cells": [
  {
   "cell_type": "markdown",
   "metadata": {},
   "source": [
    "# KdV Uncertainty output\n",
    "\n",
    "## Plots\n",
    "\n",
    "Produce the following plots:\n",
    " - Example a0 and density profiles for one time step\n",
    " - Example of a time-series all A(t) for 1, 10, 500 runs\n",
    " - Timeseries of 'max_amplitude' all runs\n",
    " - Timeseries of normalized 'max_amplitude' all runs\n",
    " \n",
    "---\n",
    "Other plots for the paper/talks:\n",
    " - *Example of scenario A(x,t)* requires running a simulation..."
   ]
  },
  {
   "cell_type": "code",
   "execution_count": 17,
   "metadata": {},
   "outputs": [],
   "source": [
    "import h5py\n",
    "from glob import glob\n",
    "import numpy as np\n",
    "from datetime import datetime\n",
    "\n",
    "import pandas as pd\n",
    "import xarray as xr\n",
    "\n",
    "from dask import array as da\n",
    "from dask import delayed\n",
    "\n",
    "from iwaves.utils import isw\n",
    "\n",
    "import matplotlib.pyplot as plt\n",
    "from tqdm import tqdm # progress bar\n",
    "\n",
    "plt.rcParams.update({'font.size': 18})\n",
    "\n",
    "%matplotlib inline"
   ]
  },
  {
   "cell_type": "markdown",
   "metadata": {},
   "source": [
    "# Test loading some data\n",
    "\n",
    "Data are stored in individual hdf5 files for each step (1473) and each sample (500)"
   ]
  },
  {
   "cell_type": "code",
   "execution_count": 18,
   "metadata": {},
   "outputs": [
    {
     "data": {
      "text/plain": [
       "'../../kdv_solutions_azure/shiny_dashboard/data/timepoint-1/2018-07-24--13-00-34_slim-output.h5'"
      ]
     },
     "execution_count": 18,
     "metadata": {},
     "output_type": "execute_result"
    }
   ],
   "source": [
    "#sorted(glob(\"../../shiny_dashboard/data/timepoint-1/all_amplitudes/*.h5\"))\n",
    "\n",
    "def get_file_name(timepoint, sample):\n",
    "    return \"../../kdv_solutions_azure/shiny_dashboard/data/timepoint-%d/all_amplitudes/2018-07-24--13-00-34_timepoint-%d_sample-%d_output.h5\"%(timepoint,timepoint,sample)\n",
    "\n",
    "def get_all_file(timepoint):\n",
    "    return sorted(glob(\"../../kdv_solutions_azure/shiny_dashboard/data/timepoint-%d/all_amplitudes/*.h5\"%(timepoint)))\n",
    "\n",
    "def get_summary_file(timepoint):\n",
    "    return sorted(glob(\"../../kdv_solutions_azure/shiny_dashboard/data/timepoint-%d/*.h5\"%(timepoint)))[0]\n",
    "#get_file_name(1,0)\n",
    "#get_all_file(1)\n",
    "get_summary_file(1)"
   ]
  },
  {
   "cell_type": "code",
   "execution_count": 19,
   "metadata": {},
   "outputs": [
    {
     "data": {
      "text/plain": [
       "['a0_samples', 'beta_samples', 'max_amplitude', 'timepoint']"
      ]
     },
     "execution_count": 19,
     "metadata": {},
     "output_type": "execute_result"
    }
   ],
   "source": [
    "h5 = h5py.File(get_summary_file(1),'r')\n",
    "list(h5.keys())"
   ]
  },
  {
   "cell_type": "code",
   "execution_count": 20,
   "metadata": {},
   "outputs": [
    {
     "data": {
      "text/plain": [
       "(500,)"
      ]
     },
     "execution_count": 20,
     "metadata": {},
     "output_type": "execute_result"
    }
   ],
   "source": [
    "h5['a0_samples'][:].shape"
   ]
  },
  {
   "cell_type": "code",
   "execution_count": 21,
   "metadata": {},
   "outputs": [
    {
     "data": {
      "text/plain": [
       "(6, 500)"
      ]
     },
     "execution_count": 21,
     "metadata": {},
     "output_type": "execute_result"
    }
   ],
   "source": [
    "h5['beta_samples'][:].shape"
   ]
  },
  {
   "cell_type": "code",
   "execution_count": 22,
   "metadata": {},
   "outputs": [
    {
     "data": {
      "text/plain": [
       "(500,)"
      ]
     },
     "execution_count": 22,
     "metadata": {},
     "output_type": "execute_result"
    }
   ],
   "source": [
    "h5['max_amplitude'].value.shape"
   ]
  },
  {
   "cell_type": "code",
   "execution_count": 23,
   "metadata": {},
   "outputs": [],
   "source": [
    "#h5['amplitudes'].shape"
   ]
  },
  {
   "cell_type": "markdown",
   "metadata": {},
   "source": [
    "# Data loading tools"
   ]
  },
  {
   "cell_type": "code",
   "execution_count": 24,
   "metadata": {},
   "outputs": [
    {
     "data": {
      "text/plain": [
       "160"
      ]
     },
     "execution_count": 24,
     "metadata": {},
     "output_type": "execute_result"
    }
   ],
   "source": [
    "#@delayed(nout=1)\n",
    "def load_h5_step_old(varname, timepoint):\n",
    "    nsamples = 500\n",
    "\n",
    "    a0 = []\n",
    "    for ii in range(nsamples):\n",
    "        try:\n",
    "            h5 = h5py.File(get_file_name(timepoint,ii),'r')\n",
    "            a0.append(da.from_array( h5[varname].value, chunks=-1))\n",
    "            h5.close()\n",
    "        except:\n",
    "            continue\n",
    "            #print('Failed to load sample %d...'%ii)\n",
    "    \n",
    "    if len(a0) == 0:\n",
    "        print('No files found for step %d'%timepoint)\n",
    "    a0_da = da.stack(a0)\n",
    "\n",
    "    return a0_da\n",
    "\n",
    "def load_h5_step(varname, timepoint):\n",
    "    files = get_all_file(timepoint)\n",
    "    nsamples = len(files)\n",
    "\n",
    "    a0 = []\n",
    "    for ii in range(nsamples):\n",
    "        h5 = h5py.File(files[ii],'r')\n",
    "        a0.append(da.from_array( h5[varname].value, chunks=-1))\n",
    "        h5.close()\n",
    "\n",
    "    a0_da = da.stack(a0)\n",
    "\n",
    "    return a0_da\n",
    "\n",
    "@delayed(nout=1)\n",
    "def load_h5_alltime(varname, maxpoints):\n",
    "\n",
    "    a0 = []\n",
    "    for ii in range(maxpoints):\n",
    "        a0_da = load_h5_step(varname, ii)\n",
    "        a0.append(a0_da)\n",
    "        \n",
    "    #a0_t = da.stack(a0, axis=0)\n",
    "    \n",
    "    return a0\n",
    "\n",
    "def return_a0_beta(timestep, ensemble):\n",
    "    h5 = h5py.File(get_summary_file(timestep),'r')\n",
    "    a0 = h5['a0_samples'][ensemble]\n",
    "    beta = h5['beta_samples'][:,ensemble]\n",
    "    h5.close()\n",
    "    \n",
    "    return a0, beta\n",
    "\n",
    "def return_max_ensemble(timestep):\n",
    "    h5 = h5py.File(get_summary_file(timestep),'r')\n",
    "    a0 = h5['max_amplitude'][:]\n",
    "    h5.close()\n",
    "    \n",
    "    return np.argwhere(np.abs(a0) == np.abs(a0).max())[0,0]\n",
    "#amp, beta, a0 = load_h5_step(1)\n",
    "\n",
    "return_max_ensemble(1)"
   ]
  },
  {
   "cell_type": "code",
   "execution_count": 25,
   "metadata": {},
   "outputs": [],
   "source": [
    "tstep = 50\n",
    "a0 = load_h5_step('a0_sample', tstep).compute()\n",
    "beta = load_h5_step('beta_samples', tstep).compute()\n",
    "amax = load_h5_step('max_amplitude', tstep).compute()\n",
    "\n",
    "#a0 = load_h5_alltime('beta_samples',10)\n",
    "#a0 = a0.compute()\n",
    "#beta = beta.compute()"
   ]
  },
  {
   "cell_type": "markdown",
   "metadata": {},
   "source": [
    "# Load the raw csv data"
   ]
  },
  {
   "cell_type": "code",
   "execution_count": 26,
   "metadata": {},
   "outputs": [],
   "source": [
    "def convert_time(tt):\n",
    "    try:\n",
    "        dt= datetime.strptime(tt, '%Y-%m-%dT%H:%M:%S')\n",
    "    except:\n",
    "        dt= datetime.strptime(tt, '%Y-%m-%d %H:%M')\n",
    "    return dt\n",
    "\n",
    "def read_density_csv(csvfile):\n",
    "    # Reads into a dataframe object\n",
    "    df = pd.read_csv(csvfile, index_col=0, sep=', ', parse_dates=['Time'], date_parser=convert_time)\n",
    "\n",
    "    # Load the csv data\n",
    "    depths= np.array([float(ii) for ii in df.columns.values])\n",
    "    rho_obs_tmp = df[:].values.astype(float)\n",
    "    time = df.index[:]\n",
    "\n",
    "    # Clip the top\n",
    "    rho_obs_2d = rho_obs_tmp[:,:]\n",
    "\n",
    "    # Remove some nan\n",
    "    fill_value = 1024.\n",
    "    rho_obs_2d[np.isnan(rho_obs_2d)] = fill_value\n",
    "    \n",
    "    return xr.DataArray(rho_obs_2d,dims=('time', 'depth'),\n",
    "            coords={'time':time.values,'depth':depths})\n",
    "\n"
   ]
  },
  {
   "cell_type": "code",
   "execution_count": 27,
   "metadata": {},
   "outputs": [
    {
     "name": "stderr",
     "output_type": "stream",
     "text": [
      "/home/suntans/.conda/envs/soda/lib/python3.6/site-packages/ipykernel_launcher.py:10: ParserWarning: Falling back to the 'python' engine because the 'c' engine does not support regex separators (separators > 1 char and different from '\\s+' are interpreted as regex); you can avoid this warning by specifying engine='python'.\n",
      "  # Remove the CWD from sys.path while we load stuff.\n"
     ]
    },
    {
     "data": {
      "text/plain": [
       "<xarray.DataArray (time: 1481, depth: 12)>\n",
       "array([[1026.1856, 1025.8925, 1025.7143, ..., 1021.5415,       nan, 1021.0069],\n",
       "       [1026.1849, 1025.8863, 1025.7151, ..., 1021.3722,       nan, 1021.0062],\n",
       "       [1026.1869, 1025.8835, 1025.7203, ..., 1021.2284,       nan, 1021.0056],\n",
       "       ...,\n",
       "       [1026.0198, 1025.7399, 1025.5525, ..., 1021.5754, 1021.5571, 1021.5513],\n",
       "       [1026.0087, 1025.7564, 1025.5539, ..., 1021.5695, 1021.5503, 1021.544 ],\n",
       "       [1026.017 , 1025.7993, 1025.583 , ..., 1021.6404, 1021.6203, 1021.6138]])\n",
       "Coordinates:\n",
       "  * depth    (depth) float64 -250.5 -227.8 -203.6 -179.4 -155.2 -131.0 ...\n",
       "  * time     (time) datetime64[ns] 2016-04-29T23:15:00 2016-04-30T05:15:00 ..."
      ]
     },
     "execution_count": 27,
     "metadata": {},
     "output_type": "execute_result"
    }
   ],
   "source": [
    "datadir = '../../run_ddcurves/'\n",
    "datafile1 = '%s/DATA_QC/Crux_KP150_Phs1_Density_lowpass'%datadir\n",
    "datafile2 = '%s/DATA_QC/Crux_KP150_Phs2_Density_lowpass'%datadir\n",
    "sitename = 'CRUX'\n",
    "\n",
    "rho1 = read_density_csv('%s.csv'%datafile1)\n",
    "rho2 = read_density_csv('%s.csv'%datafile2)\n",
    "\n",
    "rho = xr.concat([rho1,rho2], dim='time')\n",
    "rho"
   ]
  },
  {
   "cell_type": "markdown",
   "metadata": {},
   "source": [
    "# Plot of some initial conditions for one scenario"
   ]
  },
  {
   "cell_type": "code",
   "execution_count": 28,
   "metadata": {},
   "outputs": [],
   "source": [
    "def double_tanh(beta, z):\n",
    "    \n",
    "    return beta[0] - beta[1]*(np.tanh((z+beta[2])/beta[3])\n",
    "                + np.tanh((z+beta[4])/beta[5]))"
   ]
  },
  {
   "cell_type": "code",
   "execution_count": 29,
   "metadata": {},
   "outputs": [],
   "source": [
    "# Depth\n",
    "zmin = -250\n",
    "zout = np.linspace(zmin,0,100)"
   ]
  },
  {
   "cell_type": "code",
   "execution_count": 30,
   "metadata": {},
   "outputs": [
    {
     "data": {
      "text/plain": [
       "Text(0,0.5,'Count')"
      ]
     },
     "execution_count": 30,
     "metadata": {},
     "output_type": "execute_result"
    },
    {
     "data": {
      "image/png": "[encoded data removed]",
      "text/plain": [
       "<matplotlib.figure.Figure at 0x7f30d430f7b8>"
      ]
     },
     "metadata": {},
     "output_type": "display_data"
    }
   ],
   "source": [
    "plt.figure()\n",
    "plt.hist(a0,bins=25, color='0.5', edgecolor='k')\n",
    "plt.xlabel('$a_0$ [m]')\n",
    "plt.ylabel('Count')"
   ]
  },
  {
   "cell_type": "code",
   "execution_count": 31,
   "metadata": {
    "scrolled": true
   },
   "outputs": [
    {
     "data": {
      "text/plain": [
       "Text(0.5,0,'$\\\\rho$ [kg m$^{-3}$]')"
      ]
     },
     "execution_count": 31,
     "metadata": {},
     "output_type": "execute_result"
    },
    {
     "data": {
      "image/png": "[encoded data removed]",
      "text/plain": [
       "<matplotlib.figure.Figure at 0x7f30d41131d0>"
      ]
     },
     "metadata": {},
     "output_type": "display_data"
    }
   ],
   "source": [
    "# Plot the density profile\n",
    "plt.figure(figsize=(5,6))\n",
    "nsamples = 500\n",
    "for rand_loc in range(0, nsamples):\n",
    "    rhotmp = double_tanh(beta[rand_loc,:], zout)\n",
    "    plt.plot(rhotmp, zout, '0.5', lw=1, alpha=0.02)\n",
    "    \n",
    "#plt.plot(rhomean*RHO0, zout, 'k--',) # Mean fit\n",
    "\n",
    "plt.grid(b=True)\n",
    "plt.ylim(zmin,0 )\n",
    "plt.ylabel('Depth [m]')\n",
    "plt.xlabel(r'$\\rho$ [kg m$^{-3}$]')\n",
    "#plt.title(rho.time.values[tstep])"
   ]
  },
  {
   "cell_type": "code",
   "execution_count": 32,
   "metadata": {},
   "outputs": [],
   "source": [
    "# Calculate alpha, cn for a time step\n",
    "\n",
    "def calc_alpha(beta, zout, nsamples=500, mode=0):\n",
    "    \n",
    "    alpha_ens = np.zeros((nsamples,))\n",
    "    c_ens = np.zeros((nsamples,))\n",
    "\n",
    "    dz = np.diff(zout).mean()\n",
    "    \n",
    "    for ii in range(nsamples):\n",
    "        rhotmp = double_tanh(beta[ii,:], zout)\n",
    "\n",
    "        N2 = -9.81/1000*np.gradient(rhotmp,dz)\n",
    "\n",
    "        phi,cn = isw.iwave_modes(N2, dz)\n",
    "\n",
    "        phi_1 = phi[:,mode]\n",
    "        phi_1 =phi_1 / np.abs(phi_1).max()\n",
    "        phi_1 *= np.sign(phi_1.sum())\n",
    "\n",
    "        alpha = isw.calc_alpha(phi_1, cn[mode],N2,dz)\n",
    "\n",
    "        alpha_ens[ii] = alpha\n",
    "        c_ens[ii] = cn[mode]\n",
    "        \n",
    "    return alpha_ens, c_ens"
   ]
  },
  {
   "cell_type": "code",
   "execution_count": 33,
   "metadata": {},
   "outputs": [
    {
     "data": {
      "text/plain": [
       "array([8.96290059e+05, 1.54378421e+06, 8.99008465e+05, 1.12754898e+06,\n",
       "       7.67136397e+05, 7.42364553e+05, 3.40727120e+05, 4.74805051e+05,\n",
       "       3.50910717e+05, 3.07785526e+05, 8.04543001e+06, 2.87049576e+06,\n",
       "       7.72525351e+05, 4.33914299e+05, 6.05574113e+05, 8.48597719e+05,\n",
       "       6.40095592e+05, 7.25511170e+05, 5.09785886e+05, 4.76927111e+05,\n",
       "       4.33452585e+05, 9.18104527e+05, 7.04851082e+05, 4.94513867e+05,\n",
       "       5.82960466e+05, 8.40990706e+05, 1.01493416e+06, 6.15014984e+05,\n",
       "       7.88900144e+05, 6.61348824e+05, 6.76210174e+05, 6.91888358e+05,\n",
       "       7.65918247e+05, 1.00272733e+06, 8.62221444e+05, 6.45219431e+05,\n",
       "       1.50698156e+06, 3.84611693e+05, 5.49671584e+05, 3.81926454e+05,\n",
       "       8.86719307e+05, 6.64061230e+05, 8.02047059e+05, 5.52596483e+05,\n",
       "       4.53160993e+05, 8.51053218e+05, 6.63875130e+05, 6.77067544e+05,\n",
       "       5.78814405e+05, 4.98149132e+05, 6.65014762e+05, 2.95020355e+06,\n",
       "       2.76737575e+05, 9.78336243e+05, 4.73632256e+05, 1.26129686e+06,\n",
       "       1.14266332e+09, 5.25188989e+05, 5.94297398e+05, 9.86777058e+05,\n",
       "       5.82988340e+05, 1.53725884e+06, 7.11581059e+05, 8.84050853e+05,\n",
       "       4.33303829e+05, 1.69973214e+06, 4.27244978e+05, 1.06108798e+06,\n",
       "       1.15091189e+06, 1.15155958e+06, 7.24498661e+05, 1.67436665e+06,\n",
       "       2.11832876e+06, 5.52582457e+05, 6.60753421e+05, 4.56337050e+05,\n",
       "       3.11326003e+05, 7.69201378e+05, 6.13348583e+05, 8.90849632e+05,\n",
       "       6.37433634e+05, 1.08187401e+06, 6.03995274e+05, 5.89154648e+05,\n",
       "       1.39923259e+06, 4.24604475e+05, 1.39110981e+06, 3.45034101e+05,\n",
       "       3.69191269e+05, 2.56306833e+05, 2.46199129e+06, 1.28852062e+06,\n",
       "       8.46903705e+05, 5.22193803e+05, 2.32467078e+05, 6.84501924e+05,\n",
       "       1.16290512e+06, 5.95810789e+05, 8.67832076e+05, 1.74591284e+06,\n",
       "       7.13788975e+05, 1.27980929e+06, 6.88640935e+06, 6.06666699e+05,\n",
       "       9.60124739e+05, 5.58220769e+05, 3.80915213e+05, 5.39005147e+05,\n",
       "       4.33607653e+05, 5.78778064e+05, 6.58990847e+05, 5.46188414e+05,\n",
       "       4.06446386e+05, 4.11309857e+05, 5.86069529e+05, 2.55995043e+05,\n",
       "       6.66280239e+05, 7.82682287e+05, 6.82210429e+05, 3.35616867e+05,\n",
       "       7.56675164e+05, 3.19332407e+05, 9.91892823e+05, 1.31417324e+06,\n",
       "       9.18684752e+05, 5.87048860e+05, 5.28412551e+05, 5.04841667e+05,\n",
       "       6.40343202e+05, 2.91263912e+05, 1.07843808e+06, 4.47817284e+05,\n",
       "       3.37722561e+05, 3.45505830e+05, 5.42826710e+05, 6.87155382e+05,\n",
       "       1.94953858e+06, 5.36184422e+05, 4.82523002e+05, 3.67843887e+05,\n",
       "       7.77191270e+05, 5.86866832e+05, 6.50563478e+05, 1.73330658e+06,\n",
       "       1.08192227e+07, 1.27240183e+06, 4.12855789e+05, 2.84275334e+05,\n",
       "       6.84730023e+05, 4.64846969e+05, 3.53912999e+05, 1.34573004e+06,\n",
       "       6.54736280e+05, 4.76001796e+05, 1.39144744e+06, 6.27769031e+05,\n",
       "       5.41399545e+05, 7.63597864e+05, 5.62698059e+05, 5.30397059e+06,\n",
       "       6.06872746e+05, 9.46609252e+05, 7.89269760e+05, 4.50690322e+05,\n",
       "       5.43889325e+05, 1.18143867e+06, 4.35086544e+05, 1.19172136e+06,\n",
       "       3.33897653e+05, 5.77661287e+06, 1.15910645e+06, 4.18495362e+05,\n",
       "       6.08866511e+05, 4.17533506e+05, 6.15963074e+05, 3.93081257e+06,\n",
       "       5.54401809e+05, 8.85339791e+05, 9.11244897e+05, 8.88495066e+05,\n",
       "       5.80628038e+05, 3.52257510e+05, 1.85769900e+06, 7.92639910e+05,\n",
       "       7.12836175e+05, 8.77433581e+05, 6.98175083e+05, 4.66059469e+05,\n",
       "       4.23662695e+06, 1.01650320e+06, 3.55196396e+06, 4.09806497e+05,\n",
       "       7.45620374e+05, 3.25096587e+05, 8.93744757e+05, 1.71559210e+06,\n",
       "       2.11772979e+06, 3.10895950e+05, 6.92668031e+05, 3.82123781e+05,\n",
       "       5.88651455e+05, 7.88871423e+05, 7.37263949e+05, 4.32562366e+05,\n",
       "       7.25319290e+05, 6.98774863e+05, 5.12945130e+05, 9.79131458e+05,\n",
       "       5.16574554e+05, 7.70370048e+05, 8.21023813e+05, 6.47766281e+05,\n",
       "       1.00291826e+06, 4.50873801e+05, 2.85930823e+06, 5.92510027e+05,\n",
       "       5.87560784e+05, 8.27335075e+05, 4.21643707e+05, 1.03530663e+06,\n",
       "       3.98187192e+05, 7.41294283e+05, 2.56529927e+05, 4.06260880e+05,\n",
       "       8.15610905e+05, 8.74375516e+05, 9.22809630e+05, 3.46702540e+05,\n",
       "       6.74991664e+05, 3.62890058e+05, 5.05326614e+05, 4.37292288e+05,\n",
       "       3.23673105e+05, 5.55894080e+05, 6.08418962e+05, 4.04535152e+05,\n",
       "       4.05971380e+05, 6.99836500e+05, 6.72256242e+05, 8.85317218e+05,\n",
       "       5.09626841e+05, 2.90447810e+05, 4.96379554e+05, 7.49435640e+05,\n",
       "       7.56604000e+05, 5.47035723e+05, 5.76455983e+05, 6.51321913e+05,\n",
       "       2.90189418e+05, 7.95396193e+05, 4.44749738e+05, 6.83892004e+05,\n",
       "       1.30894675e+06, 7.09150749e+05, 9.56032710e+05, 5.87355114e+05,\n",
       "       4.93956446e+05, 6.95076701e+05, 4.49167742e+05, 9.89201634e+05,\n",
       "       5.56723529e+05, 3.29040822e+05, 7.20527908e+05, 4.01957979e+05,\n",
       "       3.82279678e+05, 1.08212764e+06, 1.26868306e+06, 3.62209502e+05,\n",
       "       4.11119609e+05, 1.31887316e+06, 1.59487415e+06, 2.90888883e+05,\n",
       "       2.82122303e+06, 1.14047844e+06, 4.84928364e+05, 6.76659752e+05,\n",
       "       8.92879824e+05, 4.92985800e+05, 4.81841626e+05, 5.06207626e+05,\n",
       "       5.41076115e+05, 3.96755170e+05, 2.69299075e+06, 4.56185106e+05,\n",
       "       5.39138308e+05, 5.17395968e+05, 7.07930465e+05, 5.64348707e+05,\n",
       "       4.75483030e+05, 7.00798771e+05, 2.17681147e+06, 1.34364755e+06,\n",
       "       6.99963259e+05, 1.17033939e+06, 6.03414603e+05, 5.34464796e+05,\n",
       "       5.62878577e+05, 2.71760136e+05, 2.64410511e+06, 3.39112688e+05,\n",
       "       4.44097936e+05, 5.45489134e+05, 6.49159612e+05, 9.90698571e+05,\n",
       "       1.03262410e+06, 6.72410358e+05, 4.48056067e+05, 5.04175537e+05,\n",
       "       7.33695747e+05, 4.65565036e+05, 5.47460405e+05, 1.48679263e+06,\n",
       "       9.37811872e+05, 1.41781874e+06, 4.72142619e+05, 7.00334233e+05,\n",
       "       2.70940250e+05, 1.19693906e+07, 6.53348701e+05, 9.16770795e+05,\n",
       "       1.01462971e+06, 3.07767046e+05, 6.98219731e+05, 1.07405903e+06,\n",
       "       7.37405298e+05, 1.16989987e+06, 3.87389689e+05, 3.32750017e+05,\n",
       "       4.58948442e+05, 1.30346949e+06, 1.06534355e+06, 4.29699800e+05,\n",
       "       2.78424457e+05, 1.04036649e+06, 8.58623557e+05, 5.20532434e+05,\n",
       "       1.98779625e+06, 4.98028718e+05, 9.40765886e+05, 1.02851129e+06,\n",
       "       1.71077955e+06, 3.42378660e+05, 6.07261355e+05, 5.57658866e+05,\n",
       "       6.90023215e+05, 4.99141150e+05, 5.20550190e+05, 4.68891624e+06,\n",
       "       3.79673050e+05, 9.12286946e+05, 4.58598902e+05, 4.79424641e+05,\n",
       "       3.68788398e+05, 3.63845161e+05, 8.11893636e+05, 3.78161199e+05,\n",
       "       4.93964972e+05, 5.21757599e+05, 5.92287682e+05, 1.12638468e+06,\n",
       "       1.62713528e+06, 1.94135370e+06, 6.13051345e+05, 1.61216080e+06,\n",
       "       1.71480094e+06, 4.22984753e+05, 7.80070889e+05, 8.45618260e+05,\n",
       "       5.54182435e+05, 8.90710312e+05, 1.18994308e+06, 3.44317414e+05,\n",
       "       9.56217185e+05, 5.69527176e+05, 6.86002150e+05, 3.53835479e+05,\n",
       "       3.77636346e+05, 1.13618029e+06, 6.60615143e+05, 4.84026880e+05,\n",
       "       4.98735634e+05, 5.14690708e+05, 8.25460628e+05, 3.62940683e+05,\n",
       "       5.49048320e+05, 7.10347070e+05, 4.82006744e+05, 1.52675814e+06,\n",
       "       1.07214320e+06, 3.93099389e+05, 7.93119015e+05, 1.76425091e+06,\n",
       "       2.94074016e+06, 3.98474505e+05, 6.40880618e+05, 6.21273081e+05,\n",
       "       6.55390520e+05, 1.17524613e+06, 5.10644300e+05, 4.31416135e+05,\n",
       "       4.21610050e+05, 2.12570186e+06, 6.07892340e+05, 1.31344631e+06,\n",
       "       9.94883440e+05, 6.19588163e+05, 2.15629790e+06, 8.98335779e+05,\n",
       "       9.21382710e+05, 2.84536089e+05, 1.03710816e+06, 1.12619228e+06,\n",
       "       8.16742875e+05, 7.26004434e+05, 8.34246320e+05, 1.55773400e+06,\n",
       "       9.74602080e+05, 3.44164718e+05, 3.18486257e+05, 1.79831286e+06,\n",
       "       4.86088983e+05, 5.87834911e+05, 1.55757154e+06, 5.26358758e+05,\n",
       "       6.94362411e+05, 1.17043145e+06, 9.54314491e+05, 8.78627312e+05,\n",
       "       6.42990311e+05, 4.35507787e+06, 3.40675896e+05, 3.01507643e+05,\n",
       "       2.28719180e+05, 6.09236796e+05, 1.02587135e+06, 3.69441630e+06,\n",
       "       5.82731091e+05, 8.20189488e+05, 3.99528971e+05, 5.51854499e+05,\n",
       "       1.30080848e+06, 1.49782116e+06, 6.15926286e+05, 1.01603694e+06,\n",
       "       6.29580241e+05, 9.38766565e+06, 4.73297204e+06, 7.29757118e+05,\n",
       "       9.31544268e+05, 9.77277012e+05, 6.77624481e+05, 3.24439775e+05,\n",
       "       3.80144929e+05, 2.53277997e+06, 5.29390491e+07, 8.52150300e+05,\n",
       "       5.52999980e+05, 8.60116665e+06, 6.75977999e+05, 6.01384240e+05,\n",
       "       4.66355282e+05, 6.80552402e+05, 9.38276952e+05, 4.98211831e+05,\n",
       "       2.36893968e+05, 3.84495030e+05, 8.17845087e+05, 6.60994219e+05,\n",
       "       5.40176594e+05, 4.96081103e+05, 8.56186976e+05, 3.79963970e+05,\n",
       "       5.36778497e+05, 2.63897262e+05, 2.00565960e+05, 5.28953310e+05,\n",
       "       5.45934932e+05, 1.26765697e+06, 7.87754537e+05, 4.62459074e+05,\n",
       "       3.47998060e+06, 2.48714509e+06, 2.70082117e+05, 3.16596517e+06,\n",
       "       1.06179865e+06, 4.78237920e+05, 9.32273231e+05, 8.29152015e+05,\n",
       "       4.43429677e+05, 9.56593336e+05, 6.08145209e+05, 1.42424226e+06,\n",
       "       7.99856125e+05, 1.00063034e+06, 5.72609644e+05, 1.38907845e+06,\n",
       "       3.74476257e+05, 7.40633069e+05, 2.19137231e+06, 9.07985784e+05])"
      ]
     },
     "execution_count": 33,
     "metadata": {},
     "output_type": "execute_result"
    }
   ],
   "source": [
    "alpha, cn = calc_alpha(beta, zout)\n",
    "\n",
    "T = 12.42*3600.\n",
    "omega = 2*np.pi / T\n",
    "Ls = cn**2. / (np.abs(alpha)*a0*omega) \n",
    "Ls"
   ]
  },
  {
   "cell_type": "code",
   "execution_count": 34,
   "metadata": {},
   "outputs": [
    {
     "data": {
      "text/plain": [
       "Text(0.5,0,'$Ls$ [m]')"
      ]
     },
     "execution_count": 34,
     "metadata": {},
     "output_type": "execute_result"
    },
    {
     "data": {
      "image/png": "[encoded data removed]",
      "text/plain": [
       "<matplotlib.figure.Figure at 0x7f30d43125f8>"
      ]
     },
     "metadata": {},
     "output_type": "display_data"
    }
   ],
   "source": [
    "plt.figure()\n",
    "plt.subplot(131)\n",
    "plt.hist(alpha,bins=np.arange(-0.012,0.01205,0.0005), color='0.5', edgecolor='k')\n",
    "plt.xlabel(r'$\\alpha$ []')\n",
    "plt.ylabel('Count')\n",
    "\n",
    "plt.subplot(132)\n",
    "plt.hist(cn,bins=np.arange(0.9,1.3,0.005), color='0.5', edgecolor='k')\n",
    "plt.xlabel(r'$c$ [m s]')\n",
    "\n",
    "plt.subplot(133, xscale='log')\n",
    "plt.hist(Ls,bins=np.arange(10e3,1000000,10e3), color='0.5', edgecolor='k')\n",
    "plt.xlabel(r'$Ls$ [m]')\n",
    "#plt.ylabel('Count')"
   ]
  },
  {
   "cell_type": "code",
   "execution_count": 35,
   "metadata": {},
   "outputs": [
    {
     "data": {
      "text/plain": [
       "(-3.5, 3.5)"
      ]
     },
     "execution_count": 35,
     "metadata": {},
     "output_type": "execute_result"
    },
    {
     "data": {
      "image/png": "[encoded data removed]",
      "text/plain": [
       "<matplotlib.figure.Figure at 0x7f30d4abc080>"
      ]
     },
     "metadata": {},
     "output_type": "display_data"
    }
   ],
   "source": [
    "plt.figure()\n",
    "plt.subplot(121)\n",
    "plt.hist(amax,bins=np.arange(-100,105,5), color='0.5', edgecolor='k')\n",
    "plt.xlabel(r'$A_{max}$ [m]')\n",
    "plt.ylabel('Count')\n",
    "\n",
    "plt.subplot(122)\n",
    "plt.hist(amax/a0,bins=np.arange(-3.5,3.55,0.05), color='0.5', edgecolor='k')\n",
    "plt.xlabel(r'$A_{max}/a0$')\n",
    "plt.xlim(-3.5,3.5)\n"
   ]
  },
  {
   "cell_type": "code",
   "execution_count": 36,
   "metadata": {},
   "outputs": [
    {
     "data": {
      "text/plain": [
       "Text(0.5,0,'$L_s / L$')"
      ]
     },
     "execution_count": 36,
     "metadata": {},
     "output_type": "execute_result"
    },
    {
     "data": {
      "image/png": "[encoded data removed]",
      "text/plain": [
       "<matplotlib.figure.Figure at 0x7f30b17e0cf8>"
      ]
     },
     "metadata": {},
     "output_type": "display_data"
    }
   ],
   "source": [
    "L = 1e5 # Location of output point\n",
    "\n",
    "plt.semilogx(Ls/L, amax/a0, 'k.')\n",
    "plt.xlim(1e-1,10)\n",
    "plt.ylim(-4,4)\n",
    "plt.grid(b=True)\n",
    "\n",
    "plt.ylabel(r'$A_{max}/a0$')\n",
    "plt.xlabel('$L_s / L$')\n"
   ]
  },
  {
   "cell_type": "code",
   "execution_count": 37,
   "metadata": {},
   "outputs": [],
   "source": [
    "# Plot the amplitudes for all runs\n",
    "amp = load_h5_step('amplitudes', tstep).compute()# Amplitudes are stored from last to first\n",
    "\n",
    "dt = 20\n",
    "nt = amp.shape[1]\n",
    "time = np.arange(0,nt)*dt"
   ]
  },
  {
   "cell_type": "code",
   "execution_count": 38,
   "metadata": {},
   "outputs": [
    {
     "data": {
      "text/plain": [
       "Text(0.5,0,'time [cycles]')"
      ]
     },
     "execution_count": 38,
     "metadata": {},
     "output_type": "execute_result"
    },
    {
     "data": {
      "image/png": "[encoded data removed]",
      "text/plain": [
       "<matplotlib.figure.Figure at 0x7f30b168cf98>"
      ]
     },
     "metadata": {},
     "output_type": "display_data"
    }
   ],
   "source": [
    "plt.figure(figsize=(5,4))\n",
    "nsamples = 500\n",
    "for rand_loc in range(0, nsamples):\n",
    "    plt.plot(time/T, amp[rand_loc,:], '0.5', lw=0.5, alpha=0.05)\n",
    "    \n",
    "#plt.plot(rhomean*RHO0, zout, 'k--',) # Mean fit\n",
    "\n",
    "plt.grid(b=True)\n",
    "plt.ylim(-100,100 )\n",
    "plt.xlim(1.5,3)\n",
    "plt.ylabel('Amplitude [m]')\n",
    "plt.xlabel(r'time [cycles]')"
   ]
  },
  {
   "cell_type": "code",
   "execution_count": 39,
   "metadata": {},
   "outputs": [],
   "source": [
    "# Get amax/a0 for all steps\n",
    "nt = 1473\n",
    "nsamples = 500\n",
    "amax_t = np.zeros((nsamples,nt))\n",
    "a0_t = np.zeros((nsamples,nt))\n",
    "alpha_t = np.zeros((nsamples,nt))\n",
    "cn_t = np.zeros((nsamples,nt))\n",
    "beta_t = np.zeros((nt, nsamples,6))"
   ]
  },
  {
   "cell_type": "code",
   "execution_count": 48,
   "metadata": {},
   "outputs": [
    {
     "name": "stderr",
     "output_type": "stream",
     "text": [
      " 29%|██▉       | 433/1473 [1:17:14<3:05:30, 10.70s/it]"
     ]
    },
    {
     "name": "stdout",
     "output_type": "stream",
     "text": [
      "Only found 173 sample for step 433\n"
     ]
    },
    {
     "name": "stderr",
     "output_type": "stream",
     "text": [
      "100%|██████████| 1473/1473 [4:27:20<00:00, 10.89s/it]  "
     ]
    },
    {
     "name": "stdout",
     "output_type": "stream",
     "text": [
      "Timestep 1472 failed to load data\n"
     ]
    },
    {
     "name": "stderr",
     "output_type": "stream",
     "text": [
      "\n"
     ]
    }
   ],
   "source": [
    "for ii in tqdm(range(0,nt)):\n",
    "    try:\n",
    "        a0_tmp = load_h5_step('a0_sample', ii+1).compute()\n",
    "        amax_tmp = load_h5_step('max_amplitude', ii+1).compute()\n",
    "        beta_tmp = load_h5_step('beta_samples', ii+1).compute()\n",
    "\n",
    "        ns = a0_tmp.shape[0]\n",
    "        if ns < 500:\n",
    "            print('Only found %d sample for step %d'%(ns,ii))\n",
    "        alpha_tmp, c_tmp = calc_alpha(beta_tmp, zout, nsamples=ns, mode=0)    \n",
    "\n",
    "        a0_t[0:ns,ii] = a0_tmp\n",
    "        amax_t[0:ns,ii] = amax_tmp\n",
    "        alpha_t[0:ns,ii] = alpha_tmp\n",
    "        cn_t[0:ns,ii] = c_tmp\n",
    "\n",
    "        beta_t[ii,0:ns,:] = beta_tmp\n",
    "    except:\n",
    "        print('Timestep %d failed to load data'%(ii))\n",
    "\n",
    "\n",
    "\n",
    "\n",
    "    #    ngood = a0_tmp.shape[0]\n",
    "    #    \n",
    "    #    a0_t[0:ngood,ii] = a0_tmp\n",
    "    #    amax_t[0:ngood:,ii] = amax_tmp\n",
    "    #except:\n",
    "    #    print('Failed to load step %d...'%ii)"
   ]
  },
  {
   "cell_type": "code",
   "execution_count": 49,
   "metadata": {},
   "outputs": [
    {
     "data": {
      "text/plain": [
       "<xarray.Dataset>\n",
       "Dimensions:   (ensemble: 500, params: 6, time: 1473)\n",
       "Coordinates:\n",
       "  * time      (time) int64 0 1 2 3 4 5 6 7 8 9 10 11 12 13 14 15 16 17 18 19 ...\n",
       "  * ensemble  (ensemble) int64 0 1 2 3 4 5 6 7 8 9 10 11 12 13 14 15 16 17 ...\n",
       "  * params    (params) int64 0 1 2 3 4 5\n",
       "Data variables:\n",
       "    amax      (ensemble, time) float64 -5.948 -13.36 2.973 -16.09 6.721 ...\n",
       "    a0        (ensemble, time) float64 5.396 12.12 2.691 14.58 6.101 11.55 ...\n",
       "    cn        (ensemble, time) float64 1.283 1.28 1.282 1.263 1.271 1.275 ...\n",
       "    alpha     (ensemble, time) float64 0.006589 0.006453 0.007269 0.005735 ...\n",
       "    beta      (time, ensemble, params) float64 1.023e+03 1.267 60.8 24.98 ..."
      ]
     },
     "execution_count": 49,
     "metadata": {},
     "output_type": "execute_result"
    }
   ],
   "source": [
    "# Create an xray dataset with the output\n",
    "dims2 = ('ensemble','time')\n",
    "dims3 = ('time','ensemble','params')\n",
    "\n",
    "time = rho.time.values\n",
    "time = range(nt)\n",
    "coords2 = {'time':time, 'ensemble':range(nsamples)}\n",
    "coords3 = {'time':time, 'ensemble':range(nsamples), 'params':range(6)}\n",
    "           \n",
    "amax_da = xr.DataArray(amax_t,\n",
    "                coords=coords2,\n",
    "                dims=dims2,\n",
    "                attrs={'long_name':'', 'units':''},\n",
    "                )\n",
    "           \n",
    "a0_da = xr.DataArray(a0_t,\n",
    "    coords=coords2,\n",
    "    dims=dims2,\n",
    "    attrs={'long_name':'', 'units':''},\n",
    "    )\n",
    "\n",
    "cn_da = xr.DataArray(cn_t,\n",
    "    coords=coords2,\n",
    "    dims=dims2,\n",
    "    attrs={'long_name':'', 'units':''},\n",
    "    )\n",
    "\n",
    "alpha_da = xr.DataArray(alpha_t,\n",
    "    coords=coords2,\n",
    "    dims=dims2,\n",
    "    attrs={'long_name':'', 'units':''},\n",
    "    )\n",
    "\n",
    "beta_da = xr.DataArray(beta_t,\n",
    "    coords=coords3,\n",
    "    dims=dims3,\n",
    "    attrs={'long_name':'', 'units':''},\n",
    "    )\n",
    "\n",
    "dsout = xr.Dataset({'amax':amax_da, 'a0':a0_da, 'cn':cn_da, 'alpha':alpha_da, 'beta':beta_da})\n",
    "dsout"
   ]
  },
  {
   "cell_type": "code",
   "execution_count": 50,
   "metadata": {},
   "outputs": [],
   "source": [
    "dsout.to_netcdf('../../kdv_solutions_azure/kdv_all_ensembles.nc')"
   ]
  },
  {
   "cell_type": "code",
   "execution_count": null,
   "metadata": {
    "scrolled": true
   },
   "outputs": [],
   "source": [
    "A_t = amax_t/a0_t\n",
    "\n",
    "plt.plot(A_t.min(axis=0))"
   ]
  },
  {
   "cell_type": "code",
   "execution_count": null,
   "metadata": {},
   "outputs": [],
   "source": [
    "a0_tmp = load_h5_step('a0_sample', 50).compute()\n"
   ]
  },
  {
   "cell_type": "code",
   "execution_count": null,
   "metadata": {},
   "outputs": [],
   "source": []
  }
 ],
 "metadata": {
  "kernelspec": {
   "display_name": "Python 3",
   "language": "python",
   "name": "python3"
  },
  "language_info": {
   "codemirror_mode": {
    "name": "ipython",
    "version": 3
   },
   "file_extension": ".py",
   "mimetype": "text/x-python",
   "name": "python",
   "nbconvert_exporter": "python",
   "pygments_lexer": "ipython3",
   "version": "3.6.4"
  }
 },
 "nbformat": 4,
 "nbformat_minor": 2
}
