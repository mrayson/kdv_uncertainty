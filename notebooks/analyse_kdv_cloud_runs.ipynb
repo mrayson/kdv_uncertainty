{
 "cells": [
  {
   "cell_type": "markdown",
   "metadata": {},
   "source": [
    "# KdV Uncertainty output\n",
    "\n",
    "## Plots\n",
    "\n",
    "Produce the following plots:\n",
    " - Example a0 and density profiles for one time step\n",
    " - Example of a time-series all A(t) for 1, 10, 500 runs\n",
    " - Timeseries of 'max_amplitude' all runs\n",
    " - Timeseries of normalized 'max_amplitude' all runs\n",
    " \n",
    "---\n",
    "Other plots for the paper/talks:\n",
    " - *Example of scenario A(x,t)* requires running a simulation..."
   ]
  },
  {
   "cell_type": "code",
   "execution_count": null,
   "metadata": {},
   "outputs": [],
   "source": [
    "import h5py\n",
    "from glob import glob\n",
    "import numpy as np\n",
    "\n",
    "from dask import array as da\n",
    "from dask import delayed\n",
    "\n",
    "from iwaves.utils import isw\n",
    "\n",
    "import matplotlib.pyplot as plt\n",
    "from tqdm import tqdm # progress bar\n",
    "\n",
    "%matplotlib inline"
   ]
  },
  {
   "cell_type": "markdown",
   "metadata": {},
   "source": [
    "# Test loading some data\n",
    "\n",
    "Data are stored in individual hdf5 files for each step (1473) and each sample (500)"
   ]
  },
  {
   "cell_type": "code",
   "execution_count": 15,
   "metadata": {},
   "outputs": [
    {
     "data": {
      "text/plain": [
       "'../../kdv_solutions_azure/shiny_dashboard/data/timepoint-1/2018-07-24--13-00-34_slim-output.h5'"
      ]
     },
     "execution_count": 15,
     "metadata": {},
     "output_type": "execute_result"
    }
   ],
   "source": [
    "#sorted(glob(\"../../shiny_dashboard/data/timepoint-1/all_amplitudes/*.h5\"))\n",
    "\n",
    "def get_file_name(timepoint, sample):\n",
    "    return \"../../kdv_solutions_azure/shiny_dashboard/data/timepoint-%d/all_amplitudes/2018-07-24--13-00-34_timepoint-%d_sample-%d_output.h5\"%(timepoint,timepoint,sample)\n",
    "\n",
    "def get_all_file(timepoint):\n",
    "    return sorted(glob(\"../../kdv_solutions_azure/shiny_dashboard/data/timepoint-%d/all_amplitudes/*.h5\"%(timepoint)))\n",
    "\n",
    "def get_summary_file(timepoint):\n",
    "    return sorted(glob(\"../../kdv_solutions_azure/shiny_dashboard/data/timepoint-%d/*.h5\"%(timepoint)))[0]\n",
    "#get_file_name(1,0)\n",
    "#get_all_file(1)\n",
    "get_summary_file(1)"
   ]
  },
  {
   "cell_type": "code",
   "execution_count": 16,
   "metadata": {},
   "outputs": [
    {
     "data": {
      "text/plain": [
       "['a0_samples', 'beta_samples', 'max_amplitude', 'timepoint']"
      ]
     },
     "execution_count": 16,
     "metadata": {},
     "output_type": "execute_result"
    }
   ],
   "source": [
    "h5 = h5py.File(get_summary_file(1),'r')\n",
    "list(h5.keys())"
   ]
  },
  {
   "cell_type": "code",
   "execution_count": 21,
   "metadata": {},
   "outputs": [
    {
     "data": {
      "text/plain": [
       "(500,)"
      ]
     },
     "execution_count": 21,
     "metadata": {},
     "output_type": "execute_result"
    }
   ],
   "source": [
    "h5['a0_samples'][:].shape"
   ]
  },
  {
   "cell_type": "code",
   "execution_count": 20,
   "metadata": {},
   "outputs": [
    {
     "data": {
      "text/plain": [
       "(6, 500)"
      ]
     },
     "execution_count": 20,
     "metadata": {},
     "output_type": "execute_result"
    }
   ],
   "source": [
    "h5['beta_samples'][:].shape"
   ]
  },
  {
   "cell_type": "code",
   "execution_count": 22,
   "metadata": {},
   "outputs": [
    {
     "data": {
      "text/plain": [
       "(500,)"
      ]
     },
     "execution_count": 22,
     "metadata": {},
     "output_type": "execute_result"
    }
   ],
   "source": [
    "h5['max_amplitude'].value.shape"
   ]
  },
  {
   "cell_type": "code",
   "execution_count": null,
   "metadata": {},
   "outputs": [],
   "source": [
    "h5['amplitudes'].shape"
   ]
  },
  {
   "cell_type": "markdown",
   "metadata": {},
   "source": [
    "# Data loading tools"
   ]
  },
  {
   "cell_type": "code",
   "execution_count": 29,
   "metadata": {},
   "outputs": [
    {
     "data": {
      "text/plain": [
       "160"
      ]
     },
     "execution_count": 29,
     "metadata": {},
     "output_type": "execute_result"
    }
   ],
   "source": [
    "#@delayed(nout=1)\n",
    "def load_h5_step_old(varname, timepoint):\n",
    "    nsamples = 500\n",
    "\n",
    "    a0 = []\n",
    "    for ii in range(nsamples):\n",
    "        try:\n",
    "            h5 = h5py.File(get_file_name(timepoint,ii),'r')\n",
    "            a0.append(da.from_array( h5[varname].value, chunks=-1))\n",
    "            h5.close()\n",
    "        except:\n",
    "            continue\n",
    "            #print('Failed to load sample %d...'%ii)\n",
    "    \n",
    "    if len(a0) == 0:\n",
    "        print('No files found for step %d'%timepoint)\n",
    "    a0_da = da.stack(a0)\n",
    "\n",
    "    return a0_da\n",
    "\n",
    "def load_h5_step(varname, timepoint):\n",
    "    files = get_all_file(timepoint)\n",
    "    nsamples = len(files)\n",
    "\n",
    "    a0 = []\n",
    "    for ii in range(nsamples):\n",
    "        h5 = h5py.File(files[ii],'r')\n",
    "        a0.append(da.from_array( h5[varname].value, chunks=-1))\n",
    "        h5.close()\n",
    "\n",
    "    a0_da = da.stack(a0)\n",
    "\n",
    "    return a0_da\n",
    "\n",
    "@delayed(nout=1)\n",
    "def load_h5_alltime(varname, maxpoints):\n",
    "\n",
    "    a0 = []\n",
    "    for ii in range(maxpoints):\n",
    "        a0_da = load_h5_step(varname, ii)\n",
    "        a0.append(a0_da)\n",
    "        \n",
    "    #a0_t = da.stack(a0, axis=0)\n",
    "    \n",
    "    return a0\n",
    "\n",
    "def return_a0_beta(timestep, ensemble):\n",
    "    h5 = h5py.File(get_summary_file(timestep),'r')\n",
    "    a0 = h5['a0_samples'][ensemble]\n",
    "    beta = h5['beta_samples'][:,ensemble]\n",
    "    h5.close()\n",
    "    \n",
    "    return a0, beta\n",
    "\n",
    "def return_max_ensemble(timestep):\n",
    "    h5 = h5py.File(get_summary_file(timestep),'r')\n",
    "    a0 = h5['max_amplitude'][:]\n",
    "    h5.close()\n",
    "    \n",
    "    return np.argwhere(np.abs(a0) == np.abs(a0).max())[0,0]\n",
    "#amp, beta, a0 = load_h5_step(1)\n",
    "\n",
    "return_max_ensemble(1)"
   ]
  },
  {
   "cell_type": "code",
   "execution_count": null,
   "metadata": {},
   "outputs": [],
   "source": [
    "tstep = 50\n",
    "a0 = load_h5_step('a0_sample', tstep).compute()\n",
    "beta = load_h5_step('beta_samples', tstep).compute()\n",
    "amax = load_h5_step('max_amplitude', tstep).compute()\n",
    "\n",
    "#a0 = load_h5_alltime('beta_samples',10)\n",
    "#a0 = a0.compute()\n",
    "#beta = beta.compute()"
   ]
  },
  {
   "cell_type": "markdown",
   "metadata": {},
   "source": [
    "# Plot of some initial conditions for one scenario"
   ]
  },
  {
   "cell_type": "code",
   "execution_count": null,
   "metadata": {},
   "outputs": [],
   "source": [
    "def double_tanh(beta, z):\n",
    "    \n",
    "    return beta[0] - beta[1]*(np.tanh((z+beta[2])/beta[3])\n",
    "                + np.tanh((z+beta[4])/beta[5]))"
   ]
  },
  {
   "cell_type": "code",
   "execution_count": null,
   "metadata": {},
   "outputs": [],
   "source": [
    "# Depth\n",
    "zmin = -250\n",
    "zout = np.linspace(zmin,0,100)"
   ]
  },
  {
   "cell_type": "code",
   "execution_count": null,
   "metadata": {},
   "outputs": [],
   "source": [
    "plt.figure()\n",
    "plt.hist(a0.compute(),bins=25, color='0.5', edgecolor='k')\n",
    "plt.xlabel('$a_0$ [m]')\n",
    "plt.ylabel('Count')"
   ]
  },
  {
   "cell_type": "code",
   "execution_count": null,
   "metadata": {
    "scrolled": true
   },
   "outputs": [],
   "source": [
    "# Plot the density profile\n",
    "plt.figure(figsize=(5,6))\n",
    "nsamples = 500\n",
    "for rand_loc in range(0, nsamples):\n",
    "    rhotmp = double_tanh(beta[rand_loc,:], zout)\n",
    "    plt.plot(rhotmp, zout, '0.5', lw=1, alpha=0.02)\n",
    "    \n",
    "#plt.plot(rhomean*RHO0, zout, 'k--',) # Mean fit\n",
    "\n",
    "plt.grid(b=True)\n",
    "plt.ylim(zmin,0 )\n",
    "plt.ylabel('Depth [m]')\n",
    "plt.xlabel(r'$\\rho$ [kg m$^{-3}$]')\n",
    "#plt.title(rho.time.values[tstep])"
   ]
  },
  {
   "cell_type": "code",
   "execution_count": null,
   "metadata": {},
   "outputs": [],
   "source": [
    "# Calculate alpha, cn for a time step\n",
    "\n",
    "def calc_alpha(beta, zout, nsamples=500, mode=0):\n",
    "    \n",
    "    alpha_ens = np.zeros((nsamples,))\n",
    "    c_ens = np.zeros((nsamples,))\n",
    "\n",
    "    dz = np.diff(zout).mean()\n",
    "    \n",
    "    for ii in range(nsamples):\n",
    "        rhotmp = double_tanh(beta[ii,:], zout)\n",
    "\n",
    "        N2 = -9.81/1000*np.gradient(rhotmp,dz)\n",
    "\n",
    "        phi,cn = isw.iwave_modes(N2, dz)\n",
    "\n",
    "        phi_1 = phi[:,mode]\n",
    "        phi_1 =phi_1 / np.abs(phi_1).max()\n",
    "        phi_1 *= np.sign(phi_1.sum())\n",
    "\n",
    "        alpha = isw.calc_alpha(phi_1, cn[mode],N2,dz)\n",
    "\n",
    "        alpha_ens[ii] = alpha\n",
    "        c_ens[ii] = cn[mode]\n",
    "        \n",
    "    return alpha_ens, c_ens"
   ]
  },
  {
   "cell_type": "code",
   "execution_count": null,
   "metadata": {},
   "outputs": [],
   "source": [
    "alpha, cn = calc_alpha(beta, zout)\n",
    "\n",
    "T = 12.42*3600.\n",
    "omega = 2*np.pi / T\n",
    "Ls = cn**2. / (np.abs(alpha)*a0*omega) \n",
    "Ls"
   ]
  },
  {
   "cell_type": "code",
   "execution_count": null,
   "metadata": {},
   "outputs": [],
   "source": [
    "plt.figure()\n",
    "plt.subplot(131)\n",
    "plt.hist(alpha,bins=np.arange(-0.012,0.01205,0.0005), color='0.5', edgecolor='k')\n",
    "plt.xlabel(r'$\\alpha$ []')\n",
    "plt.ylabel('Count')\n",
    "\n",
    "plt.subplot(132)\n",
    "plt.hist(cn,bins=np.arange(0.9,1.3,0.005), color='0.5', edgecolor='k')\n",
    "plt.xlabel(r'$c$ [m s]')\n",
    "\n",
    "plt.subplot(133, xscale='log')\n",
    "plt.hist(Ls,bins=np.arange(10e3,1000000,10e3), color='0.5', edgecolor='k')\n",
    "plt.xlabel(r'$Ls$ [m]')\n",
    "#plt.ylabel('Count')"
   ]
  },
  {
   "cell_type": "code",
   "execution_count": null,
   "metadata": {},
   "outputs": [],
   "source": [
    "plt.figure()\n",
    "plt.subplot(121)\n",
    "plt.hist(amax,bins=np.arange(-100,105,5), color='0.5', edgecolor='k')\n",
    "plt.xlabel(r'$A_{max}$ [m]')\n",
    "plt.ylabel('Count')\n",
    "\n",
    "plt.subplot(122)\n",
    "plt.hist(amax/a0,bins=np.arange(-3.5,3.55,0.05), color='0.5', edgecolor='k')\n",
    "plt.xlabel(r'$A_{max}/a0$')\n",
    "plt.xlim(-3.5,3.5)\n"
   ]
  },
  {
   "cell_type": "code",
   "execution_count": null,
   "metadata": {},
   "outputs": [],
   "source": [
    "L = 1e5 # Location of output point\n",
    "\n",
    "plt.semilogx(Ls/L, amax/a0, 'k.')\n",
    "plt.xlim(1e-1,10)\n",
    "plt.ylim(-4,4)\n",
    "plt.grid(b=True)\n",
    "\n",
    "plt.ylabel(r'$A_{max}/a0$')\n",
    "plt.xlabel('$L_s / L$')\n"
   ]
  },
  {
   "cell_type": "code",
   "execution_count": null,
   "metadata": {},
   "outputs": [],
   "source": [
    "# Plot the amplitudes for all runs\n",
    "amp = load_h5_step('amplitudes', tstep).compute()\n",
    "\n",
    "dt = 20\n",
    "nt = amp.shape[1]\n",
    "time = np.arange(0,nt)*dt"
   ]
  },
  {
   "cell_type": "code",
   "execution_count": null,
   "metadata": {},
   "outputs": [],
   "source": [
    "plt.figure(figsize=(5,4))\n",
    "nsamples = 500\n",
    "for rand_loc in range(0, nsamples):\n",
    "    plt.plot(time/T, amp[rand_loc,:], '0.5', lw=0.5, alpha=0.05)\n",
    "    \n",
    "#plt.plot(rhomean*RHO0, zout, 'k--',) # Mean fit\n",
    "\n",
    "plt.grid(b=True)\n",
    "plt.ylim(-100,100 )\n",
    "plt.xlim(1.5,3)\n",
    "plt.ylabel('Amplitude [m]')\n",
    "plt.xlabel(r'time [cycles]')"
   ]
  },
  {
   "cell_type": "code",
   "execution_count": null,
   "metadata": {},
   "outputs": [],
   "source": [
    "# Get amax/a0 for all steps\n",
    "nt = 500\n",
    "nsamples = 500\n",
    "amax_t = np.zeros((nsamples,nt))\n",
    "a0_t = np.zeros((nsamples,nt))\n",
    "alpha_t = np.zeros((nsamples,nt))\n",
    "cn_t = np.zeros((nsamples,nt))\n",
    "beta_t = np.zeros((nt, nsamples,6))\n",
    "\n",
    "for ii in tqdm(range(0,nt)):\n",
    "    #try:\n",
    "    a0_tmp = load_h5_step('a0_sample', ii+1).compute()\n",
    "    amax_tmp = load_h5_step('max_amplitude', ii+1).compute()\n",
    "    beta_tmp = load_h5_step('beta_samples', ii+1).compute()\n",
    "    \n",
    "    ns = a0_tmp.shape[0]\n",
    "    if ns < 500:\n",
    "        print('Only found %d sample for step %d'%(ns,ii))\n",
    "    alpha_tmp, c_tmp = calc_alpha(beta_tmp, zout, nsamples=ns, mode=0)    \n",
    "    \n",
    "    a0_t[0:ns,ii] = a0_tmp\n",
    "    amax_t[0:ns,ii] = amax_tmp\n",
    "    alpha_t[0:ns,ii] = alpha_tmp\n",
    "    cn_t[0:ns,ii] = c_tmp\n",
    "    \n",
    "    beta_t[ii,0:ns,:] = beta_tmp\n",
    "\n",
    "\n",
    "\n",
    "    #    ngood = a0_tmp.shape[0]\n",
    "    #    \n",
    "    #    a0_t[0:ngood,ii] = a0_tmp\n",
    "    #    amax_t[0:ngood:,ii] = amax_tmp\n",
    "    #except:\n",
    "    #    print('Failed to load step %d...'%ii)\n",
    "\n"
   ]
  },
  {
   "cell_type": "code",
   "execution_count": null,
   "metadata": {},
   "outputs": [],
   "source": [
    "alpha_tmp"
   ]
  },
  {
   "cell_type": "code",
   "execution_count": null,
   "metadata": {
    "scrolled": true
   },
   "outputs": [],
   "source": [
    "A_t = amax_t/a0_t\n",
    "\n",
    "plt.plot(A_t.min(axis=0))"
   ]
  },
  {
   "cell_type": "code",
   "execution_count": null,
   "metadata": {},
   "outputs": [],
   "source": [
    "a0_tmp = load_h5_step('a0_sample', 50).compute()\n"
   ]
  },
  {
   "cell_type": "code",
   "execution_count": null,
   "metadata": {},
   "outputs": [],
   "source": []
  }
 ],
 "metadata": {
  "kernelspec": {
   "display_name": "Python 3",
   "language": "python",
   "name": "python3"
  }
 },
 "nbformat": 4,
 "nbformat_minor": 2
}
