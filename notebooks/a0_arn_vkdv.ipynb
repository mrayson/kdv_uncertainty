{
 "cells": [
  {
   "cell_type": "markdown",
   "metadata": {},
   "source": [
    "# Find initial conditions for $$a_0$$ by inverting the KdV model"
   ]
  },
  {
   "cell_type": "code",
   "execution_count": 4,
   "metadata": {},
   "outputs": [
    {
     "name": "stdout",
     "output_type": "stream",
     "text": [
      "Collecting gsw\n",
      "  Downloading gsw-3.4.0-cp38-cp38-manylinux2010_x86_64.whl (2.4 MB)\n",
      "\u001b[K     |████████████████████████████████| 2.4 MB 9.4 MB/s eta 0:00:01\n",
      "\u001b[?25hRequirement already satisfied: numpy in /home/suntans/miniconda3/envs/sfoda/lib/python3.8/site-packages (from gsw) (1.19.4)\n",
      "Collecting h5py\n",
      "  Downloading h5py-3.1.0-cp38-cp38-manylinux1_x86_64.whl (4.4 MB)\n",
      "\u001b[K     |████████████████████████████████| 4.4 MB 49.1 MB/s eta 0:00:01     |██████▎                         | 849 kB 49.1 MB/s eta 0:00:01\n",
      "\u001b[?25hInstalling collected packages: h5py, gsw\n",
      "Successfully installed gsw-3.4.0 h5py-3.1.0\n"
     ]
    }
   ],
   "source": [
    "!pip install h5py gsw"
   ]
  },
  {
   "cell_type": "code",
   "execution_count": 1,
   "metadata": {},
   "outputs": [],
   "source": [
    "import numpy as np\n",
    "import pandas as pd\n",
    "import xarray as xr\n",
    "import matplotlib.pyplot as plt\n",
    "from datetime import datetime\n",
    "import h5py\n",
    "\n",
    "from scipy import signal\n",
    "from scipy.optimize import minimize\n",
    "from scipy.interpolate import interp1d\n",
    "\n",
    "from sfoda.utils.timeseries import timeseries, skill, rmse\n",
    "from sfoda.utils.uspectra import uspectra, getTideFreq\n",
    "from sfoda.utils.othertime import SecondsSince\n",
    "\n",
    "#from iwaves.kdv.solve import solve_kdv\n",
    "from iwaves.kdv.vkdv import  vKdV\n",
    "from iwaves.utils import imodes\n",
    "from iwaves.utils import density\n",
    "\n",
    "\n",
    "import matplotlib as mpl\n",
    "\n",
    "import yaml"
   ]
  },
  {
   "cell_type": "code",
   "execution_count": 2,
   "metadata": {},
   "outputs": [],
   "source": [
    "%matplotlib inline"
   ]
  },
  {
   "cell_type": "code",
   "execution_count": 3,
   "metadata": {},
   "outputs": [],
   "source": [
    "# KdV function\n",
    "def zeroic(x, a_0, L_w, x0=0.):\n",
    "    return 0*x\n",
    "\n",
    "def bcfunc_older(t):\n",
    "    omega = 2*np.pi/(12.42*3600.)\n",
    "    return -a0*np.sin(omega*t)\n",
    "\n",
    "def bcfunc_old(amp, frq, t, t0, ramptime):\n",
    "    #omega = 2*np.pi/(12.42*3600.)\n",
    "    nf = len(frq)\n",
    "    a = 0.\n",
    "    for nn in range(nf):\n",
    "        a += amp[nn]*np.cos(frq[nn]*t) + amp[nn+nf]*np.sin(frq[nn]*t)\n",
    "    \n",
    "    rampfac = 1 - np.exp(-(t-t0)/ramptime)\n",
    "    #print(t,t0, a, rampfac, a*rampfac)\n",
    "    return a*rampfac\n",
    "\n",
    "def bcfunc(F_a0, twave, ampfac, t, ramptime):\n",
    "    \n",
    "    # Interpolate the boundary and apply the time offset and amplitude scaling\n",
    "    a = F_a0(t-twave)/ampfac\n",
    "    \n",
    "    rampfac = 1 - np.exp(-(t)/ramptime)\n",
    "    return a*rampfac\n",
    "\n",
    "def start_kdv(infile, rho, z, depthfile):\n",
    "    # Parse the yaml file\n",
    "    with open(infile, 'r') as f:\n",
    "        args = yaml.load(f)\n",
    "\n",
    "        kdvargs = args['kdvargs']\n",
    "        kdvargs.update({'wavefunc':zeroic})\n",
    "        kdvargs.update({'verbose':False})\n",
    "        #kdvargs.update({'nonlinear':False}) # Testing\n",
    "        kdvargs['Nsubset'] = 1\n",
    "\n",
    "\n",
    "        runtime = args['runtime']['runtime']\n",
    "        ntout = args['runtime']['ntout']\n",
    "        xpt =  args['runtime']['xpt']\n",
    "\n",
    "\n",
    "    # Parse the density and depth files\n",
    "    depthtxt = np.loadtxt(depthfile, delimiter=',')\n",
    "    N = depthtxt[:,0].shape[0]\n",
    "    dx = depthtxt[1,0] - depthtxt[0,0]\n",
    "    print(N,dx)\n",
    "    # Initialise the KdV class\n",
    "    mykdv = vKdV(rho,\\\n",
    "        z,\\\n",
    "        depthtxt[:,1],\\\n",
    "        depthtxt[:,0],\\\n",
    "        N=N,\n",
    "        dx=dx,\n",
    "        **kdvargs)\n",
    "\n",
    "    return mykdv\n",
    "\n",
    "\n",
    "def run_vkdv(F_a0, twave, ampfac, runtime, mykdv, infile, verbose=True, ramptime=12*3600.):\n",
    "    \n",
    "    # Need to reset the amplitude variables and time step\n",
    "    mykdv.B *= 0 \n",
    "    mykdv.B_n_m1 *= 0\n",
    "    mykdv.B_n_m2 *= 0\n",
    "    mykdv.B_n_p1 *= 0\n",
    "    mykdv.t = 0 \n",
    "    \n",
    "    with open(infile, 'r') as f:\n",
    "        args = yaml.load(f)\n",
    "\n",
    "        kdvargs = args['kdvargs']\n",
    "        kdvargs.update({'wavefunc':zeroic})\n",
    "\n",
    "        #runtime = args['runtime']['runtime']\n",
    "        ntout = args['runtime']['ntout']\n",
    "        xpt =  args['runtime']['xpt']\n",
    "        \n",
    "    # Find the index of the output point\n",
    "    idx = np.argwhere(mykdv.x > xpt)[0][0]\n",
    "\n",
    "    # Initialise an output array\n",
    "    nsteps = int(runtime//mykdv.dt)\n",
    "    nout = int(runtime//ntout)\n",
    "    B = np.zeros((nout, mykdv.Nx)) # Spatial amplitude function\n",
    "    tout = np.zeros((nout,))\n",
    "\n",
    "    B_pt = np.zeros((nsteps, )) # Spatial amplitude function\n",
    "    tfast = np.zeros((nsteps,))\n",
    "\n",
    "    output = []\n",
    "    \n",
    "    print(mykdv.nonlinear, mykdv.nonhydrostatic, mykdv.nonlinear, mykdv.spongedist)\n",
    "\n",
    "    ## Run the model\n",
    "    nn=0\n",
    "    for ii in range(nsteps):\n",
    "        # Log output\n",
    "        point = nsteps//100\n",
    "        \n",
    "        bcleft = bcfunc(F_a0, twave, ampfac, mykdv.t, ramptime)\n",
    "        #print(bcleft)\n",
    "        \n",
    "        if verbose:\n",
    "            if(ii % (5 * point) == 0):\n",
    "                print( '%3.1f %% complete...'%(float(ii)/nsteps*100)) \n",
    "                print(mykdv.B.max(), bcleft)\n",
    "\n",
    "        if mykdv.solve_step(bc_left=bcleft) != 0:\n",
    "            print( 'Blowing up at step: %d'%ii)\n",
    "            break\n",
    "        \n",
    "        ## Evalute the function\n",
    "        #if myfunc is not None:\n",
    "        #    output.append(myfunc(mykdv))\n",
    "\n",
    "        # Output data\n",
    "        if (mykdv.t%ntout) < mykdv.dt:\n",
    "            #print ii,nn, mykdv.t\n",
    "            B[nn,:] = mykdv.B[:]\n",
    "            tout[nn] = mykdv.t\n",
    "            nn+=1\n",
    "\n",
    "        # Output single point\n",
    "        B_pt[ii] = mykdv.B[idx]\n",
    "        tfast[ii] = mykdv.t\n",
    "\n",
    "    # Save to netcdf\n",
    "    ds = mykdv.to_Dataset()\n",
    "    \n",
    "    xray = xr\n",
    "\n",
    "    # Create a dataArray from the stored data\n",
    "    coords = {'x':mykdv.x, 'time':tout}\n",
    "    attrs = {'long_name':'Wave amplitude',\\\n",
    "            'units':'m'}\n",
    "    dims = ('time','x')\n",
    "\n",
    "    Bda = xray.DataArray(B,\n",
    "            dims = dims,\\\n",
    "            coords = coords,\\\n",
    "            attrs = attrs,\\\n",
    "        )\n",
    "\n",
    "    coords = {'timefast':tfast}\n",
    "    attrs = {'long_name':'Wave Amplitude Point',\n",
    "            'units':'m',\n",
    "            'x-coord':xpt}\n",
    "    dims = ('timefast',)\n",
    "    Bpt = xray.DataArray(B_pt,\n",
    "            dims = dims,\\\n",
    "            coords = coords,\\\n",
    "            attrs = attrs,\\\n",
    "        )\n",
    "\n",
    "    ds2 = xray.Dataset({'B_t':Bda,'B_pt':Bpt})\n",
    "    #return ds2.merge( ds, inplace=True )\n",
    "    #return ds.merge(ds2, inplace=True)\n",
    "    #return ds.merge( xray.Dataset({'B_t':Bda,'B_pt':Bpt}), inplace=False )\n",
    "    \n",
    "    return ds2.merge( ds )\n",
    "\n",
    "\n"
   ]
  },
  {
   "cell_type": "code",
   "execution_count": 4,
   "metadata": {},
   "outputs": [],
   "source": [
    "def myround(x, base=12*3600):\n",
    "    return base * np.ceil(float(x)/base)\n",
    "\n",
    "def init_vkdv_ar1( depthfile, infile, beta_ds, a0_ds, draw_num, t1, t2, mode, Nz, basetime=datetime(2016,1,1)):\n",
    "    \"\"\"\n",
    "    Initialise the boundary conditions and the vKdV class for performing boundary condition\n",
    "    inversion (optimization) calculations\n",
    "    \"\"\"\n",
    "    \n",
    "    # Load the depth data\n",
    "    depthtxt = np.loadtxt(depthfile, delimiter=',')\n",
    "    #z = np.arange(-depthtxt[0,1],5,5)[::-1]\n",
    "    z = np.linspace(-depthtxt[0,1],0,Nz)[::-1]\n",
    "\n",
    "    \n",
    "    # Load the density profile parameters\n",
    "    density_params = beta_ds.sel(time=t1, draw=draw_num, method='nearest').values\n",
    "\n",
    "    rhonew = density.double_tanh_rho_new(z, *density_params)\n",
    "    \n",
    "    \n",
    "    # Launch a KdV instance\n",
    "    mykdv =  start_kdv(infile, rhonew, z, depthfile)\n",
    "    \n",
    "    # Find the observation location\n",
    "    with open(infile, 'r') as f:\n",
    "        args = yaml.load(f)\n",
    "        xpt =  args['runtime']['xpt']\n",
    "\n",
    "    # Find the index of the output point\n",
    "    xpt = np.argwhere(mykdv.x > xpt)[0][0]\n",
    "    \n",
    "    # Compute the travel time and the wave amplification factor \n",
    "    ampfac = 1/np.sqrt(mykdv.Q)\n",
    "\n",
    "    twave = np.cumsum(1/mykdv.c*mykdv.dx)\n",
    "       \n",
    "    # Set the time in the model to correspond with the phase of the boundary forcing\n",
    "    ## Start time: round up to the near 12 hours from the wave propagation time plus the ramp time\n",
    "    \n",
    "    starttime = np.datetime64(t1)\n",
    "    endtime = np.datetime64(t2)\n",
    "\n",
    "    ramptime = 12*3600.\n",
    "    bctime = np.timedelta64(int(myround(twave[xpt]+ramptime)),'s')\n",
    "\n",
    "    runtime = (endtime - starttime).astype('timedelta64[s]').astype(float)\n",
    "\n",
    "    t0 = starttime-bctime\n",
    "\n",
    "    runtime = runtime+bctime.astype('timedelta64[s]').astype(float)\n",
    "\n",
    "    # Need to return an interpolation object for a0 that will return a value for each model time step\n",
    "    a0timesec = (a0_ds['time'].values-t0).astype('timedelta64[s]').astype(float)\n",
    "\n",
    "    a0 =a0_ds['a0'].sel(draw=draw_num, chain=1).values\n",
    "\n",
    "    F_a0 = interp1d(a0timesec, a0, kind=2)\n",
    "\n",
    "    return mykdv, F_a0, t0, runtime, density_params, twave[xpt], ampfac[xpt]\n",
    "\n"
   ]
  },
  {
   "cell_type": "code",
   "execution_count": 5,
   "metadata": {},
   "outputs": [],
   "source": [
    "def single_run(F_a0, twave, ampfac, runtime,  At, mykdv, infile):\n",
    "    \n",
    "    ds2 = run_vkdv(a0, twave, ampfac, runtime, mykdv, infile, verbose=False)\n",
    "    \n",
    "    tobs_sec = SecondsSince(At.t, basetime=basetime)\n",
    "    F = interp1d(ds2.timefast, ds2.B_pt, bounds_error=False)\n",
    "    Amod = F(tobs_sec)\n",
    "    \n",
    "    return ds2, Amod, tobs_sec\n",
    "    \n",
    "\n",
    "def print_result(xk):\n",
    "    print(xk)"
   ]
  },
  {
   "cell_type": "code",
   "execution_count": 6,
   "metadata": {},
   "outputs": [],
   "source": [
    "def load_beta_h5(betafile):\n",
    "    # Get the time from the beta file\n",
    "    with h5py.File(betafile,'r') as f:\n",
    "        t_beta=f['data/time'][:].astype('<M8[ns]')\n",
    "        beta_samples = f['beta_samples'][:]\n",
    "        z_std = np.array(f['data/z_std'])\n",
    "        rho_std = np.array(f['data/rho_std'])\n",
    "        rho_mu = np.array(f['data/rho_mu'])\n",
    "\n",
    "    nparams, nt, nsamples = beta_samples.shape\n",
    "    return xr.DataArray(beta_samples, dims=('params','time','draw'), \n",
    "                 coords={'time':t_beta,'params':range(nparams), 'draw':range(nsamples)})\n"
   ]
  },
  {
   "cell_type": "code",
   "execution_count": 7,
   "metadata": {},
   "outputs": [],
   "source": [
    "# Load the amplitude and density time-series data\n",
    "ncfile = '/home/suntans/Share/ARCHub/DATA/FIELD/ShellCrux/KP150_Fitted_Buoyancy_wout_motion_unvenfilt.nc'\n",
    "depthfile = '../data/kdv_bathy_Prelude.csv'\n",
    "infile = '../data/kdvin.yml'\n",
    "\n",
    "betafile = '../inputs/ShellCrux_Filtered_Density_Harmonic_MCMC_20162017_prediction.h5'\n",
    "\n",
    "na=0\n",
    "arn = 5\n",
    "a0ncfile = '../inputs/a0_samples_harmonicfit_M2S2N2K1O1_na{}_AR{}_12month.nc'.format(na, arn)\n",
    "\n",
    "\n",
    "#ds = xr.open_dataset(ncfile, group='KP150_phs2')\n",
    "#ds"
   ]
  },
  {
   "cell_type": "code",
   "execution_count": 11,
   "metadata": {},
   "outputs": [
    {
     "data": {
      "text/html": [
       "<div><svg style=\"position: absolute; width: 0; height: 0; overflow: hidden\">\n",
       "<defs>\n",
       "<symbol id=\"icon-database\" viewBox=\"0 0 32 32\">\n",
       "<path d=\"M16 0c-8.837 0-16 2.239-16 5v4c0 2.761 7.163 5 16 5s16-2.239 16-5v-4c0-2.761-7.163-5-16-5z\"></path>\n",
       "<path d=\"M16 17c-8.837 0-16-2.239-16-5v6c0 2.761 7.163 5 16 5s16-2.239 16-5v-6c0 2.761-7.163 5-16 5z\"></path>\n",
       "<path d=\"M16 26c-8.837 0-16-2.239-16-5v6c0 2.761 7.163 5 16 5s16-2.239 16-5v-6c0 2.761-7.163 5-16 5z\"></path>\n",
       "</symbol>\n",
       "<symbol id=\"icon-file-text2\" viewBox=\"0 0 32 32\">\n",
       "<path d=\"M28.681 7.159c-0.694-0.947-1.662-2.053-2.724-3.116s-2.169-2.030-3.116-2.724c-1.612-1.182-2.393-1.319-2.841-1.319h-15.5c-1.378 0-2.5 1.121-2.5 2.5v27c0 1.378 1.122 2.5 2.5 2.5h23c1.378 0 2.5-1.122 2.5-2.5v-19.5c0-0.448-0.137-1.23-1.319-2.841zM24.543 5.457c0.959 0.959 1.712 1.825 2.268 2.543h-4.811v-4.811c0.718 0.556 1.584 1.309 2.543 2.268zM28 29.5c0 0.271-0.229 0.5-0.5 0.5h-23c-0.271 0-0.5-0.229-0.5-0.5v-27c0-0.271 0.229-0.5 0.5-0.5 0 0 15.499-0 15.5 0v7c0 0.552 0.448 1 1 1h7v19.5z\"></path>\n",
       "<path d=\"M23 26h-14c-0.552 0-1-0.448-1-1s0.448-1 1-1h14c0.552 0 1 0.448 1 1s-0.448 1-1 1z\"></path>\n",
       "<path d=\"M23 22h-14c-0.552 0-1-0.448-1-1s0.448-1 1-1h14c0.552 0 1 0.448 1 1s-0.448 1-1 1z\"></path>\n",
       "<path d=\"M23 18h-14c-0.552 0-1-0.448-1-1s0.448-1 1-1h14c0.552 0 1 0.448 1 1s-0.448 1-1 1z\"></path>\n",
       "</symbol>\n",
       "</defs>\n",
       "</svg>\n",
       "<style>/* CSS stylesheet for displaying xarray objects in jupyterlab.\n",
       " *\n",
       " */\n",
       "\n",
       ":root {\n",
       "  --xr-font-color0: var(--jp-content-font-color0, rgba(0, 0, 0, 1));\n",
       "  --xr-font-color2: var(--jp-content-font-color2, rgba(0, 0, 0, 0.54));\n",
       "  --xr-font-color3: var(--jp-content-font-color3, rgba(0, 0, 0, 0.38));\n",
       "  --xr-border-color: var(--jp-border-color2, #e0e0e0);\n",
       "  --xr-disabled-color: var(--jp-layout-color3, #bdbdbd);\n",
       "  --xr-background-color: var(--jp-layout-color0, white);\n",
       "  --xr-background-color-row-even: var(--jp-layout-color1, white);\n",
       "  --xr-background-color-row-odd: var(--jp-layout-color2, #eeeeee);\n",
       "}\n",
       "\n",
       "html[theme=dark],\n",
       "body.vscode-dark {\n",
       "  --xr-font-color0: rgba(255, 255, 255, 1);\n",
       "  --xr-font-color2: rgba(255, 255, 255, 0.54);\n",
       "  --xr-font-color3: rgba(255, 255, 255, 0.38);\n",
       "  --xr-border-color: #1F1F1F;\n",
       "  --xr-disabled-color: #515151;\n",
       "  --xr-background-color: #111111;\n",
       "  --xr-background-color-row-even: #111111;\n",
       "  --xr-background-color-row-odd: #313131;\n",
       "}\n",
       "\n",
       ".xr-wrap {\n",
       "  display: block;\n",
       "  min-width: 300px;\n",
       "  max-width: 700px;\n",
       "}\n",
       "\n",
       ".xr-text-repr-fallback {\n",
       "  /* fallback to plain text repr when CSS is not injected (untrusted notebook) */\n",
       "  display: none;\n",
       "}\n",
       "\n",
       ".xr-header {\n",
       "  padding-top: 6px;\n",
       "  padding-bottom: 6px;\n",
       "  margin-bottom: 4px;\n",
       "  border-bottom: solid 1px var(--xr-border-color);\n",
       "}\n",
       "\n",
       ".xr-header > div,\n",
       ".xr-header > ul {\n",
       "  display: inline;\n",
       "  margin-top: 0;\n",
       "  margin-bottom: 0;\n",
       "}\n",
       "\n",
       ".xr-obj-type,\n",
       ".xr-array-name {\n",
       "  margin-left: 2px;\n",
       "  margin-right: 10px;\n",
       "}\n",
       "\n",
       ".xr-obj-type {\n",
       "  color: var(--xr-font-color2);\n",
       "}\n",
       "\n",
       ".xr-sections {\n",
       "  padding-left: 0 !important;\n",
       "  display: grid;\n",
       "  grid-template-columns: 150px auto auto 1fr 20px 20px;\n",
       "}\n",
       "\n",
       ".xr-section-item {\n",
       "  display: contents;\n",
       "}\n",
       "\n",
       ".xr-section-item input {\n",
       "  display: none;\n",
       "}\n",
       "\n",
       ".xr-section-item input + label {\n",
       "  color: var(--xr-disabled-color);\n",
       "}\n",
       "\n",
       ".xr-section-item input:enabled + label {\n",
       "  cursor: pointer;\n",
       "  color: var(--xr-font-color2);\n",
       "}\n",
       "\n",
       ".xr-section-item input:enabled + label:hover {\n",
       "  color: var(--xr-font-color0);\n",
       "}\n",
       "\n",
       ".xr-section-summary {\n",
       "  grid-column: 1;\n",
       "  color: var(--xr-font-color2);\n",
       "  font-weight: 500;\n",
       "}\n",
       "\n",
       ".xr-section-summary > span {\n",
       "  display: inline-block;\n",
       "  padding-left: 0.5em;\n",
       "}\n",
       "\n",
       ".xr-section-summary-in:disabled + label {\n",
       "  color: var(--xr-font-color2);\n",
       "}\n",
       "\n",
       ".xr-section-summary-in + label:before {\n",
       "  display: inline-block;\n",
       "  content: '►';\n",
       "  font-size: 11px;\n",
       "  width: 15px;\n",
       "  text-align: center;\n",
       "}\n",
       "\n",
       ".xr-section-summary-in:disabled + label:before {\n",
       "  color: var(--xr-disabled-color);\n",
       "}\n",
       "\n",
       ".xr-section-summary-in:checked + label:before {\n",
       "  content: '▼';\n",
       "}\n",
       "\n",
       ".xr-section-summary-in:checked + label > span {\n",
       "  display: none;\n",
       "}\n",
       "\n",
       ".xr-section-summary,\n",
       ".xr-section-inline-details {\n",
       "  padding-top: 4px;\n",
       "  padding-bottom: 4px;\n",
       "}\n",
       "\n",
       ".xr-section-inline-details {\n",
       "  grid-column: 2 / -1;\n",
       "}\n",
       "\n",
       ".xr-section-details {\n",
       "  display: none;\n",
       "  grid-column: 1 / -1;\n",
       "  margin-bottom: 5px;\n",
       "}\n",
       "\n",
       ".xr-section-summary-in:checked ~ .xr-section-details {\n",
       "  display: contents;\n",
       "}\n",
       "\n",
       ".xr-array-wrap {\n",
       "  grid-column: 1 / -1;\n",
       "  display: grid;\n",
       "  grid-template-columns: 20px auto;\n",
       "}\n",
       "\n",
       ".xr-array-wrap > label {\n",
       "  grid-column: 1;\n",
       "  vertical-align: top;\n",
       "}\n",
       "\n",
       ".xr-preview {\n",
       "  color: var(--xr-font-color3);\n",
       "}\n",
       "\n",
       ".xr-array-preview,\n",
       ".xr-array-data {\n",
       "  padding: 0 5px !important;\n",
       "  grid-column: 2;\n",
       "}\n",
       "\n",
       ".xr-array-data,\n",
       ".xr-array-in:checked ~ .xr-array-preview {\n",
       "  display: none;\n",
       "}\n",
       "\n",
       ".xr-array-in:checked ~ .xr-array-data,\n",
       ".xr-array-preview {\n",
       "  display: inline-block;\n",
       "}\n",
       "\n",
       ".xr-dim-list {\n",
       "  display: inline-block !important;\n",
       "  list-style: none;\n",
       "  padding: 0 !important;\n",
       "  margin: 0;\n",
       "}\n",
       "\n",
       ".xr-dim-list li {\n",
       "  display: inline-block;\n",
       "  padding: 0;\n",
       "  margin: 0;\n",
       "}\n",
       "\n",
       ".xr-dim-list:before {\n",
       "  content: '(';\n",
       "}\n",
       "\n",
       ".xr-dim-list:after {\n",
       "  content: ')';\n",
       "}\n",
       "\n",
       ".xr-dim-list li:not(:last-child):after {\n",
       "  content: ',';\n",
       "  padding-right: 5px;\n",
       "}\n",
       "\n",
       ".xr-has-index {\n",
       "  font-weight: bold;\n",
       "}\n",
       "\n",
       ".xr-var-list,\n",
       ".xr-var-item {\n",
       "  display: contents;\n",
       "}\n",
       "\n",
       ".xr-var-item > div,\n",
       ".xr-var-item label,\n",
       ".xr-var-item > .xr-var-name span {\n",
       "  background-color: var(--xr-background-color-row-even);\n",
       "  margin-bottom: 0;\n",
       "}\n",
       "\n",
       ".xr-var-item > .xr-var-name:hover span {\n",
       "  padding-right: 5px;\n",
       "}\n",
       "\n",
       ".xr-var-list > li:nth-child(odd) > div,\n",
       ".xr-var-list > li:nth-child(odd) > label,\n",
       ".xr-var-list > li:nth-child(odd) > .xr-var-name span {\n",
       "  background-color: var(--xr-background-color-row-odd);\n",
       "}\n",
       "\n",
       ".xr-var-name {\n",
       "  grid-column: 1;\n",
       "}\n",
       "\n",
       ".xr-var-dims {\n",
       "  grid-column: 2;\n",
       "}\n",
       "\n",
       ".xr-var-dtype {\n",
       "  grid-column: 3;\n",
       "  text-align: right;\n",
       "  color: var(--xr-font-color2);\n",
       "}\n",
       "\n",
       ".xr-var-preview {\n",
       "  grid-column: 4;\n",
       "}\n",
       "\n",
       ".xr-var-name,\n",
       ".xr-var-dims,\n",
       ".xr-var-dtype,\n",
       ".xr-preview,\n",
       ".xr-attrs dt {\n",
       "  white-space: nowrap;\n",
       "  overflow: hidden;\n",
       "  text-overflow: ellipsis;\n",
       "  padding-right: 10px;\n",
       "}\n",
       "\n",
       ".xr-var-name:hover,\n",
       ".xr-var-dims:hover,\n",
       ".xr-var-dtype:hover,\n",
       ".xr-attrs dt:hover {\n",
       "  overflow: visible;\n",
       "  width: auto;\n",
       "  z-index: 1;\n",
       "}\n",
       "\n",
       ".xr-var-attrs,\n",
       ".xr-var-data {\n",
       "  display: none;\n",
       "  background-color: var(--xr-background-color) !important;\n",
       "  padding-bottom: 5px !important;\n",
       "}\n",
       "\n",
       ".xr-var-attrs-in:checked ~ .xr-var-attrs,\n",
       ".xr-var-data-in:checked ~ .xr-var-data {\n",
       "  display: block;\n",
       "}\n",
       "\n",
       ".xr-var-data > table {\n",
       "  float: right;\n",
       "}\n",
       "\n",
       ".xr-var-name span,\n",
       ".xr-var-data,\n",
       ".xr-attrs {\n",
       "  padding-left: 25px !important;\n",
       "}\n",
       "\n",
       ".xr-attrs,\n",
       ".xr-var-attrs,\n",
       ".xr-var-data {\n",
       "  grid-column: 1 / -1;\n",
       "}\n",
       "\n",
       "dl.xr-attrs {\n",
       "  padding: 0;\n",
       "  margin: 0;\n",
       "  display: grid;\n",
       "  grid-template-columns: 125px auto;\n",
       "}\n",
       "\n",
       ".xr-attrs dt,\n",
       ".xr-attrs dd {\n",
       "  padding: 0;\n",
       "  margin: 0;\n",
       "  float: left;\n",
       "  padding-right: 10px;\n",
       "  width: auto;\n",
       "}\n",
       "\n",
       ".xr-attrs dt {\n",
       "  font-weight: normal;\n",
       "  grid-column: 1;\n",
       "}\n",
       "\n",
       ".xr-attrs dt:hover span {\n",
       "  display: inline-block;\n",
       "  background: var(--xr-background-color);\n",
       "  padding-right: 10px;\n",
       "}\n",
       "\n",
       ".xr-attrs dd {\n",
       "  grid-column: 2;\n",
       "  white-space: pre-wrap;\n",
       "  word-break: break-all;\n",
       "}\n",
       "\n",
       ".xr-icon-database,\n",
       ".xr-icon-file-text2 {\n",
       "  display: inline-block;\n",
       "  vertical-align: middle;\n",
       "  width: 1em;\n",
       "  height: 1.5em !important;\n",
       "  stroke-width: 0;\n",
       "  stroke: currentColor;\n",
       "  fill: currentColor;\n",
       "}\n",
       "</style><pre class='xr-text-repr-fallback'>&lt;xarray.DataArray (params: 6)&gt;\n",
       "array([1023.79786362,    1.3021856 ,   93.11119093,   58.96304895,\n",
       "        157.87619786,   45.69015275])\n",
       "Coordinates:\n",
       "    time     datetime64[ns] 2017-01-31T18:40:00\n",
       "  * params   (params) int64 0 1 2 3 4 5\n",
       "    draw     int64 0</pre><div class='xr-wrap' hidden><div class='xr-header'><div class='xr-obj-type'>xarray.DataArray</div><div class='xr-array-name'></div><ul class='xr-dim-list'><li><span class='xr-has-index'>params</span>: 6</li></ul></div><ul class='xr-sections'><li class='xr-section-item'><div class='xr-array-wrap'><input id='section-6d5e664a-5870-43de-be50-b8b02297016b' class='xr-array-in' type='checkbox' checked><label for='section-6d5e664a-5870-43de-be50-b8b02297016b' title='Show/hide data repr'><svg class='icon xr-icon-database'><use xlink:href='#icon-database'></use></svg></label><div class='xr-array-preview xr-preview'><span>1.024e+03 1.302 93.11 58.96 157.9 45.69</span></div><div class='xr-array-data'><pre>array([1023.79786362,    1.3021856 ,   93.11119093,   58.96304895,\n",
       "        157.87619786,   45.69015275])</pre></div></div></li><li class='xr-section-item'><input id='section-00b2ac7c-6ac4-4e0e-bc50-8efadd05fa6a' class='xr-section-summary-in' type='checkbox'  checked><label for='section-00b2ac7c-6ac4-4e0e-bc50-8efadd05fa6a' class='xr-section-summary' >Coordinates: <span>(3)</span></label><div class='xr-section-inline-details'></div><div class='xr-section-details'><ul class='xr-var-list'><li class='xr-var-item'><div class='xr-var-name'><span>time</span></div><div class='xr-var-dims'>()</div><div class='xr-var-dtype'>datetime64[ns]</div><div class='xr-var-preview xr-preview'>2017-01-31T18:40:00</div><input id='attrs-ea184f8d-9fb4-4875-81ba-48088d6b1795' class='xr-var-attrs-in' type='checkbox' disabled><label for='attrs-ea184f8d-9fb4-4875-81ba-48088d6b1795' title='Show/Hide attributes'><svg class='icon xr-icon-file-text2'><use xlink:href='#icon-file-text2'></use></svg></label><input id='data-bead91ee-7752-4a3f-bf64-f4708480a869' class='xr-var-data-in' type='checkbox'><label for='data-bead91ee-7752-4a3f-bf64-f4708480a869' title='Show/Hide data repr'><svg class='icon xr-icon-database'><use xlink:href='#icon-database'></use></svg></label><div class='xr-var-attrs'><dl class='xr-attrs'></dl></div><div class='xr-var-data'><pre>array(&#x27;2017-01-31T18:40:00.000000000&#x27;, dtype=&#x27;datetime64[ns]&#x27;)</pre></div></li><li class='xr-var-item'><div class='xr-var-name'><span class='xr-has-index'>params</span></div><div class='xr-var-dims'>(params)</div><div class='xr-var-dtype'>int64</div><div class='xr-var-preview xr-preview'>0 1 2 3 4 5</div><input id='attrs-d63ef24d-3eac-44cc-9d4d-dcd67e7347b3' class='xr-var-attrs-in' type='checkbox' disabled><label for='attrs-d63ef24d-3eac-44cc-9d4d-dcd67e7347b3' title='Show/Hide attributes'><svg class='icon xr-icon-file-text2'><use xlink:href='#icon-file-text2'></use></svg></label><input id='data-7a8911b2-a72d-430d-9b2d-6a104c2b25e7' class='xr-var-data-in' type='checkbox'><label for='data-7a8911b2-a72d-430d-9b2d-6a104c2b25e7' title='Show/Hide data repr'><svg class='icon xr-icon-database'><use xlink:href='#icon-database'></use></svg></label><div class='xr-var-attrs'><dl class='xr-attrs'></dl></div><div class='xr-var-data'><pre>array([0, 1, 2, 3, 4, 5])</pre></div></li><li class='xr-var-item'><div class='xr-var-name'><span>draw</span></div><div class='xr-var-dims'>()</div><div class='xr-var-dtype'>int64</div><div class='xr-var-preview xr-preview'>0</div><input id='attrs-c896f24e-2b18-452a-8e95-465ae5a32d93' class='xr-var-attrs-in' type='checkbox' disabled><label for='attrs-c896f24e-2b18-452a-8e95-465ae5a32d93' title='Show/Hide attributes'><svg class='icon xr-icon-file-text2'><use xlink:href='#icon-file-text2'></use></svg></label><input id='data-67862b68-12b2-41ee-949f-993e1f91f301' class='xr-var-data-in' type='checkbox'><label for='data-67862b68-12b2-41ee-949f-993e1f91f301' title='Show/Hide data repr'><svg class='icon xr-icon-database'><use xlink:href='#icon-database'></use></svg></label><div class='xr-var-attrs'><dl class='xr-attrs'></dl></div><div class='xr-var-data'><pre>array(0)</pre></div></li></ul></div></li><li class='xr-section-item'><input id='section-6c850008-c794-4417-845f-2a8c9cfdff5f' class='xr-section-summary-in' type='checkbox' disabled ><label for='section-6c850008-c794-4417-845f-2a8c9cfdff5f' class='xr-section-summary'  title='Expand/collapse section'>Attributes: <span>(0)</span></label><div class='xr-section-inline-details'></div><div class='xr-section-details'><dl class='xr-attrs'></dl></div></li></ul></div></div>"
      ],
      "text/plain": [
       "<xarray.DataArray (params: 6)>\n",
       "array([1023.79786362,    1.3021856 ,   93.11119093,   58.96304895,\n",
       "        157.87619786,   45.69015275])\n",
       "Coordinates:\n",
       "    time     datetime64[ns] 2017-01-31T18:40:00\n",
       "  * params   (params) int64 0 1 2 3 4 5\n",
       "    draw     int64 0"
      ]
     },
     "execution_count": 11,
     "metadata": {},
     "output_type": "execute_result"
    }
   ],
   "source": [
    "beta_ds = load_beta_h5(betafile)\n",
    "beta_ds.sel(time='2017-02-01 00:00:00', draw=0, method='nearest')\n",
    "# beta_ds.time.shape[0]"
   ]
  },
  {
   "cell_type": "code",
   "execution_count": 9,
   "metadata": {},
   "outputs": [],
   "source": [
    "# Load the a0 file\n",
    "a0_ds = xr.open_dataset(a0ncfile, group='predictions')\n",
    "\n",
    "draw_num = 0\n"
   ]
  },
  {
   "cell_type": "code",
   "execution_count": 10,
   "metadata": {},
   "outputs": [],
   "source": [
    "# t1,t2 = '2017-04-02 00:00:00','2017-04-03 00:00:00'\n",
    "# tmid = '2017-04-02 00:00:00'\n",
    "# mode = 0\n",
    "# basetime = datetime(2016,1,1)\n",
    "\n",
    "t1,t2 = '2017-04-12 00:00:00','2017-04-13 00:00:00'\n",
    "tmid = '2017-04-12 00:00:00'\n",
    "mode = 0\n",
    "Nz = 50\n",
    "\n",
    "basetime = datetime(2016,1,1)"
   ]
  },
  {
   "cell_type": "raw",
   "metadata": {},
   "source": [
    "starttime = np.datetime64(t1)\n",
    "endtime = np.datetime64(t2)\n",
    "\n",
    "ramptime = 12*3600.\n",
    "bctime = np.timedelta64(int(myround(twave+ramptime)),'s')\n",
    "\n",
    "runtime = (endtime - starttime).astype('timedelta64[s]').astype(float)\n",
    "\n",
    "    \n",
    "t0 = starttime-bctime\n",
    "    \n",
    "runtime = runtime+bctime.astype('timedelta64[s]').astype(float)\n",
    "\n",
    "# Need to return an interpolation object for a0 that will return a value for each model time step\n",
    "a0timesec = (ds_a0['time'].values-t0).astype('timedelta64[s]').astype(float)\n",
    "\n",
    "a0 =a0_ds['a0'].sel(draw=draw_num, chain=1).values\n",
    "\n",
    "F_a0 = interp1d(a0timesec, a0, kind=2)\n",
    "\n"
   ]
  },
  {
   "cell_type": "code",
   "execution_count": 11,
   "metadata": {},
   "outputs": [
    {
     "name": "stderr",
     "output_type": "stream",
     "text": [
      "<ipython-input-3-6485e0386b8b>:31: YAMLLoadWarning: calling yaml.load() without Loader=... is deprecated, as the default Loader is unsafe. Please read https://msg.pyyaml.org/load for full details.\n",
      "  args = yaml.load(f)\n"
     ]
    },
    {
     "name": "stdout",
     "output_type": "stream",
     "text": [
      "3001 50.0\n"
     ]
    },
    {
     "name": "stderr",
     "output_type": "stream",
     "text": [
      "<ipython-input-4-b9a4bda2160c>:27: YAMLLoadWarning: calling yaml.load() without Loader=... is deprecated, as the default Loader is unsafe. Please read https://msg.pyyaml.org/load for full details.\n",
      "  args = yaml.load(f)\n"
     ]
    }
   ],
   "source": [
    "# Testing\n",
    "draw_num = 50\n",
    "mykdv, F_a0, t0, runtime, density_params, twave, ampfac=\\\n",
    "    init_vkdv_ar1(depthfile, infile, beta_ds, a0_ds, draw_num, t1, t2, mode, Nz, basetime=datetime(2016,1,1))\n",
    "\n",
    "# mykdv, t0, runtime, density_params, twave, ampfac = \\\n",
    "#     init_kdv_inversion(ds, depthfile, infile, t1, t2, mode, basetime=basetime)\n",
    "\n",
    "# mykdv, At, a0, frq, t0, runtime"
   ]
  },
  {
   "cell_type": "code",
   "execution_count": 12,
   "metadata": {},
   "outputs": [
    {
     "data": {
      "text/plain": [
       "(50.0, 3001, 15.0, 0, 300.0, 20000.0)"
      ]
     },
     "execution_count": 12,
     "metadata": {},
     "output_type": "execute_result"
    }
   ],
   "source": [
    "mykdv.dx, mykdv.N, mykdv.dt, mykdv.mode, mykdv.spongetime, mykdv.spongedist"
   ]
  },
  {
   "cell_type": "code",
   "execution_count": 13,
   "metadata": {},
   "outputs": [
    {
     "data": {
      "text/plain": [
       "[<matplotlib.lines.Line2D at 0x7f94f8021c10>]"
      ]
     },
     "execution_count": 13,
     "metadata": {},
     "output_type": "execute_result"
    },
    {
     "data": {
      "image/png": "[encoded data removed]",
      "text/plain": [
       "<Figure size 432x288 with 1 Axes>"
      ]
     },
     "metadata": {
      "needs_background": "light"
     },
     "output_type": "display_data"
    }
   ],
   "source": [
    "# Plot the depths\n",
    "plt.figure()\n",
    "plt.plot(mykdv.x, mykdv.h)\n"
   ]
  },
  {
   "cell_type": "code",
   "execution_count": 14,
   "metadata": {},
   "outputs": [
    {
     "data": {
      "text/plain": [
       "[<matplotlib.lines.Line2D at 0x7f94f7ff3760>]"
      ]
     },
     "execution_count": 14,
     "metadata": {},
     "output_type": "execute_result"
    },
    {
     "data": {
      "image/png": "[encoded data removed]",
      "text/plain": [
       "<Figure size 432x288 with 1 Axes>"
      ]
     },
     "metadata": {
      "needs_background": "light"
     },
     "output_type": "display_data"
    }
   ],
   "source": [
    "# Testing\n",
    "timetest = np.arange(0,3*86400,10)\n",
    "plt.figure()\n",
    "plt.plot(timetest+twave, F_a0(timetest))\n",
    "plt.plot(timetest, bcfunc(F_a0, twave, ampfac, timetest, 12*3600) )\n"
   ]
  },
  {
   "cell_type": "code",
   "execution_count": 15,
   "metadata": {},
   "outputs": [
    {
     "data": {
      "text/plain": [
       "(array([-0.00996944, -0.00996944, -0.00996944, ...,  0.00626031,\n",
       "         0.00626031,  0.00626031]),\n",
       " array([1.81418501, 1.81418501, 1.81418501, ..., 0.99706057, 0.99706057,\n",
       "        0.99706057]),\n",
       " 15.0,\n",
       " 1,\n",
       " 1,\n",
       " 216000.0)"
      ]
     },
     "execution_count": 15,
     "metadata": {},
     "output_type": "execute_result"
    }
   ],
   "source": [
    "mykdv.alpha, mykdv.c, mykdv.dt,mykdv.nonlinear, mykdv.nonhydrostatic, runtime"
   ]
  },
  {
   "cell_type": "code",
   "execution_count": 16,
   "metadata": {},
   "outputs": [
    {
     "name": "stdout",
     "output_type": "stream",
     "text": [
      "Parameters (min/max):\n",
      " c1 = (0.997061, 1.814185)\n",
      " alpha = (-0.009969, 0.006260)\n",
      " beta = (2598.321857, 26956.894813)\n",
      " Q = (0.412833, 1.000000)\n",
      "\n"
     ]
    }
   ],
   "source": [
    "mykdv.print_params()"
   ]
  },
  {
   "cell_type": "code",
   "execution_count": 17,
   "metadata": {},
   "outputs": [
    {
     "name": "stdout",
     "output_type": "stream",
     "text": [
      "[[-1.42612053  7.48245741 -7.2783616   2.42612053  0.          0.\n",
      "   0.          0.        ]\n",
      " [-0.20409581 -1.42612053  7.48245741 -7.2783616   2.42612053  0.\n",
      "   0.          0.        ]\n",
      " [-1.21306027  2.22202472  1.         -2.22202472  1.21306027  0.\n",
      "   0.          0.        ]]\n"
     ]
    }
   ],
   "source": [
    "print(mykdv.L_lhs.todense()[0:3,0:8]) "
   ]
  },
  {
   "cell_type": "code",
   "execution_count": 18,
   "metadata": {},
   "outputs": [
    {
     "data": {
      "text/plain": [
       "array([26956.89481325, 26956.89481325, 26956.89481325, 26956.89481325,\n",
       "       26956.89481325])"
      ]
     },
     "execution_count": 18,
     "metadata": {},
     "output_type": "execute_result"
    }
   ],
   "source": [
    "mykdv.beta[0:5]"
   ]
  },
  {
   "cell_type": "code",
   "execution_count": 19,
   "metadata": {},
   "outputs": [
    {
     "name": "stdout",
     "output_type": "stream",
     "text": [
      "1 1 1 20000.0\n",
      "0.0 % complete...\n",
      "0.0 0.0\n"
     ]
    },
    {
     "name": "stderr",
     "output_type": "stream",
     "text": [
      "<ipython-input-3-6485e0386b8b>:72: YAMLLoadWarning: calling yaml.load() without Loader=... is deprecated, as the default Loader is unsafe. Please read https://msg.pyyaml.org/load for full details.\n",
      "  args = yaml.load(f)\n"
     ]
    },
    {
     "name": "stdout",
     "output_type": "stream",
     "text": [
      "5.0 % complete...\n",
      "0.16579047287283735 -2.259478083717925\n",
      "10.0 % complete...\n",
      "0.17917699951579666 -3.843718077851735\n",
      "15.0 % complete...\n",
      "7.193152490372593 7.233166657689097\n",
      "20.0 % complete...\n",
      "9.35858423797456 5.605514102528952\n",
      "25.0 % complete...\n",
      "9.63148973259233 -4.475464354682155\n",
      "30.0 % complete...\n",
      "10.063153028250355 -7.992601331126285\n",
      "35.0 % complete...\n",
      "10.43946147391655 7.5946044301794675\n",
      "40.0 % complete...\n",
      "12.396469929860588 7.289720856633763\n",
      "45.0 % complete...\n",
      "12.749765187512189 -7.45615429621785\n",
      "50.0 % complete...\n",
      "13.365301022424422 -3.9798105037045937\n",
      "55.0 % complete...\n",
      "13.779224365197148 8.967932557014318\n",
      "60.0 % complete...\n",
      "14.950073405901286 3.9296587607990108\n",
      "65.0 % complete...\n",
      "16.077708208411206 -6.622244623164963\n",
      "70.0 % complete...\n",
      "17.562028408110688 -4.500089097014016\n",
      "75.0 % complete...\n",
      "18.1640129831335 11.275132420245324\n",
      "80.0 % complete...\n",
      "18.33988278928367 6.155326100780006\n",
      "85.0 % complete...\n",
      "15.513177064870286 -10.702399301608892\n",
      "90.0 % complete...\n",
      "14.511226366178759 -1.0821030525935775\n",
      "95.0 % complete...\n",
      "15.045510265412242 9.748042941260326\n"
     ]
    }
   ],
   "source": [
    "# Re-run the solution with the best-fit\n",
    "# mykdv.nonlinear= 1.\n",
    "# mykdv.nonhydrostatic= 0.\n",
    "# mykdv.dt = 10.\n",
    "# mykdv.spongetime = 120.\n",
    "# mykdv.spongedist = 20e3\n",
    "\n",
    "def F_a_test (t):\n",
    "    omega=np.pi*2/(12*3600.)\n",
    "    return 1*np.sin(omega*t)\n",
    "\n",
    "# ds2 = run_vkdv(F_a_test, 0, 1., runtime*0.45, mykdv, infile, verbose=True, ramptime=6*3600.)\n",
    "ds2 = run_vkdv(F_a0, twave, ampfac, runtime, mykdv, infile, verbose=True)"
   ]
  },
  {
   "cell_type": "code",
   "execution_count": 22,
   "metadata": {},
   "outputs": [
    {
     "data": {
      "text/plain": [
       "[<matplotlib.lines.Line2D at 0x7f94f0443eb0>]"
      ]
     },
     "execution_count": 22,
     "metadata": {},
     "output_type": "execute_result"
    },
    {
     "data": {
      "image/png": "[encoded data removed]",
      "text/plain": [
       "<Figure size 864x432 with 2 Axes>"
      ]
     },
     "metadata": {
      "needs_background": "light"
     },
     "output_type": "display_data"
    }
   ],
   "source": [
    "plt.figure(figsize=(12,6))\n",
    "plt.subplot(211)\n",
    "ds2.B_t[-1,:].plot()\n",
    "# plt.ylim(-0.2,0.2)\n",
    "# ds2.B_t[400,:].plot()\n",
    "\n",
    "plt.subplot(212)\n",
    "ds2.B_pt.plot()"
   ]
  },
  {
   "cell_type": "code",
   "execution_count": 29,
   "metadata": {},
   "outputs": [
    {
     "data": {
      "text/plain": [
       "[<matplotlib.lines.Line2D at 0x7f834a53e470>]"
      ]
     },
     "execution_count": 29,
     "metadata": {},
     "output_type": "execute_result"
    },
    {
     "data": {
      "image/png": "[encoded data removed]",
      "text/plain": [
       "<Figure size 432x288 with 1 Axes>"
      ]
     },
     "metadata": {
      "needs_background": "light"
     },
     "output_type": "display_data"
    }
   ],
   "source": []
  },
  {
   "cell_type": "code",
   "execution_count": null,
   "metadata": {},
   "outputs": [],
   "source": []
  }
 ],
 "metadata": {
  "kernelspec": {
   "display_name": "Python 3",
   "language": "python",
   "name": "python3"
  },
  "language_info": {
   "codemirror_mode": {
    "name": "ipython",
    "version": 3
   },
   "file_extension": ".py",
   "mimetype": "text/x-python",
   "name": "python",
   "nbconvert_exporter": "python",
   "pygments_lexer": "ipython3",
   "version": "3.8.5"
  }
 },
 "nbformat": 4,
 "nbformat_minor": 2
}
